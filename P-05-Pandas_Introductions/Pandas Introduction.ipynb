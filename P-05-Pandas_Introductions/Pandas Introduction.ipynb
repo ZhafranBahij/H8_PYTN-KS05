{
 "cells": [
  {
   "cell_type": "markdown",
   "id": "b50a7ec0",
   "metadata": {
    "ExecuteTime": {
     "end_time": "2022-03-01T12:08:02.942890Z",
     "start_time": "2022-03-01T12:08:02.937317Z"
    }
   },
   "source": [
    "# PANDAS"
   ]
  },
  {
   "cell_type": "code",
   "execution_count": 1,
   "id": "16a6675d",
   "metadata": {
    "ExecuteTime": {
     "end_time": "2022-03-03T03:32:59.876878Z",
     "start_time": "2022-03-03T03:32:57.184327Z"
    }
   },
   "outputs": [],
   "source": [
    "import numpy as np\n",
    "import pandas as pd\n",
    "df = pd.read_csv('nbaallelo.csv')"
   ]
  },
  {
   "cell_type": "code",
   "execution_count": 13,
   "id": "b220938c",
   "metadata": {
    "ExecuteTime": {
     "end_time": "2022-03-01T12:24:39.649282Z",
     "start_time": "2022-03-01T12:24:39.553521Z"
    },
    "scrolled": true
   },
   "outputs": [
    {
     "data": {
      "text/html": [
       "<div>\n",
       "<style scoped>\n",
       "    .dataframe tbody tr th:only-of-type {\n",
       "        vertical-align: middle;\n",
       "    }\n",
       "\n",
       "    .dataframe tbody tr th {\n",
       "        vertical-align: top;\n",
       "    }\n",
       "\n",
       "    .dataframe thead th {\n",
       "        text-align: right;\n",
       "    }\n",
       "</style>\n",
       "<table border=\"1\" class=\"dataframe\">\n",
       "  <thead>\n",
       "    <tr style=\"text-align: right;\">\n",
       "      <th></th>\n",
       "      <th>gameorder</th>\n",
       "      <th>game_id</th>\n",
       "      <th>lg_id</th>\n",
       "      <th>_iscopy</th>\n",
       "      <th>year_id</th>\n",
       "      <th>date_game</th>\n",
       "      <th>seasongame</th>\n",
       "      <th>is_playoffs</th>\n",
       "      <th>team_id</th>\n",
       "      <th>fran_id</th>\n",
       "      <th>...</th>\n",
       "      <th>win_equiv</th>\n",
       "      <th>opp_id</th>\n",
       "      <th>opp_fran</th>\n",
       "      <th>opp_pts</th>\n",
       "      <th>opp_elo_i</th>\n",
       "      <th>opp_elo_n</th>\n",
       "      <th>game_location</th>\n",
       "      <th>game_result</th>\n",
       "      <th>forecast</th>\n",
       "      <th>notes</th>\n",
       "    </tr>\n",
       "  </thead>\n",
       "  <tbody>\n",
       "    <tr>\n",
       "      <th>0</th>\n",
       "      <td>1</td>\n",
       "      <td>194611010TRH</td>\n",
       "      <td>NBA</td>\n",
       "      <td>0</td>\n",
       "      <td>1947</td>\n",
       "      <td>11/1/1946</td>\n",
       "      <td>1</td>\n",
       "      <td>0</td>\n",
       "      <td>TRH</td>\n",
       "      <td>Huskies</td>\n",
       "      <td>...</td>\n",
       "      <td>40.29483</td>\n",
       "      <td>NYK</td>\n",
       "      <td>Knicks</td>\n",
       "      <td>68</td>\n",
       "      <td>1300.0</td>\n",
       "      <td>1306.7233</td>\n",
       "      <td>H</td>\n",
       "      <td>L</td>\n",
       "      <td>0.640065</td>\n",
       "      <td>NaN</td>\n",
       "    </tr>\n",
       "    <tr>\n",
       "      <th>1</th>\n",
       "      <td>1</td>\n",
       "      <td>194611010TRH</td>\n",
       "      <td>NBA</td>\n",
       "      <td>1</td>\n",
       "      <td>1947</td>\n",
       "      <td>11/1/1946</td>\n",
       "      <td>1</td>\n",
       "      <td>0</td>\n",
       "      <td>NYK</td>\n",
       "      <td>Knicks</td>\n",
       "      <td>...</td>\n",
       "      <td>41.70517</td>\n",
       "      <td>TRH</td>\n",
       "      <td>Huskies</td>\n",
       "      <td>66</td>\n",
       "      <td>1300.0</td>\n",
       "      <td>1293.2767</td>\n",
       "      <td>A</td>\n",
       "      <td>W</td>\n",
       "      <td>0.359935</td>\n",
       "      <td>NaN</td>\n",
       "    </tr>\n",
       "  </tbody>\n",
       "</table>\n",
       "<p>2 rows × 23 columns</p>\n",
       "</div>"
      ],
      "text/plain": [
       "   gameorder       game_id lg_id  _iscopy  year_id  date_game  seasongame  \\\n",
       "0          1  194611010TRH   NBA        0     1947  11/1/1946           1   \n",
       "1          1  194611010TRH   NBA        1     1947  11/1/1946           1   \n",
       "\n",
       "   is_playoffs team_id  fran_id  ...  win_equiv  opp_id  opp_fran  opp_pts  \\\n",
       "0            0     TRH  Huskies  ...   40.29483     NYK    Knicks       68   \n",
       "1            0     NYK   Knicks  ...   41.70517     TRH   Huskies       66   \n",
       "\n",
       "  opp_elo_i  opp_elo_n  game_location  game_result  forecast notes  \n",
       "0    1300.0  1306.7233              H            L  0.640065   NaN  \n",
       "1    1300.0  1293.2767              A            W  0.359935   NaN  \n",
       "\n",
       "[2 rows x 23 columns]"
      ]
     },
     "execution_count": 13,
     "metadata": {},
     "output_type": "execute_result"
    }
   ],
   "source": [
    "# df.head()\n",
    "df.head(2) # Defaultnya 5"
   ]
  },
  {
   "cell_type": "code",
   "execution_count": 5,
   "id": "dfe23242",
   "metadata": {
    "ExecuteTime": {
     "end_time": "2022-03-01T12:17:06.581425Z",
     "start_time": "2022-03-01T12:17:05.874121Z"
    }
   },
   "outputs": [
    {
     "data": {
      "text/html": [
       "<div>\n",
       "<style scoped>\n",
       "    .dataframe tbody tr th:only-of-type {\n",
       "        vertical-align: middle;\n",
       "    }\n",
       "\n",
       "    .dataframe tbody tr th {\n",
       "        vertical-align: top;\n",
       "    }\n",
       "\n",
       "    .dataframe thead th {\n",
       "        text-align: right;\n",
       "    }\n",
       "</style>\n",
       "<table border=\"1\" class=\"dataframe\">\n",
       "  <thead>\n",
       "    <tr style=\"text-align: right;\">\n",
       "      <th></th>\n",
       "      <th>gameorder</th>\n",
       "      <th>game_id</th>\n",
       "      <th>lg_id</th>\n",
       "      <th>_iscopy</th>\n",
       "      <th>year_id</th>\n",
       "      <th>date_game</th>\n",
       "      <th>seasongame</th>\n",
       "      <th>is_playoffs</th>\n",
       "      <th>team_id</th>\n",
       "      <th>fran_id</th>\n",
       "      <th>...</th>\n",
       "      <th>win_equiv</th>\n",
       "      <th>opp_id</th>\n",
       "      <th>opp_fran</th>\n",
       "      <th>opp_pts</th>\n",
       "      <th>opp_elo_i</th>\n",
       "      <th>opp_elo_n</th>\n",
       "      <th>game_location</th>\n",
       "      <th>game_result</th>\n",
       "      <th>forecast</th>\n",
       "      <th>notes</th>\n",
       "    </tr>\n",
       "  </thead>\n",
       "  <tbody>\n",
       "    <tr>\n",
       "      <th>0</th>\n",
       "      <td>1</td>\n",
       "      <td>194611010TRH</td>\n",
       "      <td>NBA</td>\n",
       "      <td>0</td>\n",
       "      <td>1947</td>\n",
       "      <td>11/1/1946</td>\n",
       "      <td>1</td>\n",
       "      <td>0</td>\n",
       "      <td>TRH</td>\n",
       "      <td>Huskies</td>\n",
       "      <td>...</td>\n",
       "      <td>40.294830</td>\n",
       "      <td>NYK</td>\n",
       "      <td>Knicks</td>\n",
       "      <td>68</td>\n",
       "      <td>1300.0000</td>\n",
       "      <td>1306.7233</td>\n",
       "      <td>H</td>\n",
       "      <td>L</td>\n",
       "      <td>0.640065</td>\n",
       "      <td>NaN</td>\n",
       "    </tr>\n",
       "    <tr>\n",
       "      <th>1</th>\n",
       "      <td>1</td>\n",
       "      <td>194611010TRH</td>\n",
       "      <td>NBA</td>\n",
       "      <td>1</td>\n",
       "      <td>1947</td>\n",
       "      <td>11/1/1946</td>\n",
       "      <td>1</td>\n",
       "      <td>0</td>\n",
       "      <td>NYK</td>\n",
       "      <td>Knicks</td>\n",
       "      <td>...</td>\n",
       "      <td>41.705170</td>\n",
       "      <td>TRH</td>\n",
       "      <td>Huskies</td>\n",
       "      <td>66</td>\n",
       "      <td>1300.0000</td>\n",
       "      <td>1293.2767</td>\n",
       "      <td>A</td>\n",
       "      <td>W</td>\n",
       "      <td>0.359935</td>\n",
       "      <td>NaN</td>\n",
       "    </tr>\n",
       "    <tr>\n",
       "      <th>2</th>\n",
       "      <td>2</td>\n",
       "      <td>194611020CHS</td>\n",
       "      <td>NBA</td>\n",
       "      <td>0</td>\n",
       "      <td>1947</td>\n",
       "      <td>11/2/1946</td>\n",
       "      <td>1</td>\n",
       "      <td>0</td>\n",
       "      <td>CHS</td>\n",
       "      <td>Stags</td>\n",
       "      <td>...</td>\n",
       "      <td>42.012257</td>\n",
       "      <td>NYK</td>\n",
       "      <td>Knicks</td>\n",
       "      <td>47</td>\n",
       "      <td>1306.7233</td>\n",
       "      <td>1297.0712</td>\n",
       "      <td>H</td>\n",
       "      <td>W</td>\n",
       "      <td>0.631101</td>\n",
       "      <td>NaN</td>\n",
       "    </tr>\n",
       "    <tr>\n",
       "      <th>3</th>\n",
       "      <td>2</td>\n",
       "      <td>194611020CHS</td>\n",
       "      <td>NBA</td>\n",
       "      <td>1</td>\n",
       "      <td>1947</td>\n",
       "      <td>11/2/1946</td>\n",
       "      <td>2</td>\n",
       "      <td>0</td>\n",
       "      <td>NYK</td>\n",
       "      <td>Knicks</td>\n",
       "      <td>...</td>\n",
       "      <td>40.692783</td>\n",
       "      <td>CHS</td>\n",
       "      <td>Stags</td>\n",
       "      <td>63</td>\n",
       "      <td>1300.0000</td>\n",
       "      <td>1309.6521</td>\n",
       "      <td>A</td>\n",
       "      <td>L</td>\n",
       "      <td>0.368899</td>\n",
       "      <td>NaN</td>\n",
       "    </tr>\n",
       "    <tr>\n",
       "      <th>4</th>\n",
       "      <td>3</td>\n",
       "      <td>194611020DTF</td>\n",
       "      <td>NBA</td>\n",
       "      <td>0</td>\n",
       "      <td>1947</td>\n",
       "      <td>11/2/1946</td>\n",
       "      <td>1</td>\n",
       "      <td>0</td>\n",
       "      <td>DTF</td>\n",
       "      <td>Falcons</td>\n",
       "      <td>...</td>\n",
       "      <td>38.864048</td>\n",
       "      <td>WSC</td>\n",
       "      <td>Capitols</td>\n",
       "      <td>50</td>\n",
       "      <td>1300.0000</td>\n",
       "      <td>1320.3811</td>\n",
       "      <td>H</td>\n",
       "      <td>L</td>\n",
       "      <td>0.640065</td>\n",
       "      <td>NaN</td>\n",
       "    </tr>\n",
       "    <tr>\n",
       "      <th>...</th>\n",
       "      <td>...</td>\n",
       "      <td>...</td>\n",
       "      <td>...</td>\n",
       "      <td>...</td>\n",
       "      <td>...</td>\n",
       "      <td>...</td>\n",
       "      <td>...</td>\n",
       "      <td>...</td>\n",
       "      <td>...</td>\n",
       "      <td>...</td>\n",
       "      <td>...</td>\n",
       "      <td>...</td>\n",
       "      <td>...</td>\n",
       "      <td>...</td>\n",
       "      <td>...</td>\n",
       "      <td>...</td>\n",
       "      <td>...</td>\n",
       "      <td>...</td>\n",
       "      <td>...</td>\n",
       "      <td>...</td>\n",
       "      <td>...</td>\n",
       "    </tr>\n",
       "    <tr>\n",
       "      <th>126309</th>\n",
       "      <td>63155</td>\n",
       "      <td>201506110CLE</td>\n",
       "      <td>NBA</td>\n",
       "      <td>0</td>\n",
       "      <td>2015</td>\n",
       "      <td>6/11/2015</td>\n",
       "      <td>100</td>\n",
       "      <td>1</td>\n",
       "      <td>CLE</td>\n",
       "      <td>Cavaliers</td>\n",
       "      <td>...</td>\n",
       "      <td>60.309792</td>\n",
       "      <td>GSW</td>\n",
       "      <td>Warriors</td>\n",
       "      <td>103</td>\n",
       "      <td>1790.9591</td>\n",
       "      <td>1809.9791</td>\n",
       "      <td>H</td>\n",
       "      <td>L</td>\n",
       "      <td>0.546572</td>\n",
       "      <td>NaN</td>\n",
       "    </tr>\n",
       "    <tr>\n",
       "      <th>126310</th>\n",
       "      <td>63156</td>\n",
       "      <td>201506140GSW</td>\n",
       "      <td>NBA</td>\n",
       "      <td>0</td>\n",
       "      <td>2015</td>\n",
       "      <td>6/14/2015</td>\n",
       "      <td>102</td>\n",
       "      <td>1</td>\n",
       "      <td>GSW</td>\n",
       "      <td>Warriors</td>\n",
       "      <td>...</td>\n",
       "      <td>68.013329</td>\n",
       "      <td>CLE</td>\n",
       "      <td>Cavaliers</td>\n",
       "      <td>91</td>\n",
       "      <td>1704.3949</td>\n",
       "      <td>1700.7391</td>\n",
       "      <td>H</td>\n",
       "      <td>W</td>\n",
       "      <td>0.765565</td>\n",
       "      <td>NaN</td>\n",
       "    </tr>\n",
       "    <tr>\n",
       "      <th>126311</th>\n",
       "      <td>63156</td>\n",
       "      <td>201506140GSW</td>\n",
       "      <td>NBA</td>\n",
       "      <td>1</td>\n",
       "      <td>2015</td>\n",
       "      <td>6/14/2015</td>\n",
       "      <td>101</td>\n",
       "      <td>1</td>\n",
       "      <td>CLE</td>\n",
       "      <td>Cavaliers</td>\n",
       "      <td>...</td>\n",
       "      <td>60.010067</td>\n",
       "      <td>GSW</td>\n",
       "      <td>Warriors</td>\n",
       "      <td>104</td>\n",
       "      <td>1809.9791</td>\n",
       "      <td>1813.6349</td>\n",
       "      <td>A</td>\n",
       "      <td>L</td>\n",
       "      <td>0.234435</td>\n",
       "      <td>NaN</td>\n",
       "    </tr>\n",
       "    <tr>\n",
       "      <th>126312</th>\n",
       "      <td>63157</td>\n",
       "      <td>201506170CLE</td>\n",
       "      <td>NBA</td>\n",
       "      <td>0</td>\n",
       "      <td>2015</td>\n",
       "      <td>6/16/2015</td>\n",
       "      <td>102</td>\n",
       "      <td>1</td>\n",
       "      <td>CLE</td>\n",
       "      <td>Cavaliers</td>\n",
       "      <td>...</td>\n",
       "      <td>59.290245</td>\n",
       "      <td>GSW</td>\n",
       "      <td>Warriors</td>\n",
       "      <td>105</td>\n",
       "      <td>1813.6349</td>\n",
       "      <td>1822.2881</td>\n",
       "      <td>H</td>\n",
       "      <td>L</td>\n",
       "      <td>0.481450</td>\n",
       "      <td>NaN</td>\n",
       "    </tr>\n",
       "    <tr>\n",
       "      <th>126313</th>\n",
       "      <td>63157</td>\n",
       "      <td>201506170CLE</td>\n",
       "      <td>NBA</td>\n",
       "      <td>1</td>\n",
       "      <td>2015</td>\n",
       "      <td>6/16/2015</td>\n",
       "      <td>103</td>\n",
       "      <td>1</td>\n",
       "      <td>GSW</td>\n",
       "      <td>Warriors</td>\n",
       "      <td>...</td>\n",
       "      <td>68.519516</td>\n",
       "      <td>CLE</td>\n",
       "      <td>Cavaliers</td>\n",
       "      <td>97</td>\n",
       "      <td>1700.7391</td>\n",
       "      <td>1692.0859</td>\n",
       "      <td>A</td>\n",
       "      <td>W</td>\n",
       "      <td>0.518550</td>\n",
       "      <td>NaN</td>\n",
       "    </tr>\n",
       "  </tbody>\n",
       "</table>\n",
       "<p>126314 rows × 23 columns</p>\n",
       "</div>"
      ],
      "text/plain": [
       "        gameorder       game_id lg_id  _iscopy  year_id  date_game  \\\n",
       "0               1  194611010TRH   NBA        0     1947  11/1/1946   \n",
       "1               1  194611010TRH   NBA        1     1947  11/1/1946   \n",
       "2               2  194611020CHS   NBA        0     1947  11/2/1946   \n",
       "3               2  194611020CHS   NBA        1     1947  11/2/1946   \n",
       "4               3  194611020DTF   NBA        0     1947  11/2/1946   \n",
       "...           ...           ...   ...      ...      ...        ...   \n",
       "126309      63155  201506110CLE   NBA        0     2015  6/11/2015   \n",
       "126310      63156  201506140GSW   NBA        0     2015  6/14/2015   \n",
       "126311      63156  201506140GSW   NBA        1     2015  6/14/2015   \n",
       "126312      63157  201506170CLE   NBA        0     2015  6/16/2015   \n",
       "126313      63157  201506170CLE   NBA        1     2015  6/16/2015   \n",
       "\n",
       "        seasongame  is_playoffs team_id    fran_id  ...  win_equiv  opp_id  \\\n",
       "0                1            0     TRH    Huskies  ...  40.294830     NYK   \n",
       "1                1            0     NYK     Knicks  ...  41.705170     TRH   \n",
       "2                1            0     CHS      Stags  ...  42.012257     NYK   \n",
       "3                2            0     NYK     Knicks  ...  40.692783     CHS   \n",
       "4                1            0     DTF    Falcons  ...  38.864048     WSC   \n",
       "...            ...          ...     ...        ...  ...        ...     ...   \n",
       "126309         100            1     CLE  Cavaliers  ...  60.309792     GSW   \n",
       "126310         102            1     GSW   Warriors  ...  68.013329     CLE   \n",
       "126311         101            1     CLE  Cavaliers  ...  60.010067     GSW   \n",
       "126312         102            1     CLE  Cavaliers  ...  59.290245     GSW   \n",
       "126313         103            1     GSW   Warriors  ...  68.519516     CLE   \n",
       "\n",
       "         opp_fran  opp_pts  opp_elo_i  opp_elo_n  game_location  game_result  \\\n",
       "0          Knicks       68  1300.0000  1306.7233              H            L   \n",
       "1         Huskies       66  1300.0000  1293.2767              A            W   \n",
       "2          Knicks       47  1306.7233  1297.0712              H            W   \n",
       "3           Stags       63  1300.0000  1309.6521              A            L   \n",
       "4        Capitols       50  1300.0000  1320.3811              H            L   \n",
       "...           ...      ...        ...        ...            ...          ...   \n",
       "126309   Warriors      103  1790.9591  1809.9791              H            L   \n",
       "126310  Cavaliers       91  1704.3949  1700.7391              H            W   \n",
       "126311   Warriors      104  1809.9791  1813.6349              A            L   \n",
       "126312   Warriors      105  1813.6349  1822.2881              H            L   \n",
       "126313  Cavaliers       97  1700.7391  1692.0859              A            W   \n",
       "\n",
       "        forecast notes  \n",
       "0       0.640065   NaN  \n",
       "1       0.359935   NaN  \n",
       "2       0.631101   NaN  \n",
       "3       0.368899   NaN  \n",
       "4       0.640065   NaN  \n",
       "...          ...   ...  \n",
       "126309  0.546572   NaN  \n",
       "126310  0.765565   NaN  \n",
       "126311  0.234435   NaN  \n",
       "126312  0.481450   NaN  \n",
       "126313  0.518550   NaN  \n",
       "\n",
       "[126314 rows x 23 columns]"
      ]
     },
     "execution_count": 5,
     "metadata": {},
     "output_type": "execute_result"
    }
   ],
   "source": [
    "df"
   ]
  },
  {
   "cell_type": "code",
   "execution_count": 6,
   "id": "db4c1d3e",
   "metadata": {
    "ExecuteTime": {
     "end_time": "2022-03-01T12:18:24.547695Z",
     "start_time": "2022-03-01T12:18:24.496515Z"
    }
   },
   "outputs": [
    {
     "data": {
      "text/plain": [
       "(126314, 23)"
      ]
     },
     "execution_count": 6,
     "metadata": {},
     "output_type": "execute_result"
    }
   ],
   "source": [
    "df.shape # (jumlah_index, jumlah_kolom)"
   ]
  },
  {
   "cell_type": "code",
   "execution_count": 20,
   "id": "1ea2dbe9",
   "metadata": {
    "ExecuteTime": {
     "end_time": "2022-03-01T12:28:36.958683Z",
     "start_time": "2022-03-01T12:28:36.900416Z"
    }
   },
   "outputs": [
    {
     "data": {
      "text/html": [
       "<div>\n",
       "<style scoped>\n",
       "    .dataframe tbody tr th:only-of-type {\n",
       "        vertical-align: middle;\n",
       "    }\n",
       "\n",
       "    .dataframe tbody tr th {\n",
       "        vertical-align: top;\n",
       "    }\n",
       "\n",
       "    .dataframe thead th {\n",
       "        text-align: right;\n",
       "    }\n",
       "</style>\n",
       "<table border=\"1\" class=\"dataframe\">\n",
       "  <thead>\n",
       "    <tr style=\"text-align: right;\">\n",
       "      <th></th>\n",
       "      <th>gameorder</th>\n",
       "      <th>game_id</th>\n",
       "      <th>lg_id</th>\n",
       "      <th>_iscopy</th>\n",
       "      <th>year_id</th>\n",
       "      <th>date_game</th>\n",
       "      <th>seasongame</th>\n",
       "      <th>is_playoffs</th>\n",
       "      <th>team_id</th>\n",
       "      <th>fran_id</th>\n",
       "      <th>pts</th>\n",
       "      <th>elo_i</th>\n",
       "      <th>elo_n</th>\n",
       "      <th>win_equiv</th>\n",
       "      <th>opp_id</th>\n",
       "      <th>opp_fran</th>\n",
       "      <th>opp_pts</th>\n",
       "      <th>opp_elo_i</th>\n",
       "      <th>opp_elo_n</th>\n",
       "      <th>game_location</th>\n",
       "      <th>game_result</th>\n",
       "      <th>forecast</th>\n",
       "      <th>notes</th>\n",
       "    </tr>\n",
       "  </thead>\n",
       "  <tbody>\n",
       "    <tr>\n",
       "      <th>0</th>\n",
       "      <td>1</td>\n",
       "      <td>194611010TRH</td>\n",
       "      <td>NBA</td>\n",
       "      <td>0</td>\n",
       "      <td>1947</td>\n",
       "      <td>11/1/1946</td>\n",
       "      <td>1</td>\n",
       "      <td>0</td>\n",
       "      <td>TRH</td>\n",
       "      <td>Huskies</td>\n",
       "      <td>66</td>\n",
       "      <td>1300.0</td>\n",
       "      <td>1293.2767</td>\n",
       "      <td>40.29483</td>\n",
       "      <td>NYK</td>\n",
       "      <td>Knicks</td>\n",
       "      <td>68</td>\n",
       "      <td>1300.0</td>\n",
       "      <td>1306.7233</td>\n",
       "      <td>H</td>\n",
       "      <td>L</td>\n",
       "      <td>0.640065</td>\n",
       "      <td>NaN</td>\n",
       "    </tr>\n",
       "    <tr>\n",
       "      <th>1</th>\n",
       "      <td>1</td>\n",
       "      <td>194611010TRH</td>\n",
       "      <td>NBA</td>\n",
       "      <td>1</td>\n",
       "      <td>1947</td>\n",
       "      <td>11/1/1946</td>\n",
       "      <td>1</td>\n",
       "      <td>0</td>\n",
       "      <td>NYK</td>\n",
       "      <td>Knicks</td>\n",
       "      <td>68</td>\n",
       "      <td>1300.0</td>\n",
       "      <td>1306.7233</td>\n",
       "      <td>41.70517</td>\n",
       "      <td>TRH</td>\n",
       "      <td>Huskies</td>\n",
       "      <td>66</td>\n",
       "      <td>1300.0</td>\n",
       "      <td>1293.2767</td>\n",
       "      <td>A</td>\n",
       "      <td>W</td>\n",
       "      <td>0.359935</td>\n",
       "      <td>NaN</td>\n",
       "    </tr>\n",
       "  </tbody>\n",
       "</table>\n",
       "</div>"
      ],
      "text/plain": [
       "   gameorder       game_id lg_id  _iscopy  year_id  date_game  seasongame  \\\n",
       "0          1  194611010TRH   NBA        0     1947  11/1/1946           1   \n",
       "1          1  194611010TRH   NBA        1     1947  11/1/1946           1   \n",
       "\n",
       "   is_playoffs team_id  fran_id  pts   elo_i      elo_n  win_equiv opp_id  \\\n",
       "0            0     TRH  Huskies   66  1300.0  1293.2767   40.29483    NYK   \n",
       "1            0     NYK   Knicks   68  1300.0  1306.7233   41.70517    TRH   \n",
       "\n",
       "  opp_fran  opp_pts  opp_elo_i  opp_elo_n game_location game_result  forecast  \\\n",
       "0   Knicks       68     1300.0  1306.7233             H           L  0.640065   \n",
       "1  Huskies       66     1300.0  1293.2767             A           W  0.359935   \n",
       "\n",
       "  notes  \n",
       "0   NaN  \n",
       "1   NaN  "
      ]
     },
     "execution_count": 20,
     "metadata": {},
     "output_type": "execute_result"
    }
   ],
   "source": [
    "# Ngeset agar semua kolom kelihatan\n",
    "pd.set_option(\"display.max.columns\", None)\n",
    "df.head(2)"
   ]
  },
  {
   "cell_type": "code",
   "execution_count": 19,
   "id": "d0949a9d",
   "metadata": {
    "ExecuteTime": {
     "end_time": "2022-03-01T12:28:27.662563Z",
     "start_time": "2022-03-01T12:28:27.608353Z"
    }
   },
   "outputs": [
    {
     "data": {
      "text/html": [
       "<div>\n",
       "<style scoped>\n",
       "    .dataframe tbody tr th:only-of-type {\n",
       "        vertical-align: middle;\n",
       "    }\n",
       "\n",
       "    .dataframe tbody tr th {\n",
       "        vertical-align: top;\n",
       "    }\n",
       "\n",
       "    .dataframe thead th {\n",
       "        text-align: right;\n",
       "    }\n",
       "</style>\n",
       "<table border=\"1\" class=\"dataframe\">\n",
       "  <thead>\n",
       "    <tr style=\"text-align: right;\">\n",
       "      <th></th>\n",
       "      <th>gameorder</th>\n",
       "      <th>game_id</th>\n",
       "      <th>lg_id</th>\n",
       "      <th>_iscopy</th>\n",
       "      <th>year_id</th>\n",
       "      <th>...</th>\n",
       "      <th>opp_elo_n</th>\n",
       "      <th>game_location</th>\n",
       "      <th>game_result</th>\n",
       "      <th>forecast</th>\n",
       "      <th>notes</th>\n",
       "    </tr>\n",
       "  </thead>\n",
       "  <tbody>\n",
       "    <tr>\n",
       "      <th>0</th>\n",
       "      <td>1</td>\n",
       "      <td>194611010TRH</td>\n",
       "      <td>NBA</td>\n",
       "      <td>0</td>\n",
       "      <td>1947</td>\n",
       "      <td>...</td>\n",
       "      <td>1306.7233</td>\n",
       "      <td>H</td>\n",
       "      <td>L</td>\n",
       "      <td>0.640065</td>\n",
       "      <td>NaN</td>\n",
       "    </tr>\n",
       "    <tr>\n",
       "      <th>1</th>\n",
       "      <td>1</td>\n",
       "      <td>194611010TRH</td>\n",
       "      <td>NBA</td>\n",
       "      <td>1</td>\n",
       "      <td>1947</td>\n",
       "      <td>...</td>\n",
       "      <td>1293.2767</td>\n",
       "      <td>A</td>\n",
       "      <td>W</td>\n",
       "      <td>0.359935</td>\n",
       "      <td>NaN</td>\n",
       "    </tr>\n",
       "  </tbody>\n",
       "</table>\n",
       "<p>2 rows × 23 columns</p>\n",
       "</div>"
      ],
      "text/plain": [
       "   gameorder       game_id lg_id  _iscopy  year_id  ...  opp_elo_n  \\\n",
       "0          1  194611010TRH   NBA        0     1947  ...  1306.7233   \n",
       "1          1  194611010TRH   NBA        1     1947  ...  1293.2767   \n",
       "\n",
       "   game_location  game_result  forecast notes  \n",
       "0              H            L  0.640065   NaN  \n",
       "1              A            W  0.359935   NaN  \n",
       "\n",
       "[2 rows x 23 columns]"
      ]
     },
     "execution_count": 19,
     "metadata": {},
     "output_type": "execute_result"
    }
   ],
   "source": [
    "pd.set_option(\"display.max.columns\", 10)\n",
    "df.head(2)"
   ]
  },
  {
   "cell_type": "code",
   "execution_count": 21,
   "id": "dda2bdbc",
   "metadata": {
    "ExecuteTime": {
     "end_time": "2022-03-01T12:29:05.000245Z",
     "start_time": "2022-03-01T12:29:04.794031Z"
    }
   },
   "outputs": [
    {
     "data": {
      "text/html": [
       "<div>\n",
       "<style scoped>\n",
       "    .dataframe tbody tr th:only-of-type {\n",
       "        vertical-align: middle;\n",
       "    }\n",
       "\n",
       "    .dataframe tbody tr th {\n",
       "        vertical-align: top;\n",
       "    }\n",
       "\n",
       "    .dataframe thead th {\n",
       "        text-align: right;\n",
       "    }\n",
       "</style>\n",
       "<table border=\"1\" class=\"dataframe\">\n",
       "  <thead>\n",
       "    <tr style=\"text-align: right;\">\n",
       "      <th></th>\n",
       "      <th>gameorder</th>\n",
       "      <th>game_id</th>\n",
       "      <th>lg_id</th>\n",
       "      <th>_iscopy</th>\n",
       "      <th>year_id</th>\n",
       "      <th>date_game</th>\n",
       "      <th>seasongame</th>\n",
       "      <th>is_playoffs</th>\n",
       "      <th>team_id</th>\n",
       "      <th>fran_id</th>\n",
       "      <th>pts</th>\n",
       "      <th>elo_i</th>\n",
       "      <th>elo_n</th>\n",
       "      <th>win_equiv</th>\n",
       "      <th>opp_id</th>\n",
       "      <th>opp_fran</th>\n",
       "      <th>opp_pts</th>\n",
       "      <th>opp_elo_i</th>\n",
       "      <th>opp_elo_n</th>\n",
       "      <th>game_location</th>\n",
       "      <th>game_result</th>\n",
       "      <th>forecast</th>\n",
       "      <th>notes</th>\n",
       "    </tr>\n",
       "  </thead>\n",
       "  <tbody>\n",
       "    <tr>\n",
       "      <th>126309</th>\n",
       "      <td>63155</td>\n",
       "      <td>201506110CLE</td>\n",
       "      <td>NBA</td>\n",
       "      <td>0</td>\n",
       "      <td>2015</td>\n",
       "      <td>6/11/2015</td>\n",
       "      <td>100</td>\n",
       "      <td>1</td>\n",
       "      <td>CLE</td>\n",
       "      <td>Cavaliers</td>\n",
       "      <td>82</td>\n",
       "      <td>1723.4149</td>\n",
       "      <td>1704.3949</td>\n",
       "      <td>60.309792</td>\n",
       "      <td>GSW</td>\n",
       "      <td>Warriors</td>\n",
       "      <td>103</td>\n",
       "      <td>1790.9591</td>\n",
       "      <td>1809.9791</td>\n",
       "      <td>H</td>\n",
       "      <td>L</td>\n",
       "      <td>0.546572</td>\n",
       "      <td>NaN</td>\n",
       "    </tr>\n",
       "    <tr>\n",
       "      <th>126310</th>\n",
       "      <td>63156</td>\n",
       "      <td>201506140GSW</td>\n",
       "      <td>NBA</td>\n",
       "      <td>0</td>\n",
       "      <td>2015</td>\n",
       "      <td>6/14/2015</td>\n",
       "      <td>102</td>\n",
       "      <td>1</td>\n",
       "      <td>GSW</td>\n",
       "      <td>Warriors</td>\n",
       "      <td>104</td>\n",
       "      <td>1809.9791</td>\n",
       "      <td>1813.6349</td>\n",
       "      <td>68.013329</td>\n",
       "      <td>CLE</td>\n",
       "      <td>Cavaliers</td>\n",
       "      <td>91</td>\n",
       "      <td>1704.3949</td>\n",
       "      <td>1700.7391</td>\n",
       "      <td>H</td>\n",
       "      <td>W</td>\n",
       "      <td>0.765565</td>\n",
       "      <td>NaN</td>\n",
       "    </tr>\n",
       "    <tr>\n",
       "      <th>126311</th>\n",
       "      <td>63156</td>\n",
       "      <td>201506140GSW</td>\n",
       "      <td>NBA</td>\n",
       "      <td>1</td>\n",
       "      <td>2015</td>\n",
       "      <td>6/14/2015</td>\n",
       "      <td>101</td>\n",
       "      <td>1</td>\n",
       "      <td>CLE</td>\n",
       "      <td>Cavaliers</td>\n",
       "      <td>91</td>\n",
       "      <td>1704.3949</td>\n",
       "      <td>1700.7391</td>\n",
       "      <td>60.010067</td>\n",
       "      <td>GSW</td>\n",
       "      <td>Warriors</td>\n",
       "      <td>104</td>\n",
       "      <td>1809.9791</td>\n",
       "      <td>1813.6349</td>\n",
       "      <td>A</td>\n",
       "      <td>L</td>\n",
       "      <td>0.234435</td>\n",
       "      <td>NaN</td>\n",
       "    </tr>\n",
       "    <tr>\n",
       "      <th>126312</th>\n",
       "      <td>63157</td>\n",
       "      <td>201506170CLE</td>\n",
       "      <td>NBA</td>\n",
       "      <td>0</td>\n",
       "      <td>2015</td>\n",
       "      <td>6/16/2015</td>\n",
       "      <td>102</td>\n",
       "      <td>1</td>\n",
       "      <td>CLE</td>\n",
       "      <td>Cavaliers</td>\n",
       "      <td>97</td>\n",
       "      <td>1700.7391</td>\n",
       "      <td>1692.0859</td>\n",
       "      <td>59.290245</td>\n",
       "      <td>GSW</td>\n",
       "      <td>Warriors</td>\n",
       "      <td>105</td>\n",
       "      <td>1813.6349</td>\n",
       "      <td>1822.2881</td>\n",
       "      <td>H</td>\n",
       "      <td>L</td>\n",
       "      <td>0.481450</td>\n",
       "      <td>NaN</td>\n",
       "    </tr>\n",
       "    <tr>\n",
       "      <th>126313</th>\n",
       "      <td>63157</td>\n",
       "      <td>201506170CLE</td>\n",
       "      <td>NBA</td>\n",
       "      <td>1</td>\n",
       "      <td>2015</td>\n",
       "      <td>6/16/2015</td>\n",
       "      <td>103</td>\n",
       "      <td>1</td>\n",
       "      <td>GSW</td>\n",
       "      <td>Warriors</td>\n",
       "      <td>105</td>\n",
       "      <td>1813.6349</td>\n",
       "      <td>1822.2881</td>\n",
       "      <td>68.519516</td>\n",
       "      <td>CLE</td>\n",
       "      <td>Cavaliers</td>\n",
       "      <td>97</td>\n",
       "      <td>1700.7391</td>\n",
       "      <td>1692.0859</td>\n",
       "      <td>A</td>\n",
       "      <td>W</td>\n",
       "      <td>0.518550</td>\n",
       "      <td>NaN</td>\n",
       "    </tr>\n",
       "  </tbody>\n",
       "</table>\n",
       "</div>"
      ],
      "text/plain": [
       "        gameorder       game_id lg_id  _iscopy  year_id  date_game  \\\n",
       "126309      63155  201506110CLE   NBA        0     2015  6/11/2015   \n",
       "126310      63156  201506140GSW   NBA        0     2015  6/14/2015   \n",
       "126311      63156  201506140GSW   NBA        1     2015  6/14/2015   \n",
       "126312      63157  201506170CLE   NBA        0     2015  6/16/2015   \n",
       "126313      63157  201506170CLE   NBA        1     2015  6/16/2015   \n",
       "\n",
       "        seasongame  is_playoffs team_id    fran_id  pts      elo_i      elo_n  \\\n",
       "126309         100            1     CLE  Cavaliers   82  1723.4149  1704.3949   \n",
       "126310         102            1     GSW   Warriors  104  1809.9791  1813.6349   \n",
       "126311         101            1     CLE  Cavaliers   91  1704.3949  1700.7391   \n",
       "126312         102            1     CLE  Cavaliers   97  1700.7391  1692.0859   \n",
       "126313         103            1     GSW   Warriors  105  1813.6349  1822.2881   \n",
       "\n",
       "        win_equiv opp_id   opp_fran  opp_pts  opp_elo_i  opp_elo_n  \\\n",
       "126309  60.309792    GSW   Warriors      103  1790.9591  1809.9791   \n",
       "126310  68.013329    CLE  Cavaliers       91  1704.3949  1700.7391   \n",
       "126311  60.010067    GSW   Warriors      104  1809.9791  1813.6349   \n",
       "126312  59.290245    GSW   Warriors      105  1813.6349  1822.2881   \n",
       "126313  68.519516    CLE  Cavaliers       97  1700.7391  1692.0859   \n",
       "\n",
       "       game_location game_result  forecast notes  \n",
       "126309             H           L  0.546572   NaN  \n",
       "126310             H           W  0.765565   NaN  \n",
       "126311             A           L  0.234435   NaN  \n",
       "126312             H           L  0.481450   NaN  \n",
       "126313             A           W  0.518550   NaN  "
      ]
     },
     "execution_count": 21,
     "metadata": {},
     "output_type": "execute_result"
    }
   ],
   "source": [
    "df.tail()"
   ]
  },
  {
   "cell_type": "code",
   "execution_count": 22,
   "id": "2fbfb176",
   "metadata": {
    "ExecuteTime": {
     "end_time": "2022-03-01T12:37:53.995151Z",
     "start_time": "2022-03-01T12:37:53.313181Z"
    }
   },
   "outputs": [
    {
     "name": "stdout",
     "output_type": "stream",
     "text": [
      "<class 'pandas.core.frame.DataFrame'>\n",
      "RangeIndex: 126314 entries, 0 to 126313\n",
      "Data columns (total 23 columns):\n",
      " #   Column         Non-Null Count   Dtype  \n",
      "---  ------         --------------   -----  \n",
      " 0   gameorder      126314 non-null  int64  \n",
      " 1   game_id        126314 non-null  object \n",
      " 2   lg_id          126314 non-null  object \n",
      " 3   _iscopy        126314 non-null  int64  \n",
      " 4   year_id        126314 non-null  int64  \n",
      " 5   date_game      126314 non-null  object \n",
      " 6   seasongame     126314 non-null  int64  \n",
      " 7   is_playoffs    126314 non-null  int64  \n",
      " 8   team_id        126314 non-null  object \n",
      " 9   fran_id        126314 non-null  object \n",
      " 10  pts            126314 non-null  int64  \n",
      " 11  elo_i          126314 non-null  float64\n",
      " 12  elo_n          126314 non-null  float64\n",
      " 13  win_equiv      126314 non-null  float64\n",
      " 14  opp_id         126314 non-null  object \n",
      " 15  opp_fran       126314 non-null  object \n",
      " 16  opp_pts        126314 non-null  int64  \n",
      " 17  opp_elo_i      126314 non-null  float64\n",
      " 18  opp_elo_n      126314 non-null  float64\n",
      " 19  game_location  126314 non-null  object \n",
      " 20  game_result    126314 non-null  object \n",
      " 21  forecast       126314 non-null  float64\n",
      " 22  notes          5424 non-null    object \n",
      "dtypes: float64(6), int64(7), object(10)\n",
      "memory usage: 22.2+ MB\n"
     ]
    }
   ],
   "source": [
    "# Mau nyoba nampilin masing-masing tipe data\n",
    "df.info()\n",
    "# non-null itu berarti ada isinya yaa"
   ]
  },
  {
   "cell_type": "code",
   "execution_count": 23,
   "id": "6d2ea1d8",
   "metadata": {
    "ExecuteTime": {
     "end_time": "2022-03-01T12:43:32.306512Z",
     "start_time": "2022-03-01T12:43:31.539926Z"
    }
   },
   "outputs": [
    {
     "data": {
      "text/html": [
       "<div>\n",
       "<style scoped>\n",
       "    .dataframe tbody tr th:only-of-type {\n",
       "        vertical-align: middle;\n",
       "    }\n",
       "\n",
       "    .dataframe tbody tr th {\n",
       "        vertical-align: top;\n",
       "    }\n",
       "\n",
       "    .dataframe thead th {\n",
       "        text-align: right;\n",
       "    }\n",
       "</style>\n",
       "<table border=\"1\" class=\"dataframe\">\n",
       "  <thead>\n",
       "    <tr style=\"text-align: right;\">\n",
       "      <th></th>\n",
       "      <th>gameorder</th>\n",
       "      <th>_iscopy</th>\n",
       "      <th>year_id</th>\n",
       "      <th>seasongame</th>\n",
       "      <th>is_playoffs</th>\n",
       "      <th>pts</th>\n",
       "      <th>elo_i</th>\n",
       "      <th>elo_n</th>\n",
       "      <th>win_equiv</th>\n",
       "      <th>opp_pts</th>\n",
       "      <th>opp_elo_i</th>\n",
       "      <th>opp_elo_n</th>\n",
       "      <th>forecast</th>\n",
       "    </tr>\n",
       "  </thead>\n",
       "  <tbody>\n",
       "    <tr>\n",
       "      <th>count</th>\n",
       "      <td>126314.000000</td>\n",
       "      <td>126314.000000</td>\n",
       "      <td>126314.000000</td>\n",
       "      <td>126314.000000</td>\n",
       "      <td>126314.000000</td>\n",
       "      <td>126314.000000</td>\n",
       "      <td>126314.000000</td>\n",
       "      <td>126314.000000</td>\n",
       "      <td>126314.000000</td>\n",
       "      <td>126314.000000</td>\n",
       "      <td>126314.000000</td>\n",
       "      <td>126314.000000</td>\n",
       "      <td>126314.000000</td>\n",
       "    </tr>\n",
       "    <tr>\n",
       "      <th>mean</th>\n",
       "      <td>31579.000000</td>\n",
       "      <td>0.500000</td>\n",
       "      <td>1988.200374</td>\n",
       "      <td>43.533733</td>\n",
       "      <td>0.063857</td>\n",
       "      <td>102.729982</td>\n",
       "      <td>1495.236055</td>\n",
       "      <td>1495.236055</td>\n",
       "      <td>41.707889</td>\n",
       "      <td>102.729982</td>\n",
       "      <td>1495.236055</td>\n",
       "      <td>1495.236055</td>\n",
       "      <td>0.500000</td>\n",
       "    </tr>\n",
       "    <tr>\n",
       "      <th>std</th>\n",
       "      <td>18231.927643</td>\n",
       "      <td>0.500002</td>\n",
       "      <td>17.582309</td>\n",
       "      <td>25.375178</td>\n",
       "      <td>0.244499</td>\n",
       "      <td>14.814845</td>\n",
       "      <td>112.139945</td>\n",
       "      <td>112.461687</td>\n",
       "      <td>10.627332</td>\n",
       "      <td>14.814845</td>\n",
       "      <td>112.139945</td>\n",
       "      <td>112.461687</td>\n",
       "      <td>0.215252</td>\n",
       "    </tr>\n",
       "    <tr>\n",
       "      <th>min</th>\n",
       "      <td>1.000000</td>\n",
       "      <td>0.000000</td>\n",
       "      <td>1947.000000</td>\n",
       "      <td>1.000000</td>\n",
       "      <td>0.000000</td>\n",
       "      <td>0.000000</td>\n",
       "      <td>1091.644500</td>\n",
       "      <td>1085.774400</td>\n",
       "      <td>10.152501</td>\n",
       "      <td>0.000000</td>\n",
       "      <td>1091.644500</td>\n",
       "      <td>1085.774400</td>\n",
       "      <td>0.020447</td>\n",
       "    </tr>\n",
       "    <tr>\n",
       "      <th>25%</th>\n",
       "      <td>15790.000000</td>\n",
       "      <td>0.000000</td>\n",
       "      <td>1975.000000</td>\n",
       "      <td>22.000000</td>\n",
       "      <td>0.000000</td>\n",
       "      <td>93.000000</td>\n",
       "      <td>1417.237975</td>\n",
       "      <td>1416.994900</td>\n",
       "      <td>34.103035</td>\n",
       "      <td>93.000000</td>\n",
       "      <td>1417.237975</td>\n",
       "      <td>1416.994900</td>\n",
       "      <td>0.327989</td>\n",
       "    </tr>\n",
       "    <tr>\n",
       "      <th>50%</th>\n",
       "      <td>31579.000000</td>\n",
       "      <td>0.500000</td>\n",
       "      <td>1990.000000</td>\n",
       "      <td>43.000000</td>\n",
       "      <td>0.000000</td>\n",
       "      <td>103.000000</td>\n",
       "      <td>1500.945550</td>\n",
       "      <td>1500.954400</td>\n",
       "      <td>42.113357</td>\n",
       "      <td>103.000000</td>\n",
       "      <td>1500.945550</td>\n",
       "      <td>1500.954400</td>\n",
       "      <td>0.500000</td>\n",
       "    </tr>\n",
       "    <tr>\n",
       "      <th>75%</th>\n",
       "      <td>47368.000000</td>\n",
       "      <td>1.000000</td>\n",
       "      <td>2003.000000</td>\n",
       "      <td>65.000000</td>\n",
       "      <td>0.000000</td>\n",
       "      <td>112.000000</td>\n",
       "      <td>1576.060000</td>\n",
       "      <td>1576.291625</td>\n",
       "      <td>49.635328</td>\n",
       "      <td>112.000000</td>\n",
       "      <td>1576.060000</td>\n",
       "      <td>1576.291625</td>\n",
       "      <td>0.672011</td>\n",
       "    </tr>\n",
       "    <tr>\n",
       "      <th>max</th>\n",
       "      <td>63157.000000</td>\n",
       "      <td>1.000000</td>\n",
       "      <td>2015.000000</td>\n",
       "      <td>108.000000</td>\n",
       "      <td>1.000000</td>\n",
       "      <td>186.000000</td>\n",
       "      <td>1853.104500</td>\n",
       "      <td>1853.104500</td>\n",
       "      <td>71.112038</td>\n",
       "      <td>186.000000</td>\n",
       "      <td>1853.104500</td>\n",
       "      <td>1853.104500</td>\n",
       "      <td>0.979553</td>\n",
       "    </tr>\n",
       "  </tbody>\n",
       "</table>\n",
       "</div>"
      ],
      "text/plain": [
       "           gameorder        _iscopy        year_id     seasongame  \\\n",
       "count  126314.000000  126314.000000  126314.000000  126314.000000   \n",
       "mean    31579.000000       0.500000    1988.200374      43.533733   \n",
       "std     18231.927643       0.500002      17.582309      25.375178   \n",
       "min         1.000000       0.000000    1947.000000       1.000000   \n",
       "25%     15790.000000       0.000000    1975.000000      22.000000   \n",
       "50%     31579.000000       0.500000    1990.000000      43.000000   \n",
       "75%     47368.000000       1.000000    2003.000000      65.000000   \n",
       "max     63157.000000       1.000000    2015.000000     108.000000   \n",
       "\n",
       "         is_playoffs            pts          elo_i          elo_n  \\\n",
       "count  126314.000000  126314.000000  126314.000000  126314.000000   \n",
       "mean        0.063857     102.729982    1495.236055    1495.236055   \n",
       "std         0.244499      14.814845     112.139945     112.461687   \n",
       "min         0.000000       0.000000    1091.644500    1085.774400   \n",
       "25%         0.000000      93.000000    1417.237975    1416.994900   \n",
       "50%         0.000000     103.000000    1500.945550    1500.954400   \n",
       "75%         0.000000     112.000000    1576.060000    1576.291625   \n",
       "max         1.000000     186.000000    1853.104500    1853.104500   \n",
       "\n",
       "           win_equiv        opp_pts      opp_elo_i      opp_elo_n  \\\n",
       "count  126314.000000  126314.000000  126314.000000  126314.000000   \n",
       "mean       41.707889     102.729982    1495.236055    1495.236055   \n",
       "std        10.627332      14.814845     112.139945     112.461687   \n",
       "min        10.152501       0.000000    1091.644500    1085.774400   \n",
       "25%        34.103035      93.000000    1417.237975    1416.994900   \n",
       "50%        42.113357     103.000000    1500.945550    1500.954400   \n",
       "75%        49.635328     112.000000    1576.060000    1576.291625   \n",
       "max        71.112038     186.000000    1853.104500    1853.104500   \n",
       "\n",
       "            forecast  \n",
       "count  126314.000000  \n",
       "mean        0.500000  \n",
       "std         0.215252  \n",
       "min         0.020447  \n",
       "25%         0.327989  \n",
       "50%         0.500000  \n",
       "75%         0.672011  \n",
       "max         0.979553  "
      ]
     },
     "execution_count": 23,
     "metadata": {},
     "output_type": "execute_result"
    }
   ],
   "source": [
    "df.describe()"
   ]
  },
  {
   "cell_type": "code",
   "execution_count": 24,
   "id": "7cdf411a",
   "metadata": {
    "ExecuteTime": {
     "end_time": "2022-03-01T12:45:11.109519Z",
     "start_time": "2022-03-01T12:45:11.051255Z"
    }
   },
   "outputs": [
    {
     "data": {
      "text/html": [
       "<div>\n",
       "<style scoped>\n",
       "    .dataframe tbody tr th:only-of-type {\n",
       "        vertical-align: middle;\n",
       "    }\n",
       "\n",
       "    .dataframe tbody tr th {\n",
       "        vertical-align: top;\n",
       "    }\n",
       "\n",
       "    .dataframe thead th {\n",
       "        text-align: right;\n",
       "    }\n",
       "</style>\n",
       "<table border=\"1\" class=\"dataframe\">\n",
       "  <thead>\n",
       "    <tr style=\"text-align: right;\">\n",
       "      <th></th>\n",
       "      <th>gameorder</th>\n",
       "      <th>game_id</th>\n",
       "      <th>lg_id</th>\n",
       "      <th>_iscopy</th>\n",
       "      <th>year_id</th>\n",
       "      <th>date_game</th>\n",
       "      <th>seasongame</th>\n",
       "      <th>is_playoffs</th>\n",
       "      <th>team_id</th>\n",
       "      <th>fran_id</th>\n",
       "      <th>pts</th>\n",
       "      <th>elo_i</th>\n",
       "      <th>elo_n</th>\n",
       "      <th>win_equiv</th>\n",
       "      <th>opp_id</th>\n",
       "      <th>opp_fran</th>\n",
       "      <th>opp_pts</th>\n",
       "      <th>opp_elo_i</th>\n",
       "      <th>opp_elo_n</th>\n",
       "      <th>game_location</th>\n",
       "      <th>game_result</th>\n",
       "      <th>forecast</th>\n",
       "      <th>notes</th>\n",
       "    </tr>\n",
       "  </thead>\n",
       "  <tbody>\n",
       "    <tr>\n",
       "      <th>0</th>\n",
       "      <td>1</td>\n",
       "      <td>194611010TRH</td>\n",
       "      <td>NBA</td>\n",
       "      <td>0</td>\n",
       "      <td>1947</td>\n",
       "      <td>11/1/1946</td>\n",
       "      <td>1</td>\n",
       "      <td>0</td>\n",
       "      <td>TRH</td>\n",
       "      <td>Huskies</td>\n",
       "      <td>66</td>\n",
       "      <td>1300.0</td>\n",
       "      <td>1293.2767</td>\n",
       "      <td>40.29483</td>\n",
       "      <td>NYK</td>\n",
       "      <td>Knicks</td>\n",
       "      <td>68</td>\n",
       "      <td>1300.0</td>\n",
       "      <td>1306.7233</td>\n",
       "      <td>H</td>\n",
       "      <td>L</td>\n",
       "      <td>0.640065</td>\n",
       "      <td>NaN</td>\n",
       "    </tr>\n",
       "    <tr>\n",
       "      <th>1</th>\n",
       "      <td>1</td>\n",
       "      <td>194611010TRH</td>\n",
       "      <td>NBA</td>\n",
       "      <td>1</td>\n",
       "      <td>1947</td>\n",
       "      <td>11/1/1946</td>\n",
       "      <td>1</td>\n",
       "      <td>0</td>\n",
       "      <td>NYK</td>\n",
       "      <td>Knicks</td>\n",
       "      <td>68</td>\n",
       "      <td>1300.0</td>\n",
       "      <td>1306.7233</td>\n",
       "      <td>41.70517</td>\n",
       "      <td>TRH</td>\n",
       "      <td>Huskies</td>\n",
       "      <td>66</td>\n",
       "      <td>1300.0</td>\n",
       "      <td>1293.2767</td>\n",
       "      <td>A</td>\n",
       "      <td>W</td>\n",
       "      <td>0.359935</td>\n",
       "      <td>NaN</td>\n",
       "    </tr>\n",
       "  </tbody>\n",
       "</table>\n",
       "</div>"
      ],
      "text/plain": [
       "   gameorder       game_id lg_id  _iscopy  year_id  date_game  seasongame  \\\n",
       "0          1  194611010TRH   NBA        0     1947  11/1/1946           1   \n",
       "1          1  194611010TRH   NBA        1     1947  11/1/1946           1   \n",
       "\n",
       "   is_playoffs team_id  fran_id  pts   elo_i      elo_n  win_equiv opp_id  \\\n",
       "0            0     TRH  Huskies   66  1300.0  1293.2767   40.29483    NYK   \n",
       "1            0     NYK   Knicks   68  1300.0  1306.7233   41.70517    TRH   \n",
       "\n",
       "  opp_fran  opp_pts  opp_elo_i  opp_elo_n game_location game_result  forecast  \\\n",
       "0   Knicks       68     1300.0  1306.7233             H           L  0.640065   \n",
       "1  Huskies       66     1300.0  1293.2767             A           W  0.359935   \n",
       "\n",
       "  notes  \n",
       "0   NaN  \n",
       "1   NaN  "
      ]
     },
     "execution_count": 24,
     "metadata": {},
     "output_type": "execute_result"
    }
   ],
   "source": [
    "df.head(2)"
   ]
  },
  {
   "cell_type": "code",
   "execution_count": 3,
   "id": "8aa9e3b6",
   "metadata": {
    "ExecuteTime": {
     "end_time": "2022-03-03T03:33:15.088121Z",
     "start_time": "2022-03-03T03:33:14.984562Z"
    }
   },
   "outputs": [
    {
     "data": {
      "text/html": [
       "<div>\n",
       "<style scoped>\n",
       "    .dataframe tbody tr th:only-of-type {\n",
       "        vertical-align: middle;\n",
       "    }\n",
       "\n",
       "    .dataframe tbody tr th {\n",
       "        vertical-align: top;\n",
       "    }\n",
       "\n",
       "    .dataframe thead th {\n",
       "        text-align: right;\n",
       "    }\n",
       "</style>\n",
       "<table border=\"1\" class=\"dataframe\">\n",
       "  <thead>\n",
       "    <tr style=\"text-align: right;\">\n",
       "      <th></th>\n",
       "      <th>game_id</th>\n",
       "      <th>lg_id</th>\n",
       "      <th>pts</th>\n",
       "    </tr>\n",
       "  </thead>\n",
       "  <tbody>\n",
       "    <tr>\n",
       "      <th>0</th>\n",
       "      <td>194611010TRH</td>\n",
       "      <td>NBA</td>\n",
       "      <td>66</td>\n",
       "    </tr>\n",
       "    <tr>\n",
       "      <th>1</th>\n",
       "      <td>194611010TRH</td>\n",
       "      <td>NBA</td>\n",
       "      <td>68</td>\n",
       "    </tr>\n",
       "    <tr>\n",
       "      <th>2</th>\n",
       "      <td>194611020CHS</td>\n",
       "      <td>NBA</td>\n",
       "      <td>63</td>\n",
       "    </tr>\n",
       "    <tr>\n",
       "      <th>3</th>\n",
       "      <td>194611020CHS</td>\n",
       "      <td>NBA</td>\n",
       "      <td>47</td>\n",
       "    </tr>\n",
       "    <tr>\n",
       "      <th>4</th>\n",
       "      <td>194611020DTF</td>\n",
       "      <td>NBA</td>\n",
       "      <td>33</td>\n",
       "    </tr>\n",
       "    <tr>\n",
       "      <th>...</th>\n",
       "      <td>...</td>\n",
       "      <td>...</td>\n",
       "      <td>...</td>\n",
       "    </tr>\n",
       "    <tr>\n",
       "      <th>126309</th>\n",
       "      <td>201506110CLE</td>\n",
       "      <td>NBA</td>\n",
       "      <td>82</td>\n",
       "    </tr>\n",
       "    <tr>\n",
       "      <th>126310</th>\n",
       "      <td>201506140GSW</td>\n",
       "      <td>NBA</td>\n",
       "      <td>104</td>\n",
       "    </tr>\n",
       "    <tr>\n",
       "      <th>126311</th>\n",
       "      <td>201506140GSW</td>\n",
       "      <td>NBA</td>\n",
       "      <td>91</td>\n",
       "    </tr>\n",
       "    <tr>\n",
       "      <th>126312</th>\n",
       "      <td>201506170CLE</td>\n",
       "      <td>NBA</td>\n",
       "      <td>97</td>\n",
       "    </tr>\n",
       "    <tr>\n",
       "      <th>126313</th>\n",
       "      <td>201506170CLE</td>\n",
       "      <td>NBA</td>\n",
       "      <td>105</td>\n",
       "    </tr>\n",
       "  </tbody>\n",
       "</table>\n",
       "<p>126314 rows × 3 columns</p>\n",
       "</div>"
      ],
      "text/plain": [
       "             game_id lg_id  pts\n",
       "0       194611010TRH   NBA   66\n",
       "1       194611010TRH   NBA   68\n",
       "2       194611020CHS   NBA   63\n",
       "3       194611020CHS   NBA   47\n",
       "4       194611020DTF   NBA   33\n",
       "...              ...   ...  ...\n",
       "126309  201506110CLE   NBA   82\n",
       "126310  201506140GSW   NBA  104\n",
       "126311  201506140GSW   NBA   91\n",
       "126312  201506170CLE   NBA   97\n",
       "126313  201506170CLE   NBA  105\n",
       "\n",
       "[126314 rows x 3 columns]"
      ]
     },
     "execution_count": 3,
     "metadata": {},
     "output_type": "execute_result"
    }
   ],
   "source": [
    "# Nampilin game id aja\n",
    "# df['game_id'] # Ini gk ada table\n",
    "df[['game_id', 'lg_id', 'pts']] # Ini ada table"
   ]
  },
  {
   "cell_type": "code",
   "execution_count": 29,
   "id": "098460e7",
   "metadata": {
    "ExecuteTime": {
     "end_time": "2022-03-01T12:49:59.985246Z",
     "start_time": "2022-03-01T12:49:59.929511Z"
    }
   },
   "outputs": [
    {
     "data": {
      "text/html": [
       "<div>\n",
       "<style scoped>\n",
       "    .dataframe tbody tr th:only-of-type {\n",
       "        vertical-align: middle;\n",
       "    }\n",
       "\n",
       "    .dataframe tbody tr th {\n",
       "        vertical-align: top;\n",
       "    }\n",
       "\n",
       "    .dataframe thead th {\n",
       "        text-align: right;\n",
       "    }\n",
       "</style>\n",
       "<table border=\"1\" class=\"dataframe\">\n",
       "  <thead>\n",
       "    <tr style=\"text-align: right;\">\n",
       "      <th></th>\n",
       "      <th>pts</th>\n",
       "    </tr>\n",
       "  </thead>\n",
       "  <tbody>\n",
       "    <tr>\n",
       "      <th>count</th>\n",
       "      <td>126314.000000</td>\n",
       "    </tr>\n",
       "    <tr>\n",
       "      <th>mean</th>\n",
       "      <td>102.729982</td>\n",
       "    </tr>\n",
       "    <tr>\n",
       "      <th>std</th>\n",
       "      <td>14.814845</td>\n",
       "    </tr>\n",
       "    <tr>\n",
       "      <th>min</th>\n",
       "      <td>0.000000</td>\n",
       "    </tr>\n",
       "    <tr>\n",
       "      <th>25%</th>\n",
       "      <td>93.000000</td>\n",
       "    </tr>\n",
       "    <tr>\n",
       "      <th>50%</th>\n",
       "      <td>103.000000</td>\n",
       "    </tr>\n",
       "    <tr>\n",
       "      <th>75%</th>\n",
       "      <td>112.000000</td>\n",
       "    </tr>\n",
       "    <tr>\n",
       "      <th>max</th>\n",
       "      <td>186.000000</td>\n",
       "    </tr>\n",
       "  </tbody>\n",
       "</table>\n",
       "</div>"
      ],
      "text/plain": [
       "                 pts\n",
       "count  126314.000000\n",
       "mean      102.729982\n",
       "std        14.814845\n",
       "min         0.000000\n",
       "25%        93.000000\n",
       "50%       103.000000\n",
       "75%       112.000000\n",
       "max       186.000000"
      ]
     },
     "execution_count": 29,
     "metadata": {},
     "output_type": "execute_result"
    }
   ],
   "source": [
    "df[['pts']].describe()"
   ]
  },
  {
   "cell_type": "code",
   "execution_count": 32,
   "id": "dd9d5064",
   "metadata": {
    "ExecuteTime": {
     "end_time": "2022-03-01T12:53:34.396454Z",
     "start_time": "2022-03-01T12:53:34.388857Z"
    }
   },
   "outputs": [],
   "source": [
    "# Display precision\n",
    "# pd.set_option('display.precision', 2)\n",
    "pd.reset_option('display.precision', ) # Back to normal"
   ]
  },
  {
   "cell_type": "code",
   "execution_count": 34,
   "id": "fbe6f7bb",
   "metadata": {
    "ExecuteTime": {
     "end_time": "2022-03-01T12:56:45.702426Z",
     "start_time": "2022-03-01T12:56:44.730641Z"
    }
   },
   "outputs": [
    {
     "data": {
      "text/html": [
       "<div>\n",
       "<style scoped>\n",
       "    .dataframe tbody tr th:only-of-type {\n",
       "        vertical-align: middle;\n",
       "    }\n",
       "\n",
       "    .dataframe tbody tr th {\n",
       "        vertical-align: top;\n",
       "    }\n",
       "\n",
       "    .dataframe thead th {\n",
       "        text-align: right;\n",
       "    }\n",
       "</style>\n",
       "<table border=\"1\" class=\"dataframe\">\n",
       "  <thead>\n",
       "    <tr style=\"text-align: right;\">\n",
       "      <th></th>\n",
       "      <th>gameorder</th>\n",
       "      <th>game_id</th>\n",
       "      <th>lg_id</th>\n",
       "      <th>_iscopy</th>\n",
       "      <th>year_id</th>\n",
       "      <th>date_game</th>\n",
       "      <th>seasongame</th>\n",
       "      <th>is_playoffs</th>\n",
       "      <th>team_id</th>\n",
       "      <th>fran_id</th>\n",
       "      <th>pts</th>\n",
       "      <th>opp_id</th>\n",
       "      <th>opp_fran</th>\n",
       "      <th>opp_pts</th>\n",
       "      <th>game_location</th>\n",
       "      <th>game_result</th>\n",
       "      <th>notes</th>\n",
       "    </tr>\n",
       "  </thead>\n",
       "  <tbody>\n",
       "    <tr>\n",
       "      <th>count</th>\n",
       "      <td>126314.000000</td>\n",
       "      <td>126314</td>\n",
       "      <td>126314</td>\n",
       "      <td>126314.000000</td>\n",
       "      <td>126314.000000</td>\n",
       "      <td>126314</td>\n",
       "      <td>126314.000000</td>\n",
       "      <td>126314.000000</td>\n",
       "      <td>126314</td>\n",
       "      <td>126314</td>\n",
       "      <td>126314.000000</td>\n",
       "      <td>126314</td>\n",
       "      <td>126314</td>\n",
       "      <td>126314.000000</td>\n",
       "      <td>126314</td>\n",
       "      <td>126314</td>\n",
       "      <td>5424</td>\n",
       "    </tr>\n",
       "    <tr>\n",
       "      <th>unique</th>\n",
       "      <td>NaN</td>\n",
       "      <td>63157</td>\n",
       "      <td>2</td>\n",
       "      <td>NaN</td>\n",
       "      <td>NaN</td>\n",
       "      <td>12426</td>\n",
       "      <td>NaN</td>\n",
       "      <td>NaN</td>\n",
       "      <td>104</td>\n",
       "      <td>53</td>\n",
       "      <td>NaN</td>\n",
       "      <td>104</td>\n",
       "      <td>53</td>\n",
       "      <td>NaN</td>\n",
       "      <td>3</td>\n",
       "      <td>2</td>\n",
       "      <td>231</td>\n",
       "    </tr>\n",
       "    <tr>\n",
       "      <th>top</th>\n",
       "      <td>NaN</td>\n",
       "      <td>194611010TRH</td>\n",
       "      <td>NBA</td>\n",
       "      <td>NaN</td>\n",
       "      <td>NaN</td>\n",
       "      <td>4/13/2011</td>\n",
       "      <td>NaN</td>\n",
       "      <td>NaN</td>\n",
       "      <td>BOS</td>\n",
       "      <td>Lakers</td>\n",
       "      <td>NaN</td>\n",
       "      <td>BOS</td>\n",
       "      <td>Lakers</td>\n",
       "      <td>NaN</td>\n",
       "      <td>H</td>\n",
       "      <td>L</td>\n",
       "      <td>at New York NY</td>\n",
       "    </tr>\n",
       "    <tr>\n",
       "      <th>freq</th>\n",
       "      <td>NaN</td>\n",
       "      <td>2</td>\n",
       "      <td>118016</td>\n",
       "      <td>NaN</td>\n",
       "      <td>NaN</td>\n",
       "      <td>30</td>\n",
       "      <td>NaN</td>\n",
       "      <td>NaN</td>\n",
       "      <td>5997</td>\n",
       "      <td>6024</td>\n",
       "      <td>NaN</td>\n",
       "      <td>5997</td>\n",
       "      <td>6024</td>\n",
       "      <td>NaN</td>\n",
       "      <td>63138</td>\n",
       "      <td>63157</td>\n",
       "      <td>440</td>\n",
       "    </tr>\n",
       "    <tr>\n",
       "      <th>mean</th>\n",
       "      <td>31579.000000</td>\n",
       "      <td>NaN</td>\n",
       "      <td>NaN</td>\n",
       "      <td>0.500000</td>\n",
       "      <td>1988.200374</td>\n",
       "      <td>NaN</td>\n",
       "      <td>43.533733</td>\n",
       "      <td>0.063857</td>\n",
       "      <td>NaN</td>\n",
       "      <td>NaN</td>\n",
       "      <td>102.729982</td>\n",
       "      <td>NaN</td>\n",
       "      <td>NaN</td>\n",
       "      <td>102.729982</td>\n",
       "      <td>NaN</td>\n",
       "      <td>NaN</td>\n",
       "      <td>NaN</td>\n",
       "    </tr>\n",
       "    <tr>\n",
       "      <th>std</th>\n",
       "      <td>18231.927643</td>\n",
       "      <td>NaN</td>\n",
       "      <td>NaN</td>\n",
       "      <td>0.500002</td>\n",
       "      <td>17.582309</td>\n",
       "      <td>NaN</td>\n",
       "      <td>25.375178</td>\n",
       "      <td>0.244499</td>\n",
       "      <td>NaN</td>\n",
       "      <td>NaN</td>\n",
       "      <td>14.814845</td>\n",
       "      <td>NaN</td>\n",
       "      <td>NaN</td>\n",
       "      <td>14.814845</td>\n",
       "      <td>NaN</td>\n",
       "      <td>NaN</td>\n",
       "      <td>NaN</td>\n",
       "    </tr>\n",
       "    <tr>\n",
       "      <th>min</th>\n",
       "      <td>1.000000</td>\n",
       "      <td>NaN</td>\n",
       "      <td>NaN</td>\n",
       "      <td>0.000000</td>\n",
       "      <td>1947.000000</td>\n",
       "      <td>NaN</td>\n",
       "      <td>1.000000</td>\n",
       "      <td>0.000000</td>\n",
       "      <td>NaN</td>\n",
       "      <td>NaN</td>\n",
       "      <td>0.000000</td>\n",
       "      <td>NaN</td>\n",
       "      <td>NaN</td>\n",
       "      <td>0.000000</td>\n",
       "      <td>NaN</td>\n",
       "      <td>NaN</td>\n",
       "      <td>NaN</td>\n",
       "    </tr>\n",
       "    <tr>\n",
       "      <th>25%</th>\n",
       "      <td>15790.000000</td>\n",
       "      <td>NaN</td>\n",
       "      <td>NaN</td>\n",
       "      <td>0.000000</td>\n",
       "      <td>1975.000000</td>\n",
       "      <td>NaN</td>\n",
       "      <td>22.000000</td>\n",
       "      <td>0.000000</td>\n",
       "      <td>NaN</td>\n",
       "      <td>NaN</td>\n",
       "      <td>93.000000</td>\n",
       "      <td>NaN</td>\n",
       "      <td>NaN</td>\n",
       "      <td>93.000000</td>\n",
       "      <td>NaN</td>\n",
       "      <td>NaN</td>\n",
       "      <td>NaN</td>\n",
       "    </tr>\n",
       "    <tr>\n",
       "      <th>50%</th>\n",
       "      <td>31579.000000</td>\n",
       "      <td>NaN</td>\n",
       "      <td>NaN</td>\n",
       "      <td>0.500000</td>\n",
       "      <td>1990.000000</td>\n",
       "      <td>NaN</td>\n",
       "      <td>43.000000</td>\n",
       "      <td>0.000000</td>\n",
       "      <td>NaN</td>\n",
       "      <td>NaN</td>\n",
       "      <td>103.000000</td>\n",
       "      <td>NaN</td>\n",
       "      <td>NaN</td>\n",
       "      <td>103.000000</td>\n",
       "      <td>NaN</td>\n",
       "      <td>NaN</td>\n",
       "      <td>NaN</td>\n",
       "    </tr>\n",
       "    <tr>\n",
       "      <th>75%</th>\n",
       "      <td>47368.000000</td>\n",
       "      <td>NaN</td>\n",
       "      <td>NaN</td>\n",
       "      <td>1.000000</td>\n",
       "      <td>2003.000000</td>\n",
       "      <td>NaN</td>\n",
       "      <td>65.000000</td>\n",
       "      <td>0.000000</td>\n",
       "      <td>NaN</td>\n",
       "      <td>NaN</td>\n",
       "      <td>112.000000</td>\n",
       "      <td>NaN</td>\n",
       "      <td>NaN</td>\n",
       "      <td>112.000000</td>\n",
       "      <td>NaN</td>\n",
       "      <td>NaN</td>\n",
       "      <td>NaN</td>\n",
       "    </tr>\n",
       "    <tr>\n",
       "      <th>max</th>\n",
       "      <td>63157.000000</td>\n",
       "      <td>NaN</td>\n",
       "      <td>NaN</td>\n",
       "      <td>1.000000</td>\n",
       "      <td>2015.000000</td>\n",
       "      <td>NaN</td>\n",
       "      <td>108.000000</td>\n",
       "      <td>1.000000</td>\n",
       "      <td>NaN</td>\n",
       "      <td>NaN</td>\n",
       "      <td>186.000000</td>\n",
       "      <td>NaN</td>\n",
       "      <td>NaN</td>\n",
       "      <td>186.000000</td>\n",
       "      <td>NaN</td>\n",
       "      <td>NaN</td>\n",
       "      <td>NaN</td>\n",
       "    </tr>\n",
       "  </tbody>\n",
       "</table>\n",
       "</div>"
      ],
      "text/plain": [
       "            gameorder       game_id   lg_id        _iscopy        year_id  \\\n",
       "count   126314.000000        126314  126314  126314.000000  126314.000000   \n",
       "unique            NaN         63157       2            NaN            NaN   \n",
       "top               NaN  194611010TRH     NBA            NaN            NaN   \n",
       "freq              NaN             2  118016            NaN            NaN   \n",
       "mean     31579.000000           NaN     NaN       0.500000    1988.200374   \n",
       "std      18231.927643           NaN     NaN       0.500002      17.582309   \n",
       "min          1.000000           NaN     NaN       0.000000    1947.000000   \n",
       "25%      15790.000000           NaN     NaN       0.000000    1975.000000   \n",
       "50%      31579.000000           NaN     NaN       0.500000    1990.000000   \n",
       "75%      47368.000000           NaN     NaN       1.000000    2003.000000   \n",
       "max      63157.000000           NaN     NaN       1.000000    2015.000000   \n",
       "\n",
       "        date_game     seasongame    is_playoffs team_id fran_id  \\\n",
       "count      126314  126314.000000  126314.000000  126314  126314   \n",
       "unique      12426            NaN            NaN     104      53   \n",
       "top     4/13/2011            NaN            NaN     BOS  Lakers   \n",
       "freq           30            NaN            NaN    5997    6024   \n",
       "mean          NaN      43.533733       0.063857     NaN     NaN   \n",
       "std           NaN      25.375178       0.244499     NaN     NaN   \n",
       "min           NaN       1.000000       0.000000     NaN     NaN   \n",
       "25%           NaN      22.000000       0.000000     NaN     NaN   \n",
       "50%           NaN      43.000000       0.000000     NaN     NaN   \n",
       "75%           NaN      65.000000       0.000000     NaN     NaN   \n",
       "max           NaN     108.000000       1.000000     NaN     NaN   \n",
       "\n",
       "                  pts  opp_id opp_fran        opp_pts game_location  \\\n",
       "count   126314.000000  126314   126314  126314.000000        126314   \n",
       "unique            NaN     104       53            NaN             3   \n",
       "top               NaN     BOS   Lakers            NaN             H   \n",
       "freq              NaN    5997     6024            NaN         63138   \n",
       "mean       102.729982     NaN      NaN     102.729982           NaN   \n",
       "std         14.814845     NaN      NaN      14.814845           NaN   \n",
       "min          0.000000     NaN      NaN       0.000000           NaN   \n",
       "25%         93.000000     NaN      NaN      93.000000           NaN   \n",
       "50%        103.000000     NaN      NaN     103.000000           NaN   \n",
       "75%        112.000000     NaN      NaN     112.000000           NaN   \n",
       "max        186.000000     NaN      NaN     186.000000           NaN   \n",
       "\n",
       "       game_result           notes  \n",
       "count       126314            5424  \n",
       "unique           2             231  \n",
       "top              L  at New York NY  \n",
       "freq         63157             440  \n",
       "mean           NaN             NaN  \n",
       "std            NaN             NaN  \n",
       "min            NaN             NaN  \n",
       "25%            NaN             NaN  \n",
       "50%            NaN             NaN  \n",
       "75%            NaN             NaN  \n",
       "max            NaN             NaN  "
      ]
     },
     "execution_count": 34,
     "metadata": {},
     "output_type": "execute_result"
    }
   ],
   "source": [
    "df.describe(include=[object, int])"
   ]
  },
  {
   "cell_type": "code",
   "execution_count": 35,
   "id": "d364b7d8",
   "metadata": {
    "ExecuteTime": {
     "end_time": "2022-03-01T12:57:54.578751Z",
     "start_time": "2022-03-01T12:57:54.522504Z"
    }
   },
   "outputs": [
    {
     "data": {
      "text/plain": [
       "0         TRH\n",
       "1         NYK\n",
       "2         CHS\n",
       "3         NYK\n",
       "4         DTF\n",
       "         ... \n",
       "126309    CLE\n",
       "126310    GSW\n",
       "126311    CLE\n",
       "126312    CLE\n",
       "126313    GSW\n",
       "Name: team_id, Length: 126314, dtype: object"
      ]
     },
     "execution_count": 35,
     "metadata": {},
     "output_type": "execute_result"
    }
   ],
   "source": [
    "df['team_id']"
   ]
  },
  {
   "cell_type": "code",
   "execution_count": 38,
   "id": "99b5b29c",
   "metadata": {
    "ExecuteTime": {
     "end_time": "2022-03-01T12:58:46.908660Z",
     "start_time": "2022-03-01T12:58:46.857996Z"
    }
   },
   "outputs": [
    {
     "data": {
      "text/plain": [
       "BOS    5997\n",
       "NYK    5769\n",
       "LAL    5078\n",
       "DET    4985\n",
       "PHI    4533\n",
       "       ... \n",
       "INJ      60\n",
       "PIT      60\n",
       "DTF      60\n",
       "TRH      60\n",
       "SDS      11\n",
       "Name: team_id, Length: 104, dtype: int64"
      ]
     },
     "execution_count": 38,
     "metadata": {},
     "output_type": "execute_result"
    }
   ],
   "source": [
    "df['team_id'].value_counts() # Ngitung jumlah value"
   ]
  },
  {
   "cell_type": "code",
   "execution_count": 45,
   "id": "c5f1c4af",
   "metadata": {
    "ExecuteTime": {
     "end_time": "2022-03-01T13:01:42.523410Z",
     "start_time": "2022-03-01T13:01:42.447915Z"
    }
   },
   "outputs": [
    {
     "data": {
      "text/plain": [
       "Lakers          6024\n",
       "Celtics         5997\n",
       "Knicks          5769\n",
       "Warriors        5657\n",
       "Pistons         5650\n",
       "Sixers          5644\n",
       "Hawks           5572\n",
       "Kings           5475\n",
       "Wizards         4582\n",
       "Spurs           4309\n",
       "Bulls           4307\n",
       "Pacers          4227\n",
       "Thunder         4178\n",
       "Rockets         4154\n",
       "Nuggets         4120\n",
       "Nets            4106\n",
       "Suns            4080\n",
       "Bucks           4034\n",
       "Trailblazers    3870\n",
       "Cavaliers       3810\n",
       "Clippers        3733\n",
       "Jazz            3555\n",
       "Mavericks       3013\n",
       "Heat            2371\n",
       "Pelicans        2254\n",
       "Magic           2207\n",
       "Timberwolves    2131\n",
       "Grizzlies       1657\n",
       "Raptors         1634\n",
       "Hornets          894\n",
       "Colonels         846\n",
       "Squires          799\n",
       "Spirits          777\n",
       "Stars            756\n",
       "Sounds           697\n",
       "Baltimore        467\n",
       "Floridians       440\n",
       "Condors          430\n",
       "Capitols         291\n",
       "Olympians        282\n",
       "Sails            274\n",
       "Stags            260\n",
       "Bombers          249\n",
       "Steamrollers     168\n",
       "Packers           72\n",
       "Redskins          65\n",
       "Rebels            63\n",
       "Waterloo          62\n",
       "Denver            62\n",
       "Falcons           60\n",
       "Jets              60\n",
       "Ironmen           60\n",
       "Huskies           60\n",
       "Name: fran_id, dtype: int64"
      ]
     },
     "execution_count": 45,
     "metadata": {},
     "output_type": "execute_result"
    }
   ],
   "source": [
    "df['fran_id'].value_counts()"
   ]
  },
  {
   "cell_type": "code",
   "execution_count": 48,
   "id": "18399074",
   "metadata": {
    "ExecuteTime": {
     "end_time": "2022-03-01T13:04:10.933614Z",
     "start_time": "2022-03-01T13:04:10.624043Z"
    }
   },
   "outputs": [
    {
     "data": {
      "text/html": [
       "<div>\n",
       "<style scoped>\n",
       "    .dataframe tbody tr th:only-of-type {\n",
       "        vertical-align: middle;\n",
       "    }\n",
       "\n",
       "    .dataframe tbody tr th {\n",
       "        vertical-align: top;\n",
       "    }\n",
       "\n",
       "    .dataframe thead th {\n",
       "        text-align: right;\n",
       "    }\n",
       "</style>\n",
       "<table border=\"1\" class=\"dataframe\">\n",
       "  <thead>\n",
       "    <tr style=\"text-align: right;\">\n",
       "      <th></th>\n",
       "      <th>gameorder</th>\n",
       "      <th>game_id</th>\n",
       "      <th>lg_id</th>\n",
       "      <th>_iscopy</th>\n",
       "      <th>year_id</th>\n",
       "      <th>date_game</th>\n",
       "      <th>seasongame</th>\n",
       "      <th>is_playoffs</th>\n",
       "      <th>team_id</th>\n",
       "      <th>fran_id</th>\n",
       "      <th>pts</th>\n",
       "      <th>elo_i</th>\n",
       "      <th>elo_n</th>\n",
       "      <th>win_equiv</th>\n",
       "      <th>opp_id</th>\n",
       "      <th>opp_fran</th>\n",
       "      <th>opp_pts</th>\n",
       "      <th>opp_elo_i</th>\n",
       "      <th>opp_elo_n</th>\n",
       "      <th>game_location</th>\n",
       "      <th>game_result</th>\n",
       "      <th>forecast</th>\n",
       "      <th>notes</th>\n",
       "    </tr>\n",
       "  </thead>\n",
       "  <tbody>\n",
       "    <tr>\n",
       "      <th>1136</th>\n",
       "      <td>569</td>\n",
       "      <td>194811040BLB</td>\n",
       "      <td>NBA</td>\n",
       "      <td>1</td>\n",
       "      <td>1949</td>\n",
       "      <td>11/4/1948</td>\n",
       "      <td>1</td>\n",
       "      <td>0</td>\n",
       "      <td>MNL</td>\n",
       "      <td>Lakers</td>\n",
       "      <td>84</td>\n",
       "      <td>1527.0000</td>\n",
       "      <td>1542.2545</td>\n",
       "      <td>51.218754</td>\n",
       "      <td>BLB</td>\n",
       "      <td>Baltimore</td>\n",
       "      <td>72</td>\n",
       "      <td>1507.2052</td>\n",
       "      <td>1491.9507</td>\n",
       "      <td>A</td>\n",
       "      <td>W</td>\n",
       "      <td>0.386583</td>\n",
       "      <td>NaN</td>\n",
       "    </tr>\n",
       "    <tr>\n",
       "      <th>1152</th>\n",
       "      <td>577</td>\n",
       "      <td>194811060WSC</td>\n",
       "      <td>NBA</td>\n",
       "      <td>1</td>\n",
       "      <td>1949</td>\n",
       "      <td>11/6/1948</td>\n",
       "      <td>2</td>\n",
       "      <td>0</td>\n",
       "      <td>MNL</td>\n",
       "      <td>Lakers</td>\n",
       "      <td>62</td>\n",
       "      <td>1542.2545</td>\n",
       "      <td>1536.2078</td>\n",
       "      <td>50.621624</td>\n",
       "      <td>WSC</td>\n",
       "      <td>Capitols</td>\n",
       "      <td>67</td>\n",
       "      <td>1481.8721</td>\n",
       "      <td>1487.9188</td>\n",
       "      <td>A</td>\n",
       "      <td>L</td>\n",
       "      <td>0.443232</td>\n",
       "      <td>NaN</td>\n",
       "    </tr>\n",
       "    <tr>\n",
       "      <th>1159</th>\n",
       "      <td>580</td>\n",
       "      <td>194811090BOS</td>\n",
       "      <td>NBA</td>\n",
       "      <td>1</td>\n",
       "      <td>1949</td>\n",
       "      <td>11/9/1948</td>\n",
       "      <td>3</td>\n",
       "      <td>0</td>\n",
       "      <td>MNL</td>\n",
       "      <td>Lakers</td>\n",
       "      <td>55</td>\n",
       "      <td>1536.2078</td>\n",
       "      <td>1513.4880</td>\n",
       "      <td>48.341133</td>\n",
       "      <td>BOS</td>\n",
       "      <td>Celtics</td>\n",
       "      <td>77</td>\n",
       "      <td>1359.3345</td>\n",
       "      <td>1382.0542</td>\n",
       "      <td>A</td>\n",
       "      <td>L</td>\n",
       "      <td>0.608859</td>\n",
       "      <td>NaN</td>\n",
       "    </tr>\n",
       "    <tr>\n",
       "      <th>1170</th>\n",
       "      <td>586</td>\n",
       "      <td>194811110NYK</td>\n",
       "      <td>NBA</td>\n",
       "      <td>1</td>\n",
       "      <td>1949</td>\n",
       "      <td>11/11/1948</td>\n",
       "      <td>4</td>\n",
       "      <td>0</td>\n",
       "      <td>MNL</td>\n",
       "      <td>Lakers</td>\n",
       "      <td>77</td>\n",
       "      <td>1513.4880</td>\n",
       "      <td>1524.9596</td>\n",
       "      <td>49.499451</td>\n",
       "      <td>NYK</td>\n",
       "      <td>Knicks</td>\n",
       "      <td>68</td>\n",
       "      <td>1460.4232</td>\n",
       "      <td>1448.9517</td>\n",
       "      <td>A</td>\n",
       "      <td>W</td>\n",
       "      <td>0.432863</td>\n",
       "      <td>NaN</td>\n",
       "    </tr>\n",
       "    <tr>\n",
       "      <th>1183</th>\n",
       "      <td>592</td>\n",
       "      <td>194811130PRO</td>\n",
       "      <td>NBA</td>\n",
       "      <td>1</td>\n",
       "      <td>1949</td>\n",
       "      <td>11/13/1948</td>\n",
       "      <td>5</td>\n",
       "      <td>0</td>\n",
       "      <td>MNL</td>\n",
       "      <td>Lakers</td>\n",
       "      <td>90</td>\n",
       "      <td>1524.9596</td>\n",
       "      <td>1533.2726</td>\n",
       "      <td>50.330185</td>\n",
       "      <td>PRO</td>\n",
       "      <td>Steamrollers</td>\n",
       "      <td>67</td>\n",
       "      <td>1245.9456</td>\n",
       "      <td>1237.6326</td>\n",
       "      <td>A</td>\n",
       "      <td>W</td>\n",
       "      <td>0.737010</td>\n",
       "      <td>NaN</td>\n",
       "    </tr>\n",
       "    <tr>\n",
       "      <th>...</th>\n",
       "      <td>...</td>\n",
       "      <td>...</td>\n",
       "      <td>...</td>\n",
       "      <td>...</td>\n",
       "      <td>...</td>\n",
       "      <td>...</td>\n",
       "      <td>...</td>\n",
       "      <td>...</td>\n",
       "      <td>...</td>\n",
       "      <td>...</td>\n",
       "      <td>...</td>\n",
       "      <td>...</td>\n",
       "      <td>...</td>\n",
       "      <td>...</td>\n",
       "      <td>...</td>\n",
       "      <td>...</td>\n",
       "      <td>...</td>\n",
       "      <td>...</td>\n",
       "      <td>...</td>\n",
       "      <td>...</td>\n",
       "      <td>...</td>\n",
       "      <td>...</td>\n",
       "      <td>...</td>\n",
       "    </tr>\n",
       "    <tr>\n",
       "      <th>126016</th>\n",
       "      <td>63009</td>\n",
       "      <td>201504080DEN</td>\n",
       "      <td>NBA</td>\n",
       "      <td>1</td>\n",
       "      <td>2015</td>\n",
       "      <td>4/8/2015</td>\n",
       "      <td>78</td>\n",
       "      <td>0</td>\n",
       "      <td>LAL</td>\n",
       "      <td>Lakers</td>\n",
       "      <td>101</td>\n",
       "      <td>1313.7802</td>\n",
       "      <td>1307.5118</td>\n",
       "      <td>21.921890</td>\n",
       "      <td>DEN</td>\n",
       "      <td>Nuggets</td>\n",
       "      <td>119</td>\n",
       "      <td>1415.0565</td>\n",
       "      <td>1421.3248</td>\n",
       "      <td>A</td>\n",
       "      <td>L</td>\n",
       "      <td>0.238914</td>\n",
       "      <td>NaN</td>\n",
       "    </tr>\n",
       "    <tr>\n",
       "      <th>126052</th>\n",
       "      <td>63027</td>\n",
       "      <td>201504100LAL</td>\n",
       "      <td>NBA</td>\n",
       "      <td>0</td>\n",
       "      <td>2015</td>\n",
       "      <td>4/10/2015</td>\n",
       "      <td>79</td>\n",
       "      <td>0</td>\n",
       "      <td>LAL</td>\n",
       "      <td>Lakers</td>\n",
       "      <td>106</td>\n",
       "      <td>1307.5118</td>\n",
       "      <td>1312.9532</td>\n",
       "      <td>22.371969</td>\n",
       "      <td>MIN</td>\n",
       "      <td>Timberwolves</td>\n",
       "      <td>98</td>\n",
       "      <td>1283.9249</td>\n",
       "      <td>1278.4835</td>\n",
       "      <td>H</td>\n",
       "      <td>W</td>\n",
       "      <td>0.670716</td>\n",
       "      <td>NaN</td>\n",
       "    </tr>\n",
       "    <tr>\n",
       "      <th>126086</th>\n",
       "      <td>63044</td>\n",
       "      <td>201504120LAL</td>\n",
       "      <td>NBA</td>\n",
       "      <td>0</td>\n",
       "      <td>2015</td>\n",
       "      <td>4/12/2015</td>\n",
       "      <td>80</td>\n",
       "      <td>0</td>\n",
       "      <td>LAL</td>\n",
       "      <td>Lakers</td>\n",
       "      <td>106</td>\n",
       "      <td>1312.9532</td>\n",
       "      <td>1305.9197</td>\n",
       "      <td>21.791288</td>\n",
       "      <td>DAL</td>\n",
       "      <td>Mavericks</td>\n",
       "      <td>120</td>\n",
       "      <td>1556.2162</td>\n",
       "      <td>1563.2498</td>\n",
       "      <td>H</td>\n",
       "      <td>L</td>\n",
       "      <td>0.304769</td>\n",
       "      <td>NaN</td>\n",
       "    </tr>\n",
       "    <tr>\n",
       "      <th>126115</th>\n",
       "      <td>63058</td>\n",
       "      <td>201504130SAC</td>\n",
       "      <td>NBA</td>\n",
       "      <td>1</td>\n",
       "      <td>2015</td>\n",
       "      <td>4/13/2015</td>\n",
       "      <td>81</td>\n",
       "      <td>0</td>\n",
       "      <td>LAL</td>\n",
       "      <td>Lakers</td>\n",
       "      <td>92</td>\n",
       "      <td>1305.9197</td>\n",
       "      <td>1301.3918</td>\n",
       "      <td>21.422607</td>\n",
       "      <td>SAC</td>\n",
       "      <td>Kings</td>\n",
       "      <td>102</td>\n",
       "      <td>1395.6000</td>\n",
       "      <td>1400.1278</td>\n",
       "      <td>A</td>\n",
       "      <td>L</td>\n",
       "      <td>0.251263</td>\n",
       "      <td>NaN</td>\n",
       "    </tr>\n",
       "    <tr>\n",
       "      <th>126137</th>\n",
       "      <td>63069</td>\n",
       "      <td>201504150LAL</td>\n",
       "      <td>NBA</td>\n",
       "      <td>0</td>\n",
       "      <td>2015</td>\n",
       "      <td>4/15/2015</td>\n",
       "      <td>82</td>\n",
       "      <td>0</td>\n",
       "      <td>LAL</td>\n",
       "      <td>Lakers</td>\n",
       "      <td>99</td>\n",
       "      <td>1301.3918</td>\n",
       "      <td>1283.2395</td>\n",
       "      <td>19.985550</td>\n",
       "      <td>SAC</td>\n",
       "      <td>Kings</td>\n",
       "      <td>122</td>\n",
       "      <td>1400.1278</td>\n",
       "      <td>1418.2802</td>\n",
       "      <td>H</td>\n",
       "      <td>L</td>\n",
       "      <td>0.501819</td>\n",
       "      <td>NaN</td>\n",
       "    </tr>\n",
       "  </tbody>\n",
       "</table>\n",
       "<p>6024 rows × 23 columns</p>\n",
       "</div>"
      ],
      "text/plain": [
       "        gameorder       game_id lg_id  _iscopy  year_id   date_game  \\\n",
       "1136          569  194811040BLB   NBA        1     1949   11/4/1948   \n",
       "1152          577  194811060WSC   NBA        1     1949   11/6/1948   \n",
       "1159          580  194811090BOS   NBA        1     1949   11/9/1948   \n",
       "1170          586  194811110NYK   NBA        1     1949  11/11/1948   \n",
       "1183          592  194811130PRO   NBA        1     1949  11/13/1948   \n",
       "...           ...           ...   ...      ...      ...         ...   \n",
       "126016      63009  201504080DEN   NBA        1     2015    4/8/2015   \n",
       "126052      63027  201504100LAL   NBA        0     2015   4/10/2015   \n",
       "126086      63044  201504120LAL   NBA        0     2015   4/12/2015   \n",
       "126115      63058  201504130SAC   NBA        1     2015   4/13/2015   \n",
       "126137      63069  201504150LAL   NBA        0     2015   4/15/2015   \n",
       "\n",
       "        seasongame  is_playoffs team_id fran_id  pts      elo_i      elo_n  \\\n",
       "1136             1            0     MNL  Lakers   84  1527.0000  1542.2545   \n",
       "1152             2            0     MNL  Lakers   62  1542.2545  1536.2078   \n",
       "1159             3            0     MNL  Lakers   55  1536.2078  1513.4880   \n",
       "1170             4            0     MNL  Lakers   77  1513.4880  1524.9596   \n",
       "1183             5            0     MNL  Lakers   90  1524.9596  1533.2726   \n",
       "...            ...          ...     ...     ...  ...        ...        ...   \n",
       "126016          78            0     LAL  Lakers  101  1313.7802  1307.5118   \n",
       "126052          79            0     LAL  Lakers  106  1307.5118  1312.9532   \n",
       "126086          80            0     LAL  Lakers  106  1312.9532  1305.9197   \n",
       "126115          81            0     LAL  Lakers   92  1305.9197  1301.3918   \n",
       "126137          82            0     LAL  Lakers   99  1301.3918  1283.2395   \n",
       "\n",
       "        win_equiv opp_id      opp_fran  opp_pts  opp_elo_i  opp_elo_n  \\\n",
       "1136    51.218754    BLB     Baltimore       72  1507.2052  1491.9507   \n",
       "1152    50.621624    WSC      Capitols       67  1481.8721  1487.9188   \n",
       "1159    48.341133    BOS       Celtics       77  1359.3345  1382.0542   \n",
       "1170    49.499451    NYK        Knicks       68  1460.4232  1448.9517   \n",
       "1183    50.330185    PRO  Steamrollers       67  1245.9456  1237.6326   \n",
       "...           ...    ...           ...      ...        ...        ...   \n",
       "126016  21.921890    DEN       Nuggets      119  1415.0565  1421.3248   \n",
       "126052  22.371969    MIN  Timberwolves       98  1283.9249  1278.4835   \n",
       "126086  21.791288    DAL     Mavericks      120  1556.2162  1563.2498   \n",
       "126115  21.422607    SAC         Kings      102  1395.6000  1400.1278   \n",
       "126137  19.985550    SAC         Kings      122  1400.1278  1418.2802   \n",
       "\n",
       "       game_location game_result  forecast notes  \n",
       "1136               A           W  0.386583   NaN  \n",
       "1152               A           L  0.443232   NaN  \n",
       "1159               A           L  0.608859   NaN  \n",
       "1170               A           W  0.432863   NaN  \n",
       "1183               A           W  0.737010   NaN  \n",
       "...              ...         ...       ...   ...  \n",
       "126016             A           L  0.238914   NaN  \n",
       "126052             H           W  0.670716   NaN  \n",
       "126086             H           L  0.304769   NaN  \n",
       "126115             A           L  0.251263   NaN  \n",
       "126137             H           L  0.501819   NaN  \n",
       "\n",
       "[6024 rows x 23 columns]"
      ]
     },
     "execution_count": 48,
     "metadata": {},
     "output_type": "execute_result"
    }
   ],
   "source": [
    "# fran_lakers = df[df['fran_id'] == 'Lakers']\n",
    "# fran_lakers\n",
    "fran_lakers = df['fran_id'] == 'Lakers' #Alternatif\n",
    "df[fran_lakers]"
   ]
  },
  {
   "cell_type": "code",
   "execution_count": 49,
   "id": "c343514e",
   "metadata": {
    "ExecuteTime": {
     "end_time": "2022-03-01T13:05:21.760991Z",
     "start_time": "2022-03-01T13:05:21.728564Z"
    }
   },
   "outputs": [
    {
     "data": {
      "text/plain": [
       "LAL    5078\n",
       "MNL     946\n",
       "Name: team_id, dtype: int64"
      ]
     },
     "execution_count": 49,
     "metadata": {},
     "output_type": "execute_result"
    }
   ],
   "source": [
    "df[fran_lakers]['team_id'].value_counts()"
   ]
  },
  {
   "cell_type": "code",
   "execution_count": 51,
   "id": "1f52eb4f",
   "metadata": {
    "ExecuteTime": {
     "end_time": "2022-03-01T13:19:05.580278Z",
     "start_time": "2022-03-01T13:19:05.406999Z"
    }
   },
   "outputs": [
    {
     "data": {
      "text/plain": [
       "DEN    3312\n",
       "DNR     614\n",
       "DNA     194\n",
       "Name: team_id, dtype: int64"
      ]
     },
     "execution_count": 51,
     "metadata": {},
     "output_type": "execute_result"
    }
   ],
   "source": [
    "fran_nuggets = df['fran_id'] == 'Nuggets'\n",
    "df[fran_nuggets]['team_id'].value_counts()"
   ]
  },
  {
   "cell_type": "code",
   "execution_count": 53,
   "id": "462329fa",
   "metadata": {
    "ExecuteTime": {
     "end_time": "2022-03-01T13:20:25.543533Z",
     "start_time": "2022-03-01T13:20:25.520731Z"
    }
   },
   "outputs": [
    {
     "data": {
      "text/plain": [
       "'1/1/1949'"
      ]
     },
     "execution_count": 53,
     "metadata": {},
     "output_type": "execute_result"
    }
   ],
   "source": [
    "# df[fran_lakers]['date_game']\n",
    "df[fran_lakers]['date_game'].min()"
   ]
  },
  {
   "cell_type": "code",
   "execution_count": 54,
   "id": "2c09de2b",
   "metadata": {
    "ExecuteTime": {
     "end_time": "2022-03-01T13:20:51.379151Z",
     "start_time": "2022-03-01T13:20:51.338112Z"
    }
   },
   "outputs": [
    {
     "data": {
      "text/plain": [
       "'6/9/2009'"
      ]
     },
     "execution_count": 54,
     "metadata": {},
     "output_type": "execute_result"
    }
   ],
   "source": [
    "df[fran_lakers]['date_game'].max()"
   ]
  },
  {
   "cell_type": "code",
   "execution_count": 55,
   "id": "12c2b330",
   "metadata": {
    "ExecuteTime": {
     "end_time": "2022-03-01T13:22:09.317014Z",
     "start_time": "2022-03-01T13:22:09.195922Z"
    }
   },
   "outputs": [
    {
     "data": {
      "text/plain": [
       "'4/9/1959'"
      ]
     },
     "execution_count": 55,
     "metadata": {},
     "output_type": "execute_result"
    }
   ],
   "source": [
    "mnl_team = df['team_id'] == 'MNL'\n",
    "df[mnl_team]['date_game'].min()\n",
    "df[mnl_team]['date_game'].max()"
   ]
  },
  {
   "cell_type": "code",
   "execution_count": 56,
   "id": "59526142",
   "metadata": {
    "ExecuteTime": {
     "end_time": "2022-03-01T13:23:12.552163Z",
     "start_time": "2022-03-01T13:23:12.506566Z"
    }
   },
   "outputs": [
    {
     "data": {
      "text/plain": [
       "min    1/1/1949\n",
       "max    4/9/1959\n",
       "Name: date_game, dtype: object"
      ]
     },
     "execution_count": 56,
     "metadata": {},
     "output_type": "execute_result"
    }
   ],
   "source": [
    "df[mnl_team]['date_game'].agg(['min', 'max'])"
   ]
  },
  {
   "cell_type": "code",
   "execution_count": 57,
   "id": "4ad12b56",
   "metadata": {
    "ExecuteTime": {
     "end_time": "2022-03-01T13:23:39.820560Z",
     "start_time": "2022-03-01T13:23:39.766348Z"
    }
   },
   "outputs": [
    {
     "data": {
      "text/plain": [
       "min     18\n",
       "max    139\n",
       "Name: pts, dtype: int64"
      ]
     },
     "execution_count": 57,
     "metadata": {},
     "output_type": "execute_result"
    }
   ],
   "source": [
    "df[mnl_team]['pts'].agg(['min', 'max'])"
   ]
  },
  {
   "cell_type": "code",
   "execution_count": 59,
   "id": "73622a96",
   "metadata": {
    "ExecuteTime": {
     "end_time": "2022-03-01T13:26:32.625914Z",
     "start_time": "2022-03-01T13:26:32.585381Z"
    }
   },
   "outputs": [
    {
     "data": {
      "text/plain": [
       "0    5555\n",
       "1    7000\n",
       "2    1980\n",
       "dtype: int64"
      ]
     },
     "execution_count": 59,
     "metadata": {},
     "output_type": "execute_result"
    }
   ],
   "source": [
    "# implisit index\n",
    "revenues = pd.Series([5555, 7000, 1980])\n",
    "revenues"
   ]
  },
  {
   "cell_type": "code",
   "execution_count": 60,
   "id": "ac6bc1fa",
   "metadata": {
    "ExecuteTime": {
     "end_time": "2022-03-01T13:27:29.573471Z",
     "start_time": "2022-03-01T13:27:29.561308Z"
    }
   },
   "outputs": [
    {
     "data": {
      "text/plain": [
       "array([5555, 7000, 1980], dtype=int64)"
      ]
     },
     "execution_count": 60,
     "metadata": {},
     "output_type": "execute_result"
    }
   ],
   "source": [
    "revenues.values"
   ]
  },
  {
   "cell_type": "code",
   "execution_count": 61,
   "id": "0746e8fd",
   "metadata": {
    "ExecuteTime": {
     "end_time": "2022-03-01T13:27:36.066703Z",
     "start_time": "2022-03-01T13:27:36.053524Z"
    }
   },
   "outputs": [
    {
     "data": {
      "text/plain": [
       "RangeIndex(start=0, stop=3, step=1)"
      ]
     },
     "execution_count": 61,
     "metadata": {},
     "output_type": "execute_result"
    }
   ],
   "source": [
    "revenues.index"
   ]
  },
  {
   "cell_type": "code",
   "execution_count": 63,
   "id": "ae078591",
   "metadata": {
    "ExecuteTime": {
     "end_time": "2022-03-01T13:29:23.972265Z",
     "start_time": "2022-03-01T13:29:23.951999Z"
    }
   },
   "outputs": [
    {
     "data": {
      "text/plain": [
       "Amsterdam    4200\n",
       "Toronto      8000\n",
       "Tokyo        6500\n",
       "dtype: int64"
      ]
     },
     "execution_count": 63,
     "metadata": {},
     "output_type": "execute_result"
    }
   ],
   "source": [
    "city_revenues = pd.Series(\n",
    "    [4200, 8000, 6500],\n",
    "    index=[\"Amsterdam\", \"Toronto\", \"Tokyo\"]\n",
    ")\n",
    "city_revenues"
   ]
  },
  {
   "cell_type": "code",
   "execution_count": 65,
   "id": "8f2588aa",
   "metadata": {
    "ExecuteTime": {
     "end_time": "2022-03-01T13:30:20.129602Z",
     "start_time": "2022-03-01T13:30:20.117442Z"
    }
   },
   "outputs": [
    {
     "data": {
      "text/plain": [
       "4200"
      ]
     },
     "execution_count": 65,
     "metadata": {},
     "output_type": "execute_result"
    }
   ],
   "source": [
    "# Positional index\n",
    "city_revenues[0]"
   ]
  },
  {
   "cell_type": "code",
   "execution_count": 66,
   "id": "fc0d908d",
   "metadata": {
    "ExecuteTime": {
     "end_time": "2022-03-01T13:30:36.812032Z",
     "start_time": "2022-03-01T13:30:36.800883Z"
    }
   },
   "outputs": [
    {
     "data": {
      "text/plain": [
       "4200"
      ]
     },
     "execution_count": 66,
     "metadata": {},
     "output_type": "execute_result"
    }
   ],
   "source": [
    "# Label index\n",
    "city_revenues['Amsterdam']"
   ]
  },
  {
   "cell_type": "code",
   "execution_count": 69,
   "id": "581529c8",
   "metadata": {
    "ExecuteTime": {
     "end_time": "2022-03-01T13:31:29.442313Z",
     "start_time": "2022-03-01T13:31:29.423061Z"
    }
   },
   "outputs": [
    {
     "data": {
      "text/plain": [
       "<bound method Series.keys of Amsterdam    4200\n",
       "Toronto      8000\n",
       "Tokyo        6500\n",
       "dtype: int64>"
      ]
     },
     "execution_count": 69,
     "metadata": {},
     "output_type": "execute_result"
    }
   ],
   "source": [
    "city_revenues.keys"
   ]
  },
  {
   "cell_type": "code",
   "execution_count": 70,
   "id": "af1bae40",
   "metadata": {
    "ExecuteTime": {
     "end_time": "2022-03-01T13:33:10.546944Z",
     "start_time": "2022-03-01T13:33:10.518572Z"
    }
   },
   "outputs": [
    {
     "data": {
      "text/plain": [
       "Amsterdam    5\n",
       "Tokyo        8\n",
       "dtype: int64"
      ]
     },
     "execution_count": 70,
     "metadata": {},
     "output_type": "execute_result"
    }
   ],
   "source": [
    "city_employee_count = pd.Series({\n",
    "    \"Amsterdam\": 5, \"Tokyo\" : 8\n",
    "})\n",
    "city_employee_count"
   ]
  },
  {
   "cell_type": "code",
   "execution_count": 71,
   "id": "a3813088",
   "metadata": {
    "ExecuteTime": {
     "end_time": "2022-03-01T13:33:41.147763Z",
     "start_time": "2022-03-01T13:33:41.136111Z"
    }
   },
   "outputs": [
    {
     "data": {
      "text/plain": [
       "True"
      ]
     },
     "execution_count": 71,
     "metadata": {},
     "output_type": "execute_result"
    }
   ],
   "source": [
    "\"Tokyo\" in city_employee_count"
   ]
  },
  {
   "cell_type": "code",
   "execution_count": 72,
   "id": "c785f820",
   "metadata": {
    "ExecuteTime": {
     "end_time": "2022-03-01T13:34:02.644902Z",
     "start_time": "2022-03-01T13:34:02.629194Z"
    }
   },
   "outputs": [
    {
     "data": {
      "text/plain": [
       "False"
      ]
     },
     "execution_count": 72,
     "metadata": {},
     "output_type": "execute_result"
    }
   ],
   "source": [
    "\"New York\" in city_employee_count"
   ]
  },
  {
   "cell_type": "code",
   "execution_count": 73,
   "id": "d53fbfb3",
   "metadata": {
    "ExecuteTime": {
     "end_time": "2022-03-01T13:36:22.343948Z",
     "start_time": "2022-03-01T13:36:22.240591Z"
    }
   },
   "outputs": [
    {
     "data": {
      "text/html": [
       "<div>\n",
       "<style scoped>\n",
       "    .dataframe tbody tr th:only-of-type {\n",
       "        vertical-align: middle;\n",
       "    }\n",
       "\n",
       "    .dataframe tbody tr th {\n",
       "        vertical-align: top;\n",
       "    }\n",
       "\n",
       "    .dataframe thead th {\n",
       "        text-align: right;\n",
       "    }\n",
       "</style>\n",
       "<table border=\"1\" class=\"dataframe\">\n",
       "  <thead>\n",
       "    <tr style=\"text-align: right;\">\n",
       "      <th></th>\n",
       "      <th>revenue</th>\n",
       "      <th>employee_count</th>\n",
       "    </tr>\n",
       "  </thead>\n",
       "  <tbody>\n",
       "    <tr>\n",
       "      <th>Amsterdam</th>\n",
       "      <td>4200</td>\n",
       "      <td>5.0</td>\n",
       "    </tr>\n",
       "    <tr>\n",
       "      <th>Tokyo</th>\n",
       "      <td>6500</td>\n",
       "      <td>8.0</td>\n",
       "    </tr>\n",
       "    <tr>\n",
       "      <th>Toronto</th>\n",
       "      <td>8000</td>\n",
       "      <td>NaN</td>\n",
       "    </tr>\n",
       "  </tbody>\n",
       "</table>\n",
       "</div>"
      ],
      "text/plain": [
       "           revenue  employee_count\n",
       "Amsterdam     4200             5.0\n",
       "Tokyo         6500             8.0\n",
       "Toronto       8000             NaN"
      ]
     },
     "execution_count": 73,
     "metadata": {},
     "output_type": "execute_result"
    }
   ],
   "source": [
    "city_data = pd.DataFrame({\n",
    "    \"revenue\" : city_revenues,\n",
    "    'employee_count' : city_employee_count\n",
    "})\n",
    "city_data"
   ]
  },
  {
   "cell_type": "code",
   "execution_count": 74,
   "id": "234e2cde",
   "metadata": {
    "ExecuteTime": {
     "end_time": "2022-03-01T13:37:21.001481Z",
     "start_time": "2022-03-01T13:37:20.986788Z"
    }
   },
   "outputs": [
    {
     "data": {
      "text/plain": [
       "Index(['Amsterdam', 'Tokyo', 'Toronto'], dtype='object')"
      ]
     },
     "execution_count": 74,
     "metadata": {},
     "output_type": "execute_result"
    }
   ],
   "source": [
    "city_data.index"
   ]
  },
  {
   "cell_type": "code",
   "execution_count": 75,
   "id": "bd4248ba",
   "metadata": {
    "ExecuteTime": {
     "end_time": "2022-03-01T13:38:03.227509Z",
     "start_time": "2022-03-01T13:38:03.214339Z"
    }
   },
   "outputs": [
    {
     "data": {
      "text/plain": [
       "array([[4.2e+03, 5.0e+00],\n",
       "       [6.5e+03, 8.0e+00],\n",
       "       [8.0e+03,     nan]])"
      ]
     },
     "execution_count": 75,
     "metadata": {},
     "output_type": "execute_result"
    }
   ],
   "source": [
    "city_data.values"
   ]
  },
  {
   "cell_type": "code",
   "execution_count": 76,
   "id": "c3b18a62",
   "metadata": {
    "ExecuteTime": {
     "end_time": "2022-03-01T13:39:30.695561Z",
     "start_time": "2022-03-01T13:39:30.682390Z"
    }
   },
   "outputs": [
    {
     "data": {
      "text/plain": [
       "Index(['Amsterdam', 'Tokyo', 'Toronto'], dtype='object')"
      ]
     },
     "execution_count": 76,
     "metadata": {},
     "output_type": "execute_result"
    }
   ],
   "source": [
    "city_data.axes[0] # rows"
   ]
  },
  {
   "cell_type": "code",
   "execution_count": 78,
   "id": "bcda8e22",
   "metadata": {
    "ExecuteTime": {
     "end_time": "2022-03-01T13:39:54.621396Z",
     "start_time": "2022-03-01T13:39:54.609744Z"
    }
   },
   "outputs": [
    {
     "data": {
      "text/plain": [
       "Index(['revenue', 'employee_count'], dtype='object')"
      ]
     },
     "execution_count": 78,
     "metadata": {},
     "output_type": "execute_result"
    }
   ],
   "source": [
    "city_data.axes[1] # columns"
   ]
  },
  {
   "cell_type": "code",
   "execution_count": 82,
   "id": "d1d61a3e",
   "metadata": {
    "ExecuteTime": {
     "end_time": "2022-03-01T13:47:50.819743Z",
     "start_time": "2022-03-01T13:47:50.794410Z"
    }
   },
   "outputs": [
    {
     "data": {
      "text/plain": [
       "Index(['revenue', 'employee_count'], dtype='object')"
      ]
     },
     "execution_count": 82,
     "metadata": {},
     "output_type": "execute_result"
    }
   ],
   "source": [
    "city_data.keys()\n",
    "\n"
   ]
  },
  {
   "cell_type": "code",
   "execution_count": 83,
   "id": "01ef21a4",
   "metadata": {
    "ExecuteTime": {
     "end_time": "2022-03-01T13:47:59.002165Z",
     "start_time": "2022-03-01T13:47:58.972274Z"
    }
   },
   "outputs": [
    {
     "data": {
      "text/plain": [
       "Amsterdam    5\n",
       "Tokyo        8\n",
       "dtype: int64"
      ]
     },
     "execution_count": 83,
     "metadata": {},
     "output_type": "execute_result"
    }
   ],
   "source": [
    "city_employee_count"
   ]
  },
  {
   "cell_type": "code",
   "execution_count": 84,
   "id": "3af2ac94",
   "metadata": {
    "ExecuteTime": {
     "end_time": "2022-03-01T13:48:14.221924Z",
     "start_time": "2022-03-01T13:48:14.209764Z"
    }
   },
   "outputs": [
    {
     "data": {
      "text/plain": [
       "Index(['Amsterdam', 'Tokyo'], dtype='object')"
      ]
     },
     "execution_count": 84,
     "metadata": {},
     "output_type": "execute_result"
    }
   ],
   "source": [
    "city_employee_count.keys()"
   ]
  },
  {
   "cell_type": "code",
   "execution_count": 85,
   "id": "429c2bd5",
   "metadata": {
    "ExecuteTime": {
     "end_time": "2022-03-01T13:49:23.852898Z",
     "start_time": "2022-03-01T13:49:23.838203Z"
    }
   },
   "outputs": [
    {
     "data": {
      "text/plain": [
       "RangeIndex(start=0, stop=126314, step=1)"
      ]
     },
     "execution_count": 85,
     "metadata": {},
     "output_type": "execute_result"
    }
   ],
   "source": [
    "df.index"
   ]
  },
  {
   "cell_type": "code",
   "execution_count": 86,
   "id": "a0d04cc0",
   "metadata": {
    "ExecuteTime": {
     "end_time": "2022-03-01T13:49:42.289798Z",
     "start_time": "2022-03-01T13:49:42.262436Z"
    }
   },
   "outputs": [
    {
     "data": {
      "text/plain": [
       "[RangeIndex(start=0, stop=126314, step=1),\n",
       " Index(['gameorder', 'game_id', 'lg_id', '_iscopy', 'year_id', 'date_game',\n",
       "        'seasongame', 'is_playoffs', 'team_id', 'fran_id', 'pts', 'elo_i',\n",
       "        'elo_n', 'win_equiv', 'opp_id', 'opp_fran', 'opp_pts', 'opp_elo_i',\n",
       "        'opp_elo_n', 'game_location', 'game_result', 'forecast', 'notes'],\n",
       "       dtype='object')]"
      ]
     },
     "execution_count": 86,
     "metadata": {},
     "output_type": "execute_result"
    }
   ],
   "source": [
    "df.axes"
   ]
  },
  {
   "cell_type": "code",
   "execution_count": 87,
   "id": "fda701c3",
   "metadata": {
    "ExecuteTime": {
     "end_time": "2022-03-01T13:52:15.097200Z",
     "start_time": "2022-03-01T13:52:15.065280Z"
    }
   },
   "outputs": [
    {
     "data": {
      "text/plain": [
       "Amsterdam    4200\n",
       "Toronto      8000\n",
       "Tokyo        6500\n",
       "dtype: int64"
      ]
     },
     "execution_count": 87,
     "metadata": {},
     "output_type": "execute_result"
    }
   ],
   "source": [
    "city_revenues"
   ]
  },
  {
   "cell_type": "code",
   "execution_count": 88,
   "id": "0481bea1",
   "metadata": {
    "ExecuteTime": {
     "end_time": "2022-03-01T13:53:18.915431Z",
     "start_time": "2022-03-01T13:53:18.903777Z"
    }
   },
   "outputs": [
    {
     "data": {
      "text/plain": [
       "8000"
      ]
     },
     "execution_count": 88,
     "metadata": {},
     "output_type": "execute_result"
    }
   ],
   "source": [
    "city_revenues['Toronto']"
   ]
  },
  {
   "cell_type": "code",
   "execution_count": 89,
   "id": "1acbd9fc",
   "metadata": {
    "ExecuteTime": {
     "end_time": "2022-03-01T13:53:28.304218Z",
     "start_time": "2022-03-01T13:53:28.291046Z"
    }
   },
   "outputs": [
    {
     "data": {
      "text/plain": [
       "8000"
      ]
     },
     "execution_count": 89,
     "metadata": {},
     "output_type": "execute_result"
    }
   ],
   "source": [
    "city_revenues[1]"
   ]
  },
  {
   "cell_type": "code",
   "execution_count": 91,
   "id": "225d556b",
   "metadata": {
    "ExecuteTime": {
     "end_time": "2022-03-01T13:57:31.218115Z",
     "start_time": "2022-03-01T13:57:31.196327Z"
    }
   },
   "outputs": [
    {
     "data": {
      "text/plain": [
       "1       red\n",
       "2    purple\n",
       "3      blue\n",
       "5     green\n",
       "8    yellow\n",
       "dtype: object"
      ]
     },
     "execution_count": 91,
     "metadata": {},
     "output_type": "execute_result"
    }
   ],
   "source": [
    "colors = pd.Series([\n",
    "    \"red\", \"purple\", 'blue', 'green', 'yellow'\n",
    "], index=[1,2,3,5,8])\n",
    "colors"
   ]
  },
  {
   "cell_type": "code",
   "execution_count": 92,
   "id": "683e25f6",
   "metadata": {
    "ExecuteTime": {
     "end_time": "2022-03-01T13:57:43.469756Z",
     "start_time": "2022-03-01T13:57:43.364876Z"
    }
   },
   "outputs": [
    {
     "data": {
      "text/plain": [
       "'red'"
      ]
     },
     "execution_count": 92,
     "metadata": {},
     "output_type": "execute_result"
    }
   ],
   "source": [
    "colors.loc[1] # Lokasi berdasarkan label"
   ]
  },
  {
   "cell_type": "code",
   "execution_count": 93,
   "id": "880d0ad7",
   "metadata": {
    "ExecuteTime": {
     "end_time": "2022-03-01T13:57:53.900326Z",
     "start_time": "2022-03-01T13:57:53.889173Z"
    }
   },
   "outputs": [
    {
     "data": {
      "text/plain": [
       "'red'"
      ]
     },
     "execution_count": 93,
     "metadata": {},
     "output_type": "execute_result"
    }
   ],
   "source": [
    "colors.iloc[0] # Lokasi berdasarkan index"
   ]
  },
  {
   "cell_type": "code",
   "execution_count": 94,
   "id": "8ec04f99",
   "metadata": {
    "ExecuteTime": {
     "end_time": "2022-03-01T14:01:40.567743Z",
     "start_time": "2022-03-01T14:01:40.520625Z"
    }
   },
   "outputs": [
    {
     "data": {
      "text/plain": [
       "2    purple\n",
       "3      blue\n",
       "dtype: object"
      ]
     },
     "execution_count": 94,
     "metadata": {},
     "output_type": "execute_result"
    }
   ],
   "source": [
    "colors.iloc[1:3]"
   ]
  },
  {
   "cell_type": "code",
   "execution_count": 95,
   "id": "afb4c510",
   "metadata": {
    "ExecuteTime": {
     "end_time": "2022-03-01T14:03:45.279042Z",
     "start_time": "2022-03-01T14:03:45.267891Z"
    }
   },
   "outputs": [
    {
     "data": {
      "text/plain": [
       "'\\nSlicin list python : start inclusive, stopnya exclusive\\nslicing loc : start inclusive, stopnya inclusive\\nslcing iloc : start inclusive, stopnya inclusive\\n'"
      ]
     },
     "execution_count": 95,
     "metadata": {},
     "output_type": "execute_result"
    }
   ],
   "source": [
    "\"\"\"\n",
    "Slicin list python : start inclusive, stopnya exclusive\n",
    "slicing loc : start inclusive, stopnya inclusive\n",
    "slcing iloc : start inclusive, stopnya inclusive\n",
    "\"\"\""
   ]
  },
  {
   "cell_type": "code",
   "execution_count": 96,
   "id": "a4fe3119",
   "metadata": {
    "ExecuteTime": {
     "end_time": "2022-03-01T14:09:17.051017Z",
     "start_time": "2022-03-01T14:09:17.022137Z"
    }
   },
   "outputs": [
    {
     "data": {
      "text/plain": [
       "revenue           4200.0\n",
       "employee_count       5.0\n",
       "Name: Amsterdam, dtype: float64"
      ]
     },
     "execution_count": 96,
     "metadata": {},
     "output_type": "execute_result"
    }
   ],
   "source": [
    "city_data.loc[\"Amsterdam\"]"
   ]
  },
  {
   "cell_type": "code",
   "execution_count": 97,
   "id": "d852f179",
   "metadata": {
    "ExecuteTime": {
     "end_time": "2022-03-01T14:09:37.505884Z",
     "start_time": "2022-03-01T14:09:37.440525Z"
    }
   },
   "outputs": [
    {
     "data": {
      "text/html": [
       "<div>\n",
       "<style scoped>\n",
       "    .dataframe tbody tr th:only-of-type {\n",
       "        vertical-align: middle;\n",
       "    }\n",
       "\n",
       "    .dataframe tbody tr th {\n",
       "        vertical-align: top;\n",
       "    }\n",
       "\n",
       "    .dataframe thead th {\n",
       "        text-align: right;\n",
       "    }\n",
       "</style>\n",
       "<table border=\"1\" class=\"dataframe\">\n",
       "  <thead>\n",
       "    <tr style=\"text-align: right;\">\n",
       "      <th></th>\n",
       "      <th>revenue</th>\n",
       "      <th>employee_count</th>\n",
       "    </tr>\n",
       "  </thead>\n",
       "  <tbody>\n",
       "    <tr>\n",
       "      <th>Amsterdam</th>\n",
       "      <td>4200</td>\n",
       "      <td>5.0</td>\n",
       "    </tr>\n",
       "    <tr>\n",
       "      <th>Tokyo</th>\n",
       "      <td>6500</td>\n",
       "      <td>8.0</td>\n",
       "    </tr>\n",
       "  </tbody>\n",
       "</table>\n",
       "</div>"
      ],
      "text/plain": [
       "           revenue  employee_count\n",
       "Amsterdam     4200             5.0\n",
       "Tokyo         6500             8.0"
      ]
     },
     "execution_count": 97,
     "metadata": {},
     "output_type": "execute_result"
    }
   ],
   "source": [
    "city_data.loc[\"Amsterdam\" : \"Tokyo\"]"
   ]
  },
  {
   "cell_type": "code",
   "execution_count": 98,
   "id": "92eb26fe",
   "metadata": {
    "ExecuteTime": {
     "end_time": "2022-03-01T14:09:44.699025Z",
     "start_time": "2022-03-01T14:09:44.651906Z"
    }
   },
   "outputs": [
    {
     "data": {
      "text/plain": [
       "revenue           6500.0\n",
       "employee_count       8.0\n",
       "Name: Tokyo, dtype: float64"
      ]
     },
     "execution_count": 98,
     "metadata": {},
     "output_type": "execute_result"
    }
   ],
   "source": [
    "city_data.iloc[1]"
   ]
  },
  {
   "cell_type": "code",
   "execution_count": 99,
   "id": "607dd6fc",
   "metadata": {
    "ExecuteTime": {
     "end_time": "2022-03-01T14:10:34.235115Z",
     "start_time": "2022-03-01T14:10:34.209274Z"
    }
   },
   "outputs": [
    {
     "data": {
      "text/plain": [
       "gameorder               62153\n",
       "game_id          201412080WAS\n",
       "lg_id                     NBA\n",
       "_iscopy                     0\n",
       "year_id                  2015\n",
       "date_game           12/8/2014\n",
       "seasongame                 20\n",
       "is_playoffs                 0\n",
       "team_id                   WAS\n",
       "fran_id               Wizards\n",
       "pts                       133\n",
       "elo_i               1560.8662\n",
       "elo_n               1562.0968\n",
       "win_equiv           46.994286\n",
       "opp_id                    BOS\n",
       "opp_fran              Celtics\n",
       "opp_pts                   132\n",
       "opp_elo_i           1401.8522\n",
       "opp_elo_n           1400.6216\n",
       "game_location               H\n",
       "game_result                 W\n",
       "forecast             0.816229\n",
       "notes                     NaN\n",
       "Name: 124304, dtype: object"
      ]
     },
     "execution_count": 99,
     "metadata": {},
     "output_type": "execute_result"
    }
   ],
   "source": [
    "df.iloc[-2010]"
   ]
  },
  {
   "cell_type": "code",
   "execution_count": 101,
   "id": "016e397c",
   "metadata": {
    "ExecuteTime": {
     "end_time": "2022-03-01T14:11:17.963730Z",
     "start_time": "2022-03-01T14:11:17.945999Z"
    }
   },
   "outputs": [
    {
     "data": {
      "text/plain": [
       "gameorder               62153\n",
       "game_id          201412080WAS\n",
       "lg_id                     NBA\n",
       "_iscopy                     0\n",
       "year_id                  2015\n",
       "date_game           12/8/2014\n",
       "seasongame                 20\n",
       "is_playoffs                 0\n",
       "team_id                   WAS\n",
       "fran_id               Wizards\n",
       "pts                       133\n",
       "elo_i               1560.8662\n",
       "elo_n               1562.0968\n",
       "win_equiv           46.994286\n",
       "opp_id                    BOS\n",
       "opp_fran              Celtics\n",
       "opp_pts                   132\n",
       "opp_elo_i           1401.8522\n",
       "opp_elo_n           1400.6216\n",
       "game_location               H\n",
       "game_result                 W\n",
       "forecast             0.816229\n",
       "notes                     NaN\n",
       "Name: 124304, dtype: object"
      ]
     },
     "execution_count": 101,
     "metadata": {},
     "output_type": "execute_result"
    }
   ],
   "source": [
    "df.loc[124304]"
   ]
  },
  {
   "cell_type": "code",
   "execution_count": 104,
   "id": "faee0e2e",
   "metadata": {
    "ExecuteTime": {
     "end_time": "2022-03-01T14:14:39.197496Z",
     "start_time": "2022-03-01T14:14:38.426351Z"
    }
   },
   "outputs": [
    {
     "ename": "KeyError",
     "evalue": "\"None of [Index(['team_id'], dtype='object')] are in the [index]\"",
     "output_type": "error",
     "traceback": [
      "\u001b[1;31m---------------------------------------------------------------------------\u001b[0m",
      "\u001b[1;31mKeyError\u001b[0m                                  Traceback (most recent call last)",
      "Input \u001b[1;32mIn [104]\u001b[0m, in \u001b[0;36m<module>\u001b[1;34m\u001b[0m\n\u001b[0;32m      1\u001b[0m fran_nuggetsa \u001b[38;5;241m=\u001b[39m df[\u001b[38;5;124m'\u001b[39m\u001b[38;5;124mfran_id\u001b[39m\u001b[38;5;124m'\u001b[39m] \u001b[38;5;241m==\u001b[39m \u001b[38;5;124m'\u001b[39m\u001b[38;5;124mNuggets\u001b[39m\u001b[38;5;124m'\u001b[39m\n\u001b[1;32m----> 2\u001b[0m \u001b[43mdf\u001b[49m\u001b[43m[\u001b[49m\u001b[43mfran_nuggets\u001b[49m\u001b[43m]\u001b[49m\u001b[38;5;241;43m.\u001b[39;49m\u001b[43mloc\u001b[49m\u001b[43m[\u001b[49m\u001b[43m[\u001b[49m\u001b[38;5;124;43m'\u001b[39;49m\u001b[38;5;124;43mteam_id\u001b[39;49m\u001b[38;5;124;43m'\u001b[39;49m\u001b[43m]\u001b[49m\u001b[43m]\u001b[49m\n",
      "File \u001b[1;32mC:\\users\\zhafran\\appdata\\local\\programs\\python\\python39\\lib\\site-packages\\pandas\\core\\indexing.py:931\u001b[0m, in \u001b[0;36m_LocationIndexer.__getitem__\u001b[1;34m(self, key)\u001b[0m\n\u001b[0;32m    928\u001b[0m axis \u001b[38;5;241m=\u001b[39m \u001b[38;5;28mself\u001b[39m\u001b[38;5;241m.\u001b[39maxis \u001b[38;5;129;01mor\u001b[39;00m \u001b[38;5;241m0\u001b[39m\n\u001b[0;32m    930\u001b[0m maybe_callable \u001b[38;5;241m=\u001b[39m com\u001b[38;5;241m.\u001b[39mapply_if_callable(key, \u001b[38;5;28mself\u001b[39m\u001b[38;5;241m.\u001b[39mobj)\n\u001b[1;32m--> 931\u001b[0m \u001b[38;5;28;01mreturn\u001b[39;00m \u001b[38;5;28;43mself\u001b[39;49m\u001b[38;5;241;43m.\u001b[39;49m\u001b[43m_getitem_axis\u001b[49m\u001b[43m(\u001b[49m\u001b[43mmaybe_callable\u001b[49m\u001b[43m,\u001b[49m\u001b[43m \u001b[49m\u001b[43maxis\u001b[49m\u001b[38;5;241;43m=\u001b[39;49m\u001b[43maxis\u001b[49m\u001b[43m)\u001b[49m\n",
      "File \u001b[1;32mC:\\users\\zhafran\\appdata\\local\\programs\\python\\python39\\lib\\site-packages\\pandas\\core\\indexing.py:1153\u001b[0m, in \u001b[0;36m_LocIndexer._getitem_axis\u001b[1;34m(self, key, axis)\u001b[0m\n\u001b[0;32m   1150\u001b[0m     \u001b[38;5;28;01mif\u001b[39;00m \u001b[38;5;28mhasattr\u001b[39m(key, \u001b[38;5;124m\"\u001b[39m\u001b[38;5;124mndim\u001b[39m\u001b[38;5;124m\"\u001b[39m) \u001b[38;5;129;01mand\u001b[39;00m key\u001b[38;5;241m.\u001b[39mndim \u001b[38;5;241m>\u001b[39m \u001b[38;5;241m1\u001b[39m:\n\u001b[0;32m   1151\u001b[0m         \u001b[38;5;28;01mraise\u001b[39;00m \u001b[38;5;167;01mValueError\u001b[39;00m(\u001b[38;5;124m\"\u001b[39m\u001b[38;5;124mCannot index with multidimensional key\u001b[39m\u001b[38;5;124m\"\u001b[39m)\n\u001b[1;32m-> 1153\u001b[0m     \u001b[38;5;28;01mreturn\u001b[39;00m \u001b[38;5;28;43mself\u001b[39;49m\u001b[38;5;241;43m.\u001b[39;49m\u001b[43m_getitem_iterable\u001b[49m\u001b[43m(\u001b[49m\u001b[43mkey\u001b[49m\u001b[43m,\u001b[49m\u001b[43m \u001b[49m\u001b[43maxis\u001b[49m\u001b[38;5;241;43m=\u001b[39;49m\u001b[43maxis\u001b[49m\u001b[43m)\u001b[49m\n\u001b[0;32m   1155\u001b[0m \u001b[38;5;66;03m# nested tuple slicing\u001b[39;00m\n\u001b[0;32m   1156\u001b[0m \u001b[38;5;28;01mif\u001b[39;00m is_nested_tuple(key, labels):\n",
      "File \u001b[1;32mC:\\users\\zhafran\\appdata\\local\\programs\\python\\python39\\lib\\site-packages\\pandas\\core\\indexing.py:1093\u001b[0m, in \u001b[0;36m_LocIndexer._getitem_iterable\u001b[1;34m(self, key, axis)\u001b[0m\n\u001b[0;32m   1090\u001b[0m \u001b[38;5;28mself\u001b[39m\u001b[38;5;241m.\u001b[39m_validate_key(key, axis)\n\u001b[0;32m   1092\u001b[0m \u001b[38;5;66;03m# A collection of keys\u001b[39;00m\n\u001b[1;32m-> 1093\u001b[0m keyarr, indexer \u001b[38;5;241m=\u001b[39m \u001b[38;5;28;43mself\u001b[39;49m\u001b[38;5;241;43m.\u001b[39;49m\u001b[43m_get_listlike_indexer\u001b[49m\u001b[43m(\u001b[49m\u001b[43mkey\u001b[49m\u001b[43m,\u001b[49m\u001b[43m \u001b[49m\u001b[43maxis\u001b[49m\u001b[43m)\u001b[49m\n\u001b[0;32m   1094\u001b[0m \u001b[38;5;28;01mreturn\u001b[39;00m \u001b[38;5;28mself\u001b[39m\u001b[38;5;241m.\u001b[39mobj\u001b[38;5;241m.\u001b[39m_reindex_with_indexers(\n\u001b[0;32m   1095\u001b[0m     {axis: [keyarr, indexer]}, copy\u001b[38;5;241m=\u001b[39m\u001b[38;5;28;01mTrue\u001b[39;00m, allow_dups\u001b[38;5;241m=\u001b[39m\u001b[38;5;28;01mTrue\u001b[39;00m\n\u001b[0;32m   1096\u001b[0m )\n",
      "File \u001b[1;32mC:\\users\\zhafran\\appdata\\local\\programs\\python\\python39\\lib\\site-packages\\pandas\\core\\indexing.py:1314\u001b[0m, in \u001b[0;36m_LocIndexer._get_listlike_indexer\u001b[1;34m(self, key, axis)\u001b[0m\n\u001b[0;32m   1311\u001b[0m \u001b[38;5;28;01melse\u001b[39;00m:\n\u001b[0;32m   1312\u001b[0m     keyarr, indexer, new_indexer \u001b[38;5;241m=\u001b[39m ax\u001b[38;5;241m.\u001b[39m_reindex_non_unique(keyarr)\n\u001b[1;32m-> 1314\u001b[0m \u001b[38;5;28;43mself\u001b[39;49m\u001b[38;5;241;43m.\u001b[39;49m\u001b[43m_validate_read_indexer\u001b[49m\u001b[43m(\u001b[49m\u001b[43mkeyarr\u001b[49m\u001b[43m,\u001b[49m\u001b[43m \u001b[49m\u001b[43mindexer\u001b[49m\u001b[43m,\u001b[49m\u001b[43m \u001b[49m\u001b[43maxis\u001b[49m\u001b[43m)\u001b[49m\n\u001b[0;32m   1316\u001b[0m \u001b[38;5;28;01mif\u001b[39;00m needs_i8_conversion(ax\u001b[38;5;241m.\u001b[39mdtype) \u001b[38;5;129;01mor\u001b[39;00m \u001b[38;5;28misinstance\u001b[39m(\n\u001b[0;32m   1317\u001b[0m     ax, (IntervalIndex, CategoricalIndex)\n\u001b[0;32m   1318\u001b[0m ):\n\u001b[0;32m   1319\u001b[0m     \u001b[38;5;66;03m# For CategoricalIndex take instead of reindex to preserve dtype.\u001b[39;00m\n\u001b[0;32m   1320\u001b[0m     \u001b[38;5;66;03m#  For IntervalIndex this is to map integers to the Intervals they match to.\u001b[39;00m\n\u001b[0;32m   1321\u001b[0m     keyarr \u001b[38;5;241m=\u001b[39m ax\u001b[38;5;241m.\u001b[39mtake(indexer)\n",
      "File \u001b[1;32mC:\\users\\zhafran\\appdata\\local\\programs\\python\\python39\\lib\\site-packages\\pandas\\core\\indexing.py:1374\u001b[0m, in \u001b[0;36m_LocIndexer._validate_read_indexer\u001b[1;34m(self, key, indexer, axis)\u001b[0m\n\u001b[0;32m   1372\u001b[0m     \u001b[38;5;28;01mif\u001b[39;00m use_interval_msg:\n\u001b[0;32m   1373\u001b[0m         key \u001b[38;5;241m=\u001b[39m \u001b[38;5;28mlist\u001b[39m(key)\n\u001b[1;32m-> 1374\u001b[0m     \u001b[38;5;28;01mraise\u001b[39;00m \u001b[38;5;167;01mKeyError\u001b[39;00m(\u001b[38;5;124mf\u001b[39m\u001b[38;5;124m\"\u001b[39m\u001b[38;5;124mNone of [\u001b[39m\u001b[38;5;132;01m{\u001b[39;00mkey\u001b[38;5;132;01m}\u001b[39;00m\u001b[38;5;124m] are in the [\u001b[39m\u001b[38;5;132;01m{\u001b[39;00maxis_name\u001b[38;5;132;01m}\u001b[39;00m\u001b[38;5;124m]\u001b[39m\u001b[38;5;124m\"\u001b[39m)\n\u001b[0;32m   1376\u001b[0m not_found \u001b[38;5;241m=\u001b[39m \u001b[38;5;28mlist\u001b[39m(ensure_index(key)[missing_mask\u001b[38;5;241m.\u001b[39mnonzero()[\u001b[38;5;241m0\u001b[39m]]\u001b[38;5;241m.\u001b[39munique())\n\u001b[0;32m   1377\u001b[0m \u001b[38;5;28;01mraise\u001b[39;00m \u001b[38;5;167;01mKeyError\u001b[39;00m(\u001b[38;5;124mf\u001b[39m\u001b[38;5;124m\"\u001b[39m\u001b[38;5;132;01m{\u001b[39;00mnot_found\u001b[38;5;132;01m}\u001b[39;00m\u001b[38;5;124m not in index\u001b[39m\u001b[38;5;124m\"\u001b[39m)\n",
      "\u001b[1;31mKeyError\u001b[0m: \"None of [Index(['team_id'], dtype='object')] are in the [index]\""
     ]
    }
   ],
   "source": [
    "fran_nuggetsa = df['fran_id'] == 'Nuggets'\n",
    "df[fran_nuggets].loc[['team_id']]"
   ]
  },
  {
   "cell_type": "code",
   "execution_count": 105,
   "id": "abca88b4",
   "metadata": {
    "ExecuteTime": {
     "end_time": "2022-03-01T14:15:14.701620Z",
     "start_time": "2022-03-01T14:15:14.676790Z"
    }
   },
   "outputs": [
    {
     "data": {
      "text/plain": [
       "Amsterdam    4200\n",
       "Tokyo        6500\n",
       "Name: revenue, dtype: int64"
      ]
     },
     "execution_count": 105,
     "metadata": {},
     "output_type": "execute_result"
    }
   ],
   "source": [
    "city_data.loc[\"Amsterdam\":\"Tokyo\", 'revenue']"
   ]
  },
  {
   "cell_type": "code",
   "execution_count": 106,
   "id": "fd369750",
   "metadata": {
    "ExecuteTime": {
     "end_time": "2022-03-01T14:15:40.425125Z",
     "start_time": "2022-03-01T14:15:40.402830Z"
    }
   },
   "outputs": [
    {
     "data": {
      "text/html": [
       "<div>\n",
       "<style scoped>\n",
       "    .dataframe tbody tr th:only-of-type {\n",
       "        vertical-align: middle;\n",
       "    }\n",
       "\n",
       "    .dataframe tbody tr th {\n",
       "        vertical-align: top;\n",
       "    }\n",
       "\n",
       "    .dataframe thead th {\n",
       "        text-align: right;\n",
       "    }\n",
       "</style>\n",
       "<table border=\"1\" class=\"dataframe\">\n",
       "  <thead>\n",
       "    <tr style=\"text-align: right;\">\n",
       "      <th></th>\n",
       "      <th>revenue</th>\n",
       "      <th>employee_count</th>\n",
       "    </tr>\n",
       "  </thead>\n",
       "  <tbody>\n",
       "    <tr>\n",
       "      <th>Amsterdam</th>\n",
       "      <td>4200</td>\n",
       "      <td>5.0</td>\n",
       "    </tr>\n",
       "    <tr>\n",
       "      <th>Tokyo</th>\n",
       "      <td>6500</td>\n",
       "      <td>8.0</td>\n",
       "    </tr>\n",
       "  </tbody>\n",
       "</table>\n",
       "</div>"
      ],
      "text/plain": [
       "           revenue  employee_count\n",
       "Amsterdam     4200             5.0\n",
       "Tokyo         6500             8.0"
      ]
     },
     "execution_count": 106,
     "metadata": {},
     "output_type": "execute_result"
    }
   ],
   "source": [
    "city_data.loc[\"Amsterdam\":\"Tokyo\",[ 'revenue', 'employee_count']]"
   ]
  },
  {
   "cell_type": "code",
   "execution_count": 109,
   "id": "1ed35f5b",
   "metadata": {
    "ExecuteTime": {
     "end_time": "2022-03-01T14:19:01.903992Z",
     "start_time": "2022-03-01T14:19:01.775807Z"
    }
   },
   "outputs": [
    {
     "data": {
      "text/html": [
       "<div>\n",
       "<style scoped>\n",
       "    .dataframe tbody tr th:only-of-type {\n",
       "        vertical-align: middle;\n",
       "    }\n",
       "\n",
       "    .dataframe tbody tr th {\n",
       "        vertical-align: top;\n",
       "    }\n",
       "\n",
       "    .dataframe thead th {\n",
       "        text-align: right;\n",
       "    }\n",
       "</style>\n",
       "<table border=\"1\" class=\"dataframe\">\n",
       "  <thead>\n",
       "    <tr style=\"text-align: right;\">\n",
       "      <th></th>\n",
       "      <th>gameorder</th>\n",
       "      <th>game_id</th>\n",
       "      <th>lg_id</th>\n",
       "      <th>_iscopy</th>\n",
       "      <th>year_id</th>\n",
       "      <th>date_game</th>\n",
       "      <th>seasongame</th>\n",
       "      <th>is_playoffs</th>\n",
       "      <th>team_id</th>\n",
       "      <th>fran_id</th>\n",
       "      <th>pts</th>\n",
       "      <th>elo_i</th>\n",
       "      <th>elo_n</th>\n",
       "      <th>win_equiv</th>\n",
       "      <th>opp_id</th>\n",
       "      <th>opp_fran</th>\n",
       "      <th>opp_pts</th>\n",
       "      <th>opp_elo_i</th>\n",
       "      <th>opp_elo_n</th>\n",
       "      <th>game_location</th>\n",
       "      <th>game_result</th>\n",
       "      <th>forecast</th>\n",
       "      <th>notes</th>\n",
       "    </tr>\n",
       "  </thead>\n",
       "  <tbody>\n",
       "    <tr>\n",
       "      <th>113656</th>\n",
       "      <td>56829</td>\n",
       "      <td>201010260BOS</td>\n",
       "      <td>NBA</td>\n",
       "      <td>1</td>\n",
       "      <td>2011</td>\n",
       "      <td>10/26/2010</td>\n",
       "      <td>1</td>\n",
       "      <td>0</td>\n",
       "      <td>MIA</td>\n",
       "      <td>Heat</td>\n",
       "      <td>80</td>\n",
       "      <td>1547.3638</td>\n",
       "      <td>1543.1600</td>\n",
       "      <td>45.141479</td>\n",
       "      <td>BOS</td>\n",
       "      <td>Celtics</td>\n",
       "      <td>88</td>\n",
       "      <td>1625.0994</td>\n",
       "      <td>1629.3031</td>\n",
       "      <td>A</td>\n",
       "      <td>L</td>\n",
       "      <td>0.264418</td>\n",
       "      <td>NaN</td>\n",
       "    </tr>\n",
       "    <tr>\n",
       "      <th>113657</th>\n",
       "      <td>56829</td>\n",
       "      <td>201010260BOS</td>\n",
       "      <td>NBA</td>\n",
       "      <td>0</td>\n",
       "      <td>2011</td>\n",
       "      <td>10/26/2010</td>\n",
       "      <td>1</td>\n",
       "      <td>0</td>\n",
       "      <td>BOS</td>\n",
       "      <td>Celtics</td>\n",
       "      <td>88</td>\n",
       "      <td>1625.0994</td>\n",
       "      <td>1629.3031</td>\n",
       "      <td>53.754559</td>\n",
       "      <td>MIA</td>\n",
       "      <td>Heat</td>\n",
       "      <td>80</td>\n",
       "      <td>1547.3638</td>\n",
       "      <td>1543.1600</td>\n",
       "      <td>H</td>\n",
       "      <td>W</td>\n",
       "      <td>0.735582</td>\n",
       "      <td>NaN</td>\n",
       "    </tr>\n",
       "    <tr>\n",
       "      <th>113658</th>\n",
       "      <td>56830</td>\n",
       "      <td>201010260LAL</td>\n",
       "      <td>NBA</td>\n",
       "      <td>1</td>\n",
       "      <td>2011</td>\n",
       "      <td>10/26/2010</td>\n",
       "      <td>1</td>\n",
       "      <td>0</td>\n",
       "      <td>HOU</td>\n",
       "      <td>Rockets</td>\n",
       "      <td>110</td>\n",
       "      <td>1504.1956</td>\n",
       "      <td>1502.5969</td>\n",
       "      <td>40.900764</td>\n",
       "      <td>LAL</td>\n",
       "      <td>Lakers</td>\n",
       "      <td>112</td>\n",
       "      <td>1647.6016</td>\n",
       "      <td>1649.2002</td>\n",
       "      <td>A</td>\n",
       "      <td>L</td>\n",
       "      <td>0.197632</td>\n",
       "      <td>NaN</td>\n",
       "    </tr>\n",
       "    <tr>\n",
       "      <th>113659</th>\n",
       "      <td>56830</td>\n",
       "      <td>201010260LAL</td>\n",
       "      <td>NBA</td>\n",
       "      <td>0</td>\n",
       "      <td>2011</td>\n",
       "      <td>10/26/2010</td>\n",
       "      <td>1</td>\n",
       "      <td>0</td>\n",
       "      <td>LAL</td>\n",
       "      <td>Lakers</td>\n",
       "      <td>112</td>\n",
       "      <td>1647.6016</td>\n",
       "      <td>1649.2002</td>\n",
       "      <td>55.608730</td>\n",
       "      <td>HOU</td>\n",
       "      <td>Rockets</td>\n",
       "      <td>110</td>\n",
       "      <td>1504.1956</td>\n",
       "      <td>1502.5969</td>\n",
       "      <td>H</td>\n",
       "      <td>W</td>\n",
       "      <td>0.802368</td>\n",
       "      <td>NaN</td>\n",
       "    </tr>\n",
       "    <tr>\n",
       "      <th>113660</th>\n",
       "      <td>56831</td>\n",
       "      <td>201010260POR</td>\n",
       "      <td>NBA</td>\n",
       "      <td>1</td>\n",
       "      <td>2011</td>\n",
       "      <td>10/26/2010</td>\n",
       "      <td>1</td>\n",
       "      <td>0</td>\n",
       "      <td>PHO</td>\n",
       "      <td>Suns</td>\n",
       "      <td>92</td>\n",
       "      <td>1643.0225</td>\n",
       "      <td>1630.6204</td>\n",
       "      <td>53.879230</td>\n",
       "      <td>POR</td>\n",
       "      <td>Trailblazers</td>\n",
       "      <td>106</td>\n",
       "      <td>1552.8141</td>\n",
       "      <td>1565.2162</td>\n",
       "      <td>A</td>\n",
       "      <td>L</td>\n",
       "      <td>0.485912</td>\n",
       "      <td>NaN</td>\n",
       "    </tr>\n",
       "    <tr>\n",
       "      <th>...</th>\n",
       "      <td>...</td>\n",
       "      <td>...</td>\n",
       "      <td>...</td>\n",
       "      <td>...</td>\n",
       "      <td>...</td>\n",
       "      <td>...</td>\n",
       "      <td>...</td>\n",
       "      <td>...</td>\n",
       "      <td>...</td>\n",
       "      <td>...</td>\n",
       "      <td>...</td>\n",
       "      <td>...</td>\n",
       "      <td>...</td>\n",
       "      <td>...</td>\n",
       "      <td>...</td>\n",
       "      <td>...</td>\n",
       "      <td>...</td>\n",
       "      <td>...</td>\n",
       "      <td>...</td>\n",
       "      <td>...</td>\n",
       "      <td>...</td>\n",
       "      <td>...</td>\n",
       "      <td>...</td>\n",
       "    </tr>\n",
       "    <tr>\n",
       "      <th>126309</th>\n",
       "      <td>63155</td>\n",
       "      <td>201506110CLE</td>\n",
       "      <td>NBA</td>\n",
       "      <td>0</td>\n",
       "      <td>2015</td>\n",
       "      <td>6/11/2015</td>\n",
       "      <td>100</td>\n",
       "      <td>1</td>\n",
       "      <td>CLE</td>\n",
       "      <td>Cavaliers</td>\n",
       "      <td>82</td>\n",
       "      <td>1723.4149</td>\n",
       "      <td>1704.3949</td>\n",
       "      <td>60.309792</td>\n",
       "      <td>GSW</td>\n",
       "      <td>Warriors</td>\n",
       "      <td>103</td>\n",
       "      <td>1790.9591</td>\n",
       "      <td>1809.9791</td>\n",
       "      <td>H</td>\n",
       "      <td>L</td>\n",
       "      <td>0.546572</td>\n",
       "      <td>NaN</td>\n",
       "    </tr>\n",
       "    <tr>\n",
       "      <th>126310</th>\n",
       "      <td>63156</td>\n",
       "      <td>201506140GSW</td>\n",
       "      <td>NBA</td>\n",
       "      <td>0</td>\n",
       "      <td>2015</td>\n",
       "      <td>6/14/2015</td>\n",
       "      <td>102</td>\n",
       "      <td>1</td>\n",
       "      <td>GSW</td>\n",
       "      <td>Warriors</td>\n",
       "      <td>104</td>\n",
       "      <td>1809.9791</td>\n",
       "      <td>1813.6349</td>\n",
       "      <td>68.013329</td>\n",
       "      <td>CLE</td>\n",
       "      <td>Cavaliers</td>\n",
       "      <td>91</td>\n",
       "      <td>1704.3949</td>\n",
       "      <td>1700.7391</td>\n",
       "      <td>H</td>\n",
       "      <td>W</td>\n",
       "      <td>0.765565</td>\n",
       "      <td>NaN</td>\n",
       "    </tr>\n",
       "    <tr>\n",
       "      <th>126311</th>\n",
       "      <td>63156</td>\n",
       "      <td>201506140GSW</td>\n",
       "      <td>NBA</td>\n",
       "      <td>1</td>\n",
       "      <td>2015</td>\n",
       "      <td>6/14/2015</td>\n",
       "      <td>101</td>\n",
       "      <td>1</td>\n",
       "      <td>CLE</td>\n",
       "      <td>Cavaliers</td>\n",
       "      <td>91</td>\n",
       "      <td>1704.3949</td>\n",
       "      <td>1700.7391</td>\n",
       "      <td>60.010067</td>\n",
       "      <td>GSW</td>\n",
       "      <td>Warriors</td>\n",
       "      <td>104</td>\n",
       "      <td>1809.9791</td>\n",
       "      <td>1813.6349</td>\n",
       "      <td>A</td>\n",
       "      <td>L</td>\n",
       "      <td>0.234435</td>\n",
       "      <td>NaN</td>\n",
       "    </tr>\n",
       "    <tr>\n",
       "      <th>126312</th>\n",
       "      <td>63157</td>\n",
       "      <td>201506170CLE</td>\n",
       "      <td>NBA</td>\n",
       "      <td>0</td>\n",
       "      <td>2015</td>\n",
       "      <td>6/16/2015</td>\n",
       "      <td>102</td>\n",
       "      <td>1</td>\n",
       "      <td>CLE</td>\n",
       "      <td>Cavaliers</td>\n",
       "      <td>97</td>\n",
       "      <td>1700.7391</td>\n",
       "      <td>1692.0859</td>\n",
       "      <td>59.290245</td>\n",
       "      <td>GSW</td>\n",
       "      <td>Warriors</td>\n",
       "      <td>105</td>\n",
       "      <td>1813.6349</td>\n",
       "      <td>1822.2881</td>\n",
       "      <td>H</td>\n",
       "      <td>L</td>\n",
       "      <td>0.481450</td>\n",
       "      <td>NaN</td>\n",
       "    </tr>\n",
       "    <tr>\n",
       "      <th>126313</th>\n",
       "      <td>63157</td>\n",
       "      <td>201506170CLE</td>\n",
       "      <td>NBA</td>\n",
       "      <td>1</td>\n",
       "      <td>2015</td>\n",
       "      <td>6/16/2015</td>\n",
       "      <td>103</td>\n",
       "      <td>1</td>\n",
       "      <td>GSW</td>\n",
       "      <td>Warriors</td>\n",
       "      <td>105</td>\n",
       "      <td>1813.6349</td>\n",
       "      <td>1822.2881</td>\n",
       "      <td>68.519516</td>\n",
       "      <td>CLE</td>\n",
       "      <td>Cavaliers</td>\n",
       "      <td>97</td>\n",
       "      <td>1700.7391</td>\n",
       "      <td>1692.0859</td>\n",
       "      <td>A</td>\n",
       "      <td>W</td>\n",
       "      <td>0.518550</td>\n",
       "      <td>NaN</td>\n",
       "    </tr>\n",
       "  </tbody>\n",
       "</table>\n",
       "<p>12658 rows × 23 columns</p>\n",
       "</div>"
      ],
      "text/plain": [
       "        gameorder       game_id lg_id  _iscopy  year_id   date_game  \\\n",
       "113656      56829  201010260BOS   NBA        1     2011  10/26/2010   \n",
       "113657      56829  201010260BOS   NBA        0     2011  10/26/2010   \n",
       "113658      56830  201010260LAL   NBA        1     2011  10/26/2010   \n",
       "113659      56830  201010260LAL   NBA        0     2011  10/26/2010   \n",
       "113660      56831  201010260POR   NBA        1     2011  10/26/2010   \n",
       "...           ...           ...   ...      ...      ...         ...   \n",
       "126309      63155  201506110CLE   NBA        0     2015   6/11/2015   \n",
       "126310      63156  201506140GSW   NBA        0     2015   6/14/2015   \n",
       "126311      63156  201506140GSW   NBA        1     2015   6/14/2015   \n",
       "126312      63157  201506170CLE   NBA        0     2015   6/16/2015   \n",
       "126313      63157  201506170CLE   NBA        1     2015   6/16/2015   \n",
       "\n",
       "        seasongame  is_playoffs team_id    fran_id  pts      elo_i      elo_n  \\\n",
       "113656           1            0     MIA       Heat   80  1547.3638  1543.1600   \n",
       "113657           1            0     BOS    Celtics   88  1625.0994  1629.3031   \n",
       "113658           1            0     HOU    Rockets  110  1504.1956  1502.5969   \n",
       "113659           1            0     LAL     Lakers  112  1647.6016  1649.2002   \n",
       "113660           1            0     PHO       Suns   92  1643.0225  1630.6204   \n",
       "...            ...          ...     ...        ...  ...        ...        ...   \n",
       "126309         100            1     CLE  Cavaliers   82  1723.4149  1704.3949   \n",
       "126310         102            1     GSW   Warriors  104  1809.9791  1813.6349   \n",
       "126311         101            1     CLE  Cavaliers   91  1704.3949  1700.7391   \n",
       "126312         102            1     CLE  Cavaliers   97  1700.7391  1692.0859   \n",
       "126313         103            1     GSW   Warriors  105  1813.6349  1822.2881   \n",
       "\n",
       "        win_equiv opp_id      opp_fran  opp_pts  opp_elo_i  opp_elo_n  \\\n",
       "113656  45.141479    BOS       Celtics       88  1625.0994  1629.3031   \n",
       "113657  53.754559    MIA          Heat       80  1547.3638  1543.1600   \n",
       "113658  40.900764    LAL        Lakers      112  1647.6016  1649.2002   \n",
       "113659  55.608730    HOU       Rockets      110  1504.1956  1502.5969   \n",
       "113660  53.879230    POR  Trailblazers      106  1552.8141  1565.2162   \n",
       "...           ...    ...           ...      ...        ...        ...   \n",
       "126309  60.309792    GSW      Warriors      103  1790.9591  1809.9791   \n",
       "126310  68.013329    CLE     Cavaliers       91  1704.3949  1700.7391   \n",
       "126311  60.010067    GSW      Warriors      104  1809.9791  1813.6349   \n",
       "126312  59.290245    GSW      Warriors      105  1813.6349  1822.2881   \n",
       "126313  68.519516    CLE     Cavaliers       97  1700.7391  1692.0859   \n",
       "\n",
       "       game_location game_result  forecast notes  \n",
       "113656             A           L  0.264418   NaN  \n",
       "113657             H           W  0.735582   NaN  \n",
       "113658             A           L  0.197632   NaN  \n",
       "113659             H           W  0.802368   NaN  \n",
       "113660             A           L  0.485912   NaN  \n",
       "...              ...         ...       ...   ...  \n",
       "126309             H           L  0.546572   NaN  \n",
       "126310             H           W  0.765565   NaN  \n",
       "126311             A           L  0.234435   NaN  \n",
       "126312             H           L  0.481450   NaN  \n",
       "126313             A           W  0.518550   NaN  \n",
       "\n",
       "[12658 rows x 23 columns]"
      ]
     },
     "execution_count": 109,
     "metadata": {},
     "output_type": "execute_result"
    }
   ],
   "source": [
    "game_after_2010 = df[\"year_id\"] > 2010\n",
    "current_decade = df[game_after_2010]\n",
    "current_decade"
   ]
  },
  {
   "cell_type": "code",
   "execution_count": 110,
   "id": "f981d1ae",
   "metadata": {
    "ExecuteTime": {
     "end_time": "2022-03-01T14:22:34.268139Z",
     "start_time": "2022-03-01T14:22:34.146033Z"
    }
   },
   "outputs": [
    {
     "data": {
      "text/html": [
       "<div>\n",
       "<style scoped>\n",
       "    .dataframe tbody tr th:only-of-type {\n",
       "        vertical-align: middle;\n",
       "    }\n",
       "\n",
       "    .dataframe tbody tr th {\n",
       "        vertical-align: top;\n",
       "    }\n",
       "\n",
       "    .dataframe thead th {\n",
       "        text-align: right;\n",
       "    }\n",
       "</style>\n",
       "<table border=\"1\" class=\"dataframe\">\n",
       "  <thead>\n",
       "    <tr style=\"text-align: right;\">\n",
       "      <th></th>\n",
       "      <th>gameorder</th>\n",
       "      <th>game_id</th>\n",
       "      <th>lg_id</th>\n",
       "      <th>_iscopy</th>\n",
       "      <th>year_id</th>\n",
       "      <th>date_game</th>\n",
       "      <th>seasongame</th>\n",
       "      <th>is_playoffs</th>\n",
       "      <th>team_id</th>\n",
       "      <th>fran_id</th>\n",
       "      <th>pts</th>\n",
       "      <th>elo_i</th>\n",
       "      <th>elo_n</th>\n",
       "      <th>win_equiv</th>\n",
       "      <th>opp_id</th>\n",
       "      <th>opp_fran</th>\n",
       "      <th>opp_pts</th>\n",
       "      <th>opp_elo_i</th>\n",
       "      <th>opp_elo_n</th>\n",
       "      <th>game_location</th>\n",
       "      <th>game_result</th>\n",
       "      <th>forecast</th>\n",
       "      <th>notes</th>\n",
       "    </tr>\n",
       "  </thead>\n",
       "  <tbody>\n",
       "    <tr>\n",
       "      <th>930</th>\n",
       "      <td>466</td>\n",
       "      <td>194801300BLB</td>\n",
       "      <td>NBA</td>\n",
       "      <td>1</td>\n",
       "      <td>1948</td>\n",
       "      <td>1/30/1948</td>\n",
       "      <td>28</td>\n",
       "      <td>0</td>\n",
       "      <td>WSC</td>\n",
       "      <td>Capitols</td>\n",
       "      <td>71</td>\n",
       "      <td>1469.3469</td>\n",
       "      <td>1454.9012</td>\n",
       "      <td>47.065742</td>\n",
       "      <td>BLB</td>\n",
       "      <td>Baltimore</td>\n",
       "      <td>95</td>\n",
       "      <td>1434.0548</td>\n",
       "      <td>1448.5005</td>\n",
       "      <td>A</td>\n",
       "      <td>L</td>\n",
       "      <td>0.407940</td>\n",
       "      <td>at Baltimore's Fifth Regiment Armory</td>\n",
       "    </tr>\n",
       "    <tr>\n",
       "      <th>931</th>\n",
       "      <td>466</td>\n",
       "      <td>194801300BLB</td>\n",
       "      <td>NBA</td>\n",
       "      <td>0</td>\n",
       "      <td>1948</td>\n",
       "      <td>1/30/1948</td>\n",
       "      <td>31</td>\n",
       "      <td>0</td>\n",
       "      <td>BLB</td>\n",
       "      <td>Baltimore</td>\n",
       "      <td>95</td>\n",
       "      <td>1434.0548</td>\n",
       "      <td>1448.5005</td>\n",
       "      <td>46.407490</td>\n",
       "      <td>WSC</td>\n",
       "      <td>Capitols</td>\n",
       "      <td>71</td>\n",
       "      <td>1469.3469</td>\n",
       "      <td>1454.9012</td>\n",
       "      <td>H</td>\n",
       "      <td>W</td>\n",
       "      <td>0.592060</td>\n",
       "      <td>at Baltimore's Fifth Regiment Armory</td>\n",
       "    </tr>\n",
       "    <tr>\n",
       "      <th>1084</th>\n",
       "      <td>543</td>\n",
       "      <td>194803230CHS</td>\n",
       "      <td>NBA</td>\n",
       "      <td>1</td>\n",
       "      <td>1948</td>\n",
       "      <td>3/23/1948</td>\n",
       "      <td>49</td>\n",
       "      <td>1</td>\n",
       "      <td>WSC</td>\n",
       "      <td>Capitols</td>\n",
       "      <td>70</td>\n",
       "      <td>1465.9006</td>\n",
       "      <td>1461.1990</td>\n",
       "      <td>47.710297</td>\n",
       "      <td>CHS</td>\n",
       "      <td>Stags</td>\n",
       "      <td>74</td>\n",
       "      <td>1440.7186</td>\n",
       "      <td>1445.4203</td>\n",
       "      <td>A</td>\n",
       "      <td>L</td>\n",
       "      <td>0.393962</td>\n",
       "      <td>Tiebreaker</td>\n",
       "    </tr>\n",
       "    <tr>\n",
       "      <th>1085</th>\n",
       "      <td>543</td>\n",
       "      <td>194803230CHS</td>\n",
       "      <td>NBA</td>\n",
       "      <td>0</td>\n",
       "      <td>1948</td>\n",
       "      <td>3/23/1948</td>\n",
       "      <td>49</td>\n",
       "      <td>1</td>\n",
       "      <td>CHS</td>\n",
       "      <td>Stags</td>\n",
       "      <td>74</td>\n",
       "      <td>1440.7186</td>\n",
       "      <td>1445.4203</td>\n",
       "      <td>46.089687</td>\n",
       "      <td>WSC</td>\n",
       "      <td>Capitols</td>\n",
       "      <td>70</td>\n",
       "      <td>1465.9006</td>\n",
       "      <td>1461.1990</td>\n",
       "      <td>H</td>\n",
       "      <td>W</td>\n",
       "      <td>0.606038</td>\n",
       "      <td>Tiebreaker</td>\n",
       "    </tr>\n",
       "    <tr>\n",
       "      <th>1088</th>\n",
       "      <td>545</td>\n",
       "      <td>194803250CHS</td>\n",
       "      <td>NBA</td>\n",
       "      <td>1</td>\n",
       "      <td>1948</td>\n",
       "      <td>3/25/1948</td>\n",
       "      <td>49</td>\n",
       "      <td>1</td>\n",
       "      <td>BLB</td>\n",
       "      <td>Baltimore</td>\n",
       "      <td>75</td>\n",
       "      <td>1477.2552</td>\n",
       "      <td>1484.3137</td>\n",
       "      <td>50.044666</td>\n",
       "      <td>CHS</td>\n",
       "      <td>Stags</td>\n",
       "      <td>72</td>\n",
       "      <td>1445.4203</td>\n",
       "      <td>1438.3618</td>\n",
       "      <td>A</td>\n",
       "      <td>W</td>\n",
       "      <td>0.403142</td>\n",
       "      <td>Tiebreaker</td>\n",
       "    </tr>\n",
       "    <tr>\n",
       "      <th>...</th>\n",
       "      <td>...</td>\n",
       "      <td>...</td>\n",
       "      <td>...</td>\n",
       "      <td>...</td>\n",
       "      <td>...</td>\n",
       "      <td>...</td>\n",
       "      <td>...</td>\n",
       "      <td>...</td>\n",
       "      <td>...</td>\n",
       "      <td>...</td>\n",
       "      <td>...</td>\n",
       "      <td>...</td>\n",
       "      <td>...</td>\n",
       "      <td>...</td>\n",
       "      <td>...</td>\n",
       "      <td>...</td>\n",
       "      <td>...</td>\n",
       "      <td>...</td>\n",
       "      <td>...</td>\n",
       "      <td>...</td>\n",
       "      <td>...</td>\n",
       "      <td>...</td>\n",
       "      <td>...</td>\n",
       "    </tr>\n",
       "    <tr>\n",
       "      <th>122207</th>\n",
       "      <td>61104</td>\n",
       "      <td>201401160ATL</td>\n",
       "      <td>NBA</td>\n",
       "      <td>0</td>\n",
       "      <td>2014</td>\n",
       "      <td>1/16/2014</td>\n",
       "      <td>39</td>\n",
       "      <td>0</td>\n",
       "      <td>ATL</td>\n",
       "      <td>Hawks</td>\n",
       "      <td>110</td>\n",
       "      <td>1505.0525</td>\n",
       "      <td>1487.5908</td>\n",
       "      <td>39.239410</td>\n",
       "      <td>BRK</td>\n",
       "      <td>Nets</td>\n",
       "      <td>127</td>\n",
       "      <td>1454.6501</td>\n",
       "      <td>1472.1118</td>\n",
       "      <td>N</td>\n",
       "      <td>L</td>\n",
       "      <td>0.572030</td>\n",
       "      <td>at London, England</td>\n",
       "    </tr>\n",
       "    <tr>\n",
       "      <th>123916</th>\n",
       "      <td>61959</td>\n",
       "      <td>201411120MIN</td>\n",
       "      <td>NBA</td>\n",
       "      <td>1</td>\n",
       "      <td>2015</td>\n",
       "      <td>11/12/2014</td>\n",
       "      <td>8</td>\n",
       "      <td>0</td>\n",
       "      <td>HOU</td>\n",
       "      <td>Rockets</td>\n",
       "      <td>113</td>\n",
       "      <td>1635.7723</td>\n",
       "      <td>1642.4540</td>\n",
       "      <td>54.894760</td>\n",
       "      <td>MIN</td>\n",
       "      <td>Timberwolves</td>\n",
       "      <td>101</td>\n",
       "      <td>1502.9229</td>\n",
       "      <td>1496.2412</td>\n",
       "      <td>N</td>\n",
       "      <td>W</td>\n",
       "      <td>0.682383</td>\n",
       "      <td>at Mexico City Arena, Mexico City, Mexico</td>\n",
       "    </tr>\n",
       "    <tr>\n",
       "      <th>123917</th>\n",
       "      <td>61959</td>\n",
       "      <td>201411120MIN</td>\n",
       "      <td>NBA</td>\n",
       "      <td>0</td>\n",
       "      <td>2015</td>\n",
       "      <td>11/12/2014</td>\n",
       "      <td>7</td>\n",
       "      <td>0</td>\n",
       "      <td>MIN</td>\n",
       "      <td>Timberwolves</td>\n",
       "      <td>101</td>\n",
       "      <td>1502.9229</td>\n",
       "      <td>1496.2412</td>\n",
       "      <td>40.129723</td>\n",
       "      <td>HOU</td>\n",
       "      <td>Rockets</td>\n",
       "      <td>113</td>\n",
       "      <td>1635.7723</td>\n",
       "      <td>1642.4540</td>\n",
       "      <td>N</td>\n",
       "      <td>L</td>\n",
       "      <td>0.317617</td>\n",
       "      <td>at Mexico City Arena, Mexico City, Mexico</td>\n",
       "    </tr>\n",
       "    <tr>\n",
       "      <th>124862</th>\n",
       "      <td>62432</td>\n",
       "      <td>201501150MIL</td>\n",
       "      <td>NBA</td>\n",
       "      <td>0</td>\n",
       "      <td>2015</td>\n",
       "      <td>1/15/2015</td>\n",
       "      <td>40</td>\n",
       "      <td>0</td>\n",
       "      <td>MIL</td>\n",
       "      <td>Bucks</td>\n",
       "      <td>95</td>\n",
       "      <td>1499.9038</td>\n",
       "      <td>1505.8629</td>\n",
       "      <td>41.138866</td>\n",
       "      <td>NYK</td>\n",
       "      <td>Knicks</td>\n",
       "      <td>79</td>\n",
       "      <td>1304.4620</td>\n",
       "      <td>1298.5029</td>\n",
       "      <td>N</td>\n",
       "      <td>W</td>\n",
       "      <td>0.754925</td>\n",
       "      <td>at The O2, London, England</td>\n",
       "    </tr>\n",
       "    <tr>\n",
       "      <th>124863</th>\n",
       "      <td>62432</td>\n",
       "      <td>201501150MIL</td>\n",
       "      <td>NBA</td>\n",
       "      <td>1</td>\n",
       "      <td>2015</td>\n",
       "      <td>1/15/2015</td>\n",
       "      <td>41</td>\n",
       "      <td>0</td>\n",
       "      <td>NYK</td>\n",
       "      <td>Knicks</td>\n",
       "      <td>79</td>\n",
       "      <td>1304.4620</td>\n",
       "      <td>1298.5029</td>\n",
       "      <td>21.189493</td>\n",
       "      <td>MIL</td>\n",
       "      <td>Bucks</td>\n",
       "      <td>95</td>\n",
       "      <td>1499.9038</td>\n",
       "      <td>1505.8629</td>\n",
       "      <td>N</td>\n",
       "      <td>L</td>\n",
       "      <td>0.245075</td>\n",
       "      <td>at The O2, London, England</td>\n",
       "    </tr>\n",
       "  </tbody>\n",
       "</table>\n",
       "<p>5424 rows × 23 columns</p>\n",
       "</div>"
      ],
      "text/plain": [
       "        gameorder       game_id lg_id  _iscopy  year_id   date_game  \\\n",
       "930           466  194801300BLB   NBA        1     1948   1/30/1948   \n",
       "931           466  194801300BLB   NBA        0     1948   1/30/1948   \n",
       "1084          543  194803230CHS   NBA        1     1948   3/23/1948   \n",
       "1085          543  194803230CHS   NBA        0     1948   3/23/1948   \n",
       "1088          545  194803250CHS   NBA        1     1948   3/25/1948   \n",
       "...           ...           ...   ...      ...      ...         ...   \n",
       "122207      61104  201401160ATL   NBA        0     2014   1/16/2014   \n",
       "123916      61959  201411120MIN   NBA        1     2015  11/12/2014   \n",
       "123917      61959  201411120MIN   NBA        0     2015  11/12/2014   \n",
       "124862      62432  201501150MIL   NBA        0     2015   1/15/2015   \n",
       "124863      62432  201501150MIL   NBA        1     2015   1/15/2015   \n",
       "\n",
       "        seasongame  is_playoffs team_id       fran_id  pts      elo_i  \\\n",
       "930             28            0     WSC      Capitols   71  1469.3469   \n",
       "931             31            0     BLB     Baltimore   95  1434.0548   \n",
       "1084            49            1     WSC      Capitols   70  1465.9006   \n",
       "1085            49            1     CHS         Stags   74  1440.7186   \n",
       "1088            49            1     BLB     Baltimore   75  1477.2552   \n",
       "...            ...          ...     ...           ...  ...        ...   \n",
       "122207          39            0     ATL         Hawks  110  1505.0525   \n",
       "123916           8            0     HOU       Rockets  113  1635.7723   \n",
       "123917           7            0     MIN  Timberwolves  101  1502.9229   \n",
       "124862          40            0     MIL         Bucks   95  1499.9038   \n",
       "124863          41            0     NYK        Knicks   79  1304.4620   \n",
       "\n",
       "            elo_n  win_equiv opp_id      opp_fran  opp_pts  opp_elo_i  \\\n",
       "930     1454.9012  47.065742    BLB     Baltimore       95  1434.0548   \n",
       "931     1448.5005  46.407490    WSC      Capitols       71  1469.3469   \n",
       "1084    1461.1990  47.710297    CHS         Stags       74  1440.7186   \n",
       "1085    1445.4203  46.089687    WSC      Capitols       70  1465.9006   \n",
       "1088    1484.3137  50.044666    CHS         Stags       72  1445.4203   \n",
       "...           ...        ...    ...           ...      ...        ...   \n",
       "122207  1487.5908  39.239410    BRK          Nets      127  1454.6501   \n",
       "123916  1642.4540  54.894760    MIN  Timberwolves      101  1502.9229   \n",
       "123917  1496.2412  40.129723    HOU       Rockets      113  1635.7723   \n",
       "124862  1505.8629  41.138866    NYK        Knicks       79  1304.4620   \n",
       "124863  1298.5029  21.189493    MIL         Bucks       95  1499.9038   \n",
       "\n",
       "        opp_elo_n game_location game_result  forecast  \\\n",
       "930     1448.5005             A           L  0.407940   \n",
       "931     1454.9012             H           W  0.592060   \n",
       "1084    1445.4203             A           L  0.393962   \n",
       "1085    1461.1990             H           W  0.606038   \n",
       "1088    1438.3618             A           W  0.403142   \n",
       "...           ...           ...         ...       ...   \n",
       "122207  1472.1118             N           L  0.572030   \n",
       "123916  1496.2412             N           W  0.682383   \n",
       "123917  1642.4540             N           L  0.317617   \n",
       "124862  1298.5029             N           W  0.754925   \n",
       "124863  1505.8629             N           L  0.245075   \n",
       "\n",
       "                                            notes  \n",
       "930          at Baltimore's Fifth Regiment Armory  \n",
       "931          at Baltimore's Fifth Regiment Armory  \n",
       "1084                                   Tiebreaker  \n",
       "1085                                   Tiebreaker  \n",
       "1088                                   Tiebreaker  \n",
       "...                                           ...  \n",
       "122207                         at London, England  \n",
       "123916  at Mexico City Arena, Mexico City, Mexico  \n",
       "123917  at Mexico City Arena, Mexico City, Mexico  \n",
       "124862                 at The O2, London, England  \n",
       "124863                 at The O2, London, England  \n",
       "\n",
       "[5424 rows x 23 columns]"
      ]
     },
     "execution_count": 110,
     "metadata": {},
     "output_type": "execute_result"
    }
   ],
   "source": [
    "# filter\n",
    "filter_not_null = df[\"notes\"].notnull()\n",
    "games_with_notes = df[filter_not_null]\n",
    "games_with_notes"
   ]
  },
  {
   "cell_type": "code",
   "execution_count": 111,
   "id": "431c4a61",
   "metadata": {
    "ExecuteTime": {
     "end_time": "2022-03-01T14:24:27.368377Z",
     "start_time": "2022-03-01T14:24:26.837396Z"
    }
   },
   "outputs": [
    {
     "data": {
      "text/html": [
       "<div>\n",
       "<style scoped>\n",
       "    .dataframe tbody tr th:only-of-type {\n",
       "        vertical-align: middle;\n",
       "    }\n",
       "\n",
       "    .dataframe tbody tr th {\n",
       "        vertical-align: top;\n",
       "    }\n",
       "\n",
       "    .dataframe thead th {\n",
       "        text-align: right;\n",
       "    }\n",
       "</style>\n",
       "<table border=\"1\" class=\"dataframe\">\n",
       "  <thead>\n",
       "    <tr style=\"text-align: right;\">\n",
       "      <th></th>\n",
       "      <th>gameorder</th>\n",
       "      <th>game_id</th>\n",
       "      <th>lg_id</th>\n",
       "      <th>_iscopy</th>\n",
       "      <th>year_id</th>\n",
       "      <th>date_game</th>\n",
       "      <th>seasongame</th>\n",
       "      <th>is_playoffs</th>\n",
       "      <th>team_id</th>\n",
       "      <th>fran_id</th>\n",
       "      <th>pts</th>\n",
       "      <th>elo_i</th>\n",
       "      <th>elo_n</th>\n",
       "      <th>win_equiv</th>\n",
       "      <th>opp_id</th>\n",
       "      <th>opp_fran</th>\n",
       "      <th>opp_pts</th>\n",
       "      <th>opp_elo_i</th>\n",
       "      <th>opp_elo_n</th>\n",
       "      <th>game_location</th>\n",
       "      <th>game_result</th>\n",
       "      <th>forecast</th>\n",
       "      <th>notes</th>\n",
       "    </tr>\n",
       "  </thead>\n",
       "  <tbody>\n",
       "    <tr>\n",
       "      <th>7</th>\n",
       "      <td>4</td>\n",
       "      <td>194611020PRO</td>\n",
       "      <td>NBA</td>\n",
       "      <td>0</td>\n",
       "      <td>1947</td>\n",
       "      <td>11/2/1946</td>\n",
       "      <td>1</td>\n",
       "      <td>0</td>\n",
       "      <td>PRO</td>\n",
       "      <td>Steamrollers</td>\n",
       "      <td>59</td>\n",
       "      <td>1300.0000</td>\n",
       "      <td>1305.1542</td>\n",
       "      <td>41.540619</td>\n",
       "      <td>BOS</td>\n",
       "      <td>Celtics</td>\n",
       "      <td>53</td>\n",
       "      <td>1300.0000</td>\n",
       "      <td>1294.8458</td>\n",
       "      <td>H</td>\n",
       "      <td>W</td>\n",
       "      <td>0.640065</td>\n",
       "      <td>NaN</td>\n",
       "    </tr>\n",
       "    <tr>\n",
       "      <th>9</th>\n",
       "      <td>5</td>\n",
       "      <td>194611020STB</td>\n",
       "      <td>NBA</td>\n",
       "      <td>0</td>\n",
       "      <td>1947</td>\n",
       "      <td>11/2/1946</td>\n",
       "      <td>1</td>\n",
       "      <td>0</td>\n",
       "      <td>STB</td>\n",
       "      <td>Bombers</td>\n",
       "      <td>56</td>\n",
       "      <td>1300.0000</td>\n",
       "      <td>1304.6908</td>\n",
       "      <td>41.492020</td>\n",
       "      <td>PIT</td>\n",
       "      <td>Ironmen</td>\n",
       "      <td>51</td>\n",
       "      <td>1300.0000</td>\n",
       "      <td>1295.3092</td>\n",
       "      <td>H</td>\n",
       "      <td>W</td>\n",
       "      <td>0.640065</td>\n",
       "      <td>NaN</td>\n",
       "    </tr>\n",
       "    <tr>\n",
       "      <th>16</th>\n",
       "      <td>9</td>\n",
       "      <td>194611050DTF</td>\n",
       "      <td>NBA</td>\n",
       "      <td>1</td>\n",
       "      <td>1947</td>\n",
       "      <td>11/5/1946</td>\n",
       "      <td>2</td>\n",
       "      <td>0</td>\n",
       "      <td>STB</td>\n",
       "      <td>Bombers</td>\n",
       "      <td>53</td>\n",
       "      <td>1304.6908</td>\n",
       "      <td>1312.8473</td>\n",
       "      <td>42.347137</td>\n",
       "      <td>DTF</td>\n",
       "      <td>Falcons</td>\n",
       "      <td>49</td>\n",
       "      <td>1279.6189</td>\n",
       "      <td>1271.4624</td>\n",
       "      <td>A</td>\n",
       "      <td>W</td>\n",
       "      <td>0.393811</td>\n",
       "      <td>NaN</td>\n",
       "    </tr>\n",
       "    <tr>\n",
       "      <th>20</th>\n",
       "      <td>11</td>\n",
       "      <td>194611070PRO</td>\n",
       "      <td>NBA</td>\n",
       "      <td>0</td>\n",
       "      <td>1947</td>\n",
       "      <td>11/7/1946</td>\n",
       "      <td>2</td>\n",
       "      <td>0</td>\n",
       "      <td>PRO</td>\n",
       "      <td>Steamrollers</td>\n",
       "      <td>73</td>\n",
       "      <td>1305.1542</td>\n",
       "      <td>1311.5032</td>\n",
       "      <td>42.206284</td>\n",
       "      <td>CHS</td>\n",
       "      <td>Stags</td>\n",
       "      <td>65</td>\n",
       "      <td>1316.0840</td>\n",
       "      <td>1309.7350</td>\n",
       "      <td>H</td>\n",
       "      <td>W</td>\n",
       "      <td>0.625446</td>\n",
       "      <td>NaN</td>\n",
       "    </tr>\n",
       "    <tr>\n",
       "      <th>22</th>\n",
       "      <td>12</td>\n",
       "      <td>194611070STB</td>\n",
       "      <td>NBA</td>\n",
       "      <td>0</td>\n",
       "      <td>1947</td>\n",
       "      <td>11/7/1946</td>\n",
       "      <td>3</td>\n",
       "      <td>0</td>\n",
       "      <td>STB</td>\n",
       "      <td>Bombers</td>\n",
       "      <td>63</td>\n",
       "      <td>1312.8473</td>\n",
       "      <td>1302.5988</td>\n",
       "      <td>41.272594</td>\n",
       "      <td>NYK</td>\n",
       "      <td>Knicks</td>\n",
       "      <td>68</td>\n",
       "      <td>1297.0712</td>\n",
       "      <td>1307.3197</td>\n",
       "      <td>H</td>\n",
       "      <td>L</td>\n",
       "      <td>0.660710</td>\n",
       "      <td>NaN</td>\n",
       "    </tr>\n",
       "    <tr>\n",
       "      <th>...</th>\n",
       "      <td>...</td>\n",
       "      <td>...</td>\n",
       "      <td>...</td>\n",
       "      <td>...</td>\n",
       "      <td>...</td>\n",
       "      <td>...</td>\n",
       "      <td>...</td>\n",
       "      <td>...</td>\n",
       "      <td>...</td>\n",
       "      <td>...</td>\n",
       "      <td>...</td>\n",
       "      <td>...</td>\n",
       "      <td>...</td>\n",
       "      <td>...</td>\n",
       "      <td>...</td>\n",
       "      <td>...</td>\n",
       "      <td>...</td>\n",
       "      <td>...</td>\n",
       "      <td>...</td>\n",
       "      <td>...</td>\n",
       "      <td>...</td>\n",
       "      <td>...</td>\n",
       "      <td>...</td>\n",
       "    </tr>\n",
       "    <tr>\n",
       "      <th>126304</th>\n",
       "      <td>63153</td>\n",
       "      <td>201506070GSW</td>\n",
       "      <td>NBA</td>\n",
       "      <td>1</td>\n",
       "      <td>2015</td>\n",
       "      <td>6/7/2015</td>\n",
       "      <td>98</td>\n",
       "      <td>1</td>\n",
       "      <td>CLE</td>\n",
       "      <td>Cavaliers</td>\n",
       "      <td>95</td>\n",
       "      <td>1708.1705</td>\n",
       "      <td>1716.8708</td>\n",
       "      <td>61.312763</td>\n",
       "      <td>GSW</td>\n",
       "      <td>Warriors</td>\n",
       "      <td>93</td>\n",
       "      <td>1806.2035</td>\n",
       "      <td>1797.5032</td>\n",
       "      <td>A</td>\n",
       "      <td>W</td>\n",
       "      <td>0.242326</td>\n",
       "      <td>NaN</td>\n",
       "    </tr>\n",
       "    <tr>\n",
       "      <th>126307</th>\n",
       "      <td>63154</td>\n",
       "      <td>201506090CLE</td>\n",
       "      <td>NBA</td>\n",
       "      <td>0</td>\n",
       "      <td>2015</td>\n",
       "      <td>6/9/2015</td>\n",
       "      <td>99</td>\n",
       "      <td>1</td>\n",
       "      <td>CLE</td>\n",
       "      <td>Cavaliers</td>\n",
       "      <td>96</td>\n",
       "      <td>1716.8708</td>\n",
       "      <td>1723.4149</td>\n",
       "      <td>61.826408</td>\n",
       "      <td>GSW</td>\n",
       "      <td>Warriors</td>\n",
       "      <td>91</td>\n",
       "      <td>1797.5032</td>\n",
       "      <td>1790.9591</td>\n",
       "      <td>H</td>\n",
       "      <td>W</td>\n",
       "      <td>0.527843</td>\n",
       "      <td>NaN</td>\n",
       "    </tr>\n",
       "    <tr>\n",
       "      <th>126309</th>\n",
       "      <td>63155</td>\n",
       "      <td>201506110CLE</td>\n",
       "      <td>NBA</td>\n",
       "      <td>0</td>\n",
       "      <td>2015</td>\n",
       "      <td>6/11/2015</td>\n",
       "      <td>100</td>\n",
       "      <td>1</td>\n",
       "      <td>CLE</td>\n",
       "      <td>Cavaliers</td>\n",
       "      <td>82</td>\n",
       "      <td>1723.4149</td>\n",
       "      <td>1704.3949</td>\n",
       "      <td>60.309792</td>\n",
       "      <td>GSW</td>\n",
       "      <td>Warriors</td>\n",
       "      <td>103</td>\n",
       "      <td>1790.9591</td>\n",
       "      <td>1809.9791</td>\n",
       "      <td>H</td>\n",
       "      <td>L</td>\n",
       "      <td>0.546572</td>\n",
       "      <td>NaN</td>\n",
       "    </tr>\n",
       "    <tr>\n",
       "      <th>126311</th>\n",
       "      <td>63156</td>\n",
       "      <td>201506140GSW</td>\n",
       "      <td>NBA</td>\n",
       "      <td>1</td>\n",
       "      <td>2015</td>\n",
       "      <td>6/14/2015</td>\n",
       "      <td>101</td>\n",
       "      <td>1</td>\n",
       "      <td>CLE</td>\n",
       "      <td>Cavaliers</td>\n",
       "      <td>91</td>\n",
       "      <td>1704.3949</td>\n",
       "      <td>1700.7391</td>\n",
       "      <td>60.010067</td>\n",
       "      <td>GSW</td>\n",
       "      <td>Warriors</td>\n",
       "      <td>104</td>\n",
       "      <td>1809.9791</td>\n",
       "      <td>1813.6349</td>\n",
       "      <td>A</td>\n",
       "      <td>L</td>\n",
       "      <td>0.234435</td>\n",
       "      <td>NaN</td>\n",
       "    </tr>\n",
       "    <tr>\n",
       "      <th>126312</th>\n",
       "      <td>63157</td>\n",
       "      <td>201506170CLE</td>\n",
       "      <td>NBA</td>\n",
       "      <td>0</td>\n",
       "      <td>2015</td>\n",
       "      <td>6/16/2015</td>\n",
       "      <td>102</td>\n",
       "      <td>1</td>\n",
       "      <td>CLE</td>\n",
       "      <td>Cavaliers</td>\n",
       "      <td>97</td>\n",
       "      <td>1700.7391</td>\n",
       "      <td>1692.0859</td>\n",
       "      <td>59.290245</td>\n",
       "      <td>GSW</td>\n",
       "      <td>Warriors</td>\n",
       "      <td>105</td>\n",
       "      <td>1813.6349</td>\n",
       "      <td>1822.2881</td>\n",
       "      <td>H</td>\n",
       "      <td>L</td>\n",
       "      <td>0.481450</td>\n",
       "      <td>NaN</td>\n",
       "    </tr>\n",
       "  </tbody>\n",
       "</table>\n",
       "<p>27797 rows × 23 columns</p>\n",
       "</div>"
      ],
      "text/plain": [
       "        gameorder       game_id lg_id  _iscopy  year_id  date_game  \\\n",
       "7               4  194611020PRO   NBA        0     1947  11/2/1946   \n",
       "9               5  194611020STB   NBA        0     1947  11/2/1946   \n",
       "16              9  194611050DTF   NBA        1     1947  11/5/1946   \n",
       "20             11  194611070PRO   NBA        0     1947  11/7/1946   \n",
       "22             12  194611070STB   NBA        0     1947  11/7/1946   \n",
       "...           ...           ...   ...      ...      ...        ...   \n",
       "126304      63153  201506070GSW   NBA        1     2015   6/7/2015   \n",
       "126307      63154  201506090CLE   NBA        0     2015   6/9/2015   \n",
       "126309      63155  201506110CLE   NBA        0     2015  6/11/2015   \n",
       "126311      63156  201506140GSW   NBA        1     2015  6/14/2015   \n",
       "126312      63157  201506170CLE   NBA        0     2015  6/16/2015   \n",
       "\n",
       "        seasongame  is_playoffs team_id       fran_id  pts      elo_i  \\\n",
       "7                1            0     PRO  Steamrollers   59  1300.0000   \n",
       "9                1            0     STB       Bombers   56  1300.0000   \n",
       "16               2            0     STB       Bombers   53  1304.6908   \n",
       "20               2            0     PRO  Steamrollers   73  1305.1542   \n",
       "22               3            0     STB       Bombers   63  1312.8473   \n",
       "...            ...          ...     ...           ...  ...        ...   \n",
       "126304          98            1     CLE     Cavaliers   95  1708.1705   \n",
       "126307          99            1     CLE     Cavaliers   96  1716.8708   \n",
       "126309         100            1     CLE     Cavaliers   82  1723.4149   \n",
       "126311         101            1     CLE     Cavaliers   91  1704.3949   \n",
       "126312         102            1     CLE     Cavaliers   97  1700.7391   \n",
       "\n",
       "            elo_n  win_equiv opp_id  opp_fran  opp_pts  opp_elo_i  opp_elo_n  \\\n",
       "7       1305.1542  41.540619    BOS   Celtics       53  1300.0000  1294.8458   \n",
       "9       1304.6908  41.492020    PIT   Ironmen       51  1300.0000  1295.3092   \n",
       "16      1312.8473  42.347137    DTF   Falcons       49  1279.6189  1271.4624   \n",
       "20      1311.5032  42.206284    CHS     Stags       65  1316.0840  1309.7350   \n",
       "22      1302.5988  41.272594    NYK    Knicks       68  1297.0712  1307.3197   \n",
       "...           ...        ...    ...       ...      ...        ...        ...   \n",
       "126304  1716.8708  61.312763    GSW  Warriors       93  1806.2035  1797.5032   \n",
       "126307  1723.4149  61.826408    GSW  Warriors       91  1797.5032  1790.9591   \n",
       "126309  1704.3949  60.309792    GSW  Warriors      103  1790.9591  1809.9791   \n",
       "126311  1700.7391  60.010067    GSW  Warriors      104  1809.9791  1813.6349   \n",
       "126312  1692.0859  59.290245    GSW  Warriors      105  1813.6349  1822.2881   \n",
       "\n",
       "       game_location game_result  forecast notes  \n",
       "7                  H           W  0.640065   NaN  \n",
       "9                  H           W  0.640065   NaN  \n",
       "16                 A           W  0.393811   NaN  \n",
       "20                 H           W  0.625446   NaN  \n",
       "22                 H           L  0.660710   NaN  \n",
       "...              ...         ...       ...   ...  \n",
       "126304             A           W  0.242326   NaN  \n",
       "126307             H           W  0.527843   NaN  \n",
       "126309             H           L  0.546572   NaN  \n",
       "126311             A           L  0.234435   NaN  \n",
       "126312             H           L  0.481450   NaN  \n",
       "\n",
       "[27797 rows x 23 columns]"
      ]
     },
     "execution_count": 111,
     "metadata": {},
     "output_type": "execute_result"
    }
   ],
   "source": [
    "ers = df[df[\"fran_id\"].str.endswith(\"ers\")]\n",
    "ers"
   ]
  },
  {
   "cell_type": "code",
   "execution_count": 113,
   "id": "003f6c08",
   "metadata": {
    "ExecuteTime": {
     "end_time": "2022-03-01T14:26:30.947495Z",
     "start_time": "2022-03-01T14:26:30.754453Z"
    }
   },
   "outputs": [
    {
     "data": {
      "text/html": [
       "<div>\n",
       "<style scoped>\n",
       "    .dataframe tbody tr th:only-of-type {\n",
       "        vertical-align: middle;\n",
       "    }\n",
       "\n",
       "    .dataframe tbody tr th {\n",
       "        vertical-align: top;\n",
       "    }\n",
       "\n",
       "    .dataframe thead th {\n",
       "        text-align: right;\n",
       "    }\n",
       "</style>\n",
       "<table border=\"1\" class=\"dataframe\">\n",
       "  <thead>\n",
       "    <tr style=\"text-align: right;\">\n",
       "      <th></th>\n",
       "      <th>gameorder</th>\n",
       "      <th>game_id</th>\n",
       "      <th>lg_id</th>\n",
       "      <th>_iscopy</th>\n",
       "      <th>year_id</th>\n",
       "      <th>date_game</th>\n",
       "      <th>seasongame</th>\n",
       "      <th>is_playoffs</th>\n",
       "      <th>team_id</th>\n",
       "      <th>fran_id</th>\n",
       "      <th>pts</th>\n",
       "      <th>elo_i</th>\n",
       "      <th>elo_n</th>\n",
       "      <th>win_equiv</th>\n",
       "      <th>opp_id</th>\n",
       "      <th>opp_fran</th>\n",
       "      <th>opp_pts</th>\n",
       "      <th>opp_elo_i</th>\n",
       "      <th>opp_elo_n</th>\n",
       "      <th>game_location</th>\n",
       "      <th>game_result</th>\n",
       "      <th>forecast</th>\n",
       "      <th>notes</th>\n",
       "    </tr>\n",
       "  </thead>\n",
       "  <tbody>\n",
       "    <tr>\n",
       "      <th>416</th>\n",
       "      <td>209</td>\n",
       "      <td>194702060CHS</td>\n",
       "      <td>NBA</td>\n",
       "      <td>0</td>\n",
       "      <td>1947</td>\n",
       "      <td>2/6/1947</td>\n",
       "      <td>38</td>\n",
       "      <td>0</td>\n",
       "      <td>CHS</td>\n",
       "      <td>Stags</td>\n",
       "      <td>109</td>\n",
       "      <td>1366.5396</td>\n",
       "      <td>1372.1686</td>\n",
       "      <td>48.485294</td>\n",
       "      <td>PIT</td>\n",
       "      <td>Ironmen</td>\n",
       "      <td>85</td>\n",
       "      <td>1206.1873</td>\n",
       "      <td>1200.5582</td>\n",
       "      <td>H</td>\n",
       "      <td>W</td>\n",
       "      <td>0.817382</td>\n",
       "      <td>NaN</td>\n",
       "    </tr>\n",
       "    <tr>\n",
       "      <th>561</th>\n",
       "      <td>281</td>\n",
       "      <td>194703080CHS</td>\n",
       "      <td>NBA</td>\n",
       "      <td>0</td>\n",
       "      <td>1947</td>\n",
       "      <td>3/8/1947</td>\n",
       "      <td>50</td>\n",
       "      <td>0</td>\n",
       "      <td>CHS</td>\n",
       "      <td>Stags</td>\n",
       "      <td>107</td>\n",
       "      <td>1408.0520</td>\n",
       "      <td>1414.6996</td>\n",
       "      <td>52.697613</td>\n",
       "      <td>PRO</td>\n",
       "      <td>Steamrollers</td>\n",
       "      <td>81</td>\n",
       "      <td>1268.2170</td>\n",
       "      <td>1261.5695</td>\n",
       "      <td>H</td>\n",
       "      <td>W</td>\n",
       "      <td>0.799088</td>\n",
       "      <td>NaN</td>\n",
       "    </tr>\n",
       "    <tr>\n",
       "      <th>643</th>\n",
       "      <td>322</td>\n",
       "      <td>194703260WSC</td>\n",
       "      <td>NBA</td>\n",
       "      <td>0</td>\n",
       "      <td>1947</td>\n",
       "      <td>3/26/1947</td>\n",
       "      <td>59</td>\n",
       "      <td>0</td>\n",
       "      <td>WSC</td>\n",
       "      <td>Capitols</td>\n",
       "      <td>105</td>\n",
       "      <td>1507.9979</td>\n",
       "      <td>1516.3644</td>\n",
       "      <td>61.630302</td>\n",
       "      <td>CHS</td>\n",
       "      <td>Stags</td>\n",
       "      <td>77</td>\n",
       "      <td>1402.2272</td>\n",
       "      <td>1393.8607</td>\n",
       "      <td>H</td>\n",
       "      <td>W</td>\n",
       "      <td>0.765758</td>\n",
       "      <td>NaN</td>\n",
       "    </tr>\n",
       "    <tr>\n",
       "      <th>872</th>\n",
       "      <td>437</td>\n",
       "      <td>194801100WSC</td>\n",
       "      <td>NBA</td>\n",
       "      <td>0</td>\n",
       "      <td>1948</td>\n",
       "      <td>1/10/1948</td>\n",
       "      <td>22</td>\n",
       "      <td>0</td>\n",
       "      <td>WSC</td>\n",
       "      <td>Capitols</td>\n",
       "      <td>106</td>\n",
       "      <td>1471.1442</td>\n",
       "      <td>1474.8654</td>\n",
       "      <td>49.096939</td>\n",
       "      <td>PHW</td>\n",
       "      <td>Warriors</td>\n",
       "      <td>99</td>\n",
       "      <td>1384.2031</td>\n",
       "      <td>1380.4819</td>\n",
       "      <td>H</td>\n",
       "      <td>W</td>\n",
       "      <td>0.745759</td>\n",
       "      <td>NaN</td>\n",
       "    </tr>\n",
       "    <tr>\n",
       "      <th>946</th>\n",
       "      <td>474</td>\n",
       "      <td>194802040NYK</td>\n",
       "      <td>NBA</td>\n",
       "      <td>0</td>\n",
       "      <td>1948</td>\n",
       "      <td>2/4/1948</td>\n",
       "      <td>33</td>\n",
       "      <td>0</td>\n",
       "      <td>NYK</td>\n",
       "      <td>Knicks</td>\n",
       "      <td>108</td>\n",
       "      <td>1426.4344</td>\n",
       "      <td>1433.0016</td>\n",
       "      <td>44.802452</td>\n",
       "      <td>PRO</td>\n",
       "      <td>Steamrollers</td>\n",
       "      <td>69</td>\n",
       "      <td>1229.4822</td>\n",
       "      <td>1222.9150</td>\n",
       "      <td>H</td>\n",
       "      <td>W</td>\n",
       "      <td>0.846758</td>\n",
       "      <td>NaN</td>\n",
       "    </tr>\n",
       "    <tr>\n",
       "      <th>...</th>\n",
       "      <td>...</td>\n",
       "      <td>...</td>\n",
       "      <td>...</td>\n",
       "      <td>...</td>\n",
       "      <td>...</td>\n",
       "      <td>...</td>\n",
       "      <td>...</td>\n",
       "      <td>...</td>\n",
       "      <td>...</td>\n",
       "      <td>...</td>\n",
       "      <td>...</td>\n",
       "      <td>...</td>\n",
       "      <td>...</td>\n",
       "      <td>...</td>\n",
       "      <td>...</td>\n",
       "      <td>...</td>\n",
       "      <td>...</td>\n",
       "      <td>...</td>\n",
       "      <td>...</td>\n",
       "      <td>...</td>\n",
       "      <td>...</td>\n",
       "      <td>...</td>\n",
       "      <td>...</td>\n",
       "    </tr>\n",
       "    <tr>\n",
       "      <th>126297</th>\n",
       "      <td>63149</td>\n",
       "      <td>201505250HOU</td>\n",
       "      <td>NBA</td>\n",
       "      <td>0</td>\n",
       "      <td>2015</td>\n",
       "      <td>5/25/2015</td>\n",
       "      <td>98</td>\n",
       "      <td>1</td>\n",
       "      <td>HOU</td>\n",
       "      <td>Rockets</td>\n",
       "      <td>128</td>\n",
       "      <td>1643.4324</td>\n",
       "      <td>1658.9934</td>\n",
       "      <td>56.407814</td>\n",
       "      <td>GSW</td>\n",
       "      <td>Warriors</td>\n",
       "      <td>115</td>\n",
       "      <td>1813.4543</td>\n",
       "      <td>1797.8933</td>\n",
       "      <td>H</td>\n",
       "      <td>W</td>\n",
       "      <td>0.400573</td>\n",
       "      <td>NaN</td>\n",
       "    </tr>\n",
       "    <tr>\n",
       "      <th>126298</th>\n",
       "      <td>63150</td>\n",
       "      <td>201505260CLE</td>\n",
       "      <td>NBA</td>\n",
       "      <td>0</td>\n",
       "      <td>2015</td>\n",
       "      <td>5/26/2015</td>\n",
       "      <td>96</td>\n",
       "      <td>1</td>\n",
       "      <td>CLE</td>\n",
       "      <td>Cavaliers</td>\n",
       "      <td>118</td>\n",
       "      <td>1703.7124</td>\n",
       "      <td>1712.1232</td>\n",
       "      <td>60.934734</td>\n",
       "      <td>ATL</td>\n",
       "      <td>Hawks</td>\n",
       "      <td>88</td>\n",
       "      <td>1589.2021</td>\n",
       "      <td>1580.7914</td>\n",
       "      <td>H</td>\n",
       "      <td>W</td>\n",
       "      <td>0.774661</td>\n",
       "      <td>NaN</td>\n",
       "    </tr>\n",
       "    <tr>\n",
       "      <th>126301</th>\n",
       "      <td>63151</td>\n",
       "      <td>201505270GSW</td>\n",
       "      <td>NBA</td>\n",
       "      <td>0</td>\n",
       "      <td>2015</td>\n",
       "      <td>5/27/2015</td>\n",
       "      <td>97</td>\n",
       "      <td>1</td>\n",
       "      <td>GSW</td>\n",
       "      <td>Warriors</td>\n",
       "      <td>104</td>\n",
       "      <td>1797.8933</td>\n",
       "      <td>1802.2509</td>\n",
       "      <td>67.324539</td>\n",
       "      <td>HOU</td>\n",
       "      <td>Rockets</td>\n",
       "      <td>90</td>\n",
       "      <td>1658.9934</td>\n",
       "      <td>1654.6359</td>\n",
       "      <td>H</td>\n",
       "      <td>W</td>\n",
       "      <td>0.798222</td>\n",
       "      <td>NaN</td>\n",
       "    </tr>\n",
       "    <tr>\n",
       "      <th>126303</th>\n",
       "      <td>63152</td>\n",
       "      <td>201506040GSW</td>\n",
       "      <td>NBA</td>\n",
       "      <td>0</td>\n",
       "      <td>2015</td>\n",
       "      <td>6/4/2015</td>\n",
       "      <td>98</td>\n",
       "      <td>1</td>\n",
       "      <td>GSW</td>\n",
       "      <td>Warriors</td>\n",
       "      <td>108</td>\n",
       "      <td>1802.2509</td>\n",
       "      <td>1806.2035</td>\n",
       "      <td>67.566650</td>\n",
       "      <td>CLE</td>\n",
       "      <td>Cavaliers</td>\n",
       "      <td>100</td>\n",
       "      <td>1712.1232</td>\n",
       "      <td>1708.1705</td>\n",
       "      <td>H</td>\n",
       "      <td>W</td>\n",
       "      <td>0.749221</td>\n",
       "      <td>NaN</td>\n",
       "    </tr>\n",
       "    <tr>\n",
       "      <th>126310</th>\n",
       "      <td>63156</td>\n",
       "      <td>201506140GSW</td>\n",
       "      <td>NBA</td>\n",
       "      <td>0</td>\n",
       "      <td>2015</td>\n",
       "      <td>6/14/2015</td>\n",
       "      <td>102</td>\n",
       "      <td>1</td>\n",
       "      <td>GSW</td>\n",
       "      <td>Warriors</td>\n",
       "      <td>104</td>\n",
       "      <td>1809.9791</td>\n",
       "      <td>1813.6349</td>\n",
       "      <td>68.013329</td>\n",
       "      <td>CLE</td>\n",
       "      <td>Cavaliers</td>\n",
       "      <td>91</td>\n",
       "      <td>1704.3949</td>\n",
       "      <td>1700.7391</td>\n",
       "      <td>H</td>\n",
       "      <td>W</td>\n",
       "      <td>0.765565</td>\n",
       "      <td>NaN</td>\n",
       "    </tr>\n",
       "  </tbody>\n",
       "</table>\n",
       "<p>38478 rows × 23 columns</p>\n",
       "</div>"
      ],
      "text/plain": [
       "        gameorder       game_id lg_id  _iscopy  year_id  date_game  \\\n",
       "416           209  194702060CHS   NBA        0     1947   2/6/1947   \n",
       "561           281  194703080CHS   NBA        0     1947   3/8/1947   \n",
       "643           322  194703260WSC   NBA        0     1947  3/26/1947   \n",
       "872           437  194801100WSC   NBA        0     1948  1/10/1948   \n",
       "946           474  194802040NYK   NBA        0     1948   2/4/1948   \n",
       "...           ...           ...   ...      ...      ...        ...   \n",
       "126297      63149  201505250HOU   NBA        0     2015  5/25/2015   \n",
       "126298      63150  201505260CLE   NBA        0     2015  5/26/2015   \n",
       "126301      63151  201505270GSW   NBA        0     2015  5/27/2015   \n",
       "126303      63152  201506040GSW   NBA        0     2015   6/4/2015   \n",
       "126310      63156  201506140GSW   NBA        0     2015  6/14/2015   \n",
       "\n",
       "        seasongame  is_playoffs team_id    fran_id  pts      elo_i      elo_n  \\\n",
       "416             38            0     CHS      Stags  109  1366.5396  1372.1686   \n",
       "561             50            0     CHS      Stags  107  1408.0520  1414.6996   \n",
       "643             59            0     WSC   Capitols  105  1507.9979  1516.3644   \n",
       "872             22            0     WSC   Capitols  106  1471.1442  1474.8654   \n",
       "946             33            0     NYK     Knicks  108  1426.4344  1433.0016   \n",
       "...            ...          ...     ...        ...  ...        ...        ...   \n",
       "126297          98            1     HOU    Rockets  128  1643.4324  1658.9934   \n",
       "126298          96            1     CLE  Cavaliers  118  1703.7124  1712.1232   \n",
       "126301          97            1     GSW   Warriors  104  1797.8933  1802.2509   \n",
       "126303          98            1     GSW   Warriors  108  1802.2509  1806.2035   \n",
       "126310         102            1     GSW   Warriors  104  1809.9791  1813.6349   \n",
       "\n",
       "        win_equiv opp_id      opp_fran  opp_pts  opp_elo_i  opp_elo_n  \\\n",
       "416     48.485294    PIT       Ironmen       85  1206.1873  1200.5582   \n",
       "561     52.697613    PRO  Steamrollers       81  1268.2170  1261.5695   \n",
       "643     61.630302    CHS         Stags       77  1402.2272  1393.8607   \n",
       "872     49.096939    PHW      Warriors       99  1384.2031  1380.4819   \n",
       "946     44.802452    PRO  Steamrollers       69  1229.4822  1222.9150   \n",
       "...           ...    ...           ...      ...        ...        ...   \n",
       "126297  56.407814    GSW      Warriors      115  1813.4543  1797.8933   \n",
       "126298  60.934734    ATL         Hawks       88  1589.2021  1580.7914   \n",
       "126301  67.324539    HOU       Rockets       90  1658.9934  1654.6359   \n",
       "126303  67.566650    CLE     Cavaliers      100  1712.1232  1708.1705   \n",
       "126310  68.013329    CLE     Cavaliers       91  1704.3949  1700.7391   \n",
       "\n",
       "       game_location game_result  forecast notes  \n",
       "416                H           W  0.817382   NaN  \n",
       "561                H           W  0.799088   NaN  \n",
       "643                H           W  0.765758   NaN  \n",
       "872                H           W  0.745759   NaN  \n",
       "946                H           W  0.846758   NaN  \n",
       "...              ...         ...       ...   ...  \n",
       "126297             H           W  0.400573   NaN  \n",
       "126298             H           W  0.774661   NaN  \n",
       "126301             H           W  0.798222   NaN  \n",
       "126303             H           W  0.749221   NaN  \n",
       "126310             H           W  0.765565   NaN  \n",
       "\n",
       "[38478 rows x 23 columns]"
      ]
     },
     "execution_count": 113,
     "metadata": {},
     "output_type": "execute_result"
    }
   ],
   "source": [
    "df[\n",
    "    (df[\"_iscopy\"] == 0) &\n",
    "    (df[\"pts\"] > 100)\n",
    "]"
   ]
  },
  {
   "cell_type": "code",
   "execution_count": 114,
   "id": "a8632cbd",
   "metadata": {
    "ExecuteTime": {
     "end_time": "2022-03-01T14:27:29.840664Z",
     "start_time": "2022-03-01T14:27:29.825457Z"
    }
   },
   "outputs": [
    {
     "data": {
      "text/plain": [
       "18700"
      ]
     },
     "execution_count": 114,
     "metadata": {},
     "output_type": "execute_result"
    }
   ],
   "source": [
    "city_revenues.sum()"
   ]
  },
  {
   "cell_type": "code",
   "execution_count": 115,
   "id": "792fb934",
   "metadata": {
    "ExecuteTime": {
     "end_time": "2022-03-01T14:27:40.482148Z",
     "start_time": "2022-03-01T14:27:40.468469Z"
    }
   },
   "outputs": [
    {
     "data": {
      "text/plain": [
       "8000"
      ]
     },
     "execution_count": 115,
     "metadata": {},
     "output_type": "execute_result"
    }
   ],
   "source": [
    "city_revenues.max()"
   ]
  },
  {
   "cell_type": "code",
   "execution_count": 116,
   "id": "0ece32b8",
   "metadata": {
    "ExecuteTime": {
     "end_time": "2022-03-01T14:27:47.780945Z",
     "start_time": "2022-03-01T14:27:47.769289Z"
    }
   },
   "outputs": [
    {
     "data": {
      "text/plain": [
       "4200"
      ]
     },
     "execution_count": 116,
     "metadata": {},
     "output_type": "execute_result"
    }
   ],
   "source": [
    "city_revenues.min()"
   ]
  },
  {
   "cell_type": "code",
   "execution_count": 117,
   "id": "619cd038",
   "metadata": {
    "ExecuteTime": {
     "end_time": "2022-03-01T14:27:55.152069Z",
     "start_time": "2022-03-01T14:27:55.060365Z"
    }
   },
   "outputs": [
    {
     "data": {
      "text/plain": [
       "6233.333333333333"
      ]
     },
     "execution_count": 117,
     "metadata": {},
     "output_type": "execute_result"
    }
   ],
   "source": [
    "city_revenues.mean()"
   ]
  },
  {
   "cell_type": "code",
   "execution_count": 118,
   "id": "e34af68d",
   "metadata": {
    "ExecuteTime": {
     "end_time": "2022-03-01T14:28:02.749800Z",
     "start_time": "2022-03-01T14:28:02.660631Z"
    }
   },
   "outputs": [
    {
     "data": {
      "text/plain": [
       "6500.0"
      ]
     },
     "execution_count": 118,
     "metadata": {},
     "output_type": "execute_result"
    }
   ],
   "source": [
    "city_revenues.median()"
   ]
  },
  {
   "cell_type": "code",
   "execution_count": 119,
   "id": "c039fb16",
   "metadata": {
    "ExecuteTime": {
     "end_time": "2022-03-01T14:28:17.109659Z",
     "start_time": "2022-03-01T14:28:17.013392Z"
    }
   },
   "outputs": [
    {
     "data": {
      "text/plain": [
       "Amsterdam    4200\n",
       "Toronto      8000\n",
       "Tokyo        6500\n",
       "dtype: int64"
      ]
     },
     "execution_count": 119,
     "metadata": {},
     "output_type": "execute_result"
    }
   ],
   "source": [
    "city_revenues"
   ]
  },
  {
   "cell_type": "code",
   "execution_count": 122,
   "id": "b7600037",
   "metadata": {
    "ExecuteTime": {
     "end_time": "2022-03-01T14:29:42.139327Z",
     "start_time": "2022-03-01T14:29:42.119060Z"
    }
   },
   "outputs": [
    {
     "data": {
      "text/plain": [
       "12976235"
      ]
     },
     "execution_count": 122,
     "metadata": {},
     "output_type": "execute_result"
    }
   ],
   "source": [
    "points = df['pts']\n",
    "# points # n rows of data pts\n",
    "points.sum()"
   ]
  },
  {
   "cell_type": "code",
   "execution_count": 126,
   "id": "382060ca",
   "metadata": {
    "ExecuteTime": {
     "end_time": "2022-03-01T14:33:09.449009Z",
     "start_time": "2022-03-01T14:33:09.396314Z"
    }
   },
   "outputs": [
    {
     "data": {
      "text/plain": [
       "fran_id\n",
       "Ironmen           3674\n",
       "Falcons           3797\n",
       "Huskies           3995\n",
       "Rebels            4474\n",
       "Jets              4482\n",
       "Denver            4818\n",
       "Waterloo          4921\n",
       "Redskins          5372\n",
       "Packers           6193\n",
       "Steamrollers     12372\n",
       "Bombers          17793\n",
       "Stags            20398\n",
       "Capitols         22387\n",
       "Olympians        22864\n",
       "Sails            30080\n",
       "Baltimore        37219\n",
       "Floridians       49568\n",
       "Condors          49642\n",
       "Sounds           75582\n",
       "Hornets          84489\n",
       "Stars            84940\n",
       "Spirits          85874\n",
       "Squires          91127\n",
       "Colonels         94435\n",
       "Grizzlies       157683\n",
       "Raptors         158370\n",
       "Timberwolves    207693\n",
       "Magic           219436\n",
       "Pelicans        220794\n",
       "Heat            229103\n",
       "Mavericks       309239\n",
       "Jazz            363155\n",
       "Cavaliers       380416\n",
       "Clippers        380523\n",
       "Trailblazers    402695\n",
       "Nets            417809\n",
       "Bucks           418326\n",
       "Rockets         432504\n",
       "Bulls           437269\n",
       "Suns            437486\n",
       "Thunder         437735\n",
       "Pacers          438288\n",
       "Nuggets         445780\n",
       "Spurs           453822\n",
       "Wizards         474809\n",
       "Hawks           567261\n",
       "Kings           569245\n",
       "Pistons         572758\n",
       "Knicks          582497\n",
       "Sixers          585891\n",
       "Warriors        591224\n",
       "Celtics         626484\n",
       "Lakers          637444\n",
       "Name: pts, dtype: int64"
      ]
     },
     "execution_count": 126,
     "metadata": {},
     "output_type": "execute_result"
    }
   ],
   "source": [
    "# df.groupby('fran_id', sort=False)['pts'].sum()\n",
    "df.groupby('fran_id', sort=False)['pts'].sum().sort_values()"
   ]
  },
  {
   "cell_type": "code",
   "execution_count": 127,
   "id": "c85c46ba",
   "metadata": {
    "ExecuteTime": {
     "end_time": "2022-03-01T14:33:21.111934Z",
     "start_time": "2022-03-01T14:33:21.055693Z"
    }
   },
   "outputs": [
    {
     "data": {
      "text/plain": [
       "team_id\n",
       "SDS      1087\n",
       "PIT      3674\n",
       "DTF      3797\n",
       "TRH      3995\n",
       "CLR      4474\n",
       "        ...  \n",
       "PHI    472991\n",
       "DET    516438\n",
       "LAL    549215\n",
       "NYK    582497\n",
       "BOS    626484\n",
       "Name: pts, Length: 104, dtype: int64"
      ]
     },
     "execution_count": 127,
     "metadata": {},
     "output_type": "execute_result"
    }
   ],
   "source": [
    "df.groupby('team_id', sort=False)['pts'].sum().sort_values()"
   ]
  },
  {
   "cell_type": "code",
   "execution_count": 128,
   "id": "d4099da2",
   "metadata": {
    "ExecuteTime": {
     "end_time": "2022-03-01T14:34:22.796010Z",
     "start_time": "2022-03-01T14:34:22.783849Z"
    }
   },
   "outputs": [
    {
     "data": {
      "text/plain": [
       "pandas.core.series.Series"
      ]
     },
     "execution_count": 128,
     "metadata": {},
     "output_type": "execute_result"
    }
   ],
   "source": [
    "type(city_revenues)"
   ]
  },
  {
   "cell_type": "code",
   "execution_count": 130,
   "id": "5a743499",
   "metadata": {
    "ExecuteTime": {
     "end_time": "2022-03-01T14:36:47.919543Z",
     "start_time": "2022-03-01T14:36:47.855704Z"
    }
   },
   "outputs": [
    {
     "data": {
      "text/plain": [
       "game_result\n",
       "L    133\n",
       "W    332\n",
       "Name: game_id, dtype: int64"
      ]
     },
     "execution_count": 130,
     "metadata": {},
     "output_type": "execute_result"
    }
   ],
   "source": [
    "df[\n",
    "    (df[\"fran_id\"] == 'Spurs') &\n",
    "    (df[\"year_id\"] > 2010)\n",
    "].groupby([\"game_result\"])[\"game_id\"].count()"
   ]
  },
  {
   "cell_type": "code",
   "execution_count": 131,
   "id": "91915b1f",
   "metadata": {
    "ExecuteTime": {
     "end_time": "2022-03-01T14:38:12.231796Z",
     "start_time": "2022-03-01T14:38:12.159342Z"
    }
   },
   "outputs": [
    {
     "data": {
      "text/plain": [
       "game_result\n",
       "L    20\n",
       "W    83\n",
       "Name: game_id, dtype: int64"
      ]
     },
     "execution_count": 131,
     "metadata": {},
     "output_type": "execute_result"
    }
   ],
   "source": [
    "df[\n",
    "    (df[\"fran_id\"] == 'Warriors') &\n",
    "    (df[\"year_id\"] == 2015)\n",
    "].groupby(['game_result'])['game_id'].count()"
   ]
  },
  {
   "cell_type": "code",
   "execution_count": 132,
   "id": "7e14a0ea",
   "metadata": {
    "ExecuteTime": {
     "end_time": "2022-03-01T14:38:24.437952Z",
     "start_time": "2022-03-01T14:38:24.426293Z"
    }
   },
   "outputs": [
    {
     "data": {
      "text/plain": [
       "(126314, 23)"
      ]
     },
     "execution_count": 132,
     "metadata": {},
     "output_type": "execute_result"
    }
   ],
   "source": [
    "df.shape"
   ]
  },
  {
   "cell_type": "code",
   "execution_count": 133,
   "id": "45cf5e17",
   "metadata": {
    "ExecuteTime": {
     "end_time": "2022-03-01T14:38:57.847158Z",
     "start_time": "2022-03-01T14:38:57.803079Z"
    }
   },
   "outputs": [
    {
     "data": {
      "text/plain": [
       "(126314, 23)"
      ]
     },
     "execution_count": 133,
     "metadata": {},
     "output_type": "execute_result"
    }
   ],
   "source": [
    "nba = df.copy()\n",
    "nba.shape"
   ]
  },
  {
   "cell_type": "code",
   "execution_count": 137,
   "id": "3b9878d1",
   "metadata": {
    "ExecuteTime": {
     "end_time": "2022-03-01T14:41:06.043297Z",
     "start_time": "2022-03-01T14:41:06.029115Z"
    }
   },
   "outputs": [],
   "source": [
    "nba['difference'] = nba[\"pts\"] - nba[\"opp_pts\"]"
   ]
  },
  {
   "cell_type": "code",
   "execution_count": 138,
   "id": "e8b125fa",
   "metadata": {
    "ExecuteTime": {
     "end_time": "2022-03-01T14:41:08.032966Z",
     "start_time": "2022-03-01T14:41:08.022325Z"
    }
   },
   "outputs": [
    {
     "data": {
      "text/plain": [
       "(126314, 24)"
      ]
     },
     "execution_count": 138,
     "metadata": {},
     "output_type": "execute_result"
    }
   ],
   "source": [
    "nba.shape"
   ]
  },
  {
   "cell_type": "code",
   "execution_count": 139,
   "id": "2f2101e9",
   "metadata": {
    "ExecuteTime": {
     "end_time": "2022-03-01T14:41:18.563979Z",
     "start_time": "2022-03-01T14:41:18.493046Z"
    }
   },
   "outputs": [
    {
     "data": {
      "text/html": [
       "<div>\n",
       "<style scoped>\n",
       "    .dataframe tbody tr th:only-of-type {\n",
       "        vertical-align: middle;\n",
       "    }\n",
       "\n",
       "    .dataframe tbody tr th {\n",
       "        vertical-align: top;\n",
       "    }\n",
       "\n",
       "    .dataframe thead th {\n",
       "        text-align: right;\n",
       "    }\n",
       "</style>\n",
       "<table border=\"1\" class=\"dataframe\">\n",
       "  <thead>\n",
       "    <tr style=\"text-align: right;\">\n",
       "      <th></th>\n",
       "      <th>gameorder</th>\n",
       "      <th>game_id</th>\n",
       "      <th>lg_id</th>\n",
       "      <th>_iscopy</th>\n",
       "      <th>year_id</th>\n",
       "      <th>date_game</th>\n",
       "      <th>seasongame</th>\n",
       "      <th>is_playoffs</th>\n",
       "      <th>team_id</th>\n",
       "      <th>fran_id</th>\n",
       "      <th>pts</th>\n",
       "      <th>elo_i</th>\n",
       "      <th>elo_n</th>\n",
       "      <th>win_equiv</th>\n",
       "      <th>opp_id</th>\n",
       "      <th>opp_fran</th>\n",
       "      <th>opp_pts</th>\n",
       "      <th>opp_elo_i</th>\n",
       "      <th>opp_elo_n</th>\n",
       "      <th>game_location</th>\n",
       "      <th>game_result</th>\n",
       "      <th>forecast</th>\n",
       "      <th>notes</th>\n",
       "      <th>difference</th>\n",
       "    </tr>\n",
       "  </thead>\n",
       "  <tbody>\n",
       "    <tr>\n",
       "      <th>0</th>\n",
       "      <td>1</td>\n",
       "      <td>194611010TRH</td>\n",
       "      <td>NBA</td>\n",
       "      <td>0</td>\n",
       "      <td>1947</td>\n",
       "      <td>11/1/1946</td>\n",
       "      <td>1</td>\n",
       "      <td>0</td>\n",
       "      <td>TRH</td>\n",
       "      <td>Huskies</td>\n",
       "      <td>66</td>\n",
       "      <td>1300.0</td>\n",
       "      <td>1293.2767</td>\n",
       "      <td>40.29483</td>\n",
       "      <td>NYK</td>\n",
       "      <td>Knicks</td>\n",
       "      <td>68</td>\n",
       "      <td>1300.0</td>\n",
       "      <td>1306.7233</td>\n",
       "      <td>H</td>\n",
       "      <td>L</td>\n",
       "      <td>0.640065</td>\n",
       "      <td>NaN</td>\n",
       "      <td>-2</td>\n",
       "    </tr>\n",
       "    <tr>\n",
       "      <th>1</th>\n",
       "      <td>1</td>\n",
       "      <td>194611010TRH</td>\n",
       "      <td>NBA</td>\n",
       "      <td>1</td>\n",
       "      <td>1947</td>\n",
       "      <td>11/1/1946</td>\n",
       "      <td>1</td>\n",
       "      <td>0</td>\n",
       "      <td>NYK</td>\n",
       "      <td>Knicks</td>\n",
       "      <td>68</td>\n",
       "      <td>1300.0</td>\n",
       "      <td>1306.7233</td>\n",
       "      <td>41.70517</td>\n",
       "      <td>TRH</td>\n",
       "      <td>Huskies</td>\n",
       "      <td>66</td>\n",
       "      <td>1300.0</td>\n",
       "      <td>1293.2767</td>\n",
       "      <td>A</td>\n",
       "      <td>W</td>\n",
       "      <td>0.359935</td>\n",
       "      <td>NaN</td>\n",
       "      <td>2</td>\n",
       "    </tr>\n",
       "  </tbody>\n",
       "</table>\n",
       "</div>"
      ],
      "text/plain": [
       "   gameorder       game_id lg_id  _iscopy  year_id  date_game  seasongame  \\\n",
       "0          1  194611010TRH   NBA        0     1947  11/1/1946           1   \n",
       "1          1  194611010TRH   NBA        1     1947  11/1/1946           1   \n",
       "\n",
       "   is_playoffs team_id  fran_id  pts   elo_i      elo_n  win_equiv opp_id  \\\n",
       "0            0     TRH  Huskies   66  1300.0  1293.2767   40.29483    NYK   \n",
       "1            0     NYK   Knicks   68  1300.0  1306.7233   41.70517    TRH   \n",
       "\n",
       "  opp_fran  opp_pts  opp_elo_i  opp_elo_n game_location game_result  forecast  \\\n",
       "0   Knicks       68     1300.0  1306.7233             H           L  0.640065   \n",
       "1  Huskies       66     1300.0  1293.2767             A           W  0.359935   \n",
       "\n",
       "  notes  difference  \n",
       "0   NaN          -2  \n",
       "1   NaN           2  "
      ]
     },
     "execution_count": 139,
     "metadata": {},
     "output_type": "execute_result"
    }
   ],
   "source": [
    "nba.head(2)"
   ]
  },
  {
   "cell_type": "code",
   "execution_count": 140,
   "id": "fc133d26",
   "metadata": {
    "ExecuteTime": {
     "end_time": "2022-03-01T14:41:50.375394Z",
     "start_time": "2022-03-01T14:41:50.357154Z"
    }
   },
   "outputs": [
    {
     "data": {
      "text/plain": [
       "68"
      ]
     },
     "execution_count": 140,
     "metadata": {},
     "output_type": "execute_result"
    }
   ],
   "source": [
    "nba[\"difference\"].max()"
   ]
  },
  {
   "cell_type": "code",
   "execution_count": 141,
   "id": "edcbe2a3",
   "metadata": {
    "ExecuteTime": {
     "end_time": "2022-03-01T14:43:31.496892Z",
     "start_time": "2022-03-01T14:43:31.443186Z"
    }
   },
   "outputs": [],
   "source": [
    "renamed_nba = nba.rename(\n",
    "    columns={\"game_result\": \"result\", \n",
    "             \"game_location\" : \"location\"} \n",
    ")"
   ]
  },
  {
   "cell_type": "code",
   "execution_count": 142,
   "id": "2ebd73c0",
   "metadata": {
    "ExecuteTime": {
     "end_time": "2022-03-01T14:43:38.298295Z",
     "start_time": "2022-03-01T14:43:38.064217Z"
    }
   },
   "outputs": [
    {
     "name": "stdout",
     "output_type": "stream",
     "text": [
      "<class 'pandas.core.frame.DataFrame'>\n",
      "RangeIndex: 126314 entries, 0 to 126313\n",
      "Data columns (total 24 columns):\n",
      " #   Column       Non-Null Count   Dtype  \n",
      "---  ------       --------------   -----  \n",
      " 0   gameorder    126314 non-null  int64  \n",
      " 1   game_id      126314 non-null  object \n",
      " 2   lg_id        126314 non-null  object \n",
      " 3   _iscopy      126314 non-null  int64  \n",
      " 4   year_id      126314 non-null  int64  \n",
      " 5   date_game    126314 non-null  object \n",
      " 6   seasongame   126314 non-null  int64  \n",
      " 7   is_playoffs  126314 non-null  int64  \n",
      " 8   team_id      126314 non-null  object \n",
      " 9   fran_id      126314 non-null  object \n",
      " 10  pts          126314 non-null  int64  \n",
      " 11  elo_i        126314 non-null  float64\n",
      " 12  elo_n        126314 non-null  float64\n",
      " 13  win_equiv    126314 non-null  float64\n",
      " 14  opp_id       126314 non-null  object \n",
      " 15  opp_fran     126314 non-null  object \n",
      " 16  opp_pts      126314 non-null  int64  \n",
      " 17  opp_elo_i    126314 non-null  float64\n",
      " 18  opp_elo_n    126314 non-null  float64\n",
      " 19  location     126314 non-null  object \n",
      " 20  result       126314 non-null  object \n",
      " 21  forecast     126314 non-null  float64\n",
      " 22  notes        5424 non-null    object \n",
      " 23  difference   126314 non-null  int64  \n",
      "dtypes: float64(6), int64(8), object(10)\n",
      "memory usage: 23.1+ MB\n"
     ]
    }
   ],
   "source": [
    "renamed_nba.info()"
   ]
  },
  {
   "cell_type": "code",
   "execution_count": 146,
   "id": "27c785e3",
   "metadata": {
    "ExecuteTime": {
     "end_time": "2022-03-01T14:44:55.835185Z",
     "start_time": "2022-03-01T14:44:55.822015Z"
    }
   },
   "outputs": [
    {
     "data": {
      "text/plain": [
       "(126314, 24)"
      ]
     },
     "execution_count": 146,
     "metadata": {},
     "output_type": "execute_result"
    }
   ],
   "source": [
    "nba.shape"
   ]
  },
  {
   "cell_type": "code",
   "execution_count": 147,
   "id": "4a1f34ed",
   "metadata": {
    "ExecuteTime": {
     "end_time": "2022-03-01T14:45:37.297223Z",
     "start_time": "2022-03-01T14:45:37.227303Z"
    }
   },
   "outputs": [],
   "source": [
    "# nba.drop('elo_i', axis=1)\n",
    "nba.drop('elo_i', axis=1, inplace=True)"
   ]
  },
  {
   "cell_type": "code",
   "execution_count": 148,
   "id": "3098fa8f",
   "metadata": {
    "ExecuteTime": {
     "end_time": "2022-03-01T14:45:42.816650Z",
     "start_time": "2022-03-01T14:45:42.694034Z"
    }
   },
   "outputs": [
    {
     "data": {
      "text/html": [
       "<div>\n",
       "<style scoped>\n",
       "    .dataframe tbody tr th:only-of-type {\n",
       "        vertical-align: middle;\n",
       "    }\n",
       "\n",
       "    .dataframe tbody tr th {\n",
       "        vertical-align: top;\n",
       "    }\n",
       "\n",
       "    .dataframe thead th {\n",
       "        text-align: right;\n",
       "    }\n",
       "</style>\n",
       "<table border=\"1\" class=\"dataframe\">\n",
       "  <thead>\n",
       "    <tr style=\"text-align: right;\">\n",
       "      <th></th>\n",
       "      <th>gameorder</th>\n",
       "      <th>game_id</th>\n",
       "      <th>lg_id</th>\n",
       "      <th>_iscopy</th>\n",
       "      <th>year_id</th>\n",
       "      <th>date_game</th>\n",
       "      <th>seasongame</th>\n",
       "      <th>is_playoffs</th>\n",
       "      <th>team_id</th>\n",
       "      <th>fran_id</th>\n",
       "      <th>pts</th>\n",
       "      <th>elo_n</th>\n",
       "      <th>win_equiv</th>\n",
       "      <th>opp_id</th>\n",
       "      <th>opp_fran</th>\n",
       "      <th>opp_pts</th>\n",
       "      <th>opp_elo_i</th>\n",
       "      <th>opp_elo_n</th>\n",
       "      <th>game_location</th>\n",
       "      <th>game_result</th>\n",
       "      <th>forecast</th>\n",
       "      <th>notes</th>\n",
       "      <th>difference</th>\n",
       "    </tr>\n",
       "  </thead>\n",
       "  <tbody>\n",
       "    <tr>\n",
       "      <th>0</th>\n",
       "      <td>1</td>\n",
       "      <td>194611010TRH</td>\n",
       "      <td>NBA</td>\n",
       "      <td>0</td>\n",
       "      <td>1947</td>\n",
       "      <td>11/1/1946</td>\n",
       "      <td>1</td>\n",
       "      <td>0</td>\n",
       "      <td>TRH</td>\n",
       "      <td>Huskies</td>\n",
       "      <td>66</td>\n",
       "      <td>1293.2767</td>\n",
       "      <td>40.294830</td>\n",
       "      <td>NYK</td>\n",
       "      <td>Knicks</td>\n",
       "      <td>68</td>\n",
       "      <td>1300.0000</td>\n",
       "      <td>1306.7233</td>\n",
       "      <td>H</td>\n",
       "      <td>L</td>\n",
       "      <td>0.640065</td>\n",
       "      <td>NaN</td>\n",
       "      <td>-2</td>\n",
       "    </tr>\n",
       "    <tr>\n",
       "      <th>1</th>\n",
       "      <td>1</td>\n",
       "      <td>194611010TRH</td>\n",
       "      <td>NBA</td>\n",
       "      <td>1</td>\n",
       "      <td>1947</td>\n",
       "      <td>11/1/1946</td>\n",
       "      <td>1</td>\n",
       "      <td>0</td>\n",
       "      <td>NYK</td>\n",
       "      <td>Knicks</td>\n",
       "      <td>68</td>\n",
       "      <td>1306.7233</td>\n",
       "      <td>41.705170</td>\n",
       "      <td>TRH</td>\n",
       "      <td>Huskies</td>\n",
       "      <td>66</td>\n",
       "      <td>1300.0000</td>\n",
       "      <td>1293.2767</td>\n",
       "      <td>A</td>\n",
       "      <td>W</td>\n",
       "      <td>0.359935</td>\n",
       "      <td>NaN</td>\n",
       "      <td>2</td>\n",
       "    </tr>\n",
       "    <tr>\n",
       "      <th>2</th>\n",
       "      <td>2</td>\n",
       "      <td>194611020CHS</td>\n",
       "      <td>NBA</td>\n",
       "      <td>0</td>\n",
       "      <td>1947</td>\n",
       "      <td>11/2/1946</td>\n",
       "      <td>1</td>\n",
       "      <td>0</td>\n",
       "      <td>CHS</td>\n",
       "      <td>Stags</td>\n",
       "      <td>63</td>\n",
       "      <td>1309.6521</td>\n",
       "      <td>42.012257</td>\n",
       "      <td>NYK</td>\n",
       "      <td>Knicks</td>\n",
       "      <td>47</td>\n",
       "      <td>1306.7233</td>\n",
       "      <td>1297.0712</td>\n",
       "      <td>H</td>\n",
       "      <td>W</td>\n",
       "      <td>0.631101</td>\n",
       "      <td>NaN</td>\n",
       "      <td>16</td>\n",
       "    </tr>\n",
       "    <tr>\n",
       "      <th>3</th>\n",
       "      <td>2</td>\n",
       "      <td>194611020CHS</td>\n",
       "      <td>NBA</td>\n",
       "      <td>1</td>\n",
       "      <td>1947</td>\n",
       "      <td>11/2/1946</td>\n",
       "      <td>2</td>\n",
       "      <td>0</td>\n",
       "      <td>NYK</td>\n",
       "      <td>Knicks</td>\n",
       "      <td>47</td>\n",
       "      <td>1297.0712</td>\n",
       "      <td>40.692783</td>\n",
       "      <td>CHS</td>\n",
       "      <td>Stags</td>\n",
       "      <td>63</td>\n",
       "      <td>1300.0000</td>\n",
       "      <td>1309.6521</td>\n",
       "      <td>A</td>\n",
       "      <td>L</td>\n",
       "      <td>0.368899</td>\n",
       "      <td>NaN</td>\n",
       "      <td>-16</td>\n",
       "    </tr>\n",
       "    <tr>\n",
       "      <th>4</th>\n",
       "      <td>3</td>\n",
       "      <td>194611020DTF</td>\n",
       "      <td>NBA</td>\n",
       "      <td>0</td>\n",
       "      <td>1947</td>\n",
       "      <td>11/2/1946</td>\n",
       "      <td>1</td>\n",
       "      <td>0</td>\n",
       "      <td>DTF</td>\n",
       "      <td>Falcons</td>\n",
       "      <td>33</td>\n",
       "      <td>1279.6189</td>\n",
       "      <td>38.864048</td>\n",
       "      <td>WSC</td>\n",
       "      <td>Capitols</td>\n",
       "      <td>50</td>\n",
       "      <td>1300.0000</td>\n",
       "      <td>1320.3811</td>\n",
       "      <td>H</td>\n",
       "      <td>L</td>\n",
       "      <td>0.640065</td>\n",
       "      <td>NaN</td>\n",
       "      <td>-17</td>\n",
       "    </tr>\n",
       "    <tr>\n",
       "      <th>...</th>\n",
       "      <td>...</td>\n",
       "      <td>...</td>\n",
       "      <td>...</td>\n",
       "      <td>...</td>\n",
       "      <td>...</td>\n",
       "      <td>...</td>\n",
       "      <td>...</td>\n",
       "      <td>...</td>\n",
       "      <td>...</td>\n",
       "      <td>...</td>\n",
       "      <td>...</td>\n",
       "      <td>...</td>\n",
       "      <td>...</td>\n",
       "      <td>...</td>\n",
       "      <td>...</td>\n",
       "      <td>...</td>\n",
       "      <td>...</td>\n",
       "      <td>...</td>\n",
       "      <td>...</td>\n",
       "      <td>...</td>\n",
       "      <td>...</td>\n",
       "      <td>...</td>\n",
       "      <td>...</td>\n",
       "    </tr>\n",
       "    <tr>\n",
       "      <th>126309</th>\n",
       "      <td>63155</td>\n",
       "      <td>201506110CLE</td>\n",
       "      <td>NBA</td>\n",
       "      <td>0</td>\n",
       "      <td>2015</td>\n",
       "      <td>6/11/2015</td>\n",
       "      <td>100</td>\n",
       "      <td>1</td>\n",
       "      <td>CLE</td>\n",
       "      <td>Cavaliers</td>\n",
       "      <td>82</td>\n",
       "      <td>1704.3949</td>\n",
       "      <td>60.309792</td>\n",
       "      <td>GSW</td>\n",
       "      <td>Warriors</td>\n",
       "      <td>103</td>\n",
       "      <td>1790.9591</td>\n",
       "      <td>1809.9791</td>\n",
       "      <td>H</td>\n",
       "      <td>L</td>\n",
       "      <td>0.546572</td>\n",
       "      <td>NaN</td>\n",
       "      <td>-21</td>\n",
       "    </tr>\n",
       "    <tr>\n",
       "      <th>126310</th>\n",
       "      <td>63156</td>\n",
       "      <td>201506140GSW</td>\n",
       "      <td>NBA</td>\n",
       "      <td>0</td>\n",
       "      <td>2015</td>\n",
       "      <td>6/14/2015</td>\n",
       "      <td>102</td>\n",
       "      <td>1</td>\n",
       "      <td>GSW</td>\n",
       "      <td>Warriors</td>\n",
       "      <td>104</td>\n",
       "      <td>1813.6349</td>\n",
       "      <td>68.013329</td>\n",
       "      <td>CLE</td>\n",
       "      <td>Cavaliers</td>\n",
       "      <td>91</td>\n",
       "      <td>1704.3949</td>\n",
       "      <td>1700.7391</td>\n",
       "      <td>H</td>\n",
       "      <td>W</td>\n",
       "      <td>0.765565</td>\n",
       "      <td>NaN</td>\n",
       "      <td>13</td>\n",
       "    </tr>\n",
       "    <tr>\n",
       "      <th>126311</th>\n",
       "      <td>63156</td>\n",
       "      <td>201506140GSW</td>\n",
       "      <td>NBA</td>\n",
       "      <td>1</td>\n",
       "      <td>2015</td>\n",
       "      <td>6/14/2015</td>\n",
       "      <td>101</td>\n",
       "      <td>1</td>\n",
       "      <td>CLE</td>\n",
       "      <td>Cavaliers</td>\n",
       "      <td>91</td>\n",
       "      <td>1700.7391</td>\n",
       "      <td>60.010067</td>\n",
       "      <td>GSW</td>\n",
       "      <td>Warriors</td>\n",
       "      <td>104</td>\n",
       "      <td>1809.9791</td>\n",
       "      <td>1813.6349</td>\n",
       "      <td>A</td>\n",
       "      <td>L</td>\n",
       "      <td>0.234435</td>\n",
       "      <td>NaN</td>\n",
       "      <td>-13</td>\n",
       "    </tr>\n",
       "    <tr>\n",
       "      <th>126312</th>\n",
       "      <td>63157</td>\n",
       "      <td>201506170CLE</td>\n",
       "      <td>NBA</td>\n",
       "      <td>0</td>\n",
       "      <td>2015</td>\n",
       "      <td>6/16/2015</td>\n",
       "      <td>102</td>\n",
       "      <td>1</td>\n",
       "      <td>CLE</td>\n",
       "      <td>Cavaliers</td>\n",
       "      <td>97</td>\n",
       "      <td>1692.0859</td>\n",
       "      <td>59.290245</td>\n",
       "      <td>GSW</td>\n",
       "      <td>Warriors</td>\n",
       "      <td>105</td>\n",
       "      <td>1813.6349</td>\n",
       "      <td>1822.2881</td>\n",
       "      <td>H</td>\n",
       "      <td>L</td>\n",
       "      <td>0.481450</td>\n",
       "      <td>NaN</td>\n",
       "      <td>-8</td>\n",
       "    </tr>\n",
       "    <tr>\n",
       "      <th>126313</th>\n",
       "      <td>63157</td>\n",
       "      <td>201506170CLE</td>\n",
       "      <td>NBA</td>\n",
       "      <td>1</td>\n",
       "      <td>2015</td>\n",
       "      <td>6/16/2015</td>\n",
       "      <td>103</td>\n",
       "      <td>1</td>\n",
       "      <td>GSW</td>\n",
       "      <td>Warriors</td>\n",
       "      <td>105</td>\n",
       "      <td>1822.2881</td>\n",
       "      <td>68.519516</td>\n",
       "      <td>CLE</td>\n",
       "      <td>Cavaliers</td>\n",
       "      <td>97</td>\n",
       "      <td>1700.7391</td>\n",
       "      <td>1692.0859</td>\n",
       "      <td>A</td>\n",
       "      <td>W</td>\n",
       "      <td>0.518550</td>\n",
       "      <td>NaN</td>\n",
       "      <td>8</td>\n",
       "    </tr>\n",
       "  </tbody>\n",
       "</table>\n",
       "<p>126314 rows × 23 columns</p>\n",
       "</div>"
      ],
      "text/plain": [
       "        gameorder       game_id lg_id  _iscopy  year_id  date_game  \\\n",
       "0               1  194611010TRH   NBA        0     1947  11/1/1946   \n",
       "1               1  194611010TRH   NBA        1     1947  11/1/1946   \n",
       "2               2  194611020CHS   NBA        0     1947  11/2/1946   \n",
       "3               2  194611020CHS   NBA        1     1947  11/2/1946   \n",
       "4               3  194611020DTF   NBA        0     1947  11/2/1946   \n",
       "...           ...           ...   ...      ...      ...        ...   \n",
       "126309      63155  201506110CLE   NBA        0     2015  6/11/2015   \n",
       "126310      63156  201506140GSW   NBA        0     2015  6/14/2015   \n",
       "126311      63156  201506140GSW   NBA        1     2015  6/14/2015   \n",
       "126312      63157  201506170CLE   NBA        0     2015  6/16/2015   \n",
       "126313      63157  201506170CLE   NBA        1     2015  6/16/2015   \n",
       "\n",
       "        seasongame  is_playoffs team_id    fran_id  pts      elo_n  win_equiv  \\\n",
       "0                1            0     TRH    Huskies   66  1293.2767  40.294830   \n",
       "1                1            0     NYK     Knicks   68  1306.7233  41.705170   \n",
       "2                1            0     CHS      Stags   63  1309.6521  42.012257   \n",
       "3                2            0     NYK     Knicks   47  1297.0712  40.692783   \n",
       "4                1            0     DTF    Falcons   33  1279.6189  38.864048   \n",
       "...            ...          ...     ...        ...  ...        ...        ...   \n",
       "126309         100            1     CLE  Cavaliers   82  1704.3949  60.309792   \n",
       "126310         102            1     GSW   Warriors  104  1813.6349  68.013329   \n",
       "126311         101            1     CLE  Cavaliers   91  1700.7391  60.010067   \n",
       "126312         102            1     CLE  Cavaliers   97  1692.0859  59.290245   \n",
       "126313         103            1     GSW   Warriors  105  1822.2881  68.519516   \n",
       "\n",
       "       opp_id   opp_fran  opp_pts  opp_elo_i  opp_elo_n game_location  \\\n",
       "0         NYK     Knicks       68  1300.0000  1306.7233             H   \n",
       "1         TRH    Huskies       66  1300.0000  1293.2767             A   \n",
       "2         NYK     Knicks       47  1306.7233  1297.0712             H   \n",
       "3         CHS      Stags       63  1300.0000  1309.6521             A   \n",
       "4         WSC   Capitols       50  1300.0000  1320.3811             H   \n",
       "...       ...        ...      ...        ...        ...           ...   \n",
       "126309    GSW   Warriors      103  1790.9591  1809.9791             H   \n",
       "126310    CLE  Cavaliers       91  1704.3949  1700.7391             H   \n",
       "126311    GSW   Warriors      104  1809.9791  1813.6349             A   \n",
       "126312    GSW   Warriors      105  1813.6349  1822.2881             H   \n",
       "126313    CLE  Cavaliers       97  1700.7391  1692.0859             A   \n",
       "\n",
       "       game_result  forecast notes  difference  \n",
       "0                L  0.640065   NaN          -2  \n",
       "1                W  0.359935   NaN           2  \n",
       "2                W  0.631101   NaN          16  \n",
       "3                L  0.368899   NaN         -16  \n",
       "4                L  0.640065   NaN         -17  \n",
       "...            ...       ...   ...         ...  \n",
       "126309           L  0.546572   NaN         -21  \n",
       "126310           W  0.765565   NaN          13  \n",
       "126311           L  0.234435   NaN         -13  \n",
       "126312           L  0.481450   NaN          -8  \n",
       "126313           W  0.518550   NaN           8  \n",
       "\n",
       "[126314 rows x 23 columns]"
      ]
     },
     "execution_count": 148,
     "metadata": {},
     "output_type": "execute_result"
    }
   ],
   "source": [
    "nba"
   ]
  },
  {
   "cell_type": "code",
   "execution_count": 149,
   "id": "f2fbb667",
   "metadata": {
    "ExecuteTime": {
     "end_time": "2022-03-01T14:46:49.239919Z",
     "start_time": "2022-03-01T14:46:49.169493Z"
    }
   },
   "outputs": [],
   "source": [
    "elo_columns = ['elo_n', 'opp_elo_i', 'opp_elo_n']\n",
    "nba.drop(elo_columns, axis=1, inplace=True)"
   ]
  },
  {
   "cell_type": "code",
   "execution_count": 150,
   "id": "96de2df2",
   "metadata": {
    "ExecuteTime": {
     "end_time": "2022-03-01T14:46:54.944347Z",
     "start_time": "2022-03-01T14:46:54.652001Z"
    }
   },
   "outputs": [
    {
     "name": "stdout",
     "output_type": "stream",
     "text": [
      "<class 'pandas.core.frame.DataFrame'>\n",
      "RangeIndex: 126314 entries, 0 to 126313\n",
      "Data columns (total 20 columns):\n",
      " #   Column         Non-Null Count   Dtype  \n",
      "---  ------         --------------   -----  \n",
      " 0   gameorder      126314 non-null  int64  \n",
      " 1   game_id        126314 non-null  object \n",
      " 2   lg_id          126314 non-null  object \n",
      " 3   _iscopy        126314 non-null  int64  \n",
      " 4   year_id        126314 non-null  int64  \n",
      " 5   date_game      126314 non-null  object \n",
      " 6   seasongame     126314 non-null  int64  \n",
      " 7   is_playoffs    126314 non-null  int64  \n",
      " 8   team_id        126314 non-null  object \n",
      " 9   fran_id        126314 non-null  object \n",
      " 10  pts            126314 non-null  int64  \n",
      " 11  win_equiv      126314 non-null  float64\n",
      " 12  opp_id         126314 non-null  object \n",
      " 13  opp_fran       126314 non-null  object \n",
      " 14  opp_pts        126314 non-null  int64  \n",
      " 15  game_location  126314 non-null  object \n",
      " 16  game_result    126314 non-null  object \n",
      " 17  forecast       126314 non-null  float64\n",
      " 18  notes          5424 non-null    object \n",
      " 19  difference     126314 non-null  int64  \n",
      "dtypes: float64(2), int64(8), object(10)\n",
      "memory usage: 19.3+ MB\n"
     ]
    }
   ],
   "source": [
    "nba.info()"
   ]
  },
  {
   "cell_type": "code",
   "execution_count": 151,
   "id": "8e2cab30",
   "metadata": {
    "ExecuteTime": {
     "end_time": "2022-03-01T14:48:39.048479Z",
     "start_time": "2022-03-01T14:48:38.821999Z"
    }
   },
   "outputs": [
    {
     "data": {
      "text/plain": [
       "array(['H', 'A', 'N'], dtype=object)"
      ]
     },
     "execution_count": 151,
     "metadata": {},
     "output_type": "execute_result"
    }
   ],
   "source": [
    "nba[\"game_location\"].unique()"
   ]
  },
  {
   "cell_type": "code",
   "execution_count": 152,
   "id": "5024e5ef",
   "metadata": {
    "ExecuteTime": {
     "end_time": "2022-03-01T14:48:52.199525Z",
     "start_time": "2022-03-01T14:48:52.123524Z"
    }
   },
   "outputs": [
    {
     "data": {
      "text/plain": [
       "3"
      ]
     },
     "execution_count": 152,
     "metadata": {},
     "output_type": "execute_result"
    }
   ],
   "source": [
    "nba[\"game_location\"].nunique()"
   ]
  },
  {
   "cell_type": "code",
   "execution_count": 153,
   "id": "f6f1aaec",
   "metadata": {
    "ExecuteTime": {
     "end_time": "2022-03-01T14:49:19.881281Z",
     "start_time": "2022-03-01T14:49:19.765254Z"
    }
   },
   "outputs": [
    {
     "data": {
      "text/plain": [
       "H    63138\n",
       "A    63138\n",
       "N       38\n",
       "Name: game_location, dtype: int64"
      ]
     },
     "execution_count": 153,
     "metadata": {},
     "output_type": "execute_result"
    }
   ],
   "source": [
    "nba[\"game_location\"].value_counts()"
   ]
  },
  {
   "cell_type": "code",
   "execution_count": 154,
   "id": "58b51484",
   "metadata": {
    "ExecuteTime": {
     "end_time": "2022-03-01T14:49:40.061577Z",
     "start_time": "2022-03-01T14:49:39.951125Z"
    }
   },
   "outputs": [],
   "source": [
    "nba[\"game_location\"] = pd.Categorical(nba[\"game_location\"])"
   ]
  },
  {
   "cell_type": "code",
   "execution_count": 155,
   "id": "df2f6364",
   "metadata": {
    "ExecuteTime": {
     "end_time": "2022-03-01T14:50:08.442066Z",
     "start_time": "2022-03-01T14:50:08.397990Z"
    }
   },
   "outputs": [
    {
     "data": {
      "text/plain": [
       "CategoricalDtype(categories=['A', 'H', 'N'], ordered=False)"
      ]
     },
     "execution_count": 155,
     "metadata": {},
     "output_type": "execute_result"
    }
   ],
   "source": [
    "nba[\"game_location\"].dtype"
   ]
  },
  {
   "cell_type": "code",
   "execution_count": 156,
   "id": "0e935b89",
   "metadata": {
    "ExecuteTime": {
     "end_time": "2022-03-01T14:50:33.219651Z",
     "start_time": "2022-03-01T14:50:32.978987Z"
    }
   },
   "outputs": [
    {
     "name": "stdout",
     "output_type": "stream",
     "text": [
      "<class 'pandas.core.frame.DataFrame'>\n",
      "RangeIndex: 126314 entries, 0 to 126313\n",
      "Data columns (total 20 columns):\n",
      " #   Column         Non-Null Count   Dtype   \n",
      "---  ------         --------------   -----   \n",
      " 0   gameorder      126314 non-null  int64   \n",
      " 1   game_id        126314 non-null  object  \n",
      " 2   lg_id          126314 non-null  object  \n",
      " 3   _iscopy        126314 non-null  int64   \n",
      " 4   year_id        126314 non-null  int64   \n",
      " 5   date_game      126314 non-null  object  \n",
      " 6   seasongame     126314 non-null  int64   \n",
      " 7   is_playoffs    126314 non-null  int64   \n",
      " 8   team_id        126314 non-null  object  \n",
      " 9   fran_id        126314 non-null  object  \n",
      " 10  pts            126314 non-null  int64   \n",
      " 11  win_equiv      126314 non-null  float64 \n",
      " 12  opp_id         126314 non-null  object  \n",
      " 13  opp_fran       126314 non-null  object  \n",
      " 14  opp_pts        126314 non-null  int64   \n",
      " 15  game_location  126314 non-null  category\n",
      " 16  game_result    126314 non-null  object  \n",
      " 17  forecast       126314 non-null  float64 \n",
      " 18  notes          5424 non-null    object  \n",
      " 19  difference     126314 non-null  int64   \n",
      "dtypes: category(1), float64(2), int64(8), object(9)\n",
      "memory usage: 18.4+ MB\n"
     ]
    }
   ],
   "source": [
    "nba.info()"
   ]
  },
  {
   "cell_type": "code",
   "execution_count": 160,
   "id": "aa553d95",
   "metadata": {
    "ExecuteTime": {
     "end_time": "2022-03-01T14:53:58.645810Z",
     "start_time": "2022-03-01T14:53:58.363595Z"
    }
   },
   "outputs": [
    {
     "data": {
      "text/plain": [
       "(5424, 20)"
      ]
     },
     "execution_count": 160,
     "metadata": {},
     "output_type": "execute_result"
    }
   ],
   "source": [
    "rows_without_missing_data = nba.dropna()\n",
    "rows_without_missing_data.shape"
   ]
  },
  {
   "cell_type": "code",
   "execution_count": 162,
   "id": "b70a5b56",
   "metadata": {
    "ExecuteTime": {
     "end_time": "2022-03-01T14:55:00.696979Z",
     "start_time": "2022-03-01T14:54:59.956233Z"
    }
   },
   "outputs": [
    {
     "data": {
      "text/html": [
       "<div>\n",
       "<style scoped>\n",
       "    .dataframe tbody tr th:only-of-type {\n",
       "        vertical-align: middle;\n",
       "    }\n",
       "\n",
       "    .dataframe tbody tr th {\n",
       "        vertical-align: top;\n",
       "    }\n",
       "\n",
       "    .dataframe thead th {\n",
       "        text-align: right;\n",
       "    }\n",
       "</style>\n",
       "<table border=\"1\" class=\"dataframe\">\n",
       "  <thead>\n",
       "    <tr style=\"text-align: right;\">\n",
       "      <th></th>\n",
       "      <th>gameorder</th>\n",
       "      <th>game_id</th>\n",
       "      <th>lg_id</th>\n",
       "      <th>_iscopy</th>\n",
       "      <th>year_id</th>\n",
       "      <th>date_game</th>\n",
       "      <th>seasongame</th>\n",
       "      <th>is_playoffs</th>\n",
       "      <th>team_id</th>\n",
       "      <th>fran_id</th>\n",
       "      <th>pts</th>\n",
       "      <th>win_equiv</th>\n",
       "      <th>opp_id</th>\n",
       "      <th>opp_fran</th>\n",
       "      <th>opp_pts</th>\n",
       "      <th>game_location</th>\n",
       "      <th>game_result</th>\n",
       "      <th>forecast</th>\n",
       "      <th>difference</th>\n",
       "    </tr>\n",
       "  </thead>\n",
       "  <tbody>\n",
       "    <tr>\n",
       "      <th>0</th>\n",
       "      <td>1</td>\n",
       "      <td>194611010TRH</td>\n",
       "      <td>NBA</td>\n",
       "      <td>0</td>\n",
       "      <td>1947</td>\n",
       "      <td>11/1/1946</td>\n",
       "      <td>1</td>\n",
       "      <td>0</td>\n",
       "      <td>TRH</td>\n",
       "      <td>Huskies</td>\n",
       "      <td>66</td>\n",
       "      <td>40.294830</td>\n",
       "      <td>NYK</td>\n",
       "      <td>Knicks</td>\n",
       "      <td>68</td>\n",
       "      <td>H</td>\n",
       "      <td>L</td>\n",
       "      <td>0.640065</td>\n",
       "      <td>-2</td>\n",
       "    </tr>\n",
       "    <tr>\n",
       "      <th>1</th>\n",
       "      <td>1</td>\n",
       "      <td>194611010TRH</td>\n",
       "      <td>NBA</td>\n",
       "      <td>1</td>\n",
       "      <td>1947</td>\n",
       "      <td>11/1/1946</td>\n",
       "      <td>1</td>\n",
       "      <td>0</td>\n",
       "      <td>NYK</td>\n",
       "      <td>Knicks</td>\n",
       "      <td>68</td>\n",
       "      <td>41.705170</td>\n",
       "      <td>TRH</td>\n",
       "      <td>Huskies</td>\n",
       "      <td>66</td>\n",
       "      <td>A</td>\n",
       "      <td>W</td>\n",
       "      <td>0.359935</td>\n",
       "      <td>2</td>\n",
       "    </tr>\n",
       "    <tr>\n",
       "      <th>2</th>\n",
       "      <td>2</td>\n",
       "      <td>194611020CHS</td>\n",
       "      <td>NBA</td>\n",
       "      <td>0</td>\n",
       "      <td>1947</td>\n",
       "      <td>11/2/1946</td>\n",
       "      <td>1</td>\n",
       "      <td>0</td>\n",
       "      <td>CHS</td>\n",
       "      <td>Stags</td>\n",
       "      <td>63</td>\n",
       "      <td>42.012257</td>\n",
       "      <td>NYK</td>\n",
       "      <td>Knicks</td>\n",
       "      <td>47</td>\n",
       "      <td>H</td>\n",
       "      <td>W</td>\n",
       "      <td>0.631101</td>\n",
       "      <td>16</td>\n",
       "    </tr>\n",
       "    <tr>\n",
       "      <th>3</th>\n",
       "      <td>2</td>\n",
       "      <td>194611020CHS</td>\n",
       "      <td>NBA</td>\n",
       "      <td>1</td>\n",
       "      <td>1947</td>\n",
       "      <td>11/2/1946</td>\n",
       "      <td>2</td>\n",
       "      <td>0</td>\n",
       "      <td>NYK</td>\n",
       "      <td>Knicks</td>\n",
       "      <td>47</td>\n",
       "      <td>40.692783</td>\n",
       "      <td>CHS</td>\n",
       "      <td>Stags</td>\n",
       "      <td>63</td>\n",
       "      <td>A</td>\n",
       "      <td>L</td>\n",
       "      <td>0.368899</td>\n",
       "      <td>-16</td>\n",
       "    </tr>\n",
       "    <tr>\n",
       "      <th>4</th>\n",
       "      <td>3</td>\n",
       "      <td>194611020DTF</td>\n",
       "      <td>NBA</td>\n",
       "      <td>0</td>\n",
       "      <td>1947</td>\n",
       "      <td>11/2/1946</td>\n",
       "      <td>1</td>\n",
       "      <td>0</td>\n",
       "      <td>DTF</td>\n",
       "      <td>Falcons</td>\n",
       "      <td>33</td>\n",
       "      <td>38.864048</td>\n",
       "      <td>WSC</td>\n",
       "      <td>Capitols</td>\n",
       "      <td>50</td>\n",
       "      <td>H</td>\n",
       "      <td>L</td>\n",
       "      <td>0.640065</td>\n",
       "      <td>-17</td>\n",
       "    </tr>\n",
       "    <tr>\n",
       "      <th>...</th>\n",
       "      <td>...</td>\n",
       "      <td>...</td>\n",
       "      <td>...</td>\n",
       "      <td>...</td>\n",
       "      <td>...</td>\n",
       "      <td>...</td>\n",
       "      <td>...</td>\n",
       "      <td>...</td>\n",
       "      <td>...</td>\n",
       "      <td>...</td>\n",
       "      <td>...</td>\n",
       "      <td>...</td>\n",
       "      <td>...</td>\n",
       "      <td>...</td>\n",
       "      <td>...</td>\n",
       "      <td>...</td>\n",
       "      <td>...</td>\n",
       "      <td>...</td>\n",
       "      <td>...</td>\n",
       "    </tr>\n",
       "    <tr>\n",
       "      <th>126309</th>\n",
       "      <td>63155</td>\n",
       "      <td>201506110CLE</td>\n",
       "      <td>NBA</td>\n",
       "      <td>0</td>\n",
       "      <td>2015</td>\n",
       "      <td>6/11/2015</td>\n",
       "      <td>100</td>\n",
       "      <td>1</td>\n",
       "      <td>CLE</td>\n",
       "      <td>Cavaliers</td>\n",
       "      <td>82</td>\n",
       "      <td>60.309792</td>\n",
       "      <td>GSW</td>\n",
       "      <td>Warriors</td>\n",
       "      <td>103</td>\n",
       "      <td>H</td>\n",
       "      <td>L</td>\n",
       "      <td>0.546572</td>\n",
       "      <td>-21</td>\n",
       "    </tr>\n",
       "    <tr>\n",
       "      <th>126310</th>\n",
       "      <td>63156</td>\n",
       "      <td>201506140GSW</td>\n",
       "      <td>NBA</td>\n",
       "      <td>0</td>\n",
       "      <td>2015</td>\n",
       "      <td>6/14/2015</td>\n",
       "      <td>102</td>\n",
       "      <td>1</td>\n",
       "      <td>GSW</td>\n",
       "      <td>Warriors</td>\n",
       "      <td>104</td>\n",
       "      <td>68.013329</td>\n",
       "      <td>CLE</td>\n",
       "      <td>Cavaliers</td>\n",
       "      <td>91</td>\n",
       "      <td>H</td>\n",
       "      <td>W</td>\n",
       "      <td>0.765565</td>\n",
       "      <td>13</td>\n",
       "    </tr>\n",
       "    <tr>\n",
       "      <th>126311</th>\n",
       "      <td>63156</td>\n",
       "      <td>201506140GSW</td>\n",
       "      <td>NBA</td>\n",
       "      <td>1</td>\n",
       "      <td>2015</td>\n",
       "      <td>6/14/2015</td>\n",
       "      <td>101</td>\n",
       "      <td>1</td>\n",
       "      <td>CLE</td>\n",
       "      <td>Cavaliers</td>\n",
       "      <td>91</td>\n",
       "      <td>60.010067</td>\n",
       "      <td>GSW</td>\n",
       "      <td>Warriors</td>\n",
       "      <td>104</td>\n",
       "      <td>A</td>\n",
       "      <td>L</td>\n",
       "      <td>0.234435</td>\n",
       "      <td>-13</td>\n",
       "    </tr>\n",
       "    <tr>\n",
       "      <th>126312</th>\n",
       "      <td>63157</td>\n",
       "      <td>201506170CLE</td>\n",
       "      <td>NBA</td>\n",
       "      <td>0</td>\n",
       "      <td>2015</td>\n",
       "      <td>6/16/2015</td>\n",
       "      <td>102</td>\n",
       "      <td>1</td>\n",
       "      <td>CLE</td>\n",
       "      <td>Cavaliers</td>\n",
       "      <td>97</td>\n",
       "      <td>59.290245</td>\n",
       "      <td>GSW</td>\n",
       "      <td>Warriors</td>\n",
       "      <td>105</td>\n",
       "      <td>H</td>\n",
       "      <td>L</td>\n",
       "      <td>0.481450</td>\n",
       "      <td>-8</td>\n",
       "    </tr>\n",
       "    <tr>\n",
       "      <th>126313</th>\n",
       "      <td>63157</td>\n",
       "      <td>201506170CLE</td>\n",
       "      <td>NBA</td>\n",
       "      <td>1</td>\n",
       "      <td>2015</td>\n",
       "      <td>6/16/2015</td>\n",
       "      <td>103</td>\n",
       "      <td>1</td>\n",
       "      <td>GSW</td>\n",
       "      <td>Warriors</td>\n",
       "      <td>105</td>\n",
       "      <td>68.519516</td>\n",
       "      <td>CLE</td>\n",
       "      <td>Cavaliers</td>\n",
       "      <td>97</td>\n",
       "      <td>A</td>\n",
       "      <td>W</td>\n",
       "      <td>0.518550</td>\n",
       "      <td>8</td>\n",
       "    </tr>\n",
       "  </tbody>\n",
       "</table>\n",
       "<p>126314 rows × 19 columns</p>\n",
       "</div>"
      ],
      "text/plain": [
       "        gameorder       game_id lg_id  _iscopy  year_id  date_game  \\\n",
       "0               1  194611010TRH   NBA        0     1947  11/1/1946   \n",
       "1               1  194611010TRH   NBA        1     1947  11/1/1946   \n",
       "2               2  194611020CHS   NBA        0     1947  11/2/1946   \n",
       "3               2  194611020CHS   NBA        1     1947  11/2/1946   \n",
       "4               3  194611020DTF   NBA        0     1947  11/2/1946   \n",
       "...           ...           ...   ...      ...      ...        ...   \n",
       "126309      63155  201506110CLE   NBA        0     2015  6/11/2015   \n",
       "126310      63156  201506140GSW   NBA        0     2015  6/14/2015   \n",
       "126311      63156  201506140GSW   NBA        1     2015  6/14/2015   \n",
       "126312      63157  201506170CLE   NBA        0     2015  6/16/2015   \n",
       "126313      63157  201506170CLE   NBA        1     2015  6/16/2015   \n",
       "\n",
       "        seasongame  is_playoffs team_id    fran_id  pts  win_equiv opp_id  \\\n",
       "0                1            0     TRH    Huskies   66  40.294830    NYK   \n",
       "1                1            0     NYK     Knicks   68  41.705170    TRH   \n",
       "2                1            0     CHS      Stags   63  42.012257    NYK   \n",
       "3                2            0     NYK     Knicks   47  40.692783    CHS   \n",
       "4                1            0     DTF    Falcons   33  38.864048    WSC   \n",
       "...            ...          ...     ...        ...  ...        ...    ...   \n",
       "126309         100            1     CLE  Cavaliers   82  60.309792    GSW   \n",
       "126310         102            1     GSW   Warriors  104  68.013329    CLE   \n",
       "126311         101            1     CLE  Cavaliers   91  60.010067    GSW   \n",
       "126312         102            1     CLE  Cavaliers   97  59.290245    GSW   \n",
       "126313         103            1     GSW   Warriors  105  68.519516    CLE   \n",
       "\n",
       "         opp_fran  opp_pts game_location game_result  forecast  difference  \n",
       "0          Knicks       68             H           L  0.640065          -2  \n",
       "1         Huskies       66             A           W  0.359935           2  \n",
       "2          Knicks       47             H           W  0.631101          16  \n",
       "3           Stags       63             A           L  0.368899         -16  \n",
       "4        Capitols       50             H           L  0.640065         -17  \n",
       "...           ...      ...           ...         ...       ...         ...  \n",
       "126309   Warriors      103             H           L  0.546572         -21  \n",
       "126310  Cavaliers       91             H           W  0.765565          13  \n",
       "126311   Warriors      104             A           L  0.234435         -13  \n",
       "126312   Warriors      105             H           L  0.481450          -8  \n",
       "126313  Cavaliers       97             A           W  0.518550           8  \n",
       "\n",
       "[126314 rows x 19 columns]"
      ]
     },
     "execution_count": 162,
     "metadata": {},
     "output_type": "execute_result"
    }
   ],
   "source": [
    "data_without_missing_columns = nba.dropna(axis=1)\n",
    "data_without_missing_columns"
   ]
  },
  {
   "cell_type": "code",
   "execution_count": 163,
   "id": "8e1bd0dc",
   "metadata": {
    "ExecuteTime": {
     "end_time": "2022-03-01T14:55:41.599163Z",
     "start_time": "2022-03-01T14:55:41.561162Z"
    }
   },
   "outputs": [
    {
     "data": {
      "text/plain": [
       "(126314, 23)"
      ]
     },
     "execution_count": 163,
     "metadata": {},
     "output_type": "execute_result"
    }
   ],
   "source": [
    "data_with_default_notes = df.copy()\n",
    "data_with_default_notes.shape"
   ]
  },
  {
   "cell_type": "code",
   "execution_count": 164,
   "id": "10146c58",
   "metadata": {
    "ExecuteTime": {
     "end_time": "2022-03-01T14:56:31.807189Z",
     "start_time": "2022-03-01T14:56:31.773245Z"
    }
   },
   "outputs": [],
   "source": [
    "data_with_default_notes['notes'].fillna(\n",
    "value=\"no notes at all\",\n",
    "    inplace=True\n",
    ")"
   ]
  },
  {
   "cell_type": "code",
   "execution_count": 165,
   "id": "61118913",
   "metadata": {
    "ExecuteTime": {
     "end_time": "2022-03-01T14:56:46.136936Z",
     "start_time": "2022-03-01T14:56:46.104003Z"
    }
   },
   "outputs": [
    {
     "data": {
      "text/plain": [
       "0         no notes at all\n",
       "1         no notes at all\n",
       "2         no notes at all\n",
       "3         no notes at all\n",
       "4         no notes at all\n",
       "               ...       \n",
       "126309    no notes at all\n",
       "126310    no notes at all\n",
       "126311    no notes at all\n",
       "126312    no notes at all\n",
       "126313    no notes at all\n",
       "Name: notes, Length: 126314, dtype: object"
      ]
     },
     "execution_count": 165,
     "metadata": {},
     "output_type": "execute_result"
    }
   ],
   "source": [
    "data_with_default_notes['notes']"
   ]
  },
  {
   "cell_type": "code",
   "execution_count": 166,
   "id": "9550ae3e",
   "metadata": {
    "ExecuteTime": {
     "end_time": "2022-03-01T14:58:24.495483Z",
     "start_time": "2022-03-01T14:58:24.428098Z"
    }
   },
   "outputs": [
    {
     "data": {
      "text/html": [
       "<div>\n",
       "<style scoped>\n",
       "    .dataframe tbody tr th:only-of-type {\n",
       "        vertical-align: middle;\n",
       "    }\n",
       "\n",
       "    .dataframe tbody tr th {\n",
       "        vertical-align: top;\n",
       "    }\n",
       "\n",
       "    .dataframe thead th {\n",
       "        text-align: right;\n",
       "    }\n",
       "</style>\n",
       "<table border=\"1\" class=\"dataframe\">\n",
       "  <thead>\n",
       "    <tr style=\"text-align: right;\">\n",
       "      <th></th>\n",
       "      <th>gameorder</th>\n",
       "      <th>game_id</th>\n",
       "      <th>lg_id</th>\n",
       "      <th>_iscopy</th>\n",
       "      <th>year_id</th>\n",
       "      <th>date_game</th>\n",
       "      <th>seasongame</th>\n",
       "      <th>is_playoffs</th>\n",
       "      <th>team_id</th>\n",
       "      <th>fran_id</th>\n",
       "      <th>pts</th>\n",
       "      <th>win_equiv</th>\n",
       "      <th>opp_id</th>\n",
       "      <th>opp_fran</th>\n",
       "      <th>opp_pts</th>\n",
       "      <th>game_location</th>\n",
       "      <th>game_result</th>\n",
       "      <th>forecast</th>\n",
       "      <th>notes</th>\n",
       "      <th>difference</th>\n",
       "    </tr>\n",
       "  </thead>\n",
       "  <tbody>\n",
       "    <tr>\n",
       "      <th>26684</th>\n",
       "      <td>13343</td>\n",
       "      <td>197210260VIR</td>\n",
       "      <td>ABA</td>\n",
       "      <td>1</td>\n",
       "      <td>1973</td>\n",
       "      <td>10/26/1972</td>\n",
       "      <td>7</td>\n",
       "      <td>0</td>\n",
       "      <td>DNR</td>\n",
       "      <td>Nuggets</td>\n",
       "      <td>0</td>\n",
       "      <td>40.408863</td>\n",
       "      <td>VIR</td>\n",
       "      <td>Squires</td>\n",
       "      <td>2</td>\n",
       "      <td>A</td>\n",
       "      <td>L</td>\n",
       "      <td>0.328948</td>\n",
       "      <td>at Richmond VA; forfeit to VIR</td>\n",
       "      <td>-2</td>\n",
       "    </tr>\n",
       "  </tbody>\n",
       "</table>\n",
       "</div>"
      ],
      "text/plain": [
       "       gameorder       game_id lg_id  _iscopy  year_id   date_game  \\\n",
       "26684      13343  197210260VIR   ABA        1     1973  10/26/1972   \n",
       "\n",
       "       seasongame  is_playoffs team_id  fran_id  pts  win_equiv opp_id  \\\n",
       "26684           7            0     DNR  Nuggets    0  40.408863    VIR   \n",
       "\n",
       "      opp_fran  opp_pts game_location game_result  forecast  \\\n",
       "26684  Squires        2             A           L  0.328948   \n",
       "\n",
       "                                notes  difference  \n",
       "26684  at Richmond VA; forfeit to VIR          -2  "
      ]
     },
     "execution_count": 166,
     "metadata": {},
     "output_type": "execute_result"
    }
   ],
   "source": [
    "nba[nba[\"pts\"] == 0]"
   ]
  },
  {
   "cell_type": "code",
   "execution_count": 169,
   "id": "76b4d8d9",
   "metadata": {
    "ExecuteTime": {
     "end_time": "2022-03-01T15:03:29.756480Z",
     "start_time": "2022-03-01T15:03:29.480847Z"
    }
   },
   "outputs": [
    {
     "data": {
      "text/html": [
       "<div>\n",
       "<style scoped>\n",
       "    .dataframe tbody tr th:only-of-type {\n",
       "        vertical-align: middle;\n",
       "    }\n",
       "\n",
       "    .dataframe tbody tr th {\n",
       "        vertical-align: top;\n",
       "    }\n",
       "\n",
       "    .dataframe thead th {\n",
       "        text-align: right;\n",
       "    }\n",
       "</style>\n",
       "<table border=\"1\" class=\"dataframe\">\n",
       "  <thead>\n",
       "    <tr style=\"text-align: right;\">\n",
       "      <th></th>\n",
       "      <th>country</th>\n",
       "    </tr>\n",
       "  </thead>\n",
       "  <tbody>\n",
       "    <tr>\n",
       "      <th>Amsterdam</th>\n",
       "      <td>Holland</td>\n",
       "    </tr>\n",
       "    <tr>\n",
       "      <th>Tokyo</th>\n",
       "      <td>Japan</td>\n",
       "    </tr>\n",
       "    <tr>\n",
       "      <th>Rotterdam</th>\n",
       "      <td>Holland</td>\n",
       "    </tr>\n",
       "    <tr>\n",
       "      <th>Toronto</th>\n",
       "      <td>Canada</td>\n",
       "    </tr>\n",
       "  </tbody>\n",
       "</table>\n",
       "</div>"
      ],
      "text/plain": [
       "           country\n",
       "Amsterdam  Holland\n",
       "Tokyo        Japan\n",
       "Rotterdam  Holland\n",
       "Toronto     Canada"
      ]
     },
     "execution_count": 169,
     "metadata": {},
     "output_type": "execute_result"
    }
   ],
   "source": [
    "city_countries = pd.DataFrame(\n",
    "    {\n",
    "        \"country\": [\"Holland\", \"Japan\", \"Holland\", \"Canada\"]\n",
    "    }, index=[\"Amsterdam\", \"Tokyo\", \"Rotterdam\", \"Toronto\"]\n",
    ")\n",
    "city_countries"
   ]
  },
  {
   "cell_type": "code",
   "execution_count": null,
   "id": "2f510ee1",
   "metadata": {},
   "outputs": [],
   "source": []
  }
 ],
 "metadata": {
  "kernelspec": {
   "display_name": "Python 3 (ipykernel)",
   "language": "python",
   "name": "python3"
  },
  "language_info": {
   "codemirror_mode": {
    "name": "ipython",
    "version": 3
   },
   "file_extension": ".py",
   "mimetype": "text/x-python",
   "name": "python",
   "nbconvert_exporter": "python",
   "pygments_lexer": "ipython3",
   "version": "3.9.2"
  },
  "latex_envs": {
   "LaTeX_envs_menu_present": true,
   "autoclose": false,
   "autocomplete": true,
   "bibliofile": "biblio.bib",
   "cite_by": "apalike",
   "current_citInitial": 1,
   "eqLabelWithNumbers": true,
   "eqNumInitial": 1,
   "hotkeys": {
    "equation": "Ctrl-E",
    "itemize": "Ctrl-I"
   },
   "labels_anchors": false,
   "latex_user_defs": false,
   "report_style_numbering": false,
   "user_envs_cfg": false
  },
  "toc": {
   "base_numbering": 1,
   "nav_menu": {},
   "number_sections": true,
   "sideBar": true,
   "skip_h1_title": false,
   "title_cell": "Table of Contents",
   "title_sidebar": "Contents",
   "toc_cell": false,
   "toc_position": {},
   "toc_section_display": true,
   "toc_window_display": true
  }
 },
 "nbformat": 4,
 "nbformat_minor": 5
}
