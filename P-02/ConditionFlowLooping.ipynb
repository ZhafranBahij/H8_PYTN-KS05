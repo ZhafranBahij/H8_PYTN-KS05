{
 "cells": [
  {
   "cell_type": "code",
   "execution_count": 1,
   "id": "0a3e3baf",
   "metadata": {
    "ExecuteTime": {
     "end_time": "2022-02-17T13:34:07.054803Z",
     "start_time": "2022-02-17T13:34:07.018323Z"
    }
   },
   "outputs": [
    {
     "name": "stdout",
     "output_type": "stream",
     "text": [
      "yes\n",
      "yup\n",
      "yoi\n"
     ]
    }
   ],
   "source": [
    "x = 0\n",
    "y = 5\n",
    " \n",
    "if x < y:\n",
    "    print('yes')\n",
    "if y < x:\n",
    "    print('aye')\n",
    "if x:\n",
    "    print('na\\'am')\n",
    "if y:\n",
    "    print('yup')\n",
    "if 'aul' in 'grault':\n",
    "    print('yoi')\n",
    "if 'quux' in ['foo', 'bar', 'baz']:\n",
    "    print('y')"
   ]
  },
  {
   "cell_type": "code",
   "execution_count": 2,
   "id": "8b0c20ef",
   "metadata": {
    "ExecuteTime": {
     "end_time": "2022-02-17T13:34:07.384137Z",
     "start_time": "2022-02-17T13:34:07.089257Z"
    }
   },
   "outputs": [
    {
     "name": "stdout",
     "output_type": "stream",
     "text": [
      "Mow the lawn\n",
      "Weed the garden\n",
      "Take the dig for a walk\n",
      "outside\n"
     ]
    }
   ],
   "source": [
    "weather = 'nice'\n",
    "# weather = 'bad'\n",
    "if weather == 'nice':\n",
    "    print('Mow the lawn')\n",
    "    print('Weed the garden')\n",
    "    print('Take the dig for a walk')\n",
    "\n",
    "print('outside')"
   ]
  },
  {
   "cell_type": "code",
   "execution_count": 3,
   "id": "38114ec0",
   "metadata": {
    "ExecuteTime": {
     "end_time": "2022-02-17T13:34:07.589336Z",
     "start_time": "2022-02-17T13:34:07.402375Z"
    }
   },
   "outputs": [
    {
     "name": "stdout",
     "output_type": "stream",
     "text": [
      "Read a book\n",
      "Watch Movies\n",
      "outside\n"
     ]
    }
   ],
   "source": [
    "weather = 'nice'\n",
    "weather = 'bad'\n",
    "if weather == 'nice':\n",
    "    print('Mow the lawn')\n",
    "    print('Weed the garden')\n",
    "    print('Take the dig for a walk')\n",
    "else:\n",
    "    print('Read a book')\n",
    "    print('Watch Movies')\n",
    "    \n",
    "    \n",
    "print('outside')"
   ]
  },
  {
   "cell_type": "code",
   "execution_count": 4,
   "id": "a760e224",
   "metadata": {
    "ExecuteTime": {
     "end_time": "2022-02-17T13:34:07.875096Z",
     "start_time": "2022-02-17T13:34:07.598457Z"
    }
   },
   "outputs": [
    {
     "name": "stdout",
     "output_type": "stream",
     "text": [
      "(second suite)\n",
      "x is large\n"
     ]
    }
   ],
   "source": [
    "x = 120\n",
    "\n",
    "if x<50:\n",
    "    print('(first suite)')\n",
    "    print('x is small')\n",
    "else:\n",
    "    print('(second suite)')\n",
    "    print('x is large')"
   ]
  },
  {
   "cell_type": "code",
   "execution_count": 5,
   "id": "560d6a04",
   "metadata": {
    "ExecuteTime": {
     "end_time": "2022-02-17T13:34:08.178082Z",
     "start_time": "2022-02-17T13:34:07.888269Z"
    },
    "code_folding": []
   },
   "outputs": [
    {
     "name": "stdout",
     "output_type": "stream",
     "text": [
      "beli majalah\n"
     ]
    }
   ],
   "source": [
    "hargaBuku = 20000-1900\n",
    "hargaMajalah = 5000\n",
    "uang = 2000 + 3500\n",
    "\n",
    "if uang>hargaBuku:\n",
    "    print(\"beli buku\")\n",
    "elif uang > hargaMajalah:\n",
    "    print(\"beli majalah\")\n",
    "else:\n",
    "    print(\"uang tidak cukup\")"
   ]
  },
  {
   "cell_type": "code",
   "execution_count": 6,
   "id": "d342aeb7",
   "metadata": {
    "ExecuteTime": {
     "end_time": "2022-02-17T13:34:08.470939Z",
     "start_time": "2022-02-17T13:34:08.190750Z"
    }
   },
   "outputs": [
    {
     "name": "stdout",
     "output_type": "stream",
     "text": [
      "I don't know who you are\n"
     ]
    }
   ],
   "source": [
    "# name = 'Hacktiv8'\n",
    "name = 'Rain'\n",
    "\n",
    "if name == 'Fred':\n",
    "    print('Hello Fred')\n",
    "elif name == 'Xander':\n",
    "    print('Hello Xander')\n",
    "elif name == 'Hacktiv8':\n",
    "    print('Hello Hacktiv8')\n",
    "else:\n",
    "    print(\"I don't know who you are\")"
   ]
  },
  {
   "cell_type": "code",
   "execution_count": 7,
   "id": "0edc3d0f",
   "metadata": {
    "ExecuteTime": {
     "end_time": "2022-02-17T13:34:08.720216Z",
     "start_time": "2022-02-17T13:34:08.482590Z"
    },
    "code_folding": []
   },
   "outputs": [
    {
     "name": "stdout",
     "output_type": "stream",
     "text": [
      "foo\n"
     ]
    }
   ],
   "source": [
    "if 'a' in 'bar':\n",
    "    print('foo')\n",
    "elif 'b' in 'bar':\n",
    "    print('kimi')\n",
    "elif 1/0:\n",
    "    print('this won\\'t happen ')\n",
    "elif var:\n",
    "    print('this won\\'t happen ')"
   ]
  },
  {
   "cell_type": "code",
   "execution_count": 8,
   "id": "da5b98fe",
   "metadata": {
    "ExecuteTime": {
     "end_time": "2022-02-17T13:34:09.004963Z",
     "start_time": "2022-02-17T13:34:08.737950Z"
    },
    "code_folding": [
     0,
     3,
     8
    ]
   },
   "outputs": [
    {
     "name": "stdout",
     "output_type": "stream",
     "text": [
      "Outer condition is true\n",
      "Between inner conditions\n",
      "Inner condition 2\n",
      "End of outer condition\n",
      "After outer condition\n"
     ]
    }
   ],
   "source": [
    "if 'foo' in ['foo', 'bar', 'baz']:\n",
    "    print('Outer condition is true')\n",
    "    \n",
    "    if 10 > 20:\n",
    "        print('Inner condition 1')\n",
    "        \n",
    "    print('Between inner conditions')\n",
    "    \n",
    "    if 10<20:\n",
    "        print('Inner condition 2')\n",
    "    \n",
    "    print('End of outer condition')\n",
    "    \n",
    "print('After outer condition')"
   ]
  },
  {
   "cell_type": "code",
   "execution_count": 9,
   "id": "2524825d",
   "metadata": {
    "ExecuteTime": {
     "end_time": "2022-02-17T13:34:09.204083Z",
     "start_time": "2022-02-17T13:34:09.022697Z"
    }
   },
   "outputs": [
    {
     "name": "stdout",
     "output_type": "stream",
     "text": [
      "1\n",
      "2\n",
      "3\n"
     ]
    }
   ],
   "source": [
    "if 'f' in 'foo': print(1); print(2); print(3)"
   ]
  },
  {
   "cell_type": "code",
   "execution_count": 10,
   "id": "6c9af4bf",
   "metadata": {
    "ExecuteTime": {
     "end_time": "2022-02-17T13:34:09.251711Z",
     "start_time": "2022-02-17T13:34:09.224351Z"
    }
   },
   "outputs": [
    {
     "name": "stdout",
     "output_type": "stream",
     "text": [
      "corge\n",
      "grault\n"
     ]
    }
   ],
   "source": [
    "x = 3\n",
    "if x==1: print('foo'); print('bar')\n",
    "elif x == 2: print('qux'); print('quux')\n",
    "else: print('corge'); print('grault')"
   ]
  },
  {
   "cell_type": "code",
   "execution_count": 11,
   "id": "21a962cd",
   "metadata": {
    "ExecuteTime": {
     "end_time": "2022-02-17T13:34:09.300350Z",
     "start_time": "2022-02-17T13:34:09.272484Z"
    }
   },
   "outputs": [
    {
     "name": "stdout",
     "output_type": "stream",
     "text": [
      "Let's go to the library\n"
     ]
    }
   ],
   "source": [
    "raining = True\n",
    "print(\"Let's go to the\", 'beach' if not raining else 'library')"
   ]
  },
  {
   "cell_type": "code",
   "execution_count": 12,
   "id": "d9cde91a",
   "metadata": {
    "ExecuteTime": {
     "end_time": "2022-02-17T13:34:09.635257Z",
     "start_time": "2022-02-17T13:34:09.313016Z"
    }
   },
   "outputs": [
    {
     "data": {
      "text/plain": [
       "\"\\nIt's just a comment bruh\\n\""
      ]
     },
     "execution_count": 12,
     "metadata": {},
     "output_type": "execute_result"
    }
   ],
   "source": [
    "'''\n",
    "It's just a comment bruh\n",
    "'''"
   ]
  },
  {
   "cell_type": "code",
   "execution_count": 13,
   "id": "5719dde3",
   "metadata": {
    "ExecuteTime": {
     "end_time": "2022-02-17T13:34:09.939764Z",
     "start_time": "2022-02-17T13:34:09.655017Z"
    }
   },
   "outputs": [
    {
     "data": {
      "text/plain": [
       "'adult'"
      ]
     },
     "execution_count": 13,
     "metadata": {},
     "output_type": "execute_result"
    }
   ],
   "source": [
    "age = 32\n",
    "s = 'teen' if age < 21 else 'adult'\n",
    "s"
   ]
  },
  {
   "cell_type": "code",
   "execution_count": 14,
   "id": "5ed52bca",
   "metadata": {
    "ExecuteTime": {
     "end_time": "2022-02-17T13:34:10.195123Z",
     "start_time": "2022-02-17T13:34:09.964591Z"
    }
   },
   "outputs": [
    {
     "data": {
      "text/plain": [
       "'no'"
      ]
     },
     "execution_count": 14,
     "metadata": {},
     "output_type": "execute_result"
    }
   ],
   "source": [
    "'yes' if ('qux' in ['foo', 'bar', 'baz']) else 'no'"
   ]
  },
  {
   "cell_type": "code",
   "execution_count": 15,
   "id": "e201537a",
   "metadata": {
    "ExecuteTime": {
     "end_time": "2022-02-17T13:34:10.403870Z",
     "start_time": "2022-02-17T13:34:10.204244Z"
    }
   },
   "outputs": [
    {
     "data": {
      "text/plain": [
       "'adult'"
      ]
     },
     "execution_count": 15,
     "metadata": {},
     "output_type": "execute_result"
    }
   ],
   "source": [
    "age = 25\n",
    "s = 'teen' if age < 21 else('adult' if age < 50 else 'sepuh')\n",
    "s"
   ]
  },
  {
   "cell_type": "code",
   "execution_count": 16,
   "id": "79fcf9ed",
   "metadata": {
    "ExecuteTime": {
     "end_time": "2022-02-17T13:34:10.584749Z",
     "start_time": "2022-02-17T13:34:10.412990Z"
    }
   },
   "outputs": [
    {
     "name": "stdout",
     "output_type": "stream",
     "text": [
      "foo\n"
     ]
    }
   ],
   "source": [
    "if True:\n",
    "    pass\n",
    "    \n",
    "print('foo')"
   ]
  },
  {
   "cell_type": "code",
   "execution_count": 1,
   "id": "eec722fc",
   "metadata": {
    "ExecuteTime": {
     "end_time": "2022-02-17T13:37:25.151246Z",
     "start_time": "2022-02-17T13:37:25.132497Z"
    }
   },
   "outputs": [
    {
     "name": "stdout",
     "output_type": "stream",
     "text": [
      "3\n",
      "1\n",
      "-1\n"
     ]
    }
   ],
   "source": [
    "n = 5\n",
    "while n > 0:\n",
    "    n -= 2\n",
    "    print(n)"
   ]
  },
  {
   "cell_type": "code",
   "execution_count": 18,
   "id": "8e807a66",
   "metadata": {
    "ExecuteTime": {
     "end_time": "2022-02-17T13:34:10.834535Z",
     "start_time": "2022-02-17T13:34:10.797042Z"
    }
   },
   "outputs": [
    {
     "name": "stdout",
     "output_type": "stream",
     "text": [
      "1\n",
      "2\n",
      "3\n",
      "4\n",
      "5\n"
     ]
    }
   ],
   "source": [
    "i = 1\n",
    "while i < 6:\n",
    "    print(i)\n",
    "    i += 1"
   ]
  },
  {
   "cell_type": "code",
   "execution_count": null,
   "id": "96494085",
   "metadata": {
    "ExecuteTime": {
     "start_time": "2022-02-17T13:34:07.453Z"
    }
   },
   "outputs": [],
   "source": []
  },
  {
   "cell_type": "code",
   "execution_count": 2,
   "id": "d7806218",
   "metadata": {
    "ExecuteTime": {
     "end_time": "2022-02-17T13:37:31.238826Z",
     "start_time": "2022-02-17T13:37:31.223122Z"
    },
    "code_folding": []
   },
   "outputs": [
    {
     "name": "stdout",
     "output_type": "stream",
     "text": [
      "4\n",
      "3\n",
      "Loop ended\n"
     ]
    }
   ],
   "source": [
    "n = 5\n",
    "while n > 0:\n",
    "    n -= 1\n",
    "    if n == 2:\n",
    "        break\n",
    "    print(n)\n",
    "print('Loop ended')"
   ]
  },
  {
   "cell_type": "code",
   "execution_count": 4,
   "id": "5007c0a5",
   "metadata": {
    "ExecuteTime": {
     "end_time": "2022-02-17T13:37:57.934450Z",
     "start_time": "2022-02-17T13:37:57.920768Z"
    }
   },
   "outputs": [
    {
     "name": "stdout",
     "output_type": "stream",
     "text": [
      "4\n",
      "3\n",
      "1\n",
      "0\n",
      "Loop ended\n"
     ]
    }
   ],
   "source": [
    "n = 5\n",
    "while n > 0:\n",
    "    n -= 1\n",
    "    if n == 2:\n",
    "        continue\n",
    "    print(n)\n",
    "print('Loop ended')"
   ]
  },
  {
   "cell_type": "code",
   "execution_count": 7,
   "id": "e1ca55b2",
   "metadata": {
    "ExecuteTime": {
     "end_time": "2022-02-17T13:45:17.831668Z",
     "start_time": "2022-02-17T13:45:17.820015Z"
    }
   },
   "outputs": [
    {
     "name": "stdout",
     "output_type": "stream",
     "text": [
      "4\n",
      "3\n"
     ]
    }
   ],
   "source": [
    "n = 5\n",
    "while n > 0:\n",
    "    n -= 1\n",
    "    if n == 2:\n",
    "        break\n",
    "    print(n)\n",
    "else: print('Loop ended')"
   ]
  },
  {
   "cell_type": "code",
   "execution_count": 3,
   "id": "70a5139e",
   "metadata": {
    "ExecuteTime": {
     "end_time": "2022-02-17T13:55:25.967974Z",
     "start_time": "2022-02-17T13:55:25.954295Z"
    }
   },
   "outputs": [
    {
     "name": "stdout",
     "output_type": "stream",
     "text": [
      "mother\n"
     ]
    }
   ],
   "source": [
    "gender = 'F'\n",
    "age = 25\n",
    "if age < 18:\n",
    "    if gender == 'M':\n",
    "        print('son')\n",
    "    else:\n",
    "        print('daughter')\n",
    "elif age >= 18 and age < 65:\n",
    "    if gender == 'M':\n",
    "        print('father')\n",
    "    else:\n",
    "        print('mother')\n",
    "else:\n",
    "    if gender == 'M':\n",
    "        print('grandfather')\n",
    "    else:\n",
    "        print('grandmother')"
   ]
  },
  {
   "cell_type": "code",
   "execution_count": 5,
   "id": "f8ecf86e",
   "metadata": {
    "ExecuteTime": {
     "end_time": "2022-02-17T13:56:38.000208Z",
     "start_time": "2022-02-17T13:56:37.987037Z"
    }
   },
   "outputs": [
    {
     "name": "stdout",
     "output_type": "stream",
     "text": [
      "foo\n",
      "> baz\n",
      "> qux\n",
      "bar\n",
      "> baz\n",
      "> qux\n"
     ]
    }
   ],
   "source": [
    "a = ['foo', 'bar']\n",
    "\n",
    "while len(a):\n",
    "    print(a.pop(0))\n",
    "    \n",
    "    b = ['baz', 'qux']\n",
    "    \n",
    "    while len(b):\n",
    "        print('>', b.pop(0))"
   ]
  },
  {
   "cell_type": "code",
   "execution_count": 6,
   "id": "87f9f45e",
   "metadata": {
    "ExecuteTime": {
     "end_time": "2022-02-17T14:05:10.971162Z",
     "start_time": "2022-02-17T14:05:10.947856Z"
    }
   },
   "outputs": [
    {
     "name": "stdout",
     "output_type": "stream",
     "text": [
      "b  0\n",
      "c  1\n",
      "c  2\n",
      "b  1\n",
      "c  1\n",
      "c  2\n",
      "b  2\n",
      "c  1\n",
      "c  2\n",
      "b  3\n",
      "c  1\n",
      "c  2\n",
      "b  4\n",
      "c  1\n",
      "c  2\n",
      "b  5\n",
      "c  1\n",
      "c  2\n",
      "b  6\n",
      "c  1\n",
      "c  2\n",
      "b  7\n",
      "c  1\n",
      "c  2\n",
      "b  8\n",
      "c  1\n",
      "c  2\n",
      "b  9\n",
      "c  1\n",
      "c  2\n"
     ]
    }
   ],
   "source": [
    "b = 0\n",
    "while b < 10:\n",
    "    print('b ', b)\n",
    "    c = 1\n",
    "    while c < 3:\n",
    "        print('c ', c)\n",
    "        if c == 2:\n",
    "            break\n",
    "        c+=1\n",
    "    \n",
    "    b +=1"
   ]
  },
  {
   "cell_type": "code",
   "execution_count": 7,
   "id": "79341afa",
   "metadata": {
    "ExecuteTime": {
     "end_time": "2022-02-17T14:53:19.800517Z",
     "start_time": "2022-02-17T14:53:19.790385Z"
    }
   },
   "outputs": [
    {
     "name": "stdout",
     "output_type": "stream",
     "text": [
      "1\n",
      "4\n",
      "7\n",
      "10\n"
     ]
    }
   ],
   "source": [
    "for i in range(1, 11, 3):\n",
    "    print(i)"
   ]
  },
  {
   "cell_type": "code",
   "execution_count": null,
   "id": "8dc09bbe",
   "metadata": {},
   "outputs": [],
   "source": []
  }
 ],
 "metadata": {
  "kernelspec": {
   "display_name": "Python 3 (ipykernel)",
   "language": "python",
   "name": "python3"
  },
  "language_info": {
   "codemirror_mode": {
    "name": "ipython",
    "version": 3
   },
   "file_extension": ".py",
   "mimetype": "text/x-python",
   "name": "python",
   "nbconvert_exporter": "python",
   "pygments_lexer": "ipython3",
   "version": "3.9.2"
  },
  "latex_envs": {
   "LaTeX_envs_menu_present": true,
   "autoclose": false,
   "autocomplete": true,
   "bibliofile": "biblio.bib",
   "cite_by": "apalike",
   "current_citInitial": 1,
   "eqLabelWithNumbers": true,
   "eqNumInitial": 1,
   "hotkeys": {
    "equation": "Ctrl-E",
    "itemize": "Ctrl-I"
   },
   "labels_anchors": false,
   "latex_user_defs": false,
   "report_style_numbering": false,
   "user_envs_cfg": false
  },
  "toc": {
   "base_numbering": 1,
   "nav_menu": {},
   "number_sections": true,
   "sideBar": true,
   "skip_h1_title": false,
   "title_cell": "Table of Contents",
   "title_sidebar": "Contents",
   "toc_cell": false,
   "toc_position": {},
   "toc_section_display": true,
   "toc_window_display": true
  }
 },
 "nbformat": 4,
 "nbformat_minor": 5
}
