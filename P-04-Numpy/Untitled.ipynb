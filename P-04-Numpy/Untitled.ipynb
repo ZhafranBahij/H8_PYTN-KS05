{
 "cells": [
  {
   "cell_type": "markdown",
   "id": "af3c5c96",
   "metadata": {},
   "source": [
    " # Numpy"
   ]
  },
  {
   "cell_type": "code",
   "execution_count": 1,
   "id": "88a74cdf",
   "metadata": {
    "ExecuteTime": {
     "end_time": "2022-04-07T03:47:06.247867Z",
     "start_time": "2022-04-07T03:46:44.834691Z"
    }
   },
   "outputs": [],
   "source": [
    "import numpy as np # Aktifin ini dulu gan"
   ]
  },
  {
   "cell_type": "code",
   "execution_count": 2,
   "id": "932196cc",
   "metadata": {
    "ExecuteTime": {
     "end_time": "2022-04-07T03:47:06.314306Z",
     "start_time": "2022-04-07T03:47:06.254797Z"
    }
   },
   "outputs": [
    {
     "data": {
      "text/plain": [
       "array([[ 1,  2,  3,  4],\n",
       "       [ 5,  6,  7,  8],\n",
       "       [ 9, 10, 11, 12]])"
      ]
     },
     "execution_count": 2,
     "metadata": {},
     "output_type": "execute_result"
    }
   ],
   "source": [
    "a = np.array([[1,2,3,4], \n",
    "             [5,6,7,8], \n",
    "             [9,10,11,12]])\n",
    "a"
   ]
  },
  {
   "cell_type": "code",
   "execution_count": 3,
   "id": "ac8e315b",
   "metadata": {
    "ExecuteTime": {
     "end_time": "2022-04-07T03:47:06.571005Z",
     "start_time": "2022-04-07T03:47:06.320345Z"
    }
   },
   "outputs": [
    {
     "name": "stdout",
     "output_type": "stream",
     "text": [
      "[1 2 3 4]\n"
     ]
    }
   ],
   "source": [
    "print(a[0])"
   ]
  },
  {
   "cell_type": "code",
   "execution_count": 4,
   "id": "a3af16c6",
   "metadata": {
    "ExecuteTime": {
     "end_time": "2022-04-07T03:47:06.895531Z",
     "start_time": "2022-04-07T03:47:06.583648Z"
    }
   },
   "outputs": [
    {
     "data": {
      "text/plain": [
       "2"
      ]
     },
     "execution_count": 4,
     "metadata": {},
     "output_type": "execute_result"
    }
   ],
   "source": [
    "a.ndim #Dimensi"
   ]
  },
  {
   "cell_type": "code",
   "execution_count": 5,
   "id": "02fd7b88",
   "metadata": {
    "ExecuteTime": {
     "end_time": "2022-04-07T03:47:07.329285Z",
     "start_time": "2022-04-07T03:47:06.903637Z"
    }
   },
   "outputs": [
    {
     "data": {
      "text/plain": [
       "(3, 4)"
      ]
     },
     "execution_count": 5,
     "metadata": {},
     "output_type": "execute_result"
    }
   ],
   "source": [
    "a.shape #Bentuk"
   ]
  },
  {
   "cell_type": "code",
   "execution_count": 6,
   "id": "a0fa82b5",
   "metadata": {
    "ExecuteTime": {
     "end_time": "2022-04-07T03:47:07.930996Z",
     "start_time": "2022-04-07T03:47:07.335323Z"
    }
   },
   "outputs": [],
   "source": [
    "a = np.array([1,2,3])"
   ]
  },
  {
   "cell_type": "code",
   "execution_count": 7,
   "id": "4437cd96",
   "metadata": {
    "ExecuteTime": {
     "end_time": "2022-04-07T03:47:08.069142Z",
     "start_time": "2022-04-07T03:47:07.937037Z"
    }
   },
   "outputs": [
    {
     "data": {
      "text/plain": [
       "1"
      ]
     },
     "execution_count": 7,
     "metadata": {},
     "output_type": "execute_result"
    }
   ],
   "source": [
    "a.ndim"
   ]
  },
  {
   "cell_type": "code",
   "execution_count": 8,
   "id": "805bae91",
   "metadata": {
    "ExecuteTime": {
     "end_time": "2022-04-07T03:47:08.364953Z",
     "start_time": "2022-04-07T03:47:08.082227Z"
    }
   },
   "outputs": [
    {
     "data": {
      "text/plain": [
       "(3,)"
      ]
     },
     "execution_count": 8,
     "metadata": {},
     "output_type": "execute_result"
    }
   ],
   "source": [
    "a.shape"
   ]
  },
  {
   "cell_type": "code",
   "execution_count": 9,
   "id": "7b746a3e",
   "metadata": {
    "ExecuteTime": {
     "end_time": "2022-04-07T03:47:08.614301Z",
     "start_time": "2022-04-07T03:47:08.370995Z"
    }
   },
   "outputs": [
    {
     "data": {
      "text/plain": [
       "array([0., 0., 0., 0., 0., 0.])"
      ]
     },
     "execution_count": 9,
     "metadata": {},
     "output_type": "execute_result"
    }
   ],
   "source": [
    "np.zeros(6) # (6,)"
   ]
  },
  {
   "cell_type": "code",
   "execution_count": 10,
   "id": "680f8d18",
   "metadata": {
    "ExecuteTime": {
     "end_time": "2022-04-07T03:47:08.823787Z",
     "start_time": "2022-04-07T03:47:08.631528Z"
    }
   },
   "outputs": [
    {
     "data": {
      "text/plain": [
       "array([[0., 0.],\n",
       "       [0., 0.],\n",
       "       [0., 0.],\n",
       "       [0., 0.],\n",
       "       [0., 0.],\n",
       "       [0., 0.]])"
      ]
     },
     "execution_count": 10,
     "metadata": {},
     "output_type": "execute_result"
    }
   ],
   "source": [
    "np.zeros((6, 2)) #(6,2)"
   ]
  },
  {
   "cell_type": "code",
   "execution_count": 11,
   "id": "0004e8bc",
   "metadata": {
    "ExecuteTime": {
     "end_time": "2022-04-07T03:47:09.070655Z",
     "start_time": "2022-04-07T03:47:08.832847Z"
    }
   },
   "outputs": [],
   "source": [
    "form1 = [(4,1)]"
   ]
  },
  {
   "cell_type": "code",
   "execution_count": 12,
   "id": "56aff5d3",
   "metadata": {
    "ExecuteTime": {
     "end_time": "2022-04-07T03:47:09.315128Z",
     "start_time": "2022-04-07T03:47:09.078770Z"
    }
   },
   "outputs": [
    {
     "name": "stdout",
     "output_type": "stream",
     "text": [
      "[[1. 1.]\n",
      " [1. 1.]\n",
      " [1. 1.]\n",
      " [1. 1.]\n",
      " [1. 1.]\n",
      " [1. 1.]]\n",
      "[[1. 1. 1. 1. 1.]\n",
      " [1. 1. 1. 1. 1.]\n",
      " [1. 1. 1. 1. 1.]\n",
      " [1. 1. 1. 1. 1.]]\n"
     ]
    }
   ],
   "source": [
    "ones1 = np.ones((6,2))\n",
    "print(ones1)\n",
    "\n",
    "form1 = ((4,5))\n",
    "ones2 = np.ones(form1)\n",
    "print(ones2)"
   ]
  },
  {
   "cell_type": "code",
   "execution_count": 13,
   "id": "9ca7e593",
   "metadata": {
    "ExecuteTime": {
     "end_time": "2022-04-07T03:47:09.951607Z",
     "start_time": "2022-04-07T03:47:09.344320Z"
    }
   },
   "outputs": [
    {
     "data": {
      "text/plain": [
       "array([[[1., 1.],\n",
       "        [1., 1.],\n",
       "        [1., 1.]],\n",
       "\n",
       "       [[1., 1.],\n",
       "        [1., 1.],\n",
       "        [1., 1.]]])"
      ]
     },
     "execution_count": 13,
     "metadata": {},
     "output_type": "execute_result"
    }
   ],
   "source": [
    "ones3 = np.ones((2,3,2))\n",
    "ones3"
   ]
  },
  {
   "cell_type": "code",
   "execution_count": 14,
   "id": "79140a1e",
   "metadata": {
    "ExecuteTime": {
     "end_time": "2022-04-07T03:47:10.326541Z",
     "start_time": "2022-04-07T03:47:09.961236Z"
    }
   },
   "outputs": [
    {
     "data": {
      "text/plain": [
       "array([[7, 7, 7, 7],\n",
       "       [7, 7, 7, 7]])"
      ]
     },
     "execution_count": 14,
     "metadata": {},
     "output_type": "execute_result"
    }
   ],
   "source": [
    "numbers = np.full((2,4), 7)\n",
    "numbers"
   ]
  },
  {
   "cell_type": "code",
   "execution_count": 15,
   "id": "cfe833da",
   "metadata": {
    "ExecuteTime": {
     "end_time": "2022-04-07T03:47:11.090091Z",
     "start_time": "2022-04-07T03:47:10.338196Z"
    }
   },
   "outputs": [
    {
     "data": {
      "text/plain": [
       "array([[7., 7., 7., 7.],\n",
       "       [7., 7., 7., 7.]], dtype=float16)"
      ]
     },
     "execution_count": 15,
     "metadata": {},
     "output_type": "execute_result"
    }
   ],
   "source": [
    "numbers = np.full((2,4), 7, dtype=np.float16)\n",
    "numbers"
   ]
  },
  {
   "cell_type": "code",
   "execution_count": 16,
   "id": "92f0aba3",
   "metadata": {
    "ExecuteTime": {
     "end_time": "2022-04-07T03:47:11.115421Z",
     "start_time": "2022-04-07T03:47:11.095664Z"
    }
   },
   "outputs": [
    {
     "data": {
      "text/plain": [
       "array([0., 0., 0., 0., 0., 0.])"
      ]
     },
     "execution_count": 16,
     "metadata": {},
     "output_type": "execute_result"
    }
   ],
   "source": [
    "empty_array = np.empty(6)\n",
    "empty_array"
   ]
  },
  {
   "cell_type": "code",
   "execution_count": 17,
   "id": "38e08498",
   "metadata": {
    "ExecuteTime": {
     "end_time": "2022-04-07T03:47:11.330756Z",
     "start_time": "2022-04-07T03:47:11.144302Z"
    }
   },
   "outputs": [
    {
     "name": "stdout",
     "output_type": "stream",
     "text": [
      "[0 1 2 3]\n",
      "[0 2 4 6 8]\n"
     ]
    }
   ],
   "source": [
    "print(np.arange(4))\n",
    "print(np.arange(0, 10, 2))"
   ]
  },
  {
   "cell_type": "code",
   "execution_count": 18,
   "id": "5d502b0f",
   "metadata": {
    "ExecuteTime": {
     "end_time": "2022-04-07T03:47:11.506498Z",
     "start_time": "2022-04-07T03:47:11.341903Z"
    }
   },
   "outputs": [
    {
     "data": {
      "text/plain": [
       "array([2, 3, 4, 5, 6, 7, 8])"
      ]
     },
     "execution_count": 18,
     "metadata": {},
     "output_type": "execute_result"
    }
   ],
   "source": [
    "np.arange(2,9)"
   ]
  },
  {
   "cell_type": "code",
   "execution_count": 19,
   "id": "8910a73e",
   "metadata": {
    "ExecuteTime": {
     "end_time": "2022-04-07T03:47:11.718137Z",
     "start_time": "2022-04-07T03:47:11.512536Z"
    }
   },
   "outputs": [
    {
     "data": {
      "text/plain": [
       "array([ 2,  4,  6,  8, 10, 12, 14, 16, 18, 20])"
      ]
     },
     "execution_count": 19,
     "metadata": {},
     "output_type": "execute_result"
    }
   ],
   "source": [
    "np.arange(2, 21, 2)"
   ]
  },
  {
   "cell_type": "code",
   "execution_count": 20,
   "id": "ef037430",
   "metadata": {
    "ExecuteTime": {
     "end_time": "2022-04-07T03:47:11.952933Z",
     "start_time": "2022-04-07T03:47:11.725183Z"
    }
   },
   "outputs": [
    {
     "data": {
      "text/plain": [
       "array([ 0,  2,  4,  6,  8, 10, 12, 14, 16, 18, 20])"
      ]
     },
     "execution_count": 20,
     "metadata": {},
     "output_type": "execute_result"
    }
   ],
   "source": [
    "np.arange(0, 21, 2)"
   ]
  },
  {
   "cell_type": "code",
   "execution_count": 21,
   "id": "7dd89b90",
   "metadata": {
    "ExecuteTime": {
     "end_time": "2022-04-07T03:47:12.163031Z",
     "start_time": "2022-04-07T03:47:11.958976Z"
    }
   },
   "outputs": [
    {
     "data": {
      "text/plain": [
       "array([ 1,  3,  5,  7,  9, 11, 13, 15, 17, 19])"
      ]
     },
     "execution_count": 21,
     "metadata": {},
     "output_type": "execute_result"
    }
   ],
   "source": [
    "np.arange(1, 21, 2)"
   ]
  },
  {
   "cell_type": "code",
   "execution_count": 22,
   "id": "20bcfc98",
   "metadata": {
    "ExecuteTime": {
     "end_time": "2022-04-07T03:47:12.474556Z",
     "start_time": "2022-04-07T03:47:12.179751Z"
    }
   },
   "outputs": [
    {
     "data": {
      "text/plain": [
       "array([10,  8,  6,  4,  2])"
      ]
     },
     "execution_count": 22,
     "metadata": {},
     "output_type": "execute_result"
    }
   ],
   "source": [
    "np.arange(10, 0, -2)"
   ]
  },
  {
   "cell_type": "markdown",
   "id": "913007e7",
   "metadata": {},
   "source": [
    "## Add Remove Sort"
   ]
  },
  {
   "cell_type": "code",
   "execution_count": 23,
   "id": "e492f2aa",
   "metadata": {
    "ExecuteTime": {
     "end_time": "2022-04-07T03:47:12.693372Z",
     "start_time": "2022-04-07T03:47:12.480636Z"
    }
   },
   "outputs": [
    {
     "data": {
      "text/plain": [
       "array([1, 2, 3, 4, 5, 6, 7, 8])"
      ]
     },
     "execution_count": 23,
     "metadata": {},
     "output_type": "execute_result"
    }
   ],
   "source": [
    "arr = np.array([1,2,3,4,5,6,7,8])\n",
    "np.append(arr, [1,2])\n",
    "arr"
   ]
  },
  {
   "cell_type": "code",
   "execution_count": 24,
   "id": "091c05c3",
   "metadata": {
    "ExecuteTime": {
     "end_time": "2022-04-07T03:47:13.005165Z",
     "start_time": "2022-04-07T03:47:12.710595Z"
    }
   },
   "outputs": [
    {
     "data": {
      "text/plain": [
       "(10,)"
      ]
     },
     "execution_count": 24,
     "metadata": {},
     "output_type": "execute_result"
    }
   ],
   "source": [
    "arr_new = np.append(arr, [1,2])\n",
    "arr_new.shape"
   ]
  },
  {
   "cell_type": "code",
   "execution_count": 25,
   "id": "37a6d675",
   "metadata": {
    "ExecuteTime": {
     "end_time": "2022-04-07T03:47:13.164962Z",
     "start_time": "2022-04-07T03:47:13.028434Z"
    }
   },
   "outputs": [
    {
     "data": {
      "text/plain": [
       "array([1, 3, 4, 5, 6, 7, 8])"
      ]
     },
     "execution_count": 25,
     "metadata": {},
     "output_type": "execute_result"
    }
   ],
   "source": [
    "np.delete(arr, 1)"
   ]
  },
  {
   "cell_type": "code",
   "execution_count": 26,
   "id": "bc08f109",
   "metadata": {
    "ExecuteTime": {
     "end_time": "2022-04-07T03:47:13.523989Z",
     "start_time": "2022-04-07T03:47:13.176037Z"
    }
   },
   "outputs": [
    {
     "data": {
      "text/plain": [
       "array([1, 2, 3, 4, 5, 6, 8])"
      ]
     },
     "execution_count": 26,
     "metadata": {},
     "output_type": "execute_result"
    }
   ],
   "source": [
    "np.delete(arr, 6)"
   ]
  },
  {
   "cell_type": "code",
   "execution_count": 27,
   "id": "5ad13843",
   "metadata": {
    "ExecuteTime": {
     "end_time": "2022-04-07T03:47:13.871765Z",
     "start_time": "2022-04-07T03:47:13.544123Z"
    }
   },
   "outputs": [
    {
     "ename": "SyntaxError",
     "evalue": "invalid syntax (4292120498.py, line 4)",
     "output_type": "error",
     "traceback": [
      "\u001b[1;36m  Input \u001b[1;32mIn [27]\u001b[1;36m\u001b[0m\n\u001b[1;33m    [51 18, 10, 43]\u001b[0m\n\u001b[1;37m        ^\u001b[0m\n\u001b[1;31mSyntaxError\u001b[0m\u001b[1;31m:\u001b[0m invalid syntax\n"
     ]
    }
   ],
   "source": [
    "arr = np.array([2, 1, 5, 3, 7, 4, 6, 8])\n",
    "arr2d = np.array([[9,18, 3, 7],\n",
    "                  [2, 1, 10, 34],\n",
    "                  [51 18, 10, 43]\n",
    "                 ])\n",
    "\n",
    "np.sort(arr2d, axis-0)\n",
    "np.sort(arr2d, axis=1)"
   ]
  },
  {
   "cell_type": "code",
   "execution_count": null,
   "id": "21404f60",
   "metadata": {
    "ExecuteTime": {
     "end_time": "2022-04-07T03:47:13.909259Z",
     "start_time": "2022-04-07T03:47:13.908751Z"
    }
   },
   "outputs": [],
   "source": [
    "array_example = np.array([\n",
    "    [0, 1, 2, 3, 4, 5,6, 7].\n",
    "])\n",
    "\n",
    "print(array_example)"
   ]
  },
  {
   "cell_type": "code",
   "execution_count": null,
   "id": "d9025464",
   "metadata": {
    "ExecuteTime": {
     "end_time": "2022-04-07T03:47:13.914833Z",
     "start_time": "2022-04-07T03:47:13.914833Z"
    }
   },
   "outputs": [],
   "source": [
    "array_example.ndim"
   ]
  },
  {
   "cell_type": "code",
   "execution_count": null,
   "id": "7024f54c",
   "metadata": {
    "ExecuteTime": {
     "end_time": "2022-04-07T03:47:13.921924Z",
     "start_time": "2022-04-07T03:47:13.921924Z"
    }
   },
   "outputs": [],
   "source": [
    "array_example.shape\n",
    "array_example.size"
   ]
  },
  {
   "cell_type": "code",
   "execution_count": null,
   "id": "7fb22e26",
   "metadata": {
    "ExecuteTime": {
     "end_time": "2022-04-07T03:47:13.931551Z",
     "start_time": "2022-04-07T03:47:13.931551Z"
    }
   },
   "outputs": [],
   "source": [
    "array_example.dtype"
   ]
  },
  {
   "cell_type": "code",
   "execution_count": null,
   "id": "efe4a47d",
   "metadata": {
    "ExecuteTime": {
     "end_time": "2022-04-07T03:47:13.969044Z",
     "start_time": "2022-04-07T03:47:13.969044Z"
    }
   },
   "outputs": [],
   "source": [
    "array_example.itemsize"
   ]
  },
  {
   "cell_type": "code",
   "execution_count": null,
   "id": "a89bfe85",
   "metadata": {
    "ExecuteTime": {
     "end_time": "2022-04-07T03:47:13.976141Z",
     "start_time": "2022-04-07T03:47:13.976141Z"
    }
   },
   "outputs": [],
   "source": [
    "array_example.dtype = np.int16\n",
    "array_example.dtype"
   ]
  },
  {
   "cell_type": "code",
   "execution_count": null,
   "id": "a11491f3",
   "metadata": {
    "ExecuteTime": {
     "end_time": "2022-04-07T03:47:13.982726Z",
     "start_time": "2022-04-07T03:47:13.982219Z"
    }
   },
   "outputs": [],
   "source": [
    "array_example.itemsize"
   ]
  },
  {
   "cell_type": "code",
   "execution_count": null,
   "id": "d6fcb936",
   "metadata": {
    "ExecuteTime": {
     "end_time": "2022-04-07T03:47:13.998432Z",
     "start_time": "2022-04-07T03:47:13.998432Z"
    }
   },
   "outputs": [],
   "source": [
    "array_example.nbytes"
   ]
  },
  {
   "cell_type": "code",
   "execution_count": null,
   "id": "faedde85",
   "metadata": {
    "ExecuteTime": {
     "end_time": "2022-04-07T03:47:14.008058Z",
     "start_time": "2022-04-07T03:47:14.008058Z"
    }
   },
   "outputs": [],
   "source": [
    "ones3 = np.ones((3,4))\n",
    "ones3"
   ]
  },
  {
   "cell_type": "code",
   "execution_count": null,
   "id": "6b0051f5",
   "metadata": {
    "ExecuteTime": {
     "end_time": "2022-04-07T03:47:14.018698Z",
     "start_time": "2022-04-07T03:47:14.018698Z"
    }
   },
   "outputs": [],
   "source": [
    "ones3.shape"
   ]
  },
  {
   "cell_type": "code",
   "execution_count": null,
   "id": "84025024",
   "metadata": {
    "ExecuteTime": {
     "end_time": "2022-04-07T03:47:14.023765Z",
     "start_time": "2022-04-07T03:47:14.023258Z"
    }
   },
   "outputs": [],
   "source": [
    "ones3.reshape(6,2)"
   ]
  },
  {
   "cell_type": "code",
   "execution_count": null,
   "id": "ad7de887",
   "metadata": {
    "ExecuteTime": {
     "end_time": "2022-04-07T03:47:14.031871Z",
     "start_time": "2022-04-07T03:47:14.031871Z"
    }
   },
   "outputs": [],
   "source": [
    "a = np.arange(6)\n",
    "a"
   ]
  },
  {
   "cell_type": "code",
   "execution_count": null,
   "id": "fe4e7a76",
   "metadata": {
    "ExecuteTime": {
     "end_time": "2022-04-07T03:47:14.038966Z",
     "start_time": "2022-04-07T03:47:14.038966Z"
    }
   },
   "outputs": [],
   "source": [
    "b = a.reshape(6,3)\n"
   ]
  },
  {
   "cell_type": "code",
   "execution_count": null,
   "id": "a4189ade",
   "metadata": {
    "ExecuteTime": {
     "end_time": "2022-04-07T03:47:14.044032Z",
     "start_time": "2022-04-07T03:47:14.044032Z"
    }
   },
   "outputs": [],
   "source": [
    "bb = b.reshape(3,6)\n",
    "bb"
   ]
  },
  {
   "cell_type": "code",
   "execution_count": null,
   "id": "8b7c768e",
   "metadata": {
    "ExecuteTime": {
     "end_time": "2022-04-07T03:47:14.049099Z",
     "start_time": "2022-04-07T03:47:14.049099Z"
    }
   },
   "outputs": [],
   "source": [
    "c = a.reshape(3, 1, 2)\n",
    "c"
   ]
  },
  {
   "cell_type": "code",
   "execution_count": null,
   "id": "e211a5c0",
   "metadata": {
    "ExecuteTime": {
     "end_time": "2022-04-07T03:47:14.073418Z",
     "start_time": "2022-04-07T03:47:14.073418Z"
    }
   },
   "outputs": [],
   "source": [
    "a = np.arange(18)\n",
    "print(a)\n",
    "d = a.reshape(3,3,2)\n",
    "print(d)"
   ]
  },
  {
   "cell_type": "code",
   "execution_count": null,
   "id": "02e98c5d",
   "metadata": {
    "ExecuteTime": {
     "end_time": "2022-04-07T03:47:14.081525Z",
     "start_time": "2022-04-07T03:47:14.081525Z"
    }
   },
   "outputs": [],
   "source": [
    "np.reshape(d, (9,2))"
   ]
  },
  {
   "cell_type": "code",
   "execution_count": null,
   "id": "5321fc57",
   "metadata": {
    "ExecuteTime": {
     "end_time": "2022-04-07T03:47:14.088619Z",
     "start_time": "2022-04-07T03:47:14.088619Z"
    }
   },
   "outputs": [],
   "source": [
    "a2 = a[np.newaxis]\n",
    "print(a2.shape)\n",
    "print(a2)"
   ]
  },
  {
   "cell_type": "code",
   "execution_count": null,
   "id": "236631a6",
   "metadata": {
    "ExecuteTime": {
     "end_time": "2022-04-07T03:47:14.093178Z",
     "start_time": "2022-04-07T03:47:14.093178Z"
    }
   },
   "outputs": [],
   "source": [
    "row_vector = a[np.newaxis, :]\n",
    "print(row_vector.shape)\n",
    "print(row_vector)"
   ]
  },
  {
   "cell_type": "code",
   "execution_count": null,
   "id": "89446cb1",
   "metadata": {
    "ExecuteTime": {
     "end_time": "2022-04-07T03:47:14.101284Z",
     "start_time": "2022-04-07T03:47:14.101284Z"
    }
   },
   "outputs": [],
   "source": [
    "col_vector = a[:, np.newaxis]\n",
    "print(col_vector.shape)\n",
    "print(col_vector)"
   ]
  },
  {
   "cell_type": "code",
   "execution_count": null,
   "id": "e67306fd",
   "metadata": {
    "ExecuteTime": {
     "end_time": "2022-04-07T03:47:14.105845Z",
     "start_time": "2022-04-07T03:47:14.105845Z"
    }
   },
   "outputs": [],
   "source": [
    "data = np.arange(1, 4)\n",
    "\n",
    "print(data)\n",
    "print(data[0])\n",
    "print(data[1])\n",
    "print(data[0:2])\n",
    "print(data[1:])\n",
    "print(data[-2:])"
   ]
  },
  {
   "cell_type": "code",
   "execution_count": null,
   "id": "da1a5aa6",
   "metadata": {
    "ExecuteTime": {
     "end_time": "2022-04-07T03:47:14.110911Z",
     "start_time": "2022-04-07T03:47:14.110911Z"
    }
   },
   "outputs": [],
   "source": [
    "a = np.arange(1, 13).reshape(3, 4)\n",
    "a"
   ]
  },
  {
   "cell_type": "code",
   "execution_count": null,
   "id": "007ab2a4",
   "metadata": {
    "ExecuteTime": {
     "end_time": "2022-04-07T03:47:14.115979Z",
     "start_time": "2022-04-07T03:47:14.115979Z"
    }
   },
   "outputs": [],
   "source": [
    "print(a[a >= 5])"
   ]
  },
  {
   "cell_type": "code",
   "execution_count": null,
   "id": "2cec22a7",
   "metadata": {
    "ExecuteTime": {
     "end_time": "2022-04-07T03:47:14.122059Z",
     "start_time": "2022-04-07T03:47:14.122059Z"
    }
   },
   "outputs": [],
   "source": [
    "five_up = (a >= 5)\n",
    "print(a[five_up])\n"
   ]
  },
  {
   "cell_type": "code",
   "execution_count": null,
   "id": "8ecbfa2d",
   "metadata": {
    "ExecuteTime": {
     "end_time": "2022-04-07T03:47:14.127125Z",
     "start_time": "2022-04-07T03:47:14.127125Z"
    }
   },
   "outputs": [],
   "source": [
    "divisible_by_2 = a[a%2==0]\n",
    "print(divisible_by_2)"
   ]
  },
  {
   "cell_type": "code",
   "execution_count": null,
   "id": "6f511929",
   "metadata": {
    "ExecuteTime": {
     "end_time": "2022-04-07T03:47:14.161072Z",
     "start_time": "2022-04-07T03:47:14.161072Z"
    }
   },
   "outputs": [],
   "source": [
    "divisible_by_3 = a[a%3==0]\n",
    "print(divisible_by_3)"
   ]
  },
  {
   "cell_type": "code",
   "execution_count": null,
   "id": "5ff0455e",
   "metadata": {
    "ExecuteTime": {
     "end_time": "2022-04-07T03:47:14.172726Z",
     "start_time": "2022-04-07T03:47:14.172726Z"
    }
   },
   "outputs": [],
   "source": [
    "a"
   ]
  },
  {
   "cell_type": "code",
   "execution_count": null,
   "id": "077052ae",
   "metadata": {
    "ExecuteTime": {
     "end_time": "2022-04-07T03:47:14.185393Z",
     "start_time": "2022-04-07T03:47:14.185393Z"
    }
   },
   "outputs": [],
   "source": [
    "c = a[(a > 2) & (a < 11)]\n",
    "print(c)"
   ]
  },
  {
   "cell_type": "code",
   "execution_count": null,
   "id": "1567eaf7",
   "metadata": {
    "ExecuteTime": {
     "end_time": "2022-04-07T03:47:14.190458Z",
     "start_time": "2022-04-07T03:47:14.190458Z"
    }
   },
   "outputs": [],
   "source": [
    "random_af = np.random.rand(3,5)\n",
    "print(random_af)\n",
    "print(random_af.dtype)"
   ]
  },
  {
   "cell_type": "code",
   "execution_count": null,
   "id": "2f35545d",
   "metadata": {
    "ExecuteTime": {
     "end_time": "2022-04-07T03:47:14.197044Z",
     "start_time": "2022-04-07T03:47:14.197044Z"
    }
   },
   "outputs": [],
   "source": [
    "random_ai = np.random.randint(2, high=10, size=5)\n",
    "print(random_ai)"
   ]
  },
  {
   "cell_type": "code",
   "execution_count": null,
   "id": "dea9845a",
   "metadata": {
    "ExecuteTime": {
     "end_time": "2022-04-07T03:47:14.202112Z",
     "start_time": "2022-04-07T03:47:14.202112Z"
    }
   },
   "outputs": [],
   "source": [
    "arr = np.arange(1, 11)\n",
    "arr"
   ]
  },
  {
   "cell_type": "code",
   "execution_count": null,
   "id": "7d04bf19",
   "metadata": {
    "ExecuteTime": {
     "end_time": "2022-04-07T03:47:14.207685Z",
     "start_time": "2022-04-07T03:47:14.207685Z"
    }
   },
   "outputs": [],
   "source": [
    "arr1 = arr[3:8]\n",
    "arr1"
   ]
  },
  {
   "cell_type": "code",
   "execution_count": null,
   "id": "5a91141f",
   "metadata": {
    "ExecuteTime": {
     "end_time": "2022-04-07T03:47:14.214778Z",
     "start_time": "2022-04-07T03:47:14.214778Z"
    }
   },
   "outputs": [],
   "source": [
    "a_1 = np.array([[1,1], [2,2]])\n",
    "a_2 = np.array([[3,3], [4,4]])"
   ]
  },
  {
   "cell_type": "code",
   "execution_count": null,
   "id": "6c88b37e",
   "metadata": {
    "ExecuteTime": {
     "end_time": "2022-04-07T03:47:14.220858Z",
     "start_time": "2022-04-07T03:47:14.220858Z"
    }
   },
   "outputs": [],
   "source": [
    "np.vstack((a_1, a_2))"
   ]
  },
  {
   "cell_type": "code",
   "execution_count": null,
   "id": "ce5d3786",
   "metadata": {
    "ExecuteTime": {
     "end_time": "2022-04-07T03:47:14.224405Z",
     "start_time": "2022-04-07T03:47:14.224405Z"
    }
   },
   "outputs": [],
   "source": [
    "np.vstack((a_1, a_2, a_1))"
   ]
  },
  {
   "cell_type": "code",
   "execution_count": null,
   "id": "cbcadf91",
   "metadata": {
    "ExecuteTime": {
     "end_time": "2022-04-07T03:47:14.229979Z",
     "start_time": "2022-04-07T03:47:14.229471Z"
    }
   },
   "outputs": [],
   "source": [
    "np.vstack((a_1, a_2, a_1, a_1))"
   ]
  },
  {
   "cell_type": "code",
   "execution_count": null,
   "id": "b7fd41ce",
   "metadata": {
    "ExecuteTime": {
     "end_time": "2022-04-07T03:47:14.257846Z",
     "start_time": "2022-04-07T03:47:14.257846Z"
    }
   },
   "outputs": [],
   "source": [
    "a_3 = np.array([[3,3,3], [4,4,4]])\n",
    "np.vstack((a_2, a_3))"
   ]
  },
  {
   "cell_type": "code",
   "execution_count": null,
   "id": "d786008b",
   "metadata": {
    "ExecuteTime": {
     "end_time": "2022-04-07T03:47:14.265445Z",
     "start_time": "2022-04-07T03:47:14.265445Z"
    }
   },
   "outputs": [],
   "source": [
    "np.hstack((a_1, a_2))"
   ]
  },
  {
   "cell_type": "code",
   "execution_count": null,
   "id": "d95f1da5",
   "metadata": {
    "ExecuteTime": {
     "end_time": "2022-04-07T03:47:14.273046Z",
     "start_time": "2022-04-07T03:47:14.273046Z"
    }
   },
   "outputs": [],
   "source": [
    "np.hstack((a_1, a_2, a_1, a_3))"
   ]
  },
  {
   "cell_type": "code",
   "execution_count": null,
   "id": "c3390949",
   "metadata": {
    "ExecuteTime": {
     "end_time": "2022-04-07T03:47:14.280138Z",
     "start_time": "2022-04-07T03:47:14.280138Z"
    }
   },
   "outputs": [],
   "source": [
    "arrsplit = np.arange(1, 25).reshape(2,12)\n",
    "print(arrsplit)"
   ]
  },
  {
   "cell_type": "code",
   "execution_count": null,
   "id": "3bdddd00",
   "metadata": {
    "ExecuteTime": {
     "end_time": "2022-04-07T03:47:14.285712Z",
     "start_time": "2022-04-07T03:47:14.285712Z"
    }
   },
   "outputs": [],
   "source": [
    "np.hsplit(arrsplit, 3)"
   ]
  },
  {
   "cell_type": "code",
   "execution_count": null,
   "id": "179e15a5",
   "metadata": {
    "ExecuteTime": {
     "end_time": "2022-04-07T03:47:14.290272Z",
     "start_time": "2022-04-07T03:47:14.290272Z"
    }
   },
   "outputs": [],
   "source": [
    "result = np.hsplit(arrsplit, 3)\n",
    "result[0]"
   ]
  },
  {
   "cell_type": "code",
   "execution_count": null,
   "id": "87fd4dac",
   "metadata": {
    "ExecuteTime": {
     "end_time": "2022-04-07T03:47:14.294325Z",
     "start_time": "2022-04-07T03:47:14.294325Z"
    }
   },
   "outputs": [],
   "source": [
    "result[1]"
   ]
  },
  {
   "cell_type": "code",
   "execution_count": null,
   "id": "8030c68d",
   "metadata": {
    "ExecuteTime": {
     "end_time": "2022-04-07T03:47:14.300405Z",
     "start_time": "2022-04-07T03:47:14.300405Z"
    }
   },
   "outputs": [],
   "source": [
    "result[2]"
   ]
  },
  {
   "cell_type": "code",
   "execution_count": null,
   "id": "8251c427",
   "metadata": {
    "ExecuteTime": {
     "end_time": "2022-04-07T03:47:14.304459Z",
     "start_time": "2022-04-07T03:47:14.304459Z"
    }
   },
   "outputs": [],
   "source": [
    "a = np.arange(1,13).reshape(3,4)\n",
    "a"
   ]
  },
  {
   "cell_type": "code",
   "execution_count": null,
   "id": "4e812751",
   "metadata": {
    "ExecuteTime": {
     "end_time": "2022-04-07T03:47:14.309018Z",
     "start_time": "2022-04-07T03:47:14.309018Z"
    }
   },
   "outputs": [],
   "source": [
    "b = a.view()\n",
    "b"
   ]
  },
  {
   "cell_type": "code",
   "execution_count": null,
   "id": "3413a0d9",
   "metadata": {
    "ExecuteTime": {
     "end_time": "2022-04-07T03:47:14.360698Z",
     "start_time": "2022-04-07T03:47:14.360698Z"
    }
   },
   "outputs": [],
   "source": [
    "b[1,1] = 10\n",
    "b"
   ]
  },
  {
   "cell_type": "code",
   "execution_count": null,
   "id": "90f238f3",
   "metadata": {
    "ExecuteTime": {
     "end_time": "2022-04-07T03:47:14.376912Z",
     "start_time": "2022-04-07T03:47:14.376912Z"
    }
   },
   "outputs": [],
   "source": [
    "a"
   ]
  },
  {
   "cell_type": "code",
   "execution_count": null,
   "id": "8dbac021",
   "metadata": {
    "ExecuteTime": {
     "end_time": "2022-04-07T03:47:14.386032Z",
     "start_time": "2022-04-07T03:47:14.386032Z"
    }
   },
   "outputs": [],
   "source": [
    "a = np.arange(1,13).reshape(3,4)\n",
    "a"
   ]
  },
  {
   "cell_type": "code",
   "execution_count": null,
   "id": "30395cd5",
   "metadata": {
    "ExecuteTime": {
     "end_time": "2022-04-07T03:47:14.391098Z",
     "start_time": "2022-04-07T03:47:14.390591Z"
    }
   },
   "outputs": [],
   "source": [
    "c = a.copy()\n",
    "c"
   ]
  },
  {
   "cell_type": "code",
   "execution_count": null,
   "id": "08b8391a",
   "metadata": {
    "ExecuteTime": {
     "end_time": "2022-04-07T03:47:14.395151Z",
     "start_time": "2022-04-07T03:47:14.394646Z"
    }
   },
   "outputs": [],
   "source": [
    "c[:, -1] = 0\n",
    "c"
   ]
  },
  {
   "cell_type": "code",
   "execution_count": null,
   "id": "aa2e3fe6",
   "metadata": {
    "ExecuteTime": {
     "end_time": "2022-04-07T03:47:14.398697Z",
     "start_time": "2022-04-07T03:47:14.398697Z"
    }
   },
   "outputs": [],
   "source": [
    "a"
   ]
  },
  {
   "cell_type": "code",
   "execution_count": null,
   "id": "03049f28",
   "metadata": {
    "ExecuteTime": {
     "end_time": "2022-04-07T03:47:14.405284Z",
     "start_time": "2022-04-07T03:47:14.405284Z"
    }
   },
   "outputs": [],
   "source": [
    "a"
   ]
  },
  {
   "cell_type": "code",
   "execution_count": null,
   "id": "33499b3c",
   "metadata": {
    "ExecuteTime": {
     "end_time": "2022-04-07T03:47:14.409338Z",
     "start_time": "2022-04-07T03:47:14.409338Z"
    }
   },
   "outputs": [],
   "source": [
    "b"
   ]
  },
  {
   "cell_type": "code",
   "execution_count": null,
   "id": "e5576811",
   "metadata": {
    "ExecuteTime": {
     "end_time": "2022-04-07T03:47:14.414910Z",
     "start_time": "2022-04-07T03:47:14.414910Z"
    }
   },
   "outputs": [],
   "source": [
    "c"
   ]
  },
  {
   "cell_type": "code",
   "execution_count": null,
   "id": "783e048a",
   "metadata": {
    "ExecuteTime": {
     "end_time": "2022-04-07T03:47:14.420486Z",
     "start_time": "2022-04-07T03:47:14.420486Z"
    }
   },
   "outputs": [],
   "source": [
    "a + c"
   ]
  },
  {
   "cell_type": "code",
   "execution_count": null,
   "id": "3bf0f1d8",
   "metadata": {
    "ExecuteTime": {
     "end_time": "2022-04-07T03:47:14.424030Z",
     "start_time": "2022-04-07T03:47:14.424030Z"
    }
   },
   "outputs": [],
   "source": [
    "a * c"
   ]
  },
  {
   "cell_type": "code",
   "execution_count": null,
   "id": "301a6126",
   "metadata": {
    "ExecuteTime": {
     "end_time": "2022-04-07T03:47:14.444298Z",
     "start_time": "2022-04-07T03:47:14.444298Z"
    }
   },
   "outputs": [],
   "source": [
    "a / b"
   ]
  },
  {
   "cell_type": "code",
   "execution_count": null,
   "id": "35c99d2b",
   "metadata": {
    "ExecuteTime": {
     "end_time": "2022-04-07T03:47:14.463045Z",
     "start_time": "2022-04-07T03:47:14.463045Z"
    }
   },
   "outputs": [],
   "source": [
    "a = np.array([1, 2, 3, 4])\n",
    "\n",
    "a.sum()"
   ]
  },
  {
   "cell_type": "code",
   "execution_count": null,
   "id": "04288c2c",
   "metadata": {
    "ExecuteTime": {
     "end_time": "2022-04-07T03:47:14.502565Z",
     "start_time": "2022-04-07T03:47:14.502565Z"
    }
   },
   "outputs": [],
   "source": [
    "a.mean()"
   ]
  },
  {
   "cell_type": "code",
   "execution_count": null,
   "id": "0533f0bc",
   "metadata": {
    "ExecuteTime": {
     "end_time": "2022-04-07T03:47:14.509152Z",
     "start_time": "2022-04-07T03:47:14.509152Z"
    }
   },
   "outputs": [],
   "source": [
    "b = np.array([[1,1], [2,2]])\n",
    "b"
   ]
  },
  {
   "cell_type": "code",
   "execution_count": null,
   "id": "6c9a2f2c",
   "metadata": {
    "ExecuteTime": {
     "end_time": "2022-04-07T03:47:14.514219Z",
     "start_time": "2022-04-07T03:47:14.514219Z"
    }
   },
   "outputs": [],
   "source": [
    "b.sum(axis = 0)"
   ]
  },
  {
   "cell_type": "code",
   "execution_count": null,
   "id": "5c55a06a",
   "metadata": {
    "ExecuteTime": {
     "end_time": "2022-04-07T03:47:14.521818Z",
     "start_time": "2022-04-07T03:47:14.521818Z"
    }
   },
   "outputs": [],
   "source": [
    "b.sum(axis = 1)"
   ]
  },
  {
   "cell_type": "code",
   "execution_count": null,
   "id": "4f561182",
   "metadata": {
    "ExecuteTime": {
     "end_time": "2022-04-07T03:47:14.525872Z",
     "start_time": "2022-04-07T03:47:14.525872Z"
    }
   },
   "outputs": [],
   "source": [
    "b.mean(axis = 0)"
   ]
  },
  {
   "cell_type": "code",
   "execution_count": null,
   "id": "342fc239",
   "metadata": {
    "ExecuteTime": {
     "end_time": "2022-04-07T03:47:14.531445Z",
     "start_time": "2022-04-07T03:47:14.531445Z"
    }
   },
   "outputs": [],
   "source": [
    "data = np.arange(1,3)\n",
    "data"
   ]
  },
  {
   "cell_type": "code",
   "execution_count": null,
   "id": "65324002",
   "metadata": {
    "ExecuteTime": {
     "end_time": "2022-04-07T03:47:14.537018Z",
     "start_time": "2022-04-07T03:47:14.537018Z"
    }
   },
   "outputs": [],
   "source": [
    "data * 1.6"
   ]
  },
  {
   "cell_type": "code",
   "execution_count": null,
   "id": "ecee6047",
   "metadata": {
    "ExecuteTime": {
     "end_time": "2022-04-07T03:47:14.542084Z",
     "start_time": "2022-04-07T03:47:14.542084Z"
    }
   },
   "outputs": [],
   "source": [
    "data.shape"
   ]
  },
  {
   "cell_type": "code",
   "execution_count": null,
   "id": "3d35f6ad",
   "metadata": {
    "ExecuteTime": {
     "end_time": "2022-04-07T03:47:14.575017Z",
     "start_time": "2022-04-07T03:47:14.575017Z"
    }
   },
   "outputs": [],
   "source": [
    "a3x4 = np.ones((3,4))\n",
    "a3x4"
   ]
  },
  {
   "cell_type": "code",
   "execution_count": null,
   "id": "cc0b203f",
   "metadata": {
    "ExecuteTime": {
     "end_time": "2022-04-07T03:47:14.579070Z",
     "start_time": "2022-04-07T03:47:14.579070Z"
    }
   },
   "outputs": [],
   "source": [
    "a4x6 = np.ones((4,6))\n",
    "a4x6"
   ]
  },
  {
   "cell_type": "code",
   "execution_count": null,
   "id": "127463b0",
   "metadata": {
    "ExecuteTime": {
     "end_time": "2022-04-07T03:47:14.585151Z",
     "start_time": "2022-04-07T03:47:14.585151Z"
    }
   },
   "outputs": [],
   "source": [
    "np.dot(a3x4, a4x6)"
   ]
  },
  {
   "cell_type": "code",
   "execution_count": null,
   "id": "b1222903",
   "metadata": {
    "ExecuteTime": {
     "end_time": "2022-04-07T03:47:14.590725Z",
     "start_time": "2022-04-07T03:47:14.590725Z"
    }
   },
   "outputs": [],
   "source": [
    "data"
   ]
  },
  {
   "cell_type": "code",
   "execution_count": null,
   "id": "0fd05b51",
   "metadata": {
    "ExecuteTime": {
     "end_time": "2022-04-07T03:47:14.596805Z",
     "start_time": "2022-04-07T03:47:14.596805Z"
    }
   },
   "outputs": [],
   "source": [
    "A = np.random.randint(1, 10, size=12)\n",
    "A\n"
   ]
  },
  {
   "cell_type": "code",
   "execution_count": null,
   "id": "8e58eaa7",
   "metadata": {
    "ExecuteTime": {
     "end_time": "2022-04-07T03:47:14.604405Z",
     "start_time": "2022-04-07T03:47:14.604405Z"
    }
   },
   "outputs": [],
   "source": [
    "A.sum()"
   ]
  },
  {
   "cell_type": "code",
   "execution_count": null,
   "id": "42bd763e",
   "metadata": {
    "ExecuteTime": {
     "end_time": "2022-04-07T03:47:14.614030Z",
     "start_time": "2022-04-07T03:47:14.614030Z"
    }
   },
   "outputs": [],
   "source": [
    "A.mean()"
   ]
  },
  {
   "cell_type": "code",
   "execution_count": null,
   "id": "70c57286",
   "metadata": {
    "ExecuteTime": {
     "end_time": "2022-04-07T03:47:14.622644Z",
     "start_time": "2022-04-07T03:47:14.622644Z"
    }
   },
   "outputs": [],
   "source": [
    "data = np.arange(1,5).reshape(2,2)\n",
    "data"
   ]
  },
  {
   "cell_type": "code",
   "execution_count": null,
   "id": "f79c7719",
   "metadata": {
    "ExecuteTime": {
     "end_time": "2022-04-07T03:47:14.627205Z",
     "start_time": "2022-04-07T03:47:14.627205Z"
    }
   },
   "outputs": [],
   "source": [
    "ones_row = np.ones([1, 2])\n",
    "ones_row"
   ]
  },
  {
   "cell_type": "code",
   "execution_count": null,
   "id": "dc8ff44a",
   "metadata": {
    "ExecuteTime": {
     "end_time": "2022-04-07T03:47:14.634807Z",
     "start_time": "2022-04-07T03:47:14.634807Z"
    }
   },
   "outputs": [],
   "source": [
    "data + ones_row"
   ]
  },
  {
   "cell_type": "code",
   "execution_count": null,
   "id": "65f8c721",
   "metadata": {
    "ExecuteTime": {
     "end_time": "2022-04-07T03:47:14.639364Z",
     "start_time": "2022-04-07T03:47:14.639364Z"
    }
   },
   "outputs": [],
   "source": [
    "a_2 = np.arange(7,13).reshape(3,2)\n",
    "print(a_2)\n",
    "print(a_2.shape)"
   ]
  },
  {
   "cell_type": "code",
   "execution_count": null,
   "id": "ce6aa493",
   "metadata": {
    "ExecuteTime": {
     "end_time": "2022-04-07T03:47:14.717391Z",
     "start_time": "2022-04-07T03:47:14.717391Z"
    }
   },
   "outputs": [],
   "source": [
    "data = np.arange(1,7).reshape(3,2)\n",
    "data"
   ]
  },
  {
   "cell_type": "code",
   "execution_count": null,
   "id": "7f2d3156",
   "metadata": {
    "ExecuteTime": {
     "end_time": "2022-04-07T03:47:14.750326Z",
     "start_time": "2022-04-07T03:47:14.750326Z"
    }
   },
   "outputs": [],
   "source": [
    "data.T"
   ]
  },
  {
   "cell_type": "code",
   "execution_count": null,
   "id": "06b0d884",
   "metadata": {
    "ExecuteTime": {
     "end_time": "2022-04-07T03:47:14.756405Z",
     "start_time": "2022-04-07T03:47:14.756405Z"
    }
   },
   "outputs": [],
   "source": [
    "arrflat = np.arange(1,13).reshape(3,4)\n",
    "print(arrflat)"
   ]
  },
  {
   "cell_type": "code",
   "execution_count": null,
   "id": "eb8fb250",
   "metadata": {
    "ExecuteTime": {
     "end_time": "2022-04-07T03:47:14.769072Z",
     "start_time": "2022-04-07T03:47:14.769072Z"
    }
   },
   "outputs": [
    {
     "name": "stderr",
     "output_type": "stream",
     "text": [
      "--- Logging error ---\n",
      "Traceback (most recent call last):\n",
      "  File \"C:\\users\\zhafran\\appdata\\local\\programs\\python\\python39\\lib\\site-packages\\ipykernel\\kernelbase.py\", line 461, in dispatch_queue\n",
      "    await self.process_one()\n",
      "  File \"C:\\users\\zhafran\\appdata\\local\\programs\\python\\python39\\lib\\site-packages\\ipykernel\\kernelbase.py\", line 450, in process_one\n",
      "    await dispatch(*args)\n",
      "TypeError: object NoneType can't be used in 'await' expression\n",
      "\n",
      "During handling of the above exception, another exception occurred:\n",
      "\n",
      "Traceback (most recent call last):\n",
      "  File \"C:\\users\\zhafran\\appdata\\local\\programs\\python\\python39\\lib\\logging\\__init__.py\", line 1082, in emit\n",
      "    stream.write(msg + self.terminator)\n",
      "OSError: [Errno 22] Invalid argument\n",
      "Call stack:\n",
      "  File \"C:\\users\\zhafran\\appdata\\local\\programs\\python\\python39\\lib\\runpy.py\", line 197, in _run_module_as_main\n",
      "    return _run_code(code, main_globals, None,\n",
      "  File \"C:\\users\\zhafran\\appdata\\local\\programs\\python\\python39\\lib\\runpy.py\", line 87, in _run_code\n",
      "    exec(code, run_globals)\n",
      "  File \"C:\\users\\zhafran\\appdata\\local\\programs\\python\\python39\\lib\\site-packages\\ipykernel_launcher.py\", line 16, in <module>\n",
      "    app.launch_new_instance()\n",
      "  File \"C:\\users\\zhafran\\appdata\\local\\programs\\python\\python39\\lib\\site-packages\\traitlets\\config\\application.py\", line 846, in launch_instance\n",
      "    app.start()\n",
      "  File \"C:\\users\\zhafran\\appdata\\local\\programs\\python\\python39\\lib\\site-packages\\ipykernel\\kernelapp.py\", line 677, in start\n",
      "    self.io_loop.start()\n",
      "  File \"C:\\users\\zhafran\\appdata\\local\\programs\\python\\python39\\lib\\site-packages\\tornado\\platform\\asyncio.py\", line 199, in start\n",
      "    self.asyncio_loop.run_forever()\n",
      "  File \"C:\\users\\zhafran\\appdata\\local\\programs\\python\\python39\\lib\\asyncio\\base_events.py\", line 596, in run_forever\n",
      "    self._run_once()\n",
      "  File \"C:\\users\\zhafran\\appdata\\local\\programs\\python\\python39\\lib\\asyncio\\base_events.py\", line 1890, in _run_once\n",
      "    handle._run()\n",
      "  File \"C:\\users\\zhafran\\appdata\\local\\programs\\python\\python39\\lib\\asyncio\\events.py\", line 80, in _run\n",
      "    self._context.run(self._callback, *self._args)\n",
      "  File \"C:\\users\\zhafran\\appdata\\local\\programs\\python\\python39\\lib\\site-packages\\ipykernel\\kernelbase.py\", line 463, in dispatch_queue\n",
      "    self.log.exception(\"Error in message handler\")\n",
      "Message: 'Error in message handler'\n",
      "Arguments: ()\n"
     ]
    }
   ],
   "source": [
    "flatten_arrflat = arrflat.flatten()\n",
    "flatten_arrflat"
   ]
  },
  {
   "cell_type": "code",
   "execution_count": null,
   "id": "155cb2eb",
   "metadata": {},
   "outputs": [],
   "source": []
  }
 ],
 "metadata": {
  "kernelspec": {
   "display_name": "Python 3 (ipykernel)",
   "language": "python",
   "name": "python3"
  },
  "language_info": {
   "codemirror_mode": {
    "name": "ipython",
    "version": 3
   },
   "file_extension": ".py",
   "mimetype": "text/x-python",
   "name": "python",
   "nbconvert_exporter": "python",
   "pygments_lexer": "ipython3",
   "version": "3.9.2"
  },
  "latex_envs": {
   "LaTeX_envs_menu_present": true,
   "autoclose": false,
   "autocomplete": true,
   "bibliofile": "biblio.bib",
   "cite_by": "apalike",
   "current_citInitial": 1,
   "eqLabelWithNumbers": true,
   "eqNumInitial": 1,
   "hotkeys": {
    "equation": "Ctrl-E",
    "itemize": "Ctrl-I"
   },
   "labels_anchors": false,
   "latex_user_defs": false,
   "report_style_numbering": false,
   "user_envs_cfg": false
  },
  "toc": {
   "base_numbering": 1,
   "nav_menu": {},
   "number_sections": true,
   "sideBar": true,
   "skip_h1_title": false,
   "title_cell": "Table of Contents",
   "title_sidebar": "Contents",
   "toc_cell": false,
   "toc_position": {},
   "toc_section_display": true,
   "toc_window_display": true
  }
 },
 "nbformat": 4,
 "nbformat_minor": 5
}
