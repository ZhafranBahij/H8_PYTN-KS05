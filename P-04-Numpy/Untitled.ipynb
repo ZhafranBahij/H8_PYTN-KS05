{
 "cells": [
  {
   "cell_type": "markdown",
   "id": "af3c5c96",
   "metadata": {},
   "source": [
    " # Numpy"
   ]
  },
  {
   "cell_type": "code",
   "execution_count": 1,
   "id": "88a74cdf",
   "metadata": {
    "ExecuteTime": {
     "end_time": "2022-02-24T12:42:05.445573Z",
     "start_time": "2022-02-24T12:42:00.462070Z"
    }
   },
   "outputs": [],
   "source": [
    "import numpy as np # Aktifin ini dulu gan"
   ]
  },
  {
   "cell_type": "code",
   "execution_count": 2,
   "id": "6be45ce4",
   "metadata": {
    "ExecuteTime": {
     "end_time": "2022-02-24T12:45:28.931529Z",
     "start_time": "2022-02-24T12:45:25.203292Z"
    }
   },
   "outputs": [
    {
     "ename": "TypeError",
     "evalue": "array() missing required argument 'object' (pos 1)",
     "output_type": "error",
     "traceback": [
      "\u001b[1;31m---------------------------------------------------------------------------\u001b[0m",
      "\u001b[1;31mTypeError\u001b[0m                                 Traceback (most recent call last)",
      "Input \u001b[1;32mIn [2]\u001b[0m, in \u001b[0;36m<module>\u001b[1;34m\u001b[0m\n\u001b[1;32m----> 1\u001b[0m \u001b[43mnp\u001b[49m\u001b[38;5;241;43m.\u001b[39;49m\u001b[43marray\u001b[49m\u001b[43m(\u001b[49m\u001b[43m)\u001b[49m\n",
      "\u001b[1;31mTypeError\u001b[0m: array() missing required argument 'object' (pos 1)"
     ]
    },
    {
     "name": "stderr",
     "output_type": "stream",
     "text": [
      "--- Logging error ---\n",
      "Traceback (most recent call last):\n",
      "  File \"C:\\users\\zhafran\\appdata\\local\\programs\\python\\python39\\lib\\site-packages\\ipykernel\\kernelbase.py\", line 461, in dispatch_queue\n",
      "    await self.process_one()\n",
      "  File \"C:\\users\\zhafran\\appdata\\local\\programs\\python\\python39\\lib\\site-packages\\ipykernel\\kernelbase.py\", line 450, in process_one\n",
      "    await dispatch(*args)\n",
      "TypeError: object NoneType can't be used in 'await' expression\n",
      "\n",
      "During handling of the above exception, another exception occurred:\n",
      "\n",
      "Traceback (most recent call last):\n",
      "  File \"C:\\users\\zhafran\\appdata\\local\\programs\\python\\python39\\lib\\logging\\__init__.py\", line 1082, in emit\n",
      "    stream.write(msg + self.terminator)\n",
      "OSError: [Errno 22] Invalid argument\n",
      "Call stack:\n",
      "  File \"C:\\users\\zhafran\\appdata\\local\\programs\\python\\python39\\lib\\runpy.py\", line 197, in _run_module_as_main\n",
      "    return _run_code(code, main_globals, None,\n",
      "  File \"C:\\users\\zhafran\\appdata\\local\\programs\\python\\python39\\lib\\runpy.py\", line 87, in _run_code\n",
      "    exec(code, run_globals)\n",
      "  File \"C:\\users\\zhafran\\appdata\\local\\programs\\python\\python39\\lib\\site-packages\\ipykernel_launcher.py\", line 16, in <module>\n",
      "    app.launch_new_instance()\n",
      "  File \"C:\\users\\zhafran\\appdata\\local\\programs\\python\\python39\\lib\\site-packages\\traitlets\\config\\application.py\", line 846, in launch_instance\n",
      "    app.start()\n",
      "  File \"C:\\users\\zhafran\\appdata\\local\\programs\\python\\python39\\lib\\site-packages\\ipykernel\\kernelapp.py\", line 677, in start\n",
      "    self.io_loop.start()\n",
      "  File \"C:\\users\\zhafran\\appdata\\local\\programs\\python\\python39\\lib\\site-packages\\tornado\\platform\\asyncio.py\", line 199, in start\n",
      "    self.asyncio_loop.run_forever()\n",
      "  File \"C:\\users\\zhafran\\appdata\\local\\programs\\python\\python39\\lib\\asyncio\\base_events.py\", line 596, in run_forever\n",
      "    self._run_once()\n",
      "  File \"C:\\users\\zhafran\\appdata\\local\\programs\\python\\python39\\lib\\asyncio\\base_events.py\", line 1890, in _run_once\n",
      "    handle._run()\n",
      "  File \"C:\\users\\zhafran\\appdata\\local\\programs\\python\\python39\\lib\\asyncio\\events.py\", line 80, in _run\n",
      "    self._context.run(self._callback, *self._args)\n",
      "  File \"C:\\users\\zhafran\\appdata\\local\\programs\\python\\python39\\lib\\site-packages\\ipykernel\\kernelbase.py\", line 463, in dispatch_queue\n",
      "    self.log.exception(\"Error in message handler\")\n",
      "Message: 'Error in message handler'\n",
      "Arguments: ()\n"
     ]
    }
   ],
   "source": [
    "np.array()"
   ]
  },
  {
   "cell_type": "code",
   "execution_count": 3,
   "id": "94d32bd2",
   "metadata": {
    "ExecuteTime": {
     "end_time": "2022-02-24T12:46:13.569686Z",
     "start_time": "2022-02-24T12:46:13.456194Z"
    }
   },
   "outputs": [
    {
     "ename": "NameError",
     "evalue": "name 'a' is not defined",
     "output_type": "error",
     "traceback": [
      "\u001b[1;31m---------------------------------------------------------------------------\u001b[0m",
      "\u001b[1;31mNameError\u001b[0m                                 Traceback (most recent call last)",
      "Input \u001b[1;32mIn [3]\u001b[0m, in \u001b[0;36m<module>\u001b[1;34m\u001b[0m\n\u001b[1;32m----> 1\u001b[0m \u001b[43ma\u001b[49m[\u001b[38;5;241m1\u001b[39m,\u001b[38;5;241m3\u001b[39m]\n",
      "\u001b[1;31mNameError\u001b[0m: name 'a' is not defined"
     ]
    },
    {
     "name": "stderr",
     "output_type": "stream",
     "text": [
      "--- Logging error ---\n",
      "Traceback (most recent call last):\n",
      "  File \"C:\\users\\zhafran\\appdata\\local\\programs\\python\\python39\\lib\\site-packages\\ipykernel\\kernelbase.py\", line 461, in dispatch_queue\n",
      "    await self.process_one()\n",
      "  File \"C:\\users\\zhafran\\appdata\\local\\programs\\python\\python39\\lib\\site-packages\\ipykernel\\kernelbase.py\", line 450, in process_one\n",
      "    await dispatch(*args)\n",
      "TypeError: object NoneType can't be used in 'await' expression\n",
      "\n",
      "During handling of the above exception, another exception occurred:\n",
      "\n",
      "Traceback (most recent call last):\n",
      "  File \"C:\\users\\zhafran\\appdata\\local\\programs\\python\\python39\\lib\\logging\\__init__.py\", line 1082, in emit\n",
      "    stream.write(msg + self.terminator)\n",
      "OSError: [Errno 22] Invalid argument\n",
      "Call stack:\n",
      "  File \"C:\\users\\zhafran\\appdata\\local\\programs\\python\\python39\\lib\\runpy.py\", line 197, in _run_module_as_main\n",
      "    return _run_code(code, main_globals, None,\n",
      "  File \"C:\\users\\zhafran\\appdata\\local\\programs\\python\\python39\\lib\\runpy.py\", line 87, in _run_code\n",
      "    exec(code, run_globals)\n",
      "  File \"C:\\users\\zhafran\\appdata\\local\\programs\\python\\python39\\lib\\site-packages\\ipykernel_launcher.py\", line 16, in <module>\n",
      "    app.launch_new_instance()\n",
      "  File \"C:\\users\\zhafran\\appdata\\local\\programs\\python\\python39\\lib\\site-packages\\traitlets\\config\\application.py\", line 846, in launch_instance\n",
      "    app.start()\n",
      "  File \"C:\\users\\zhafran\\appdata\\local\\programs\\python\\python39\\lib\\site-packages\\ipykernel\\kernelapp.py\", line 677, in start\n",
      "    self.io_loop.start()\n",
      "  File \"C:\\users\\zhafran\\appdata\\local\\programs\\python\\python39\\lib\\site-packages\\tornado\\platform\\asyncio.py\", line 199, in start\n",
      "    self.asyncio_loop.run_forever()\n",
      "  File \"C:\\users\\zhafran\\appdata\\local\\programs\\python\\python39\\lib\\asyncio\\base_events.py\", line 596, in run_forever\n",
      "    self._run_once()\n",
      "  File \"C:\\users\\zhafran\\appdata\\local\\programs\\python\\python39\\lib\\asyncio\\base_events.py\", line 1890, in _run_once\n",
      "    handle._run()\n",
      "  File \"C:\\users\\zhafran\\appdata\\local\\programs\\python\\python39\\lib\\asyncio\\events.py\", line 80, in _run\n",
      "    self._context.run(self._callback, *self._args)\n",
      "  File \"C:\\users\\zhafran\\appdata\\local\\programs\\python\\python39\\lib\\site-packages\\ipykernel\\kernelbase.py\", line 463, in dispatch_queue\n",
      "    self.log.exception(\"Error in message handler\")\n",
      "Message: 'Error in message handler'\n",
      "Arguments: ()\n"
     ]
    }
   ],
   "source": [
    "a[1,3]"
   ]
  },
  {
   "cell_type": "code",
   "execution_count": null,
   "id": "932196cc",
   "metadata": {
    "ExecuteTime": {
     "end_time": "2022-02-24T12:47:14.932274Z",
     "start_time": "2022-02-24T12:47:14.900861Z"
    }
   },
   "outputs": [],
   "source": [
    "a = np.array([[1,2,3,4], \n",
    "             [5,6,7,8], \n",
    "             [9,10,11,12]])\n",
    "a"
   ]
  },
  {
   "cell_type": "code",
   "execution_count": 6,
   "id": "ac8e315b",
   "metadata": {
    "ExecuteTime": {
     "end_time": "2022-02-24T12:47:27.825275Z",
     "start_time": "2022-02-24T12:47:27.803487Z"
    }
   },
   "outputs": [
    {
     "name": "stdout",
     "output_type": "stream",
     "text": [
      "[1 2 3 4]\n"
     ]
    }
   ],
   "source": [
    "print(a[0])"
   ]
  },
  {
   "cell_type": "code",
   "execution_count": 9,
   "id": "a3af16c6",
   "metadata": {
    "ExecuteTime": {
     "end_time": "2022-02-24T12:50:41.284676Z",
     "start_time": "2022-02-24T12:50:41.273026Z"
    }
   },
   "outputs": [
    {
     "data": {
      "text/plain": [
       "2"
      ]
     },
     "execution_count": 9,
     "metadata": {},
     "output_type": "execute_result"
    }
   ],
   "source": [
    "a.ndim #Dimensi"
   ]
  },
  {
   "cell_type": "code",
   "execution_count": 11,
   "id": "02fd7b88",
   "metadata": {
    "ExecuteTime": {
     "end_time": "2022-02-24T12:52:47.703750Z",
     "start_time": "2022-02-24T12:52:47.692100Z"
    }
   },
   "outputs": [
    {
     "data": {
      "text/plain": [
       "(3, 4)"
      ]
     },
     "execution_count": 11,
     "metadata": {},
     "output_type": "execute_result"
    }
   ],
   "source": [
    "a.shape #Bentuk"
   ]
  },
  {
   "cell_type": "code",
   "execution_count": 12,
   "id": "a0fa82b5",
   "metadata": {
    "ExecuteTime": {
     "end_time": "2022-02-24T12:54:48.277997Z",
     "start_time": "2022-02-24T12:54:48.270905Z"
    }
   },
   "outputs": [],
   "source": [
    "a = np.array([1,2,3])"
   ]
  },
  {
   "cell_type": "code",
   "execution_count": 13,
   "id": "4437cd96",
   "metadata": {
    "ExecuteTime": {
     "end_time": "2022-02-24T12:54:51.138130Z",
     "start_time": "2022-02-24T12:54:51.124453Z"
    }
   },
   "outputs": [
    {
     "data": {
      "text/plain": [
       "1"
      ]
     },
     "execution_count": 13,
     "metadata": {},
     "output_type": "execute_result"
    }
   ],
   "source": [
    "a.ndim"
   ]
  },
  {
   "cell_type": "code",
   "execution_count": 14,
   "id": "805bae91",
   "metadata": {
    "ExecuteTime": {
     "end_time": "2022-02-24T12:54:56.092895Z",
     "start_time": "2022-02-24T12:54:56.078711Z"
    }
   },
   "outputs": [
    {
     "data": {
      "text/plain": [
       "(3,)"
      ]
     },
     "execution_count": 14,
     "metadata": {},
     "output_type": "execute_result"
    }
   ],
   "source": [
    "a.shape"
   ]
  },
  {
   "cell_type": "code",
   "execution_count": 15,
   "id": "7b746a3e",
   "metadata": {
    "ExecuteTime": {
     "end_time": "2022-02-24T12:55:55.111268Z",
     "start_time": "2022-02-24T12:55:55.097588Z"
    }
   },
   "outputs": [
    {
     "data": {
      "text/plain": [
       "array([0., 0., 0., 0., 0., 0.])"
      ]
     },
     "execution_count": 15,
     "metadata": {},
     "output_type": "execute_result"
    }
   ],
   "source": [
    "np.zeros(6) # (6,)"
   ]
  },
  {
   "cell_type": "code",
   "execution_count": 17,
   "id": "680f8d18",
   "metadata": {
    "ExecuteTime": {
     "end_time": "2022-02-24T12:57:02.337960Z",
     "start_time": "2022-02-24T12:57:02.324284Z"
    }
   },
   "outputs": [
    {
     "data": {
      "text/plain": [
       "array([[0., 0.],\n",
       "       [0., 0.],\n",
       "       [0., 0.],\n",
       "       [0., 0.],\n",
       "       [0., 0.],\n",
       "       [0., 0.]])"
      ]
     },
     "execution_count": 17,
     "metadata": {},
     "output_type": "execute_result"
    }
   ],
   "source": [
    "np.zeros((6, 2)) #(6,2)"
   ]
  },
  {
   "cell_type": "code",
   "execution_count": 19,
   "id": "0004e8bc",
   "metadata": {
    "ExecuteTime": {
     "end_time": "2022-02-24T12:57:57.389836Z",
     "start_time": "2022-02-24T12:57:57.383251Z"
    }
   },
   "outputs": [],
   "source": [
    "form1 = [(4,1)]"
   ]
  },
  {
   "cell_type": "code",
   "execution_count": 22,
   "id": "56aff5d3",
   "metadata": {
    "ExecuteTime": {
     "end_time": "2022-02-24T13:00:51.690434Z",
     "start_time": "2022-02-24T13:00:51.673713Z"
    }
   },
   "outputs": [
    {
     "name": "stdout",
     "output_type": "stream",
     "text": [
      "[[1. 1.]\n",
      " [1. 1.]\n",
      " [1. 1.]\n",
      " [1. 1.]\n",
      " [1. 1.]\n",
      " [1. 1.]]\n",
      "[[1. 1. 1. 1. 1.]\n",
      " [1. 1. 1. 1. 1.]\n",
      " [1. 1. 1. 1. 1.]\n",
      " [1. 1. 1. 1. 1.]]\n"
     ]
    }
   ],
   "source": [
    "ones1 = np.ones((6,2))\n",
    "print(ones1)\n",
    "\n",
    "form1 = ((4,5))\n",
    "ones2 = np.ones(form1)\n",
    "print(ones2)"
   ]
  },
  {
   "cell_type": "code",
   "execution_count": 24,
   "id": "9ca7e593",
   "metadata": {
    "ExecuteTime": {
     "end_time": "2022-02-24T13:01:26.125368Z",
     "start_time": "2022-02-24T13:01:26.112703Z"
    }
   },
   "outputs": [
    {
     "data": {
      "text/plain": [
       "array([[[1., 1.],\n",
       "        [1., 1.],\n",
       "        [1., 1.]],\n",
       "\n",
       "       [[1., 1.],\n",
       "        [1., 1.],\n",
       "        [1., 1.]]])"
      ]
     },
     "execution_count": 24,
     "metadata": {},
     "output_type": "execute_result"
    }
   ],
   "source": [
    "ones3 = np.ones((2,3,2))\n",
    "ones3"
   ]
  },
  {
   "cell_type": "code",
   "execution_count": 25,
   "id": "79140a1e",
   "metadata": {
    "ExecuteTime": {
     "end_time": "2022-02-24T13:02:56.572127Z",
     "start_time": "2022-02-24T13:02:56.559461Z"
    }
   },
   "outputs": [
    {
     "data": {
      "text/plain": [
       "array([[7, 7, 7, 7],\n",
       "       [7, 7, 7, 7]])"
      ]
     },
     "execution_count": 25,
     "metadata": {},
     "output_type": "execute_result"
    }
   ],
   "source": [
    "numbers = np.full((2,4), 7)\n",
    "numbers"
   ]
  },
  {
   "cell_type": "code",
   "execution_count": 27,
   "id": "cfe833da",
   "metadata": {
    "ExecuteTime": {
     "end_time": "2022-02-24T13:03:41.392787Z",
     "start_time": "2022-02-24T13:03:41.379613Z"
    }
   },
   "outputs": [
    {
     "data": {
      "text/plain": [
       "array([[7., 7., 7., 7.],\n",
       "       [7., 7., 7., 7.]], dtype=float16)"
      ]
     },
     "execution_count": 27,
     "metadata": {},
     "output_type": "execute_result"
    }
   ],
   "source": [
    "numbers = np.full((2,4), 7, dtype=np.float16)\n",
    "numbers"
   ]
  },
  {
   "cell_type": "code",
   "execution_count": 28,
   "id": "92f0aba3",
   "metadata": {
    "ExecuteTime": {
     "end_time": "2022-02-24T13:04:41.749860Z",
     "start_time": "2022-02-24T13:04:41.737700Z"
    }
   },
   "outputs": [
    {
     "data": {
      "text/plain": [
       "array([0., 0., 0., 0., 0., 0.])"
      ]
     },
     "execution_count": 28,
     "metadata": {},
     "output_type": "execute_result"
    }
   ],
   "source": [
    "empty_array = np.empty(6)\n",
    "empty_array"
   ]
  },
  {
   "cell_type": "code",
   "execution_count": 29,
   "id": "38e08498",
   "metadata": {
    "ExecuteTime": {
     "end_time": "2022-02-24T13:05:58.427305Z",
     "start_time": "2022-02-24T13:05:58.417170Z"
    }
   },
   "outputs": [
    {
     "name": "stdout",
     "output_type": "stream",
     "text": [
      "[0 1 2 3]\n",
      "[0 2 4 6 8]\n"
     ]
    }
   ],
   "source": [
    "print(np.arange(4))\n",
    "print(np.arange(0, 10, 2))"
   ]
  },
  {
   "cell_type": "code",
   "execution_count": 30,
   "id": "5d502b0f",
   "metadata": {
    "ExecuteTime": {
     "end_time": "2022-02-24T13:08:00.498118Z",
     "start_time": "2022-02-24T13:08:00.484436Z"
    }
   },
   "outputs": [
    {
     "data": {
      "text/plain": [
       "array([2, 3, 4, 5, 6, 7, 8])"
      ]
     },
     "execution_count": 30,
     "metadata": {},
     "output_type": "execute_result"
    }
   ],
   "source": [
    "np.arange(2,9)"
   ]
  },
  {
   "cell_type": "code",
   "execution_count": 31,
   "id": "8910a73e",
   "metadata": {
    "ExecuteTime": {
     "end_time": "2022-02-24T13:08:12.064526Z",
     "start_time": "2022-02-24T13:08:12.052369Z"
    }
   },
   "outputs": [
    {
     "data": {
      "text/plain": [
       "array([ 2,  4,  6,  8, 10, 12, 14, 16, 18, 20])"
      ]
     },
     "execution_count": 31,
     "metadata": {},
     "output_type": "execute_result"
    }
   ],
   "source": [
    "np.arange(2, 21, 2)"
   ]
  },
  {
   "cell_type": "code",
   "execution_count": 35,
   "id": "ef037430",
   "metadata": {
    "ExecuteTime": {
     "end_time": "2022-02-24T13:09:32.593040Z",
     "start_time": "2022-02-24T13:09:32.580372Z"
    }
   },
   "outputs": [
    {
     "data": {
      "text/plain": [
       "array([ 0,  2,  4,  6,  8, 10, 12, 14, 16, 18, 20])"
      ]
     },
     "execution_count": 35,
     "metadata": {},
     "output_type": "execute_result"
    }
   ],
   "source": [
    "np.arange(0, 21, 2)"
   ]
  },
  {
   "cell_type": "code",
   "execution_count": 34,
   "id": "7dd89b90",
   "metadata": {
    "ExecuteTime": {
     "end_time": "2022-02-24T13:09:29.628561Z",
     "start_time": "2022-02-24T13:09:29.614374Z"
    }
   },
   "outputs": [
    {
     "data": {
      "text/plain": [
       "array([ 1,  3,  5,  7,  9, 11, 13, 15, 17, 19])"
      ]
     },
     "execution_count": 34,
     "metadata": {},
     "output_type": "execute_result"
    }
   ],
   "source": [
    "np.arange(1, 21, 2)"
   ]
  },
  {
   "cell_type": "code",
   "execution_count": 36,
   "id": "20bcfc98",
   "metadata": {
    "ExecuteTime": {
     "end_time": "2022-02-24T13:10:19.406373Z",
     "start_time": "2022-02-24T13:10:19.392187Z"
    }
   },
   "outputs": [
    {
     "data": {
      "text/plain": [
       "array([10,  8,  6,  4,  2])"
      ]
     },
     "execution_count": 36,
     "metadata": {},
     "output_type": "execute_result"
    }
   ],
   "source": [
    "np.arange(10, 0, -2)"
   ]
  },
  {
   "cell_type": "markdown",
   "id": "913007e7",
   "metadata": {},
   "source": [
    "## Add Remove Sort"
   ]
  },
  {
   "cell_type": "code",
   "execution_count": 41,
   "id": "e492f2aa",
   "metadata": {
    "ExecuteTime": {
     "end_time": "2022-02-24T13:15:13.960312Z",
     "start_time": "2022-02-24T13:15:13.946630Z"
    }
   },
   "outputs": [
    {
     "data": {
      "text/plain": [
       "array([1, 2, 3, 4, 5, 6, 7, 8])"
      ]
     },
     "execution_count": 41,
     "metadata": {},
     "output_type": "execute_result"
    }
   ],
   "source": [
    "arr = np.array([1,2,3,4,5,6,7,8])\n",
    "np.append(arr, [1,2])\n",
    "arr"
   ]
  },
  {
   "cell_type": "code",
   "execution_count": 38,
   "id": "091c05c3",
   "metadata": {
    "ExecuteTime": {
     "end_time": "2022-02-24T13:13:15.360211Z",
     "start_time": "2022-02-24T13:13:15.347040Z"
    }
   },
   "outputs": [
    {
     "data": {
      "text/plain": [
       "(10,)"
      ]
     },
     "execution_count": 38,
     "metadata": {},
     "output_type": "execute_result"
    }
   ],
   "source": [
    "arr_new = np.append(arr, [1,2])\n",
    "arr_new.shape"
   ]
  },
  {
   "cell_type": "code",
   "execution_count": 39,
   "id": "37a6d675",
   "metadata": {
    "ExecuteTime": {
     "end_time": "2022-02-24T13:14:23.309161Z",
     "start_time": "2022-02-24T13:14:23.297506Z"
    }
   },
   "outputs": [
    {
     "data": {
      "text/plain": [
       "array([1, 3, 4, 5, 6, 7, 8])"
      ]
     },
     "execution_count": 39,
     "metadata": {},
     "output_type": "execute_result"
    }
   ],
   "source": [
    "np.delete(arr, 1)"
   ]
  },
  {
   "cell_type": "code",
   "execution_count": 43,
   "id": "bc08f109",
   "metadata": {
    "ExecuteTime": {
     "end_time": "2022-02-24T13:15:50.724909Z",
     "start_time": "2022-02-24T13:15:50.711735Z"
    }
   },
   "outputs": [
    {
     "data": {
      "text/plain": [
       "array([1, 2, 3, 4, 5, 6, 8])"
      ]
     },
     "execution_count": 43,
     "metadata": {},
     "output_type": "execute_result"
    }
   ],
   "source": [
    "np.delete(arr, 6)"
   ]
  },
  {
   "cell_type": "code",
   "execution_count": 45,
   "id": "5ad13843",
   "metadata": {
    "ExecuteTime": {
     "end_time": "2022-02-24T13:20:14.059227Z",
     "start_time": "2022-02-24T13:20:14.047066Z"
    }
   },
   "outputs": [
    {
     "ename": "SyntaxError",
     "evalue": "invalid syntax (1967026165.py, line 4)",
     "output_type": "error",
     "traceback": [
      "\u001b[1;36m  Input \u001b[1;32mIn [45]\u001b[1;36m\u001b[0m\n\u001b[1;33m    [51 18, 10, 43]\u001b[0m\n\u001b[1;37m        ^\u001b[0m\n\u001b[1;31mSyntaxError\u001b[0m\u001b[1;31m:\u001b[0m invalid syntax\n"
     ]
    },
    {
     "name": "stderr",
     "output_type": "stream",
     "text": [
      "--- Logging error ---\n",
      "Traceback (most recent call last):\n",
      "  File \"C:\\users\\zhafran\\appdata\\local\\programs\\python\\python39\\lib\\site-packages\\ipykernel\\kernelbase.py\", line 461, in dispatch_queue\n",
      "    await self.process_one()\n",
      "  File \"C:\\users\\zhafran\\appdata\\local\\programs\\python\\python39\\lib\\site-packages\\ipykernel\\kernelbase.py\", line 450, in process_one\n",
      "    await dispatch(*args)\n",
      "TypeError: object NoneType can't be used in 'await' expression\n",
      "\n",
      "During handling of the above exception, another exception occurred:\n",
      "\n",
      "Traceback (most recent call last):\n",
      "  File \"C:\\users\\zhafran\\appdata\\local\\programs\\python\\python39\\lib\\logging\\__init__.py\", line 1082, in emit\n",
      "    stream.write(msg + self.terminator)\n",
      "OSError: [Errno 22] Invalid argument\n",
      "Call stack:\n",
      "  File \"C:\\users\\zhafran\\appdata\\local\\programs\\python\\python39\\lib\\runpy.py\", line 197, in _run_module_as_main\n",
      "    return _run_code(code, main_globals, None,\n",
      "  File \"C:\\users\\zhafran\\appdata\\local\\programs\\python\\python39\\lib\\runpy.py\", line 87, in _run_code\n",
      "    exec(code, run_globals)\n",
      "  File \"C:\\users\\zhafran\\appdata\\local\\programs\\python\\python39\\lib\\site-packages\\ipykernel_launcher.py\", line 16, in <module>\n",
      "    app.launch_new_instance()\n",
      "  File \"C:\\users\\zhafran\\appdata\\local\\programs\\python\\python39\\lib\\site-packages\\traitlets\\config\\application.py\", line 846, in launch_instance\n",
      "    app.start()\n",
      "  File \"C:\\users\\zhafran\\appdata\\local\\programs\\python\\python39\\lib\\site-packages\\ipykernel\\kernelapp.py\", line 677, in start\n",
      "    self.io_loop.start()\n",
      "  File \"C:\\users\\zhafran\\appdata\\local\\programs\\python\\python39\\lib\\site-packages\\tornado\\platform\\asyncio.py\", line 199, in start\n",
      "    self.asyncio_loop.run_forever()\n",
      "  File \"C:\\users\\zhafran\\appdata\\local\\programs\\python\\python39\\lib\\asyncio\\base_events.py\", line 596, in run_forever\n",
      "    self._run_once()\n",
      "  File \"C:\\users\\zhafran\\appdata\\local\\programs\\python\\python39\\lib\\asyncio\\base_events.py\", line 1890, in _run_once\n",
      "    handle._run()\n",
      "  File \"C:\\users\\zhafran\\appdata\\local\\programs\\python\\python39\\lib\\asyncio\\events.py\", line 80, in _run\n",
      "    self._context.run(self._callback, *self._args)\n",
      "  File \"C:\\users\\zhafran\\appdata\\local\\programs\\python\\python39\\lib\\site-packages\\ipykernel\\kernelbase.py\", line 463, in dispatch_queue\n",
      "    self.log.exception(\"Error in message handler\")\n",
      "Message: 'Error in message handler'\n",
      "Arguments: ()\n"
     ]
    }
   ],
   "source": [
    "arr = np.array([2, 1, 5, 3, 7, 4, 6, 8])\n",
    "arr2d = np.array([[9,18, 3, 7],\n",
    "                  [2, 1, 10, 34],\n",
    "                  [51 18, 10, 43]\n",
    "                 ])\n",
    "\n",
    "np.sort(arr2d, axis-0)\n",
    "np.sort(arr2d, axis=1)"
   ]
  },
  {
   "cell_type": "code",
   "execution_count": 47,
   "id": "21404f60",
   "metadata": {
    "ExecuteTime": {
     "end_time": "2022-02-24T13:25:09.604425Z",
     "start_time": "2022-02-24T13:25:09.588719Z"
    }
   },
   "outputs": [
    {
     "name": "stdout",
     "output_type": "stream",
     "text": [
      "[[0 1 2 3 4 5 6 7]]\n"
     ]
    }
   ],
   "source": [
    "array_example = np.array([\n",
    "    [0, 1, 2, 3, 4, 5,6, 7].\n",
    "])\n",
    "\n",
    "print(array_example)"
   ]
  },
  {
   "cell_type": "code",
   "execution_count": 49,
   "id": "d9025464",
   "metadata": {
    "ExecuteTime": {
     "end_time": "2022-02-24T13:26:11.656373Z",
     "start_time": "2022-02-24T13:26:11.642697Z"
    }
   },
   "outputs": [
    {
     "data": {
      "text/plain": [
       "2"
      ]
     },
     "execution_count": 49,
     "metadata": {},
     "output_type": "execute_result"
    }
   ],
   "source": [
    "array_example.ndim"
   ]
  },
  {
   "cell_type": "code",
   "execution_count": 53,
   "id": "7024f54c",
   "metadata": {
    "ExecuteTime": {
     "end_time": "2022-02-24T13:27:00.734005Z",
     "start_time": "2022-02-24T13:27:00.718800Z"
    }
   },
   "outputs": [
    {
     "data": {
      "text/plain": [
       "8"
      ]
     },
     "execution_count": 53,
     "metadata": {},
     "output_type": "execute_result"
    }
   ],
   "source": [
    "array_example.shape\n",
    "array_example.size"
   ]
  },
  {
   "cell_type": "code",
   "execution_count": 54,
   "id": "7fb22e26",
   "metadata": {
    "ExecuteTime": {
     "end_time": "2022-02-24T13:27:33.573221Z",
     "start_time": "2022-02-24T13:27:33.562076Z"
    }
   },
   "outputs": [
    {
     "data": {
      "text/plain": [
       "dtype('int32')"
      ]
     },
     "execution_count": 54,
     "metadata": {},
     "output_type": "execute_result"
    }
   ],
   "source": [
    "array_example.dtype"
   ]
  },
  {
   "cell_type": "code",
   "execution_count": 55,
   "id": "efe4a47d",
   "metadata": {
    "ExecuteTime": {
     "end_time": "2022-02-24T13:28:34.017563Z",
     "start_time": "2022-02-24T13:28:34.002873Z"
    }
   },
   "outputs": [
    {
     "data": {
      "text/plain": [
       "4"
      ]
     },
     "execution_count": 55,
     "metadata": {},
     "output_type": "execute_result"
    }
   ],
   "source": [
    "array_example.itemsize"
   ]
  },
  {
   "cell_type": "code",
   "execution_count": 60,
   "id": "a89bfe85",
   "metadata": {
    "ExecuteTime": {
     "end_time": "2022-02-24T13:31:48.538766Z",
     "start_time": "2022-02-24T13:31:48.519513Z"
    }
   },
   "outputs": [
    {
     "data": {
      "text/plain": [
       "dtype('int16')"
      ]
     },
     "execution_count": 60,
     "metadata": {},
     "output_type": "execute_result"
    }
   ],
   "source": [
    "array_example.dtype = np.int16\n",
    "array_example.dtype"
   ]
  },
  {
   "cell_type": "code",
   "execution_count": 61,
   "id": "a11491f3",
   "metadata": {
    "ExecuteTime": {
     "end_time": "2022-02-24T13:32:04.342433Z",
     "start_time": "2022-02-24T13:32:04.329262Z"
    }
   },
   "outputs": [
    {
     "data": {
      "text/plain": [
       "2"
      ]
     },
     "execution_count": 61,
     "metadata": {},
     "output_type": "execute_result"
    }
   ],
   "source": [
    "array_example.itemsize"
   ]
  },
  {
   "cell_type": "code",
   "execution_count": 63,
   "id": "d6fcb936",
   "metadata": {
    "ExecuteTime": {
     "end_time": "2022-02-24T13:33:14.689315Z",
     "start_time": "2022-02-24T13:33:14.676648Z"
    }
   },
   "outputs": [
    {
     "data": {
      "text/plain": [
       "32"
      ]
     },
     "execution_count": 63,
     "metadata": {},
     "output_type": "execute_result"
    }
   ],
   "source": [
    "array_example.nbytes"
   ]
  },
  {
   "cell_type": "code",
   "execution_count": 65,
   "id": "faedde85",
   "metadata": {
    "ExecuteTime": {
     "end_time": "2022-02-24T13:36:47.443225Z",
     "start_time": "2022-02-24T13:36:47.431070Z"
    }
   },
   "outputs": [
    {
     "data": {
      "text/plain": [
       "array([[1., 1., 1., 1.],\n",
       "       [1., 1., 1., 1.],\n",
       "       [1., 1., 1., 1.]])"
      ]
     },
     "execution_count": 65,
     "metadata": {},
     "output_type": "execute_result"
    }
   ],
   "source": [
    "ones3 = np.ones((3,4))\n",
    "ones3"
   ]
  },
  {
   "cell_type": "code",
   "execution_count": 66,
   "id": "6b0051f5",
   "metadata": {
    "ExecuteTime": {
     "end_time": "2022-02-24T13:36:55.548760Z",
     "start_time": "2022-02-24T13:36:55.537105Z"
    }
   },
   "outputs": [
    {
     "data": {
      "text/plain": [
       "(3, 4)"
      ]
     },
     "execution_count": 66,
     "metadata": {},
     "output_type": "execute_result"
    }
   ],
   "source": [
    "ones3.shape"
   ]
  },
  {
   "cell_type": "code",
   "execution_count": 67,
   "id": "84025024",
   "metadata": {
    "ExecuteTime": {
     "end_time": "2022-02-24T13:37:03.693000Z",
     "start_time": "2022-02-24T13:37:03.680335Z"
    }
   },
   "outputs": [
    {
     "data": {
      "text/plain": [
       "array([[1., 1.],\n",
       "       [1., 1.],\n",
       "       [1., 1.],\n",
       "       [1., 1.],\n",
       "       [1., 1.],\n",
       "       [1., 1.]])"
      ]
     },
     "execution_count": 67,
     "metadata": {},
     "output_type": "execute_result"
    }
   ],
   "source": [
    "ones3.reshape(6,2)"
   ]
  },
  {
   "cell_type": "code",
   "execution_count": 68,
   "id": "ad7de887",
   "metadata": {
    "ExecuteTime": {
     "end_time": "2022-02-24T13:41:28.642832Z",
     "start_time": "2022-02-24T13:41:28.628641Z"
    }
   },
   "outputs": [
    {
     "data": {
      "text/plain": [
       "array([0, 1, 2, 3, 4, 5])"
      ]
     },
     "execution_count": 68,
     "metadata": {},
     "output_type": "execute_result"
    }
   ],
   "source": [
    "a = np.arange(6)\n",
    "a"
   ]
  },
  {
   "cell_type": "code",
   "execution_count": 76,
   "id": "fe4e7a76",
   "metadata": {
    "ExecuteTime": {
     "end_time": "2022-02-24T13:51:23.165959Z",
     "start_time": "2022-02-24T13:51:23.153294Z"
    }
   },
   "outputs": [
    {
     "data": {
      "text/plain": [
       "array([[ 0,  1,  2],\n",
       "       [ 3,  4,  5],\n",
       "       [ 6,  7,  8],\n",
       "       [ 9, 10, 11],\n",
       "       [12, 13, 14],\n",
       "       [15, 16, 17]])"
      ]
     },
     "execution_count": 76,
     "metadata": {},
     "output_type": "execute_result"
    }
   ],
   "source": [
    "b = a.reshape(6,3)\n"
   ]
  },
  {
   "cell_type": "code",
   "execution_count": 77,
   "id": "a4189ade",
   "metadata": {
    "ExecuteTime": {
     "end_time": "2022-02-24T13:51:48.322756Z",
     "start_time": "2022-02-24T13:51:48.310084Z"
    }
   },
   "outputs": [
    {
     "data": {
      "text/plain": [
       "array([[ 0,  1,  2,  3,  4,  5],\n",
       "       [ 6,  7,  8,  9, 10, 11],\n",
       "       [12, 13, 14, 15, 16, 17]])"
      ]
     },
     "execution_count": 77,
     "metadata": {},
     "output_type": "execute_result"
    }
   ],
   "source": [
    "bb = b.reshape(3,6)\n",
    "bb"
   ]
  },
  {
   "cell_type": "code",
   "execution_count": 72,
   "id": "8b7c768e",
   "metadata": {
    "ExecuteTime": {
     "end_time": "2022-02-24T13:42:21.113272Z",
     "start_time": "2022-02-24T13:42:21.099083Z"
    }
   },
   "outputs": [
    {
     "data": {
      "text/plain": [
       "array([[[0, 1]],\n",
       "\n",
       "       [[2, 3]],\n",
       "\n",
       "       [[4, 5]]])"
      ]
     },
     "execution_count": 72,
     "metadata": {},
     "output_type": "execute_result"
    }
   ],
   "source": [
    "c = a.reshape(3, 1, 2)\n",
    "c"
   ]
  },
  {
   "cell_type": "code",
   "execution_count": 73,
   "id": "e211a5c0",
   "metadata": {
    "ExecuteTime": {
     "end_time": "2022-02-24T13:43:38.461415Z",
     "start_time": "2022-02-24T13:43:38.447741Z"
    }
   },
   "outputs": [
    {
     "name": "stdout",
     "output_type": "stream",
     "text": [
      "[ 0  1  2  3  4  5  6  7  8  9 10 11 12 13 14 15 16 17]\n",
      "[[[ 0  1]\n",
      "  [ 2  3]\n",
      "  [ 4  5]]\n",
      "\n",
      " [[ 6  7]\n",
      "  [ 8  9]\n",
      "  [10 11]]\n",
      "\n",
      " [[12 13]\n",
      "  [14 15]\n",
      "  [16 17]]]\n"
     ]
    }
   ],
   "source": [
    "a = np.arange(18)\n",
    "print(a)\n",
    "d = a.reshape(3,3,2)\n",
    "print(d)"
   ]
  },
  {
   "cell_type": "code",
   "execution_count": 74,
   "id": "02e98c5d",
   "metadata": {
    "ExecuteTime": {
     "end_time": "2022-02-24T13:49:38.717241Z",
     "start_time": "2022-02-24T13:49:38.702035Z"
    }
   },
   "outputs": [
    {
     "data": {
      "text/plain": [
       "array([[ 0,  1],\n",
       "       [ 2,  3],\n",
       "       [ 4,  5],\n",
       "       [ 6,  7],\n",
       "       [ 8,  9],\n",
       "       [10, 11],\n",
       "       [12, 13],\n",
       "       [14, 15],\n",
       "       [16, 17]])"
      ]
     },
     "execution_count": 74,
     "metadata": {},
     "output_type": "execute_result"
    }
   ],
   "source": [
    "np.reshape(d, (9,2))"
   ]
  },
  {
   "cell_type": "code",
   "execution_count": 78,
   "id": "5321fc57",
   "metadata": {
    "ExecuteTime": {
     "end_time": "2022-02-24T13:52:54.038829Z",
     "start_time": "2022-02-24T13:52:54.028190Z"
    }
   },
   "outputs": [
    {
     "name": "stdout",
     "output_type": "stream",
     "text": [
      "(1, 18)\n",
      "[[ 0  1  2  3  4  5  6  7  8  9 10 11 12 13 14 15 16 17]]\n"
     ]
    }
   ],
   "source": [
    "a2 = a[np.newaxis]\n",
    "print(a2.shape)\n",
    "print(a2)"
   ]
  },
  {
   "cell_type": "code",
   "execution_count": 79,
   "id": "236631a6",
   "metadata": {
    "ExecuteTime": {
     "end_time": "2022-02-24T13:55:15.077693Z",
     "start_time": "2022-02-24T13:55:15.065533Z"
    }
   },
   "outputs": [
    {
     "name": "stdout",
     "output_type": "stream",
     "text": [
      "(1, 18)\n",
      "[[ 0  1  2  3  4  5  6  7  8  9 10 11 12 13 14 15 16 17]]\n"
     ]
    }
   ],
   "source": [
    "row_vector = a[np.newaxis, :]\n",
    "print(row_vector.shape)\n",
    "print(row_vector)"
   ]
  },
  {
   "cell_type": "code",
   "execution_count": 80,
   "id": "89446cb1",
   "metadata": {
    "ExecuteTime": {
     "end_time": "2022-02-24T13:56:02.245985Z",
     "start_time": "2022-02-24T13:56:02.233824Z"
    }
   },
   "outputs": [
    {
     "name": "stdout",
     "output_type": "stream",
     "text": [
      "(18, 1)\n",
      "[[ 0]\n",
      " [ 1]\n",
      " [ 2]\n",
      " [ 3]\n",
      " [ 4]\n",
      " [ 5]\n",
      " [ 6]\n",
      " [ 7]\n",
      " [ 8]\n",
      " [ 9]\n",
      " [10]\n",
      " [11]\n",
      " [12]\n",
      " [13]\n",
      " [14]\n",
      " [15]\n",
      " [16]\n",
      " [17]]\n"
     ]
    }
   ],
   "source": [
    "col_vector = a[:, np.newaxis]\n",
    "print(col_vector.shape)\n",
    "print(col_vector)"
   ]
  },
  {
   "cell_type": "code",
   "execution_count": 83,
   "id": "e67306fd",
   "metadata": {
    "ExecuteTime": {
     "end_time": "2022-02-24T13:59:58.477957Z",
     "start_time": "2022-02-24T13:59:58.462250Z"
    }
   },
   "outputs": [
    {
     "name": "stdout",
     "output_type": "stream",
     "text": [
      "[1 2 3]\n",
      "1\n",
      "2\n",
      "[1 2]\n",
      "[2 3]\n",
      "[2 3]\n"
     ]
    }
   ],
   "source": [
    "data = np.arange(1, 4)\n",
    "\n",
    "print(data)\n",
    "print(data[0])\n",
    "print(data[1])\n",
    "print(data[0:2])\n",
    "print(data[1:])\n",
    "print(data[-2:])"
   ]
  },
  {
   "cell_type": "code",
   "execution_count": 84,
   "id": "da1a5aa6",
   "metadata": {
    "ExecuteTime": {
     "end_time": "2022-02-24T14:02:31.661707Z",
     "start_time": "2022-02-24T14:02:31.649041Z"
    }
   },
   "outputs": [
    {
     "data": {
      "text/plain": [
       "array([[ 1,  2,  3,  4],\n",
       "       [ 5,  6,  7,  8],\n",
       "       [ 9, 10, 11, 12]])"
      ]
     },
     "execution_count": 84,
     "metadata": {},
     "output_type": "execute_result"
    }
   ],
   "source": [
    "a = np.arange(1, 13).reshape(3, 4)\n",
    "a"
   ]
  },
  {
   "cell_type": "code",
   "execution_count": 85,
   "id": "007ab2a4",
   "metadata": {
    "ExecuteTime": {
     "end_time": "2022-02-24T14:02:50.065162Z",
     "start_time": "2022-02-24T14:02:50.035267Z"
    }
   },
   "outputs": [
    {
     "name": "stdout",
     "output_type": "stream",
     "text": [
      "[ 5  6  7  8  9 10 11 12]\n"
     ]
    }
   ],
   "source": [
    "print(a[a >= 5])"
   ]
  },
  {
   "cell_type": "code",
   "execution_count": 86,
   "id": "2cec22a7",
   "metadata": {
    "ExecuteTime": {
     "end_time": "2022-02-24T14:04:28.869002Z",
     "start_time": "2022-02-24T14:04:28.859885Z"
    }
   },
   "outputs": [
    {
     "name": "stdout",
     "output_type": "stream",
     "text": [
      "[ 5  6  7  8  9 10 11 12]\n"
     ]
    }
   ],
   "source": [
    "five_up = (a >= 5)\n",
    "print(a[five_up])\n"
   ]
  },
  {
   "cell_type": "code",
   "execution_count": 88,
   "id": "8ecbfa2d",
   "metadata": {
    "ExecuteTime": {
     "end_time": "2022-02-24T14:05:17.584215Z",
     "start_time": "2022-02-24T14:05:17.574082Z"
    }
   },
   "outputs": [
    {
     "name": "stdout",
     "output_type": "stream",
     "text": [
      "[ 2  4  6  8 10 12]\n"
     ]
    }
   ],
   "source": [
    "divisible_by_2 = a[a%2==0]\n",
    "print(divisible_by_2)"
   ]
  },
  {
   "cell_type": "code",
   "execution_count": 89,
   "id": "6f511929",
   "metadata": {
    "ExecuteTime": {
     "end_time": "2022-02-24T14:06:49.467370Z",
     "start_time": "2022-02-24T14:06:49.456728Z"
    }
   },
   "outputs": [
    {
     "name": "stdout",
     "output_type": "stream",
     "text": [
      "[ 3  6  9 12]\n"
     ]
    }
   ],
   "source": [
    "divisible_by_3 = a[a%3==0]\n",
    "print(divisible_by_3)"
   ]
  },
  {
   "cell_type": "code",
   "execution_count": 90,
   "id": "5ff0455e",
   "metadata": {
    "ExecuteTime": {
     "end_time": "2022-02-24T14:08:40.614862Z",
     "start_time": "2022-02-24T14:08:40.600166Z"
    }
   },
   "outputs": [
    {
     "data": {
      "text/plain": [
       "array([[ 1,  2,  3,  4],\n",
       "       [ 5,  6,  7,  8],\n",
       "       [ 9, 10, 11, 12]])"
      ]
     },
     "execution_count": 90,
     "metadata": {},
     "output_type": "execute_result"
    }
   ],
   "source": [
    "a"
   ]
  },
  {
   "cell_type": "code",
   "execution_count": 92,
   "id": "077052ae",
   "metadata": {
    "ExecuteTime": {
     "end_time": "2022-02-24T14:09:03.272195Z",
     "start_time": "2022-02-24T14:09:03.260545Z"
    }
   },
   "outputs": [
    {
     "name": "stdout",
     "output_type": "stream",
     "text": [
      "[ 3  4  5  6  7  8  9 10]\n"
     ]
    }
   ],
   "source": [
    "c = a[(a > 2) & (a < 11)]\n",
    "print(c)"
   ]
  },
  {
   "cell_type": "code",
   "execution_count": 96,
   "id": "1567eaf7",
   "metadata": {
    "ExecuteTime": {
     "end_time": "2022-02-24T14:12:13.599097Z",
     "start_time": "2022-02-24T14:12:13.588460Z"
    }
   },
   "outputs": [
    {
     "name": "stdout",
     "output_type": "stream",
     "text": [
      "[[0.36910441 0.3173643  0.58434024 0.62666999 0.00977295]\n",
      " [0.66419663 0.87762976 0.14156091 0.99282954 0.32202479]\n",
      " [0.22787745 0.26332167 0.24697895 0.45656766 0.72784928]]\n",
      "float64\n"
     ]
    }
   ],
   "source": [
    "random_af = np.random.rand(3,5)\n",
    "print(random_af)\n",
    "print(random_af.dtype)"
   ]
  },
  {
   "cell_type": "code",
   "execution_count": 102,
   "id": "2f35545d",
   "metadata": {
    "ExecuteTime": {
     "end_time": "2022-02-24T14:15:26.149481Z",
     "start_time": "2022-02-24T14:15:26.107426Z"
    }
   },
   "outputs": [
    {
     "name": "stdout",
     "output_type": "stream",
     "text": [
      "[9 7 2 3 3]\n"
     ]
    }
   ],
   "source": [
    "random_ai = np.random.randint(2, high=10, size=5)\n",
    "print(random_ai)"
   ]
  },
  {
   "cell_type": "code",
   "execution_count": 104,
   "id": "dea9845a",
   "metadata": {
    "ExecuteTime": {
     "end_time": "2022-02-24T14:18:25.687864Z",
     "start_time": "2022-02-24T14:18:25.674184Z"
    }
   },
   "outputs": [
    {
     "data": {
      "text/plain": [
       "array([ 1,  2,  3,  4,  5,  6,  7,  8,  9, 10])"
      ]
     },
     "execution_count": 104,
     "metadata": {},
     "output_type": "execute_result"
    }
   ],
   "source": [
    "arr = np.arange(1, 11)\n",
    "arr"
   ]
  },
  {
   "cell_type": "code",
   "execution_count": 105,
   "id": "7d04bf19",
   "metadata": {
    "ExecuteTime": {
     "end_time": "2022-02-24T14:18:40.521670Z",
     "start_time": "2022-02-24T14:18:40.509503Z"
    }
   },
   "outputs": [
    {
     "data": {
      "text/plain": [
       "array([4, 5, 6, 7, 8])"
      ]
     },
     "execution_count": 105,
     "metadata": {},
     "output_type": "execute_result"
    }
   ],
   "source": [
    "arr1 = arr[3:8]\n",
    "arr1"
   ]
  },
  {
   "cell_type": "code",
   "execution_count": 106,
   "id": "5a91141f",
   "metadata": {
    "ExecuteTime": {
     "end_time": "2022-02-24T14:20:01.017333Z",
     "start_time": "2022-02-24T14:20:01.007707Z"
    }
   },
   "outputs": [],
   "source": [
    "a_1 = np.array([[1,1], [2,2]])\n",
    "a_2 = np.array([[3,3], [4,4]])"
   ]
  },
  {
   "cell_type": "code",
   "execution_count": 107,
   "id": "6c88b37e",
   "metadata": {
    "ExecuteTime": {
     "end_time": "2022-02-24T14:20:26.862946Z",
     "start_time": "2022-02-24T14:20:26.849776Z"
    }
   },
   "outputs": [
    {
     "data": {
      "text/plain": [
       "array([[1, 1],\n",
       "       [2, 2],\n",
       "       [3, 3],\n",
       "       [4, 4]])"
      ]
     },
     "execution_count": 107,
     "metadata": {},
     "output_type": "execute_result"
    }
   ],
   "source": [
    "np.vstack((a_1, a_2))"
   ]
  },
  {
   "cell_type": "code",
   "execution_count": 108,
   "id": "ce5d3786",
   "metadata": {
    "ExecuteTime": {
     "end_time": "2022-02-24T14:20:44.910354Z",
     "start_time": "2022-02-24T14:20:44.886037Z"
    }
   },
   "outputs": [
    {
     "data": {
      "text/plain": [
       "array([[1, 1],\n",
       "       [2, 2],\n",
       "       [3, 3],\n",
       "       [4, 4],\n",
       "       [1, 1],\n",
       "       [2, 2]])"
      ]
     },
     "execution_count": 108,
     "metadata": {},
     "output_type": "execute_result"
    }
   ],
   "source": [
    "np.vstack((a_1, a_2, a_1))"
   ]
  },
  {
   "cell_type": "code",
   "execution_count": 109,
   "id": "cbcadf91",
   "metadata": {
    "ExecuteTime": {
     "end_time": "2022-02-24T14:21:44.919704Z",
     "start_time": "2022-02-24T14:21:44.907034Z"
    }
   },
   "outputs": [
    {
     "data": {
      "text/plain": [
       "array([[1, 1],\n",
       "       [2, 2],\n",
       "       [3, 3],\n",
       "       [4, 4],\n",
       "       [1, 1],\n",
       "       [2, 2],\n",
       "       [1, 1],\n",
       "       [2, 2]])"
      ]
     },
     "execution_count": 109,
     "metadata": {},
     "output_type": "execute_result"
    }
   ],
   "source": [
    "np.vstack((a_1, a_2, a_1, a_1))"
   ]
  },
  {
   "cell_type": "code",
   "execution_count": 111,
   "id": "b7fd41ce",
   "metadata": {
    "ExecuteTime": {
     "end_time": "2022-02-24T14:23:18.840426Z",
     "start_time": "2022-02-24T14:23:16.821362Z"
    }
   },
   "outputs": [
    {
     "ename": "ValueError",
     "evalue": "all the input array dimensions for the concatenation axis must match exactly, but along dimension 1, the array at index 0 has size 2 and the array at index 1 has size 3",
     "output_type": "error",
     "traceback": [
      "\u001b[1;31m---------------------------------------------------------------------------\u001b[0m",
      "\u001b[1;31mValueError\u001b[0m                                Traceback (most recent call last)",
      "Input \u001b[1;32mIn [111]\u001b[0m, in \u001b[0;36m<module>\u001b[1;34m\u001b[0m\n\u001b[0;32m      1\u001b[0m a_3 \u001b[38;5;241m=\u001b[39m np\u001b[38;5;241m.\u001b[39marray([[\u001b[38;5;241m3\u001b[39m,\u001b[38;5;241m3\u001b[39m,\u001b[38;5;241m3\u001b[39m], [\u001b[38;5;241m4\u001b[39m,\u001b[38;5;241m4\u001b[39m,\u001b[38;5;241m4\u001b[39m]])\n\u001b[1;32m----> 2\u001b[0m \u001b[43mnp\u001b[49m\u001b[38;5;241;43m.\u001b[39;49m\u001b[43mvstack\u001b[49m\u001b[43m(\u001b[49m\u001b[43m(\u001b[49m\u001b[43ma_2\u001b[49m\u001b[43m,\u001b[49m\u001b[43m \u001b[49m\u001b[43ma_3\u001b[49m\u001b[43m)\u001b[49m\u001b[43m)\u001b[49m\n",
      "File \u001b[1;32m<__array_function__ internals>:5\u001b[0m, in \u001b[0;36mvstack\u001b[1;34m(*args, **kwargs)\u001b[0m\n",
      "File \u001b[1;32mC:\\users\\zhafran\\appdata\\local\\programs\\python\\python39\\lib\\site-packages\\numpy\\core\\shape_base.py:283\u001b[0m, in \u001b[0;36mvstack\u001b[1;34m(tup)\u001b[0m\n\u001b[0;32m    281\u001b[0m \u001b[38;5;28;01mif\u001b[39;00m \u001b[38;5;129;01mnot\u001b[39;00m \u001b[38;5;28misinstance\u001b[39m(arrs, \u001b[38;5;28mlist\u001b[39m):\n\u001b[0;32m    282\u001b[0m     arrs \u001b[38;5;241m=\u001b[39m [arrs]\n\u001b[1;32m--> 283\u001b[0m \u001b[38;5;28;01mreturn\u001b[39;00m \u001b[43m_nx\u001b[49m\u001b[38;5;241;43m.\u001b[39;49m\u001b[43mconcatenate\u001b[49m\u001b[43m(\u001b[49m\u001b[43marrs\u001b[49m\u001b[43m,\u001b[49m\u001b[43m \u001b[49m\u001b[38;5;241;43m0\u001b[39;49m\u001b[43m)\u001b[49m\n",
      "File \u001b[1;32m<__array_function__ internals>:5\u001b[0m, in \u001b[0;36mconcatenate\u001b[1;34m(*args, **kwargs)\u001b[0m\n",
      "\u001b[1;31mValueError\u001b[0m: all the input array dimensions for the concatenation axis must match exactly, but along dimension 1, the array at index 0 has size 2 and the array at index 1 has size 3"
     ]
    },
    {
     "name": "stderr",
     "output_type": "stream",
     "text": [
      "--- Logging error ---\n",
      "Traceback (most recent call last):\n",
      "  File \"C:\\users\\zhafran\\appdata\\local\\programs\\python\\python39\\lib\\site-packages\\ipykernel\\kernelbase.py\", line 461, in dispatch_queue\n",
      "    await self.process_one()\n",
      "  File \"C:\\users\\zhafran\\appdata\\local\\programs\\python\\python39\\lib\\site-packages\\ipykernel\\kernelbase.py\", line 450, in process_one\n",
      "    await dispatch(*args)\n",
      "TypeError: object NoneType can't be used in 'await' expression\n",
      "\n",
      "During handling of the above exception, another exception occurred:\n",
      "\n",
      "Traceback (most recent call last):\n",
      "  File \"C:\\users\\zhafran\\appdata\\local\\programs\\python\\python39\\lib\\logging\\__init__.py\", line 1082, in emit\n",
      "    stream.write(msg + self.terminator)\n",
      "OSError: [Errno 22] Invalid argument\n",
      "Call stack:\n",
      "  File \"C:\\users\\zhafran\\appdata\\local\\programs\\python\\python39\\lib\\runpy.py\", line 197, in _run_module_as_main\n",
      "    return _run_code(code, main_globals, None,\n",
      "  File \"C:\\users\\zhafran\\appdata\\local\\programs\\python\\python39\\lib\\runpy.py\", line 87, in _run_code\n",
      "    exec(code, run_globals)\n",
      "  File \"C:\\users\\zhafran\\appdata\\local\\programs\\python\\python39\\lib\\site-packages\\ipykernel_launcher.py\", line 16, in <module>\n",
      "    app.launch_new_instance()\n",
      "  File \"C:\\users\\zhafran\\appdata\\local\\programs\\python\\python39\\lib\\site-packages\\traitlets\\config\\application.py\", line 846, in launch_instance\n",
      "    app.start()\n",
      "  File \"C:\\users\\zhafran\\appdata\\local\\programs\\python\\python39\\lib\\site-packages\\ipykernel\\kernelapp.py\", line 677, in start\n",
      "    self.io_loop.start()\n",
      "  File \"C:\\users\\zhafran\\appdata\\local\\programs\\python\\python39\\lib\\site-packages\\tornado\\platform\\asyncio.py\", line 199, in start\n",
      "    self.asyncio_loop.run_forever()\n",
      "  File \"C:\\users\\zhafran\\appdata\\local\\programs\\python\\python39\\lib\\asyncio\\base_events.py\", line 596, in run_forever\n",
      "    self._run_once()\n",
      "  File \"C:\\users\\zhafran\\appdata\\local\\programs\\python\\python39\\lib\\asyncio\\base_events.py\", line 1890, in _run_once\n",
      "    handle._run()\n",
      "  File \"C:\\users\\zhafran\\appdata\\local\\programs\\python\\python39\\lib\\asyncio\\events.py\", line 80, in _run\n",
      "    self._context.run(self._callback, *self._args)\n",
      "  File \"C:\\users\\zhafran\\appdata\\local\\programs\\python\\python39\\lib\\site-packages\\ipykernel\\kernelbase.py\", line 463, in dispatch_queue\n",
      "    self.log.exception(\"Error in message handler\")\n",
      "Message: 'Error in message handler'\n",
      "Arguments: ()\n"
     ]
    }
   ],
   "source": [
    "a_3 = np.array([[3,3,3], [4,4,4]])\n",
    "np.vstack((a_2, a_3))"
   ]
  },
  {
   "cell_type": "code",
   "execution_count": 113,
   "id": "d786008b",
   "metadata": {
    "ExecuteTime": {
     "end_time": "2022-02-24T14:23:48.425626Z",
     "start_time": "2022-02-24T14:23:48.409919Z"
    }
   },
   "outputs": [
    {
     "data": {
      "text/plain": [
       "array([[1, 1, 3, 3],\n",
       "       [2, 2, 4, 4]])"
      ]
     },
     "execution_count": 113,
     "metadata": {},
     "output_type": "execute_result"
    }
   ],
   "source": [
    "np.hstack((a_1, a_2))"
   ]
  },
  {
   "cell_type": "code",
   "execution_count": 114,
   "id": "d95f1da5",
   "metadata": {
    "ExecuteTime": {
     "end_time": "2022-02-24T14:24:27.895815Z",
     "start_time": "2022-02-24T14:24:27.883146Z"
    }
   },
   "outputs": [
    {
     "data": {
      "text/plain": [
       "array([[1, 1, 3, 3, 1, 1, 3, 3, 3],\n",
       "       [2, 2, 4, 4, 2, 2, 4, 4, 4]])"
      ]
     },
     "execution_count": 114,
     "metadata": {},
     "output_type": "execute_result"
    }
   ],
   "source": [
    "np.hstack((a_1, a_2, a_1, a_3))"
   ]
  },
  {
   "cell_type": "code",
   "execution_count": 115,
   "id": "c3390949",
   "metadata": {
    "ExecuteTime": {
     "end_time": "2022-02-24T14:26:10.385592Z",
     "start_time": "2022-02-24T14:26:10.373937Z"
    }
   },
   "outputs": [
    {
     "name": "stdout",
     "output_type": "stream",
     "text": [
      "[[ 1  2  3  4  5  6  7  8  9 10 11 12]\n",
      " [13 14 15 16 17 18 19 20 21 22 23 24]]\n"
     ]
    }
   ],
   "source": [
    "arrsplit = np.arange(1, 25).reshape(2,12)\n",
    "print(arrsplit)"
   ]
  },
  {
   "cell_type": "code",
   "execution_count": 116,
   "id": "3bdddd00",
   "metadata": {
    "ExecuteTime": {
     "end_time": "2022-02-24T14:26:31.089321Z",
     "start_time": "2022-02-24T14:26:30.969245Z"
    }
   },
   "outputs": [
    {
     "data": {
      "text/plain": [
       "[array([[ 1,  2,  3,  4],\n",
       "        [13, 14, 15, 16]]),\n",
       " array([[ 5,  6,  7,  8],\n",
       "        [17, 18, 19, 20]]),\n",
       " array([[ 9, 10, 11, 12],\n",
       "        [21, 22, 23, 24]])]"
      ]
     },
     "execution_count": 116,
     "metadata": {},
     "output_type": "execute_result"
    }
   ],
   "source": [
    "np.hsplit(arrsplit, 3)"
   ]
  },
  {
   "cell_type": "code",
   "execution_count": 117,
   "id": "179e15a5",
   "metadata": {
    "ExecuteTime": {
     "end_time": "2022-02-24T14:27:30.227369Z",
     "start_time": "2022-02-24T14:27:30.214704Z"
    }
   },
   "outputs": [
    {
     "data": {
      "text/plain": [
       "array([[ 1,  2,  3,  4],\n",
       "       [13, 14, 15, 16]])"
      ]
     },
     "execution_count": 117,
     "metadata": {},
     "output_type": "execute_result"
    }
   ],
   "source": [
    "result = np.hsplit(arrsplit, 3)\n",
    "result[0]"
   ]
  },
  {
   "cell_type": "code",
   "execution_count": 118,
   "id": "87fd4dac",
   "metadata": {
    "ExecuteTime": {
     "end_time": "2022-02-24T14:27:35.812674Z",
     "start_time": "2022-02-24T14:27:35.798995Z"
    }
   },
   "outputs": [
    {
     "data": {
      "text/plain": [
       "array([[ 5,  6,  7,  8],\n",
       "       [17, 18, 19, 20]])"
      ]
     },
     "execution_count": 118,
     "metadata": {},
     "output_type": "execute_result"
    }
   ],
   "source": [
    "result[1]"
   ]
  },
  {
   "cell_type": "code",
   "execution_count": 119,
   "id": "8030c68d",
   "metadata": {
    "ExecuteTime": {
     "end_time": "2022-02-24T14:27:41.119758Z",
     "start_time": "2022-02-24T14:27:41.101015Z"
    }
   },
   "outputs": [
    {
     "data": {
      "text/plain": [
       "array([[ 9, 10, 11, 12],\n",
       "       [21, 22, 23, 24]])"
      ]
     },
     "execution_count": 119,
     "metadata": {},
     "output_type": "execute_result"
    }
   ],
   "source": [
    "result[2]"
   ]
  },
  {
   "cell_type": "code",
   "execution_count": 120,
   "id": "8251c427",
   "metadata": {
    "ExecuteTime": {
     "end_time": "2022-02-24T14:29:24.268557Z",
     "start_time": "2022-02-24T14:29:24.256904Z"
    }
   },
   "outputs": [
    {
     "data": {
      "text/plain": [
       "array([[ 1,  2,  3,  4],\n",
       "       [ 5,  6,  7,  8],\n",
       "       [ 9, 10, 11, 12]])"
      ]
     },
     "execution_count": 120,
     "metadata": {},
     "output_type": "execute_result"
    }
   ],
   "source": [
    "a = np.arange(1,13).reshape(3,4)\n",
    "a"
   ]
  },
  {
   "cell_type": "code",
   "execution_count": 121,
   "id": "4e812751",
   "metadata": {
    "ExecuteTime": {
     "end_time": "2022-02-24T14:29:33.891038Z",
     "start_time": "2022-02-24T14:29:33.878370Z"
    }
   },
   "outputs": [
    {
     "data": {
      "text/plain": [
       "array([[ 1,  2,  3,  4],\n",
       "       [ 5,  6,  7,  8],\n",
       "       [ 9, 10, 11, 12]])"
      ]
     },
     "execution_count": 121,
     "metadata": {},
     "output_type": "execute_result"
    }
   ],
   "source": [
    "b = a.view()\n",
    "b"
   ]
  },
  {
   "cell_type": "code",
   "execution_count": 122,
   "id": "3413a0d9",
   "metadata": {
    "ExecuteTime": {
     "end_time": "2022-02-24T14:30:05.355202Z",
     "start_time": "2022-02-24T14:30:05.341018Z"
    }
   },
   "outputs": [
    {
     "data": {
      "text/plain": [
       "array([[ 1,  2,  3,  4],\n",
       "       [ 5, 10,  7,  8],\n",
       "       [ 9, 10, 11, 12]])"
      ]
     },
     "execution_count": 122,
     "metadata": {},
     "output_type": "execute_result"
    }
   ],
   "source": [
    "b[1,1] = 10\n",
    "b"
   ]
  },
  {
   "cell_type": "code",
   "execution_count": 125,
   "id": "90f238f3",
   "metadata": {
    "ExecuteTime": {
     "end_time": "2022-02-24T14:30:56.975615Z",
     "start_time": "2022-02-24T14:30:56.962946Z"
    }
   },
   "outputs": [
    {
     "data": {
      "text/plain": [
       "array([[ 1,  2,  3,  4],\n",
       "       [ 5, 10,  7,  8],\n",
       "       [ 9, 10, 11, 12]])"
      ]
     },
     "execution_count": 125,
     "metadata": {},
     "output_type": "execute_result"
    }
   ],
   "source": [
    "a"
   ]
  },
  {
   "cell_type": "code",
   "execution_count": 126,
   "id": "8dbac021",
   "metadata": {
    "ExecuteTime": {
     "end_time": "2022-02-24T14:31:02.445075Z",
     "start_time": "2022-02-24T14:31:02.429369Z"
    }
   },
   "outputs": [
    {
     "data": {
      "text/plain": [
       "array([[ 1,  2,  3,  4],\n",
       "       [ 5,  6,  7,  8],\n",
       "       [ 9, 10, 11, 12]])"
      ]
     },
     "execution_count": 126,
     "metadata": {},
     "output_type": "execute_result"
    }
   ],
   "source": [
    "a = np.arange(1,13).reshape(3,4)\n",
    "a"
   ]
  },
  {
   "cell_type": "code",
   "execution_count": 132,
   "id": "30395cd5",
   "metadata": {
    "ExecuteTime": {
     "end_time": "2022-02-24T14:32:31.118632Z",
     "start_time": "2022-02-24T14:32:31.105456Z"
    }
   },
   "outputs": [
    {
     "data": {
      "text/plain": [
       "array([[ 1,  2,  3,  4],\n",
       "       [ 5,  6,  7,  8],\n",
       "       [ 9, 10, 11, 12]])"
      ]
     },
     "execution_count": 132,
     "metadata": {},
     "output_type": "execute_result"
    }
   ],
   "source": [
    "c = a.copy()\n",
    "c"
   ]
  },
  {
   "cell_type": "code",
   "execution_count": 133,
   "id": "08b8391a",
   "metadata": {
    "ExecuteTime": {
     "end_time": "2022-02-24T14:32:33.286349Z",
     "start_time": "2022-02-24T14:32:33.273679Z"
    }
   },
   "outputs": [
    {
     "data": {
      "text/plain": [
       "array([[ 1,  2,  3,  0],\n",
       "       [ 5,  6,  7,  0],\n",
       "       [ 9, 10, 11,  0]])"
      ]
     },
     "execution_count": 133,
     "metadata": {},
     "output_type": "execute_result"
    }
   ],
   "source": [
    "c[:, -1] = 0\n",
    "c"
   ]
  },
  {
   "cell_type": "code",
   "execution_count": 134,
   "id": "aa2e3fe6",
   "metadata": {
    "ExecuteTime": {
     "end_time": "2022-02-24T14:32:37.289118Z",
     "start_time": "2022-02-24T14:32:37.277973Z"
    }
   },
   "outputs": [
    {
     "data": {
      "text/plain": [
       "array([[ 1,  2,  3,  4],\n",
       "       [ 5,  6,  7,  8],\n",
       "       [ 9, 10, 11, 12]])"
      ]
     },
     "execution_count": 134,
     "metadata": {},
     "output_type": "execute_result"
    }
   ],
   "source": [
    "a"
   ]
  },
  {
   "cell_type": "code",
   "execution_count": 137,
   "id": "03049f28",
   "metadata": {
    "ExecuteTime": {
     "end_time": "2022-02-24T14:34:37.186502Z",
     "start_time": "2022-02-24T14:34:37.174849Z"
    }
   },
   "outputs": [
    {
     "data": {
      "text/plain": [
       "array([[ 1,  2,  3,  4],\n",
       "       [ 5,  6,  7,  8],\n",
       "       [ 9, 10, 11, 12]])"
      ]
     },
     "execution_count": 137,
     "metadata": {},
     "output_type": "execute_result"
    }
   ],
   "source": [
    "a"
   ]
  },
  {
   "cell_type": "code",
   "execution_count": 138,
   "id": "33499b3c",
   "metadata": {
    "ExecuteTime": {
     "end_time": "2022-02-24T14:34:47.937022Z",
     "start_time": "2022-02-24T14:34:47.924356Z"
    }
   },
   "outputs": [
    {
     "data": {
      "text/plain": [
       "array([[ 1,  2,  3,  4],\n",
       "       [ 5, 10,  7,  8],\n",
       "       [ 9, 10, 11, 12]])"
      ]
     },
     "execution_count": 138,
     "metadata": {},
     "output_type": "execute_result"
    }
   ],
   "source": [
    "b"
   ]
  },
  {
   "cell_type": "code",
   "execution_count": 139,
   "id": "e5576811",
   "metadata": {
    "ExecuteTime": {
     "end_time": "2022-02-24T14:34:56.742534Z",
     "start_time": "2022-02-24T14:34:56.728348Z"
    }
   },
   "outputs": [
    {
     "data": {
      "text/plain": [
       "array([[ 1,  2,  3,  0],\n",
       "       [ 5,  6,  7,  0],\n",
       "       [ 9, 10, 11,  0]])"
      ]
     },
     "execution_count": 139,
     "metadata": {},
     "output_type": "execute_result"
    }
   ],
   "source": [
    "c"
   ]
  },
  {
   "cell_type": "code",
   "execution_count": 140,
   "id": "783e048a",
   "metadata": {
    "ExecuteTime": {
     "end_time": "2022-02-24T14:35:06.888244Z",
     "start_time": "2022-02-24T14:35:06.874566Z"
    }
   },
   "outputs": [
    {
     "data": {
      "text/plain": [
       "array([[ 2,  4,  6,  4],\n",
       "       [10, 12, 14,  8],\n",
       "       [18, 20, 22, 12]])"
      ]
     },
     "execution_count": 140,
     "metadata": {},
     "output_type": "execute_result"
    }
   ],
   "source": [
    "a + c"
   ]
  },
  {
   "cell_type": "code",
   "execution_count": 141,
   "id": "3bf0f1d8",
   "metadata": {
    "ExecuteTime": {
     "end_time": "2022-02-24T14:35:15.098043Z",
     "start_time": "2022-02-24T14:35:15.085377Z"
    }
   },
   "outputs": [
    {
     "data": {
      "text/plain": [
       "array([[  1,   4,   9,   0],\n",
       "       [ 25,  36,  49,   0],\n",
       "       [ 81, 100, 121,   0]])"
      ]
     },
     "execution_count": 141,
     "metadata": {},
     "output_type": "execute_result"
    }
   ],
   "source": [
    "a * c"
   ]
  },
  {
   "cell_type": "code",
   "execution_count": 142,
   "id": "301a6126",
   "metadata": {
    "ExecuteTime": {
     "end_time": "2022-02-24T14:35:25.654097Z",
     "start_time": "2022-02-24T14:35:25.639911Z"
    }
   },
   "outputs": [
    {
     "data": {
      "text/plain": [
       "array([[1. , 1. , 1. , 1. ],\n",
       "       [1. , 0.6, 1. , 1. ],\n",
       "       [1. , 1. , 1. , 1. ]])"
      ]
     },
     "execution_count": 142,
     "metadata": {},
     "output_type": "execute_result"
    }
   ],
   "source": [
    "a / b"
   ]
  },
  {
   "cell_type": "code",
   "execution_count": 143,
   "id": "35c99d2b",
   "metadata": {
    "ExecuteTime": {
     "end_time": "2022-02-24T14:36:34.040017Z",
     "start_time": "2022-02-24T14:36:34.026339Z"
    }
   },
   "outputs": [
    {
     "data": {
      "text/plain": [
       "10"
      ]
     },
     "execution_count": 143,
     "metadata": {},
     "output_type": "execute_result"
    }
   ],
   "source": [
    "a = np.array([1, 2, 3, 4])\n",
    "\n",
    "a.sum()"
   ]
  },
  {
   "cell_type": "code",
   "execution_count": 144,
   "id": "04288c2c",
   "metadata": {
    "ExecuteTime": {
     "end_time": "2022-02-24T14:36:38.737481Z",
     "start_time": "2022-02-24T14:36:38.645770Z"
    }
   },
   "outputs": [
    {
     "data": {
      "text/plain": [
       "2.5"
      ]
     },
     "execution_count": 144,
     "metadata": {},
     "output_type": "execute_result"
    }
   ],
   "source": [
    "a.mean()"
   ]
  },
  {
   "cell_type": "code",
   "execution_count": 145,
   "id": "0533f0bc",
   "metadata": {
    "ExecuteTime": {
     "end_time": "2022-02-24T14:37:20.020028Z",
     "start_time": "2022-02-24T14:37:20.005842Z"
    }
   },
   "outputs": [
    {
     "data": {
      "text/plain": [
       "array([[1, 1],\n",
       "       [2, 2]])"
      ]
     },
     "execution_count": 145,
     "metadata": {},
     "output_type": "execute_result"
    }
   ],
   "source": [
    "b = np.array([[1,1], [2,2]])\n",
    "b"
   ]
  },
  {
   "cell_type": "code",
   "execution_count": 146,
   "id": "6c9a2f2c",
   "metadata": {
    "ExecuteTime": {
     "end_time": "2022-02-24T14:37:30.666893Z",
     "start_time": "2022-02-24T14:37:30.653719Z"
    }
   },
   "outputs": [
    {
     "data": {
      "text/plain": [
       "array([3, 3])"
      ]
     },
     "execution_count": 146,
     "metadata": {},
     "output_type": "execute_result"
    }
   ],
   "source": [
    "b.sum(axis = 0)"
   ]
  },
  {
   "cell_type": "code",
   "execution_count": 147,
   "id": "5c55a06a",
   "metadata": {
    "ExecuteTime": {
     "end_time": "2022-02-24T14:37:51.699752Z",
     "start_time": "2022-02-24T14:37:51.683537Z"
    }
   },
   "outputs": [
    {
     "data": {
      "text/plain": [
       "array([2, 4])"
      ]
     },
     "execution_count": 147,
     "metadata": {},
     "output_type": "execute_result"
    }
   ],
   "source": [
    "b.sum(axis = 1)"
   ]
  },
  {
   "cell_type": "code",
   "execution_count": 148,
   "id": "4f561182",
   "metadata": {
    "ExecuteTime": {
     "end_time": "2022-02-24T14:38:01.236897Z",
     "start_time": "2022-02-24T14:38:01.122895Z"
    }
   },
   "outputs": [
    {
     "data": {
      "text/plain": [
       "array([1.5, 1.5])"
      ]
     },
     "execution_count": 148,
     "metadata": {},
     "output_type": "execute_result"
    }
   ],
   "source": [
    "b.mean(axis = 0)"
   ]
  },
  {
   "cell_type": "code",
   "execution_count": 149,
   "id": "342fc239",
   "metadata": {
    "ExecuteTime": {
     "end_time": "2022-02-24T14:40:24.477252Z",
     "start_time": "2022-02-24T14:40:24.459521Z"
    }
   },
   "outputs": [
    {
     "data": {
      "text/plain": [
       "array([1, 2])"
      ]
     },
     "execution_count": 149,
     "metadata": {},
     "output_type": "execute_result"
    }
   ],
   "source": [
    "data = np.arange(1,3)\n",
    "data"
   ]
  },
  {
   "cell_type": "code",
   "execution_count": 152,
   "id": "65324002",
   "metadata": {
    "ExecuteTime": {
     "end_time": "2022-02-24T14:40:56.537543Z",
     "start_time": "2022-02-24T14:40:56.525892Z"
    }
   },
   "outputs": [
    {
     "data": {
      "text/plain": [
       "array([1.6, 3.2])"
      ]
     },
     "execution_count": 152,
     "metadata": {},
     "output_type": "execute_result"
    }
   ],
   "source": [
    "data * 1.6"
   ]
  },
  {
   "cell_type": "code",
   "execution_count": 153,
   "id": "ecee6047",
   "metadata": {
    "ExecuteTime": {
     "end_time": "2022-02-24T14:41:01.411865Z",
     "start_time": "2022-02-24T14:41:01.399198Z"
    }
   },
   "outputs": [
    {
     "data": {
      "text/plain": [
       "(2,)"
      ]
     },
     "execution_count": 153,
     "metadata": {},
     "output_type": "execute_result"
    }
   ],
   "source": [
    "data.shape"
   ]
  },
  {
   "cell_type": "code",
   "execution_count": 156,
   "id": "3d35f6ad",
   "metadata": {
    "ExecuteTime": {
     "end_time": "2022-02-24T14:43:18.384198Z",
     "start_time": "2022-02-24T14:43:18.370010Z"
    }
   },
   "outputs": [
    {
     "data": {
      "text/plain": [
       "array([[1., 1., 1., 1.],\n",
       "       [1., 1., 1., 1.],\n",
       "       [1., 1., 1., 1.]])"
      ]
     },
     "execution_count": 156,
     "metadata": {},
     "output_type": "execute_result"
    }
   ],
   "source": [
    "a3x4 = np.ones((3,4))\n",
    "a3x4"
   ]
  },
  {
   "cell_type": "code",
   "execution_count": 174,
   "id": "cc0b203f",
   "metadata": {
    "ExecuteTime": {
     "end_time": "2022-02-24T14:51:22.291537Z",
     "start_time": "2022-02-24T14:51:22.276844Z"
    }
   },
   "outputs": [
    {
     "data": {
      "text/plain": [
       "array([[1., 1., 1., 1., 1., 1.],\n",
       "       [1., 1., 1., 1., 1., 1.],\n",
       "       [1., 1., 1., 1., 1., 1.],\n",
       "       [1., 1., 1., 1., 1., 1.]])"
      ]
     },
     "execution_count": 174,
     "metadata": {},
     "output_type": "execute_result"
    }
   ],
   "source": [
    "a4x6 = np.ones((4,6))\n",
    "a4x6"
   ]
  },
  {
   "cell_type": "code",
   "execution_count": 175,
   "id": "127463b0",
   "metadata": {
    "ExecuteTime": {
     "end_time": "2022-02-24T14:51:45.828384Z",
     "start_time": "2022-02-24T14:51:45.658131Z"
    }
   },
   "outputs": [
    {
     "data": {
      "text/plain": [
       "array([[4., 4., 4., 4., 4., 4.],\n",
       "       [4., 4., 4., 4., 4., 4.],\n",
       "       [4., 4., 4., 4., 4., 4.]])"
      ]
     },
     "execution_count": 175,
     "metadata": {},
     "output_type": "execute_result"
    }
   ],
   "source": [
    "np.dot(a3x4, a4x6)"
   ]
  },
  {
   "cell_type": "code",
   "execution_count": 159,
   "id": "b1222903",
   "metadata": {
    "ExecuteTime": {
     "end_time": "2022-02-24T14:44:33.536738Z",
     "start_time": "2022-02-24T14:44:33.525592Z"
    }
   },
   "outputs": [
    {
     "data": {
      "text/plain": [
       "array([1, 2])"
      ]
     },
     "execution_count": 159,
     "metadata": {},
     "output_type": "execute_result"
    }
   ],
   "source": [
    "data"
   ]
  },
  {
   "cell_type": "code",
   "execution_count": 164,
   "id": "0fd05b51",
   "metadata": {
    "ExecuteTime": {
     "end_time": "2022-02-24T14:46:01.648551Z",
     "start_time": "2022-02-24T14:46:01.633349Z"
    }
   },
   "outputs": [
    {
     "data": {
      "text/plain": [
       "array([5, 1, 4, 9, 1, 2, 3, 8, 3, 2, 7, 2])"
      ]
     },
     "execution_count": 164,
     "metadata": {},
     "output_type": "execute_result"
    }
   ],
   "source": [
    "A = np.random.randint(1, 10, size=12)\n",
    "A\n"
   ]
  },
  {
   "cell_type": "code",
   "execution_count": 165,
   "id": "8e58eaa7",
   "metadata": {
    "ExecuteTime": {
     "end_time": "2022-02-24T14:46:04.617114Z",
     "start_time": "2022-02-24T14:46:04.603433Z"
    }
   },
   "outputs": [
    {
     "data": {
      "text/plain": [
       "47"
      ]
     },
     "execution_count": 165,
     "metadata": {},
     "output_type": "execute_result"
    }
   ],
   "source": [
    "A.sum()"
   ]
  },
  {
   "cell_type": "code",
   "execution_count": 166,
   "id": "42bd763e",
   "metadata": {
    "ExecuteTime": {
     "end_time": "2022-02-24T14:46:17.490413Z",
     "start_time": "2022-02-24T14:46:17.477241Z"
    }
   },
   "outputs": [
    {
     "data": {
      "text/plain": [
       "3.9166666666666665"
      ]
     },
     "execution_count": 166,
     "metadata": {},
     "output_type": "execute_result"
    }
   ],
   "source": [
    "A.mean()"
   ]
  },
  {
   "cell_type": "code",
   "execution_count": 167,
   "id": "70c57286",
   "metadata": {
    "ExecuteTime": {
     "end_time": "2022-02-24T14:48:36.395753Z",
     "start_time": "2022-02-24T14:48:36.377008Z"
    }
   },
   "outputs": [
    {
     "data": {
      "text/plain": [
       "array([[1, 2],\n",
       "       [3, 4]])"
      ]
     },
     "execution_count": 167,
     "metadata": {},
     "output_type": "execute_result"
    }
   ],
   "source": [
    "data = np.arange(1,5).reshape(2,2)\n",
    "data"
   ]
  },
  {
   "cell_type": "code",
   "execution_count": 170,
   "id": "f79c7719",
   "metadata": {
    "ExecuteTime": {
     "end_time": "2022-02-24T14:49:30.056192Z",
     "start_time": "2022-02-24T14:49:30.041497Z"
    }
   },
   "outputs": [
    {
     "data": {
      "text/plain": [
       "array([[1., 1.]])"
      ]
     },
     "execution_count": 170,
     "metadata": {},
     "output_type": "execute_result"
    }
   ],
   "source": [
    "ones_row = np.ones([1, 2])\n",
    "ones_row"
   ]
  },
  {
   "cell_type": "code",
   "execution_count": 172,
   "id": "dc8ff44a",
   "metadata": {
    "ExecuteTime": {
     "end_time": "2022-02-24T14:49:48.483164Z",
     "start_time": "2022-02-24T14:49:48.468475Z"
    }
   },
   "outputs": [
    {
     "data": {
      "text/plain": [
       "array([[2., 3.],\n",
       "       [4., 5.]])"
      ]
     },
     "execution_count": 172,
     "metadata": {},
     "output_type": "execute_result"
    }
   ],
   "source": [
    "data + ones_row"
   ]
  },
  {
   "cell_type": "code",
   "execution_count": 173,
   "id": "65f8c721",
   "metadata": {
    "ExecuteTime": {
     "end_time": "2022-02-24T14:50:54.318962Z",
     "start_time": "2022-02-24T14:50:54.308823Z"
    }
   },
   "outputs": [
    {
     "name": "stdout",
     "output_type": "stream",
     "text": [
      "[[ 7  8]\n",
      " [ 9 10]\n",
      " [11 12]]\n",
      "(3, 2)\n"
     ]
    }
   ],
   "source": [
    "a_2 = np.arange(7,13).reshape(3,2)\n",
    "print(a_2)\n",
    "print(a_2.shape)"
   ]
  },
  {
   "cell_type": "code",
   "execution_count": 178,
   "id": "ce6aa493",
   "metadata": {
    "ExecuteTime": {
     "end_time": "2022-02-24T14:53:54.707995Z",
     "start_time": "2022-02-24T14:53:54.693807Z"
    }
   },
   "outputs": [
    {
     "data": {
      "text/plain": [
       "array([[1, 2],\n",
       "       [3, 4],\n",
       "       [5, 6]])"
      ]
     },
     "execution_count": 178,
     "metadata": {},
     "output_type": "execute_result"
    }
   ],
   "source": [
    "data = np.arange(1,7).reshape(3,2)\n",
    "data"
   ]
  },
  {
   "cell_type": "code",
   "execution_count": 179,
   "id": "7f2d3156",
   "metadata": {
    "ExecuteTime": {
     "end_time": "2022-02-24T14:53:56.999695Z",
     "start_time": "2022-02-24T14:53:56.986015Z"
    }
   },
   "outputs": [
    {
     "data": {
      "text/plain": [
       "array([[1, 3, 5],\n",
       "       [2, 4, 6]])"
      ]
     },
     "execution_count": 179,
     "metadata": {},
     "output_type": "execute_result"
    }
   ],
   "source": [
    "data.T"
   ]
  },
  {
   "cell_type": "code",
   "execution_count": 180,
   "id": "06b0d884",
   "metadata": {
    "ExecuteTime": {
     "end_time": "2022-02-24T14:56:33.993782Z",
     "start_time": "2022-02-24T14:56:33.982632Z"
    }
   },
   "outputs": [
    {
     "name": "stdout",
     "output_type": "stream",
     "text": [
      "[[ 1  2  3  4]\n",
      " [ 5  6  7  8]\n",
      " [ 9 10 11 12]]\n"
     ]
    }
   ],
   "source": [
    "arrflat = np.arange(1,13).reshape(3,4)\n",
    "print(arrflat)"
   ]
  },
  {
   "cell_type": "code",
   "execution_count": 182,
   "id": "eb8fb250",
   "metadata": {
    "ExecuteTime": {
     "end_time": "2022-02-24T14:57:32.876359Z",
     "start_time": "2022-02-24T14:57:32.865717Z"
    }
   },
   "outputs": [
    {
     "data": {
      "text/plain": [
       "array([ 1,  2,  3,  4,  5,  6,  7,  8,  9, 10, 11, 12])"
      ]
     },
     "execution_count": 182,
     "metadata": {},
     "output_type": "execute_result"
    }
   ],
   "source": [
    "flatten_arrflat = arrflat.flatten()\n",
    "flatten_arrflat"
   ]
  },
  {
   "cell_type": "code",
   "execution_count": null,
   "id": "155cb2eb",
   "metadata": {},
   "outputs": [],
   "source": []
  }
 ],
 "metadata": {
  "kernelspec": {
   "display_name": "Python 3 (ipykernel)",
   "language": "python",
   "name": "python3"
  },
  "language_info": {
   "codemirror_mode": {
    "name": "ipython",
    "version": 3
   },
   "file_extension": ".py",
   "mimetype": "text/x-python",
   "name": "python",
   "nbconvert_exporter": "python",
   "pygments_lexer": "ipython3",
   "version": "3.9.2"
  },
  "latex_envs": {
   "LaTeX_envs_menu_present": true,
   "autoclose": false,
   "autocomplete": true,
   "bibliofile": "biblio.bib",
   "cite_by": "apalike",
   "current_citInitial": 1,
   "eqLabelWithNumbers": true,
   "eqNumInitial": 1,
   "hotkeys": {
    "equation": "Ctrl-E",
    "itemize": "Ctrl-I"
   },
   "labels_anchors": false,
   "latex_user_defs": false,
   "report_style_numbering": false,
   "user_envs_cfg": false
  },
  "toc": {
   "base_numbering": 1,
   "nav_menu": {},
   "number_sections": true,
   "sideBar": true,
   "skip_h1_title": false,
   "title_cell": "Table of Contents",
   "title_sidebar": "Contents",
   "toc_cell": false,
   "toc_position": {},
   "toc_section_display": true,
   "toc_window_display": true
  }
 },
 "nbformat": 4,
 "nbformat_minor": 5
}
