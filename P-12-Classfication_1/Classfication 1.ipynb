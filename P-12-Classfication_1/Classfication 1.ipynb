{
 "cells": [
  {
   "cell_type": "markdown",
   "id": "c2001e70",
   "metadata": {},
   "source": [
    " # Classification"
   ]
  },
  {
   "cell_type": "markdown",
   "id": "03c64168",
   "metadata": {},
   "source": [
    "## Logistic Regression "
   ]
  },
  {
   "cell_type": "code",
   "execution_count": 1,
   "id": "a1525f8c",
   "metadata": {
    "ExecuteTime": {
     "end_time": "2022-03-29T12:16:09.618041Z",
     "start_time": "2022-03-29T12:15:11.298729Z"
    }
   },
   "outputs": [],
   "source": [
    "import numpy as np\n",
    "import pandas as pd\n",
    "import matplotlib.pyplot as plt\n",
    "from sklearn.linear_model import LogisticRegression\n",
    "from sklearn.metrics import classification_report, confusion_matrix"
   ]
  },
  {
   "cell_type": "code",
   "execution_count": 2,
   "id": "004dece6",
   "metadata": {
    "ExecuteTime": {
     "end_time": "2022-03-29T12:16:09.701136Z",
     "start_time": "2022-03-29T12:16:09.633242Z"
    }
   },
   "outputs": [],
   "source": [
    "x = np.arange(10).reshape(-1,1)\n",
    "y = np.array([0, 0, 0, 0, 1, 1, 1, 1, 1, 1])"
   ]
  },
  {
   "cell_type": "code",
   "execution_count": 3,
   "id": "5b8ad9a4",
   "metadata": {
    "ExecuteTime": {
     "end_time": "2022-03-29T12:16:10.084174Z",
     "start_time": "2022-03-29T12:16:09.719374Z"
    }
   },
   "outputs": [
    {
     "data": {
      "text/plain": [
       "(array([[0],\n",
       "        [1],\n",
       "        [2],\n",
       "        [3],\n",
       "        [4],\n",
       "        [5],\n",
       "        [6],\n",
       "        [7],\n",
       "        [8],\n",
       "        [9]]),\n",
       " array([0, 0, 0, 0, 1, 1, 1, 1, 1, 1]))"
      ]
     },
     "execution_count": 3,
     "metadata": {},
     "output_type": "execute_result"
    }
   ],
   "source": [
    "x, y"
   ]
  },
  {
   "cell_type": "code",
   "execution_count": 4,
   "id": "1ebe68a0",
   "metadata": {
    "ExecuteTime": {
     "end_time": "2022-03-29T12:16:10.367400Z",
     "start_time": "2022-03-29T12:16:10.097347Z"
    }
   },
   "outputs": [
    {
     "data": {
      "text/plain": [
       "LogisticRegression(random_state=0, solver='liblinear')"
      ]
     },
     "execution_count": 4,
     "metadata": {},
     "output_type": "execute_result"
    }
   ],
   "source": [
    "model = LogisticRegression(solver='liblinear', random_state=0)\n",
    "model"
   ]
  },
  {
   "cell_type": "code",
   "execution_count": 5,
   "id": "be0d04ce",
   "metadata": {
    "ExecuteTime": {
     "end_time": "2022-03-29T12:16:10.863933Z",
     "start_time": "2022-03-29T12:16:10.383612Z"
    }
   },
   "outputs": [
    {
     "data": {
      "text/plain": [
       "LogisticRegression(random_state=0, solver='liblinear')"
      ]
     },
     "execution_count": 5,
     "metadata": {},
     "output_type": "execute_result"
    }
   ],
   "source": [
    "model.fit(x,y)"
   ]
  },
  {
   "cell_type": "code",
   "execution_count": null,
   "id": "4c58816b",
   "metadata": {
    "ExecuteTime": {
     "end_time": "2022-03-24T13:51:51.061605Z",
     "start_time": "2022-03-24T13:51:50.852351Z"
    }
   },
   "outputs": [],
   "source": []
  },
  {
   "cell_type": "code",
   "execution_count": 6,
   "id": "838f6a17",
   "metadata": {
    "ExecuteTime": {
     "end_time": "2022-03-29T12:16:11.065080Z",
     "start_time": "2022-03-29T12:16:10.880653Z"
    }
   },
   "outputs": [
    {
     "data": {
      "text/plain": [
       "1.0"
      ]
     },
     "execution_count": 6,
     "metadata": {},
     "output_type": "execute_result"
    }
   ],
   "source": [
    "model.C"
   ]
  },
  {
   "cell_type": "code",
   "execution_count": 7,
   "id": "271ae828",
   "metadata": {
    "ExecuteTime": {
     "end_time": "2022-03-29T12:16:11.240385Z",
     "start_time": "2022-03-29T12:16:11.083319Z"
    }
   },
   "outputs": [
    {
     "data": {
      "text/plain": [
       "0"
      ]
     },
     "execution_count": 7,
     "metadata": {},
     "output_type": "execute_result"
    }
   ],
   "source": [
    "model.verbose"
   ]
  },
  {
   "cell_type": "code",
   "execution_count": 8,
   "id": "06df78f3",
   "metadata": {
    "ExecuteTime": {
     "end_time": "2022-03-29T12:16:11.564650Z",
     "start_time": "2022-03-29T12:16:11.250012Z"
    }
   },
   "outputs": [
    {
     "data": {
      "text/plain": [
       "(array([-1.04608067]), array([[0.51491375]]))"
      ]
     },
     "execution_count": 8,
     "metadata": {},
     "output_type": "execute_result"
    }
   ],
   "source": [
    "model.intercept_, model.coef_"
   ]
  },
  {
   "cell_type": "code",
   "execution_count": 9,
   "id": "f31c7e70",
   "metadata": {
    "ExecuteTime": {
     "end_time": "2022-03-29T12:16:11.735396Z",
     "start_time": "2022-03-29T12:16:11.579851Z"
    }
   },
   "outputs": [
    {
     "data": {
      "text/plain": [
       "array([[0.74002157, 0.25997843],\n",
       "       [0.62975524, 0.37024476],\n",
       "       [0.5040632 , 0.4959368 ],\n",
       "       [0.37785549, 0.62214451],\n",
       "       [0.26628093, 0.73371907],\n",
       "       [0.17821501, 0.82178499],\n",
       "       [0.11472079, 0.88527921],\n",
       "       [0.07186982, 0.92813018],\n",
       "       [0.04422513, 0.95577487],\n",
       "       [0.02690569, 0.97309431]])"
      ]
     },
     "execution_count": 9,
     "metadata": {},
     "output_type": "execute_result"
    }
   ],
   "source": [
    "model.predict_proba(x)"
   ]
  },
  {
   "cell_type": "code",
   "execution_count": 10,
   "id": "bb439403",
   "metadata": {
    "ExecuteTime": {
     "end_time": "2022-03-29T12:16:12.200012Z",
     "start_time": "2022-03-29T12:16:11.755665Z"
    }
   },
   "outputs": [
    {
     "data": {
      "text/plain": [
       "array([0, 0, 0, 1, 1, 1, 1, 1, 1, 1])"
      ]
     },
     "execution_count": 10,
     "metadata": {},
     "output_type": "execute_result"
    }
   ],
   "source": [
    "model.predict(x)"
   ]
  },
  {
   "cell_type": "code",
   "execution_count": 11,
   "id": "a7e86672",
   "metadata": {
    "ExecuteTime": {
     "end_time": "2022-03-29T12:16:12.460437Z",
     "start_time": "2022-03-29T12:16:12.215210Z"
    }
   },
   "outputs": [
    {
     "data": {
      "text/plain": [
       "0.9"
      ]
     },
     "execution_count": 11,
     "metadata": {},
     "output_type": "execute_result"
    }
   ],
   "source": [
    "model.score(x, y)"
   ]
  },
  {
   "cell_type": "code",
   "execution_count": 12,
   "id": "48b41a07",
   "metadata": {
    "ExecuteTime": {
     "end_time": "2022-03-29T12:16:12.646888Z",
     "start_time": "2022-03-29T12:16:12.477153Z"
    }
   },
   "outputs": [
    {
     "data": {
      "text/plain": [
       "array([[3, 1],\n",
       "       [0, 6]], dtype=int64)"
      ]
     },
     "execution_count": 12,
     "metadata": {},
     "output_type": "execute_result"
    }
   ],
   "source": [
    "confusion_matrix(y, model.predict(x))"
   ]
  },
  {
   "cell_type": "code",
   "execution_count": 13,
   "id": "67e6ce7c",
   "metadata": {
    "ExecuteTime": {
     "end_time": "2022-03-29T12:16:14.218055Z",
     "start_time": "2022-03-29T12:16:12.662594Z"
    }
   },
   "outputs": [
    {
     "data": {
      "image/png": "[encoded data removed]",
      "text/plain": [
       "<Figure size 576x576 with 1 Axes>"
      ]
     },
     "metadata": {
      "needs_background": "light"
     },
     "output_type": "display_data"
    }
   ],
   "source": [
    "cm = confusion_matrix(y, model.predict(x))\n",
    "fig, ax = plt.subplots(figsize=(8, 8))\n",
    "ax.imshow(cm)\n",
    "ax.grid(False)\n",
    "ax.xaxis.set(ticks=(0, 1), ticklabels=('Predicted 0s', 'Predicted 1s'))\n",
    "ax.yaxis.set(ticks=(0, 1), ticklabels=('Actual 0s', 'Actual 1s'))\n",
    "ax.set_ylim(1.5, -0.5)\n",
    "for i in range(2):\n",
    "    for j in range(2):\n",
    "        ax.text(j, i, cm[i, j], ha='center', va='center', color='red')\n",
    "plt.show()\n"
   ]
  },
  {
   "cell_type": "code",
   "execution_count": 14,
   "id": "44c1650c",
   "metadata": {
    "ExecuteTime": {
     "end_time": "2022-03-29T12:16:14.288482Z",
     "start_time": "2022-03-29T12:16:14.230723Z"
    }
   },
   "outputs": [
    {
     "name": "stdout",
     "output_type": "stream",
     "text": [
      "              precision    recall  f1-score   support\n",
      "\n",
      "           0       1.00      0.75      0.86         4\n",
      "           1       0.86      1.00      0.92         6\n",
      "\n",
      "    accuracy                           0.90        10\n",
      "   macro avg       0.93      0.88      0.89        10\n",
      "weighted avg       0.91      0.90      0.90        10\n",
      "\n"
     ]
    }
   ],
   "source": [
    "print(classification_report(y, model.predict(x)))"
   ]
  },
  {
   "cell_type": "code",
   "execution_count": 15,
   "id": "63d828cf",
   "metadata": {
    "ExecuteTime": {
     "end_time": "2022-03-29T12:16:14.445554Z",
     "start_time": "2022-03-29T12:16:14.299122Z"
    }
   },
   "outputs": [
    {
     "data": {
      "text/plain": [
       "LogisticRegression(C=10.0, random_state=0, solver='liblinear')"
      ]
     },
     "execution_count": 15,
     "metadata": {},
     "output_type": "execute_result"
    }
   ],
   "source": [
    "model = LogisticRegression(solver='liblinear', random_state=0, C=10.0)\n",
    "model"
   ]
  },
  {
   "cell_type": "code",
   "execution_count": 16,
   "id": "31a365b9",
   "metadata": {
    "ExecuteTime": {
     "end_time": "2022-03-29T12:16:14.732828Z",
     "start_time": "2022-03-29T12:16:14.461762Z"
    }
   },
   "outputs": [
    {
     "data": {
      "text/plain": [
       "LogisticRegression(C=10.0, random_state=0, solver='liblinear')"
      ]
     },
     "execution_count": 16,
     "metadata": {},
     "output_type": "execute_result"
    }
   ],
   "source": [
    "model.fit(x,y)"
   ]
  },
  {
   "cell_type": "code",
   "execution_count": 17,
   "id": "a347cef3",
   "metadata": {
    "ExecuteTime": {
     "end_time": "2022-03-29T12:16:15.198959Z",
     "start_time": "2022-03-29T12:16:14.756643Z"
    }
   },
   "outputs": [
    {
     "data": {
      "text/plain": [
       "(array([-3.51335372]), array([[1.12066084]]))"
      ]
     },
     "execution_count": 17,
     "metadata": {},
     "output_type": "execute_result"
    }
   ],
   "source": [
    "model.intercept_, model.coef_"
   ]
  },
  {
   "cell_type": "code",
   "execution_count": 18,
   "id": "df620e9c",
   "metadata": {
    "ExecuteTime": {
     "end_time": "2022-03-29T12:16:15.405172Z",
     "start_time": "2022-03-29T12:16:15.214667Z"
    }
   },
   "outputs": [
    {
     "data": {
      "text/plain": [
       "array([[0.97106534, 0.02893466],\n",
       "       [0.9162684 , 0.0837316 ],\n",
       "       [0.7810904 , 0.2189096 ],\n",
       "       [0.53777071, 0.46222929],\n",
       "       [0.27502212, 0.72497788],\n",
       "       [0.11007743, 0.88992257],\n",
       "       [0.03876835, 0.96123165],\n",
       "       [0.01298011, 0.98701989],\n",
       "       [0.0042697 , 0.9957303 ],\n",
       "       [0.00139621, 0.99860379]])"
      ]
     },
     "execution_count": 18,
     "metadata": {},
     "output_type": "execute_result"
    }
   ],
   "source": [
    "model.predict_proba(x)"
   ]
  },
  {
   "cell_type": "code",
   "execution_count": 19,
   "id": "463f877f",
   "metadata": {
    "ExecuteTime": {
     "end_time": "2022-03-29T12:16:15.730958Z",
     "start_time": "2022-03-29T12:16:15.414800Z"
    }
   },
   "outputs": [
    {
     "data": {
      "text/plain": [
       "1.0"
      ]
     },
     "execution_count": 19,
     "metadata": {},
     "output_type": "execute_result"
    }
   ],
   "source": [
    "model.score(x,y)"
   ]
  },
  {
   "cell_type": "code",
   "execution_count": 20,
   "id": "029510ff",
   "metadata": {
    "ExecuteTime": {
     "end_time": "2022-03-29T12:16:16.839040Z",
     "start_time": "2022-03-29T12:16:15.747173Z"
    }
   },
   "outputs": [
    {
     "data": {
      "image/png": "[encoded data removed]",
      "text/plain": [
       "<Figure size 576x576 with 1 Axes>"
      ]
     },
     "metadata": {
      "needs_background": "light"
     },
     "output_type": "display_data"
    }
   ],
   "source": [
    "cm = confusion_matrix(y, model.predict(x))\n",
    "fig, ax = plt.subplots(figsize=(8, 8))\n",
    "ax.imshow(cm)\n",
    "ax.grid(False)\n",
    "ax.xaxis.set(ticks=(0, 1), ticklabels=('Predicted 0s', 'Predicted 1s'))\n",
    "ax.yaxis.set(ticks=(0, 1), ticklabels=('Actual 0s', 'Actual 1s'))\n",
    "ax.set_ylim(1.5, -0.5)\n",
    "for i in range(2):\n",
    "    for j in range(2):\n",
    "        ax.text(j, i, cm[i, j], ha='center', va='center', color='red')\n",
    "plt.show()\n"
   ]
  },
  {
   "cell_type": "code",
   "execution_count": 21,
   "id": "b9b5ced4",
   "metadata": {
    "ExecuteTime": {
     "end_time": "2022-03-29T12:16:16.899835Z",
     "start_time": "2022-03-29T12:16:16.848156Z"
    }
   },
   "outputs": [
    {
     "name": "stdout",
     "output_type": "stream",
     "text": [
      "              precision    recall  f1-score   support\n",
      "\n",
      "           0       1.00      1.00      1.00         4\n",
      "           1       1.00      1.00      1.00         6\n",
      "\n",
      "    accuracy                           1.00        10\n",
      "   macro avg       1.00      1.00      1.00        10\n",
      "weighted avg       1.00      1.00      1.00        10\n",
      "\n"
     ]
    }
   ],
   "source": [
    "print(classification_report(y, model.predict(x)))"
   ]
  },
  {
   "cell_type": "code",
   "execution_count": 22,
   "id": "ea4882a1",
   "metadata": {
    "ExecuteTime": {
     "end_time": "2022-03-29T12:16:19.168175Z",
     "start_time": "2022-03-29T12:16:16.918582Z"
    }
   },
   "outputs": [],
   "source": [
    "# Handwriting Recognition\n",
    "\n",
    "import matplotlib.pyplot as plt\n",
    "import numpy as np\n",
    "\n",
    "from sklearn.datasets import load_digits\n",
    "from sklearn.linear_model import LogisticRegression\n",
    "from sklearn.metrics import classification_report, confusion_matrix\n",
    "from sklearn.model_selection import train_test_split\n",
    "from sklearn.preprocessing import StandardScaler"
   ]
  },
  {
   "cell_type": "code",
   "execution_count": 23,
   "id": "185fdad2",
   "metadata": {
    "ExecuteTime": {
     "end_time": "2022-03-29T12:16:20.247879Z",
     "start_time": "2022-03-29T12:16:19.185908Z"
    }
   },
   "outputs": [],
   "source": [
    "x, y = load_digits(return_X_y=True)"
   ]
  },
  {
   "cell_type": "code",
   "execution_count": 24,
   "id": "d977f97a",
   "metadata": {
    "ExecuteTime": {
     "end_time": "2022-03-29T12:16:20.280304Z",
     "start_time": "2022-03-29T12:16:20.257506Z"
    }
   },
   "outputs": [
    {
     "data": {
      "text/plain": [
       "(array([[ 0.,  0.,  5., ...,  0.,  0.,  0.],\n",
       "        [ 0.,  0.,  0., ..., 10.,  0.,  0.],\n",
       "        [ 0.,  0.,  0., ..., 16.,  9.,  0.],\n",
       "        ...,\n",
       "        [ 0.,  0.,  1., ...,  6.,  0.,  0.],\n",
       "        [ 0.,  0.,  2., ..., 12.,  0.,  0.],\n",
       "        [ 0.,  0., 10., ..., 12.,  1.,  0.]]),\n",
       " array([0, 1, 2, ..., 8, 9, 8]))"
      ]
     },
     "execution_count": 24,
     "metadata": {},
     "output_type": "execute_result"
    }
   ],
   "source": [
    "x,y"
   ]
  },
  {
   "cell_type": "code",
   "execution_count": 25,
   "id": "e51dc987",
   "metadata": {
    "ExecuteTime": {
     "end_time": "2022-03-29T12:16:20.506784Z",
     "start_time": "2022-03-29T12:16:20.289933Z"
    }
   },
   "outputs": [],
   "source": [
    "x_train, x_test, y_train, y_test = train_test_split(x,y,\n",
    "                                                   test_size=0.2,\n",
    "                                                    random_state=0\n",
    "                                                   )"
   ]
  },
  {
   "cell_type": "code",
   "execution_count": 26,
   "id": "3ccad308",
   "metadata": {
    "ExecuteTime": {
     "end_time": "2022-03-29T12:16:20.897931Z",
     "start_time": "2022-03-29T12:16:20.518946Z"
    }
   },
   "outputs": [
    {
     "data": {
      "text/plain": [
       "((1437, 64), (1437,))"
      ]
     },
     "execution_count": 26,
     "metadata": {},
     "output_type": "execute_result"
    }
   ],
   "source": [
    "x_train.shape, y_train.shape"
   ]
  },
  {
   "cell_type": "code",
   "execution_count": 27,
   "id": "e7705c9b",
   "metadata": {
    "ExecuteTime": {
     "end_time": "2022-03-29T12:16:21.090463Z",
     "start_time": "2022-03-29T12:16:20.907051Z"
    }
   },
   "outputs": [
    {
     "data": {
      "text/plain": [
       "((360, 64), (360,))"
      ]
     },
     "execution_count": 27,
     "metadata": {},
     "output_type": "execute_result"
    }
   ],
   "source": [
    "x_test.shape, y_test.shape"
   ]
  },
  {
   "cell_type": "code",
   "execution_count": 28,
   "id": "616b190d",
   "metadata": {
    "ExecuteTime": {
     "end_time": "2022-03-29T12:16:21.546966Z",
     "start_time": "2022-03-29T12:16:21.117822Z"
    }
   },
   "outputs": [
    {
     "data": {
      "text/plain": [
       "array([[ 0.        , -0.33790435, -1.09141592, ...,  1.58325794,\n",
       "         3.53125595,  3.30213343],\n",
       "       [ 0.        ,  2.90642897,  1.41696421, ...,  1.58325794,\n",
       "         0.00595786, -0.18695903],\n",
       "       [ 0.        ,  0.74354009,  0.99890086, ..., -1.14493411,\n",
       "        -0.49765616, -0.18695903],\n",
       "       ...,\n",
       "       [ 0.        , -0.33790435, -0.04625753, ..., -1.14493411,\n",
       "        -0.49765616, -0.18695903],\n",
       "       [ 0.        , -0.33790435, -0.25528921, ..., -1.14493411,\n",
       "        -0.49765616, -0.18695903],\n",
       "       [ 0.        , -0.33790435,  0.16277415, ...,  0.73069792,\n",
       "        -0.49765616, -0.18695903]])"
      ]
     },
     "execution_count": 28,
     "metadata": {},
     "output_type": "execute_result"
    }
   ],
   "source": [
    "scaler = StandardScaler()\n",
    "x_train = scaler.fit_transform(x_train)\n",
    "x_train"
   ]
  },
  {
   "cell_type": "code",
   "execution_count": 29,
   "id": "4d9eec3b",
   "metadata": {
    "ExecuteTime": {
     "end_time": "2022-03-29T12:16:21.997395Z",
     "start_time": "2022-03-29T12:16:21.564197Z"
    }
   },
   "outputs": [
    {
     "data": {
      "text/plain": [
       "(1.5451955805499744e-19, 0.9762812094883321)"
      ]
     },
     "execution_count": 29,
     "metadata": {},
     "output_type": "execute_result"
    }
   ],
   "source": [
    "x_train.mean(), x_train.std()"
   ]
  },
  {
   "cell_type": "code",
   "execution_count": 30,
   "id": "6d517bfa",
   "metadata": {
    "ExecuteTime": {
     "end_time": "2022-03-29T12:16:24.314374Z",
     "start_time": "2022-03-29T12:16:22.005503Z"
    }
   },
   "outputs": [
    {
     "data": {
      "text/plain": [
       "LogisticRegression(C=0.05, multi_class='ovr', random_state=0,\n",
       "                   solver='liblinear')"
      ]
     },
     "execution_count": 30,
     "metadata": {},
     "output_type": "execute_result"
    }
   ],
   "source": [
    "model = LogisticRegression(\n",
    "    solver='liblinear',\n",
    "    C=0.05,\n",
    "    multi_class='ovr',\n",
    "    random_state=0\n",
    ")\n",
    "model.fit(x_train, y_train)"
   ]
  },
  {
   "cell_type": "code",
   "execution_count": 31,
   "id": "89b6d29f",
   "metadata": {
    "ExecuteTime": {
     "end_time": "2022-03-29T12:16:24.385814Z",
     "start_time": "2022-03-29T12:16:24.323495Z"
    }
   },
   "outputs": [],
   "source": [
    "x_test = scaler.transform(x_test)"
   ]
  },
  {
   "cell_type": "code",
   "execution_count": 32,
   "id": "8b33b1a7",
   "metadata": {
    "ExecuteTime": {
     "end_time": "2022-03-29T12:16:24.528193Z",
     "start_time": "2022-03-29T12:16:24.399494Z"
    }
   },
   "outputs": [],
   "source": [
    "y_pred = model.predict(x_test)"
   ]
  },
  {
   "cell_type": "code",
   "execution_count": 33,
   "id": "716aea91",
   "metadata": {
    "ExecuteTime": {
     "end_time": "2022-03-29T12:16:24.897545Z",
     "start_time": "2022-03-29T12:16:24.537307Z"
    }
   },
   "outputs": [
    {
     "data": {
      "text/plain": [
       "array([[27,  0,  0,  0,  0,  0,  0,  0,  0,  0],\n",
       "       [ 0, 32,  0,  0,  0,  0,  1,  0,  1,  1],\n",
       "       [ 1,  1, 33,  1,  0,  0,  0,  0,  0,  0],\n",
       "       [ 0,  0,  1, 28,  0,  0,  0,  0,  0,  0],\n",
       "       [ 0,  0,  0,  0, 29,  0,  0,  1,  0,  0],\n",
       "       [ 0,  0,  0,  0,  0, 39,  0,  0,  0,  1],\n",
       "       [ 0,  1,  0,  0,  0,  0, 43,  0,  0,  0],\n",
       "       [ 0,  0,  0,  0,  0,  0,  0, 39,  0,  0],\n",
       "       [ 0,  2,  1,  2,  0,  0,  0,  1, 33,  0],\n",
       "       [ 0,  0,  0,  1,  0,  1,  0,  2,  1, 36]], dtype=int64)"
      ]
     },
     "execution_count": 33,
     "metadata": {},
     "output_type": "execute_result"
    }
   ],
   "source": [
    "confusion_matrix(y_test, y_pred)"
   ]
  },
  {
   "cell_type": "code",
   "execution_count": 34,
   "id": "ef2a1fcd",
   "metadata": {
    "ExecuteTime": {
     "end_time": "2022-03-29T12:16:33.973947Z",
     "start_time": "2022-03-29T12:16:24.908693Z"
    }
   },
   "outputs": [
    {
     "data": {
      "image/png": "[encoded data removed]",
      "text/plain": [
       "<Figure size 576x576 with 1 Axes>"
      ]
     },
     "metadata": {
      "needs_background": "light"
     },
     "output_type": "display_data"
    }
   ],
   "source": [
    "cm = confusion_matrix(y_test, y_pred)\n",
    "\n",
    "fig, ax = plt.subplots(figsize=(8, 8))\n",
    "ax.imshow(cm)\n",
    "ax.grid(False)\n",
    "ax.set_xlabel('Predicted outputs', color='black')\n",
    "ax.set_ylabel('Actual outputs', color='black')\n",
    "ax.xaxis.set(ticks=range(10))\n",
    "ax.yaxis.set(ticks=range(10))\n",
    "ax.set_ylim(9.5, -0.5)\n",
    "\n",
    "for i in range(10):\n",
    "\tfor j in range(10):\n",
    "            ax.text(j, i, cm[i, j], ha='center', va='center', color='white')\n",
    "# plt.show()\n"
   ]
  },
  {
   "cell_type": "code",
   "execution_count": 35,
   "id": "7447c307",
   "metadata": {
    "ExecuteTime": {
     "end_time": "2022-03-29T12:16:34.538879Z",
     "start_time": "2022-03-29T12:16:33.987628Z"
    }
   },
   "outputs": [
    {
     "name": "stdout",
     "output_type": "stream",
     "text": [
      "              precision    recall  f1-score   support\n",
      "\n",
      "           0       0.96      1.00      0.98        27\n",
      "           1       0.89      0.91      0.90        35\n",
      "           2       0.94      0.92      0.93        36\n",
      "           3       0.88      0.97      0.92        29\n",
      "           4       1.00      0.97      0.98        30\n",
      "           5       0.97      0.97      0.97        40\n",
      "           6       0.98      0.98      0.98        44\n",
      "           7       0.91      1.00      0.95        39\n",
      "           8       0.94      0.85      0.89        39\n",
      "           9       0.95      0.88      0.91        41\n",
      "\n",
      "    accuracy                           0.94       360\n",
      "   macro avg       0.94      0.94      0.94       360\n",
      "weighted avg       0.94      0.94      0.94       360\n",
      "\n"
     ]
    }
   ],
   "source": [
    "print(classification_report(y_test, y_pred))"
   ]
  },
  {
   "cell_type": "markdown",
   "id": "f826633e",
   "metadata": {},
   "source": [
    "## KNN"
   ]
  },
  {
   "cell_type": "code",
   "execution_count": 36,
   "id": "77c96047",
   "metadata": {
    "ExecuteTime": {
     "end_time": "2022-03-29T12:16:34.990316Z",
     "start_time": "2022-03-29T12:16:34.553066Z"
    }
   },
   "outputs": [],
   "source": [
    "weather = [\n",
    "    'Sunny', 'Sunny', 'Overcast', 'Rainy', 'Rainy', 'Rainy',\n",
    "    'Overcast', 'Sunny', 'Sunny', 'Rainy', 'Sunny', 'Overcast',\n",
    "    'Overcast', 'Rainy'\n",
    "]\n",
    "temp = [\n",
    "    'Hot', 'Hot', 'Hot', 'Mild', 'Cool', 'Cool', 'Cool', 'Mild',\n",
    "    'Cool', 'Mild', 'Mild', 'Mild', 'Hot', 'Mild'\n",
    "]\n",
    "play = [\n",
    "    'No', 'No', 'Yes', 'Yes', 'Yes', 'No', 'Yes', 'No', 'Yes', \n",
    "    'Yes', 'Yes', 'Yes', 'Yes', 'No'\n",
    "]"
   ]
  },
  {
   "cell_type": "code",
   "execution_count": 37,
   "id": "ca7caecf",
   "metadata": {
    "ExecuteTime": {
     "end_time": "2022-03-29T12:16:35.539542Z",
     "start_time": "2022-03-29T12:16:34.999439Z"
    }
   },
   "outputs": [
    {
     "name": "stdout",
     "output_type": "stream",
     "text": [
      "[2 2 0 1 1 1 0 2 2 1 2 0 0 1]\n"
     ]
    }
   ],
   "source": [
    "# Import LabelEncoder\n",
    "from sklearn import preprocessing\n",
    "\n",
    "# buat label endocer\n",
    "le = preprocessing.LabelEncoder()\n",
    "\n",
    "# konversi string label menjadi nomor\n",
    "weather_encoded = le.fit_transform(weather)\n",
    "print(weather_encoded)"
   ]
  },
  {
   "cell_type": "code",
   "execution_count": 38,
   "id": "278f33d6",
   "metadata": {
    "ExecuteTime": {
     "end_time": "2022-03-29T12:16:36.299541Z",
     "start_time": "2022-03-29T12:16:35.550689Z"
    }
   },
   "outputs": [
    {
     "name": "stdout",
     "output_type": "stream",
     "text": [
      "[1 1 1 2 0 0 0 2 0 2 2 2 1 2] [0 0 1 1 1 0 1 0 1 1 1 1 1 0]\n"
     ]
    }
   ],
   "source": [
    "temp_encoded = le.fit_transform(temp)\n",
    "label = le.fit_transform(play)\n",
    "print(temp_encoded, label)"
   ]
  },
  {
   "cell_type": "code",
   "execution_count": 39,
   "id": "89d5eb05",
   "metadata": {
    "ExecuteTime": {
     "end_time": "2022-03-29T12:16:37.114260Z",
     "start_time": "2022-03-29T12:16:36.315756Z"
    }
   },
   "outputs": [
    {
     "name": "stdout",
     "output_type": "stream",
     "text": [
      "[(2, 1), (2, 1), (0, 1), (1, 2), (1, 0), (1, 0), (0, 0), (2, 2), (2, 0), (1, 2), (2, 2), (0, 2), (0, 1), (1, 2)]\n"
     ]
    }
   ],
   "source": [
    "# Mengkombinasikan weather dan temp menjadi satu list tuple\n",
    "features = list(zip(weather_encoded, temp_encoded))\n",
    "print(features)"
   ]
  },
  {
   "cell_type": "code",
   "execution_count": 40,
   "id": "d1c7caa2",
   "metadata": {
    "ExecuteTime": {
     "end_time": "2022-03-29T12:16:40.385797Z",
     "start_time": "2022-03-29T12:16:37.122365Z"
    }
   },
   "outputs": [
    {
     "name": "stdout",
     "output_type": "stream",
     "text": [
      "[1]\n"
     ]
    }
   ],
   "source": [
    "# Classifier model KNN\n",
    "from sklearn.neighbors import KNeighborsClassifier\n",
    "\n",
    "model = KNeighborsClassifier(n_neighbors=3)\n",
    "\n",
    "# Train model\n",
    "model.fit(features, label)\n",
    "\n",
    "# Kita coba prediksi\n",
    "predicted = model.predict([[0,2]])\n",
    "\n",
    "print(predicted)"
   ]
  },
  {
   "cell_type": "code",
   "execution_count": 41,
   "id": "2ed7b11c",
   "metadata": {
    "ExecuteTime": {
     "end_time": "2022-03-29T12:16:40.748061Z",
     "start_time": "2022-03-29T12:16:40.402009Z"
    }
   },
   "outputs": [],
   "source": [
    "\"\"\"\n",
    "Mempelajari KNN dengan multible Labels\n",
    "\"\"\"\n",
    "\n",
    "#Import scikit-learn dataset library\n",
    "from sklearn import datasets\n",
    "\n",
    "#Load dataset\n",
    "wine = datasets.load_wine()"
   ]
  },
  {
   "cell_type": "code",
   "execution_count": 42,
   "id": "4d3eca16",
   "metadata": {
    "ExecuteTime": {
     "end_time": "2022-03-29T12:16:40.967448Z",
     "start_time": "2022-03-29T12:16:40.760222Z"
    }
   },
   "outputs": [
    {
     "name": "stdout",
     "output_type": "stream",
     "text": [
      "['alcohol', 'malic_acid', 'ash', 'alcalinity_of_ash', 'magnesium', 'total_phenols', 'flavanoids', 'nonflavanoid_phenols', 'proanthocyanins', 'color_intensity', 'hue', 'od280/od315_of_diluted_wines', 'proline']\n"
     ]
    }
   ],
   "source": [
    "# print the names of the features\n",
    "print(wine.feature_names)"
   ]
  },
  {
   "cell_type": "code",
   "execution_count": 43,
   "id": "a7fdd558",
   "metadata": {
    "ExecuteTime": {
     "end_time": "2022-03-29T12:16:41.314513Z",
     "start_time": "2022-03-29T12:16:40.977580Z"
    }
   },
   "outputs": [
    {
     "name": "stdout",
     "output_type": "stream",
     "text": [
      "['class_0' 'class_1' 'class_2']\n"
     ]
    }
   ],
   "source": [
    "print(wine.target_names)"
   ]
  },
  {
   "cell_type": "code",
   "execution_count": 44,
   "id": "c9d9c2da",
   "metadata": {
    "ExecuteTime": {
     "end_time": "2022-03-29T12:16:42.019792Z",
     "start_time": "2022-03-29T12:16:41.327180Z"
    }
   },
   "outputs": [
    {
     "name": "stdout",
     "output_type": "stream",
     "text": [
      "[[1.423e+01 1.710e+00 2.430e+00 1.560e+01 1.270e+02 2.800e+00 3.060e+00\n",
      "  2.800e-01 2.290e+00 5.640e+00 1.040e+00 3.920e+00 1.065e+03]\n",
      " [1.320e+01 1.780e+00 2.140e+00 1.120e+01 1.000e+02 2.650e+00 2.760e+00\n",
      "  2.600e-01 1.280e+00 4.380e+00 1.050e+00 3.400e+00 1.050e+03]\n",
      " [1.316e+01 2.360e+00 2.670e+00 1.860e+01 1.010e+02 2.800e+00 3.240e+00\n",
      "  3.000e-01 2.810e+00 5.680e+00 1.030e+00 3.170e+00 1.185e+03]\n",
      " [1.437e+01 1.950e+00 2.500e+00 1.680e+01 1.130e+02 3.850e+00 3.490e+00\n",
      "  2.400e-01 2.180e+00 7.800e+00 8.600e-01 3.450e+00 1.480e+03]\n",
      " [1.324e+01 2.590e+00 2.870e+00 2.100e+01 1.180e+02 2.800e+00 2.690e+00\n",
      "  3.900e-01 1.820e+00 4.320e+00 1.040e+00 2.930e+00 7.350e+02]]\n"
     ]
    }
   ],
   "source": [
    "print(wine.data[0:5])"
   ]
  },
  {
   "cell_type": "code",
   "execution_count": 45,
   "id": "d47dbc23",
   "metadata": {
    "ExecuteTime": {
     "end_time": "2022-03-29T12:16:42.210296Z",
     "start_time": "2022-03-29T12:16:42.034485Z"
    }
   },
   "outputs": [
    {
     "name": "stdout",
     "output_type": "stream",
     "text": [
      "[0 0 0 0 0 0 0 0 0 0 0 0 0 0 0 0 0 0 0 0 0 0 0 0 0 0 0 0 0 0 0 0 0 0 0 0 0\n",
      " 0 0 0 0 0 0 0 0 0 0 0 0 0 0 0 0 0 0 0 0 0 0 1 1 1 1 1 1 1 1 1 1 1 1 1 1 1\n",
      " 1 1 1 1 1 1 1 1 1 1 1 1 1 1 1 1 1 1 1 1 1 1 1 1 1 1 1 1 1 1 1 1 1 1 1 1 1\n",
      " 1 1 1 1 1 1 1 1 1 1 1 1 1 1 1 1 1 1 1 2 2 2 2 2 2 2 2 2 2 2 2 2 2 2 2 2 2\n",
      " 2 2 2 2 2 2 2 2 2 2 2 2 2 2 2 2 2 2 2 2 2 2 2 2 2 2 2 2 2 2]\n"
     ]
    }
   ],
   "source": [
    "# Periksa record set target\n",
    "print(wine.target)"
   ]
  },
  {
   "cell_type": "code",
   "execution_count": 46,
   "id": "a341653d",
   "metadata": {
    "ExecuteTime": {
     "end_time": "2022-03-29T12:16:42.463629Z",
     "start_time": "2022-03-29T12:16:42.227524Z"
    }
   },
   "outputs": [
    {
     "name": "stdout",
     "output_type": "stream",
     "text": [
      "(178, 13)\n"
     ]
    }
   ],
   "source": [
    "# cek shape\n",
    "print(wine.data.shape)"
   ]
  },
  {
   "cell_type": "code",
   "execution_count": 47,
   "id": "af36f6a7",
   "metadata": {
    "ExecuteTime": {
     "end_time": "2022-03-29T12:16:42.748384Z",
     "start_time": "2022-03-29T12:16:42.475790Z"
    }
   },
   "outputs": [
    {
     "name": "stdout",
     "output_type": "stream",
     "text": [
      "(178,)\n"
     ]
    }
   ],
   "source": [
    "print(wine.target.shape)"
   ]
  },
  {
   "cell_type": "code",
   "execution_count": 48,
   "id": "b935a376",
   "metadata": {
    "ExecuteTime": {
     "end_time": "2022-03-29T12:16:43.020971Z",
     "start_time": "2022-03-29T12:16:42.762066Z"
    }
   },
   "outputs": [],
   "source": [
    "# Splitting Data\n",
    "from sklearn.model_selection import train_test_split\n",
    "\n",
    "#split dataset\n",
    "X_train, X_test, y_train, y_test = train_test_split(wine.data,\n",
    "                                                    wine.target, \n",
    "                                                    test_size=0.3)"
   ]
  },
  {
   "cell_type": "code",
   "execution_count": 49,
   "id": "890cee80",
   "metadata": {
    "ExecuteTime": {
     "end_time": "2022-03-29T12:16:43.054921Z",
     "start_time": "2022-03-29T12:16:43.029077Z"
    }
   },
   "outputs": [],
   "source": [
    "# Import knearest neigbors\n",
    "from sklearn.neighbors import KNeighborsClassifier\n",
    "\n",
    "# Buat KNN Classifier\n",
    "knn = KNeighborsClassifier(n_neighbors=5)\n",
    "\n",
    "# Melatih model dengan training sets\n",
    "knn.fit(X_train, y_train)\n",
    "\n",
    "# predict response\n",
    "y_pred = knn.predict(X_test)"
   ]
  },
  {
   "cell_type": "code",
   "execution_count": 50,
   "id": "8641cccd",
   "metadata": {
    "ExecuteTime": {
     "end_time": "2022-03-29T12:16:43.415155Z",
     "start_time": "2022-03-29T12:16:43.062011Z"
    }
   },
   "outputs": [
    {
     "name": "stdout",
     "output_type": "stream",
     "text": [
      "Accuracy: 0.6851851851851852\n"
     ]
    }
   ],
   "source": [
    "from sklearn import metrics\n",
    "\n",
    "# Model akurasi\n",
    "print('Accuracy:', metrics.accuracy_score(y_test, y_pred))"
   ]
  },
  {
   "cell_type": "code",
   "execution_count": 51,
   "id": "9b0dfbd1",
   "metadata": {
    "ExecuteTime": {
     "end_time": "2022-03-29T12:16:43.829101Z",
     "start_time": "2022-03-29T12:16:43.424783Z"
    }
   },
   "outputs": [],
   "source": [
    "# Mari kita coba untuk meninggikan akurasi\n",
    "# Import knearest neigbors\n",
    "from sklearn.neighbors import KNeighborsClassifier\n",
    "\n",
    "# Buat KNN Classifier\n",
    "knn = KNeighborsClassifier(n_neighbors=7)\n",
    "\n",
    "# Melatih model dengan training sets\n",
    "knn.fit(X_train, y_train)\n",
    "\n",
    "# predict response\n",
    "y_pred = knn.predict(X_test)"
   ]
  },
  {
   "cell_type": "code",
   "execution_count": 52,
   "id": "194b03c6",
   "metadata": {
    "ExecuteTime": {
     "end_time": "2022-03-29T12:16:44.131581Z",
     "start_time": "2022-03-29T12:16:43.840251Z"
    }
   },
   "outputs": [
    {
     "name": "stdout",
     "output_type": "stream",
     "text": [
      "Accuracy: 0.7222222222222222\n"
     ]
    }
   ],
   "source": [
    "from sklearn import metrics\n",
    "\n",
    "# Model akurasi\n",
    "print('Accuracy:', metrics.accuracy_score(y_test, y_pred))"
   ]
  },
  {
   "cell_type": "code",
   "execution_count": 53,
   "id": "53e5706b",
   "metadata": {
    "ExecuteTime": {
     "end_time": "2022-03-29T12:16:45.995094Z",
     "start_time": "2022-03-29T12:16:44.155902Z"
    }
   },
   "outputs": [],
   "source": [
    "# mencari nilai k yang sesuai\n",
    "error = []\n",
    "\n",
    "for i in range(1, 40):\n",
    "    knn = knn = KNeighborsClassifier(n_neighbors=i)\n",
    "    knn.fit(X_train, y_train)\n",
    "    pred_i = knn.predict(X_test)\n",
    "    error.append(np.mean(pred_i != y_test))\n"
   ]
  },
  {
   "cell_type": "code",
   "execution_count": 54,
   "id": "f65c72f7",
   "metadata": {
    "ExecuteTime": {
     "end_time": "2022-03-29T12:16:47.835817Z",
     "start_time": "2022-03-29T12:16:46.008777Z"
    }
   },
   "outputs": [
    {
     "data": {
      "text/plain": [
       "[<matplotlib.lines.Line2D at 0x1fcf6234730>]"
      ]
     },
     "execution_count": 54,
     "metadata": {},
     "output_type": "execute_result"
    },
    {
     "data": {
      "image/png": "[encoded data removed]",
      "text/plain": [
       "<Figure size 432x288 with 1 Axes>"
      ]
     },
     "metadata": {
      "needs_background": "light"
     },
     "output_type": "display_data"
    }
   ],
   "source": [
    "plt.plot(range(1,40), error)"
   ]
  },
  {
   "cell_type": "code",
   "execution_count": 55,
   "id": "ccdb6e4a",
   "metadata": {
    "ExecuteTime": {
     "end_time": "2022-03-29T12:16:47.988323Z",
     "start_time": "2022-03-29T12:16:47.853043Z"
    }
   },
   "outputs": [],
   "source": [
    "# Dari atas itu, berarti yang paling bagus yaitu k=23\n",
    "# Mari kita coba untuk meninggikan akurasi\n",
    "\n",
    "# Import knearest neigbors\n",
    "from sklearn.neighbors import KNeighborsClassifier\n",
    "\n",
    "# Buat KNN Classifier\n",
    "knn = KNeighborsClassifier(n_neighbors=23)\n",
    "\n",
    "# Melatih model dengan training sets\n",
    "knn.fit(X_train, y_train)\n",
    "\n",
    "# predict response\n",
    "y_pred = knn.predict(X_test)"
   ]
  },
  {
   "cell_type": "code",
   "execution_count": 56,
   "id": "d1dac06d",
   "metadata": {
    "ExecuteTime": {
     "end_time": "2022-03-29T12:16:51.006529Z",
     "start_time": "2022-03-29T12:16:48.018216Z"
    }
   },
   "outputs": [
    {
     "name": "stdout",
     "output_type": "stream",
     "text": [
      "Accuracy: 0.7592592592592593\n"
     ]
    }
   ],
   "source": [
    "from sklearn import metrics\n",
    "\n",
    "# Model akurasi\n",
    "print('Accuracy:', metrics.accuracy_score(y_test, y_pred))"
   ]
  },
  {
   "cell_type": "code",
   "execution_count": null,
   "id": "00410de2",
   "metadata": {},
   "outputs": [],
   "source": []
  }
 ],
 "metadata": {
  "kernelspec": {
   "display_name": "Python 3 (ipykernel)",
   "language": "python",
   "name": "python3"
  },
  "language_info": {
   "codemirror_mode": {
    "name": "ipython",
    "version": 3
   },
   "file_extension": ".py",
   "mimetype": "text/x-python",
   "name": "python",
   "nbconvert_exporter": "python",
   "pygments_lexer": "ipython3",
   "version": "3.9.2"
  },
  "latex_envs": {
   "LaTeX_envs_menu_present": true,
   "autoclose": false,
   "autocomplete": true,
   "bibliofile": "biblio.bib",
   "cite_by": "apalike",
   "current_citInitial": 1,
   "eqLabelWithNumbers": true,
   "eqNumInitial": 1,
   "hotkeys": {
    "equation": "Ctrl-E",
    "itemize": "Ctrl-I"
   },
   "labels_anchors": false,
   "latex_user_defs": false,
   "report_style_numbering": false,
   "user_envs_cfg": false
  },
  "toc": {
   "base_numbering": 1,
   "nav_menu": {},
   "number_sections": true,
   "sideBar": true,
   "skip_h1_title": false,
   "title_cell": "Table of Contents",
   "title_sidebar": "Contents",
   "toc_cell": false,
   "toc_position": {},
   "toc_section_display": true,
   "toc_window_display": true
  }
 },
 "nbformat": 4,
 "nbformat_minor": 5
}
