{
 "cells": [
  {
   "cell_type": "code",
   "execution_count": 13,
   "id": "cc48b5e4",
   "metadata": {
    "ExecuteTime": {
     "end_time": "2022-02-15T12:50:28.598686Z",
     "start_time": "2022-02-15T12:50:28.590576Z"
    }
   },
   "outputs": [
    {
     "name": "stdout",
     "output_type": "stream",
     "text": [
      "hacktiv8\n",
      "<class 'str'>\n"
     ]
    }
   ],
   "source": [
    "a = 'hacktiv8'\n",
    "print(a)\n",
    "print(type(a))"
   ]
  },
  {
   "cell_type": "code",
   "execution_count": 17,
   "id": "de206000",
   "metadata": {
    "ExecuteTime": {
     "end_time": "2022-02-15T12:52:04.751508Z",
     "start_time": "2022-02-15T12:52:04.740870Z"
    }
   },
   "outputs": [
    {
     "name": "stdout",
     "output_type": "stream",
     "text": [
      "8\n",
      "<class 'int'>\n"
     ]
    }
   ],
   "source": [
    "a = 8\n",
    "print(a)\n",
    "print(type(a))"
   ]
  },
  {
   "cell_type": "code",
   "execution_count": 15,
   "id": "83938300",
   "metadata": {
    "ExecuteTime": {
     "end_time": "2022-02-15T12:51:05.366312Z",
     "start_time": "2022-02-15T12:51:05.357193Z"
    }
   },
   "outputs": [
    {
     "name": "stdout",
     "output_type": "stream",
     "text": [
      "10\n"
     ]
    }
   ],
   "source": [
    "b = 10\n",
    "print(b)"
   ]
  },
  {
   "cell_type": "code",
   "execution_count": 22,
   "id": "97822743",
   "metadata": {
    "ExecuteTime": {
     "end_time": "2022-02-15T12:53:56.918981Z",
     "start_time": "2022-02-15T12:53:56.909354Z"
    }
   },
   "outputs": [
    {
     "name": "stdout",
     "output_type": "stream",
     "text": [
      "10\n"
     ]
    }
   ],
   "source": [
    "print(a + 2)"
   ]
  },
  {
   "cell_type": "code",
   "execution_count": 26,
   "id": "e4c5be52",
   "metadata": {
    "ExecuteTime": {
     "end_time": "2022-02-15T12:56:21.059122Z",
     "start_time": "2022-02-15T12:56:21.048989Z"
    }
   },
   "outputs": [
    {
     "name": "stdout",
     "output_type": "stream",
     "text": [
      "1212122121212121212121212121212121212122\n",
      "<class 'int'>\n"
     ]
    }
   ],
   "source": [
    "#Integer\n",
    "angka = 1212122121212121212121212121212121212121 + 1\n",
    "print(angka)\n",
    "print(type(angka))"
   ]
  },
  {
   "cell_type": "code",
   "execution_count": 28,
   "id": "b2b53bb7",
   "metadata": {
    "ExecuteTime": {
     "end_time": "2022-02-15T12:59:10.098719Z",
     "start_time": "2022-02-15T12:59:10.088075Z"
    }
   },
   "outputs": [
    {
     "name": "stdout",
     "output_type": "stream",
     "text": [
      "4.0\n",
      "0.2\n",
      "4000000.0\n",
      "0.00042\n"
     ]
    }
   ],
   "source": [
    "print(4.)\n",
    "print(.2)\n",
    "print(.4e7)\n",
    "print(4.2e-4)"
   ]
  },
  {
   "cell_type": "code",
   "execution_count": 30,
   "id": "1cc45689",
   "metadata": {
    "ExecuteTime": {
     "end_time": "2022-02-15T12:59:38.364877Z",
     "start_time": "2022-02-15T12:59:38.353223Z"
    }
   },
   "outputs": [
    {
     "name": "stdout",
     "output_type": "stream",
     "text": [
      "\n",
      "\n"
     ]
    }
   ],
   "source": [
    "print('')\n",
    "print(\"\")"
   ]
  },
  {
   "cell_type": "code",
   "execution_count": 33,
   "id": "27a212e1",
   "metadata": {
    "ExecuteTime": {
     "end_time": "2022-02-15T13:03:32.783962Z",
     "start_time": "2022-02-15T13:03:32.774844Z"
    }
   },
   "outputs": [
    {
     "name": "stdout",
     "output_type": "stream",
     "text": [
      "This string contains a double quote (\") character\n",
      "This string contains a single quote (') character\n"
     ]
    }
   ],
   "source": [
    "print(\"This string contains a double quote (\\\") character\")\n",
    "print('This string contains a single quote (\\') character')"
   ]
  },
  {
   "cell_type": "code",
   "execution_count": 35,
   "id": "9d7e9f01",
   "metadata": {
    "ExecuteTime": {
     "end_time": "2022-02-15T13:09:18.256689Z",
     "start_time": "2022-02-15T13:09:18.246050Z"
    }
   },
   "outputs": [
    {
     "name": "stdout",
     "output_type": "stream",
     "text": [
      "<class 'bool'>\n",
      "<class 'bool'>\n"
     ]
    }
   ],
   "source": [
    "print(type(True))\n",
    "print(type(False))"
   ]
  },
  {
   "cell_type": "code",
   "execution_count": 39,
   "id": "87b5d25e",
   "metadata": {
    "ExecuteTime": {
     "end_time": "2022-02-15T13:10:33.204963Z",
     "start_time": "2022-02-15T13:10:33.192298Z"
    }
   },
   "outputs": [
    {
     "data": {
      "text/plain": [
       "20"
      ]
     },
     "execution_count": 39,
     "metadata": {},
     "output_type": "execute_result"
    }
   ],
   "source": [
    "a = 30\n",
    "a\n",
    "b = 20\n",
    "b"
   ]
  },
  {
   "cell_type": "code",
   "execution_count": 42,
   "id": "f63bea42",
   "metadata": {
    "ExecuteTime": {
     "end_time": "2022-02-15T13:11:29.110338Z",
     "start_time": "2022-02-15T13:11:29.097672Z"
    }
   },
   "outputs": [
    {
     "name": "stdout",
     "output_type": "stream",
     "text": [
      "1000\n"
     ]
    },
    {
     "data": {
      "text/plain": [
       "1000"
      ]
     },
     "execution_count": 42,
     "metadata": {},
     "output_type": "execute_result"
    }
   ],
   "source": [
    "n = 1000\n",
    "print(n)\n",
    "n "
   ]
  },
  {
   "cell_type": "code",
   "execution_count": 48,
   "id": "3e05cf59",
   "metadata": {
    "ExecuteTime": {
     "end_time": "2022-02-15T13:13:35.664073Z",
     "start_time": "2022-02-15T13:13:35.653433Z"
    }
   },
   "outputs": [
    {
     "name": "stdout",
     "output_type": "stream",
     "text": [
      "300 300 300\n",
      "300\n",
      "300\n",
      "300\n"
     ]
    }
   ],
   "source": [
    "d = e = f = 300\n",
    "print(d, e, f)\n",
    "print(d)\n",
    "print(e)\n",
    "print(f)"
   ]
  },
  {
   "cell_type": "code",
   "execution_count": 53,
   "id": "687cd2d8",
   "metadata": {
    "ExecuteTime": {
     "end_time": "2022-02-15T13:16:11.860354Z",
     "start_time": "2022-02-15T13:16:11.848702Z"
    }
   },
   "outputs": [
    {
     "name": "stdout",
     "output_type": "stream",
     "text": [
      "23.5 <class 'float'>\n",
      "Now I'm a string <class 'str'>\n"
     ]
    }
   ],
   "source": [
    "var = 23.5\n",
    "print(var, type(var))\n",
    "var = \"Now I'm a string\"\n",
    "print(var, type(var))"
   ]
  },
  {
   "cell_type": "code",
   "execution_count": 57,
   "id": "86de808a",
   "metadata": {
    "ExecuteTime": {
     "end_time": "2022-02-15T13:17:25.919465Z",
     "start_time": "2022-02-15T13:17:25.910853Z"
    }
   },
   "outputs": [
    {
     "name": "stdout",
     "output_type": "stream",
     "text": [
      "RAIN RAINA\n"
     ]
    }
   ],
   "source": [
    "# Variable name\n",
    "name = \"RAIN\"\n",
    "NAME = \"RAINA\"\n",
    "print(name, NAME)"
   ]
  },
  {
   "cell_type": "code",
   "execution_count": 59,
   "id": "1834ad4a",
   "metadata": {
    "ExecuteTime": {
     "end_time": "2022-02-15T13:19:34.847418Z",
     "start_time": "2022-02-15T13:19:34.834752Z"
    }
   },
   "outputs": [
    {
     "name": "stdout",
     "output_type": "stream",
     "text": [
      "1 2 3 4 5\n"
     ]
    }
   ],
   "source": [
    "age = 1\n",
    "Age = 2\n",
    "aGe = 3\n",
    "AGE = 4\n",
    "a_g_e = 5\n",
    "_age = 6\n",
    "age_ = 7\n",
    "_AGE_ = 8\n",
    "print(age, Age, aGe, AGE, a_g_e)"
   ]
  },
  {
   "cell_type": "code",
   "execution_count": 63,
   "id": "6e44a4e3",
   "metadata": {
    "ExecuteTime": {
     "end_time": "2022-02-15T13:21:53.159055Z",
     "start_time": "2022-02-15T13:21:53.152469Z"
    }
   },
   "outputs": [],
   "source": [
    "# 9_kepala_ular = True\n",
    "kepala_naga_9 = True\n",
    "\n",
    "# Yang atas salah, yang bawah benar"
   ]
  },
  {
   "cell_type": "code",
   "execution_count": 65,
   "id": "28ffc211",
   "metadata": {
    "ExecuteTime": {
     "end_time": "2022-02-15T13:24:53.138962Z",
     "start_time": "2022-02-15T13:24:53.129334Z"
    }
   },
   "outputs": [
    {
     "name": "stdout",
     "output_type": "stream",
     "text": [
      "camelCase PascalCase snake_case\n"
     ]
    }
   ],
   "source": [
    "camelCase = 'camelCase'\n",
    "PascalCase = 'PascalCase'\n",
    "snake_case = 'snake_case'\n",
    "print(camelCase, PascalCase, snake_case)"
   ]
  },
  {
   "cell_type": "code",
   "execution_count": 69,
   "id": "becdfe9b",
   "metadata": {
    "ExecuteTime": {
     "end_time": "2022-02-15T13:25:58.544857Z",
     "start_time": "2022-02-15T13:25:58.535736Z"
    }
   },
   "outputs": [
    {
     "name": "stdout",
     "output_type": "stream",
     "text": [
      "a + b - 5 = 15\n"
     ]
    }
   ],
   "source": [
    "a = 10\n",
    "b = 10\n",
    "print(\"a + b - 5 =\", a + b - 5)"
   ]
  },
  {
   "cell_type": "code",
   "execution_count": 77,
   "id": "89f02da0",
   "metadata": {
    "ExecuteTime": {
     "end_time": "2022-02-15T13:33:40.575098Z",
     "start_time": "2022-02-15T13:33:40.560407Z"
    }
   },
   "outputs": [
    {
     "name": "stdout",
     "output_type": "stream",
     "text": [
      "10\n",
      "4\n",
      "21\n",
      "2.3333333333333335\n",
      "2\n",
      "1\n",
      "343\n"
     ]
    }
   ],
   "source": [
    "a = 7\n",
    "b = 3\n",
    "print(a + b)\n",
    "print(a - b)\n",
    "print(a * b)\n",
    "print(a / b)\n",
    "print(a // b)\n",
    "print(a % b)\n",
    "print(a ** b)"
   ]
  },
  {
   "cell_type": "code",
   "execution_count": 79,
   "id": "6fba2cad",
   "metadata": {
    "ExecuteTime": {
     "end_time": "2022-02-15T13:35:03.276507Z",
     "start_time": "2022-02-15T13:35:03.266373Z"
    }
   },
   "outputs": [
    {
     "name": "stdout",
     "output_type": "stream",
     "text": [
      "2.0\n"
     ]
    }
   ],
   "source": [
    "print(10/5)"
   ]
  },
  {
   "cell_type": "code",
   "execution_count": 81,
   "id": "5f305bda",
   "metadata": {
    "ExecuteTime": {
     "end_time": "2022-02-15T13:37:20.101588Z",
     "start_time": "2022-02-15T13:37:20.091453Z"
    }
   },
   "outputs": [
    {
     "name": "stdout",
     "output_type": "stream",
     "text": [
      "False True True False\n"
     ]
    }
   ],
   "source": [
    "a = 10\n",
    "b = 20\n",
    "print(a == b, a != b, a <= b, a >= b)"
   ]
  },
  {
   "cell_type": "code",
   "execution_count": 83,
   "id": "fe65c263",
   "metadata": {
    "ExecuteTime": {
     "end_time": "2022-02-15T13:40:05.398271Z",
     "start_time": "2022-02-15T13:40:05.387122Z"
    }
   },
   "outputs": [
    {
     "name": "stdout",
     "output_type": "stream",
     "text": [
      "True False True True\n"
     ]
    }
   ],
   "source": [
    "a = 20\n",
    "b = 20\n",
    "print(a == b, a != b, a <= b, a >= b)"
   ]
  },
  {
   "cell_type": "code",
   "execution_count": 86,
   "id": "e83f1333",
   "metadata": {
    "ExecuteTime": {
     "end_time": "2022-02-15T13:41:08.286000Z",
     "start_time": "2022-02-15T13:41:08.271306Z"
    }
   },
   "outputs": [
    {
     "name": "stdout",
     "output_type": "stream",
     "text": [
      "foobar\n",
      "foobarbaz\n"
     ]
    }
   ],
   "source": [
    "s = 'foo'\n",
    "t = 'bar'\n",
    "u = 'baz'\n",
    "stu = s + t + u\n",
    "print(s + t)\n",
    "print (stu)"
   ]
  },
  {
   "cell_type": "code",
   "execution_count": 89,
   "id": "39e59316",
   "metadata": {
    "ExecuteTime": {
     "end_time": "2022-02-15T13:58:49.413381Z",
     "start_time": "2022-02-15T13:58:49.403249Z"
    }
   },
   "outputs": [
    {
     "data": {
      "text/plain": [
       "'Hacktiv8foobarbaz'"
      ]
     },
     "execution_count": 89,
     "metadata": {},
     "output_type": "execute_result"
    }
   ],
   "source": [
    "concantenated_string = 'Hacktiv8' + stu\n",
    "concantenated_string"
   ]
  },
  {
   "cell_type": "code",
   "execution_count": 7,
   "id": "c9020e10",
   "metadata": {
    "ExecuteTime": {
     "end_time": "2022-02-15T14:11:54.282378Z",
     "start_time": "2022-02-15T14:11:54.267684Z"
    }
   },
   "outputs": [
    {
     "name": "stdout",
     "output_type": "stream",
     "text": [
      "foo bar baz qux\n",
      "qux baz bar foo\n",
      "['foo', 'bar', 'baz', 'qux', 'grault', 'garply']\n",
      "['foo', 'bar', 'baz', 'qux', 'foo', 'bar', 'baz', 'qux']\n"
     ]
    }
   ],
   "source": [
    "a = ['foo', 'bar', 'baz', \"qux\"]\n",
    "print(a[0], a[1], a[2], a[3])\n",
    "print(a[-1], a[-2], a[-3], a[-4])\n",
    "print(a + ['grault' , 'garply'])\n",
    "print(a*2)"
   ]
  },
  {
   "cell_type": "code",
   "execution_count": 8,
   "id": "de885e7e",
   "metadata": {
    "ExecuteTime": {
     "end_time": "2022-02-15T14:12:48.087912Z",
     "start_time": "2022-02-15T14:12:48.078792Z"
    }
   },
   "outputs": [
    {
     "name": "stdout",
     "output_type": "stream",
     "text": [
      "['baz', 'qux', 'quox']\n"
     ]
    }
   ],
   "source": [
    "# slicing\n",
    "a = ['foo', 'bar', 'baz', \"qux\", \"quox\", \"ratata\"]\n",
    "print(a[2:5])"
   ]
  },
  {
   "cell_type": "code",
   "execution_count": 10,
   "id": "39701875",
   "metadata": {
    "ExecuteTime": {
     "end_time": "2022-02-15T14:15:19.515431Z",
     "start_time": "2022-02-15T14:15:19.504287Z"
    }
   },
   "outputs": [
    {
     "name": "stdout",
     "output_type": "stream",
     "text": [
      "6\n",
      "bar\n",
      "ratata\n"
     ]
    }
   ],
   "source": [
    "a = ['foo', 'bar', 'baz', \"qux\", \"quox\", \"ratata\"]\n",
    "print(len(a))\n",
    "print(min(a))\n",
    "print(max(a))"
   ]
  },
  {
   "cell_type": "code",
   "execution_count": 16,
   "id": "fbbdfe4f",
   "metadata": {
    "ExecuteTime": {
     "end_time": "2022-02-15T14:17:20.735596Z",
     "start_time": "2022-02-15T14:17:20.723945Z"
    }
   },
   "outputs": [
    {
     "name": "stdout",
     "output_type": "stream",
     "text": [
      "5\n",
      "12\n",
      "300\n",
      "[12, 45, 22, 77]\n"
     ]
    }
   ],
   "source": [
    "coins = [12, 300, 45, 22, 77]\n",
    "print(len(coins))\n",
    "print(min(coins))\n",
    "print(max(coins))\n",
    "del(coins[1])\n",
    "print(coins)"
   ]
  },
  {
   "cell_type": "code",
   "execution_count": 23,
   "id": "0e00075f",
   "metadata": {
    "ExecuteTime": {
     "end_time": "2022-02-15T14:21:27.589637Z",
     "start_time": "2022-02-15T14:21:27.578490Z"
    }
   },
   "outputs": [
    {
     "name": "stdout",
     "output_type": "stream",
     "text": [
      "['foo', 'bar', 'baz', 'qux', 'quox', 'ratata']\n",
      "['foo', 1.1, 2.2, 3.3, 4.4, 5.5, 'quox', 'ratata']\n"
     ]
    }
   ],
   "source": [
    "a = ['foo', 'bar', 'baz', \"qux\", \"quox\", \"ratata\"]\n",
    "print(a)\n",
    "a[1:4] = [1.1, 2.2, 3.3, 4.4, 5.5]\n",
    "print(a)"
   ]
  },
  {
   "cell_type": "code",
   "execution_count": 28,
   "id": "ea7042c0",
   "metadata": {
    "ExecuteTime": {
     "end_time": "2022-02-15T14:26:47.008151Z",
     "start_time": "2022-02-15T14:26:46.999031Z"
    }
   },
   "outputs": [
    {
     "name": "stdout",
     "output_type": "stream",
     "text": [
      "('foo', 'bar', 'baz', 'qux', 'quux', 'corge') <class 'tuple'>\n"
     ]
    }
   ],
   "source": [
    "t = ('foo', 'bar', 'baz', 'qux', 'quux', 'corge')\n",
    "print(t, type(t))"
   ]
  },
  {
   "cell_type": "code",
   "execution_count": 30,
   "id": "60f1a5d8",
   "metadata": {
    "ExecuteTime": {
     "end_time": "2022-02-15T14:27:37.995199Z",
     "start_time": "2022-02-15T14:27:37.983040Z"
    }
   },
   "outputs": [
    {
     "name": "stdout",
     "output_type": "stream",
     "text": [
      "<class 'tuple'>\n",
      "<class 'int'>\n"
     ]
    }
   ],
   "source": [
    "single_t = (10,)\n",
    "print(type(single_t))\n",
    "single_t = (10)\n",
    "print(type(single_t))"
   ]
  },
  {
   "cell_type": "code",
   "execution_count": 33,
   "id": "231bee27",
   "metadata": {
    "ExecuteTime": {
     "end_time": "2022-02-15T14:31:02.059839Z",
     "start_time": "2022-02-15T14:31:02.047172Z"
    }
   },
   "outputs": [
    {
     "data": {
      "text/plain": [
       "'foo'"
      ]
     },
     "execution_count": 33,
     "metadata": {},
     "output_type": "execute_result"
    }
   ],
   "source": [
    "#packing and unpacking\n",
    "(s1, s2, s3) = ('foo', 'bar', 'bark')\n",
    "s1"
   ]
  },
  {
   "cell_type": "code",
   "execution_count": 45,
   "id": "e7148453",
   "metadata": {
    "ExecuteTime": {
     "end_time": "2022-02-15T14:39:54.763428Z",
     "start_time": "2022-02-15T14:39:54.746709Z"
    }
   },
   "outputs": [
    {
     "name": "stdout",
     "output_type": "stream",
     "text": [
      "dunia lain\n",
      "alam lain\n",
      "{'sekai': 'dunia', 'isekai': 'alam lain', 'zankoku': 'kejam', 'access': 'akses', 'phantom': 'fantomu'}\n",
      "{'sekai': 'dunia', 'isekai': 'alam lain', 'zankoku': 'kejam', 'phantom': 'fantomu'}\n",
      "benteng\n"
     ]
    }
   ],
   "source": [
    "MLB_team = {\n",
    "    'sekai' : 'dunia',\n",
    "    'isekai' : 'dunia lain',\n",
    "    'zankoku' : 'kejam',\n",
    "    'access' : 'akses'\n",
    "}\n",
    "print(MLB_team['isekai'])\n",
    "MLB_team['isekai'] = 'alam lain'\n",
    "print(MLB_team['isekai'])\n",
    "MLB_team['phantom'] = \"fantomu\"\n",
    "print(MLB_team)\n",
    "del MLB_team['access']\n",
    "print(MLB_team)\n",
    "MLB_team['shiro'] = ['benteng', 'putih']\n",
    "print(MLB_team['shiro'][0])"
   ]
  },
  {
   "cell_type": "code",
   "execution_count": 42,
   "id": "fcdc1392",
   "metadata": {
    "ExecuteTime": {
     "end_time": "2022-02-15T14:38:33.657675Z",
     "start_time": "2022-02-15T14:38:33.644501Z"
    }
   },
   "outputs": [
    {
     "data": {
      "text/plain": [
       "dict"
      ]
     },
     "execution_count": 42,
     "metadata": {},
     "output_type": "execute_result"
    }
   ],
   "source": [
    "person = {}\n",
    "type(person)\n"
   ]
  },
  {
   "cell_type": "markdown",
   "id": "85f2938f",
   "metadata": {},
   "source": [
    "Yang disamping kiri dalam kurung kotak tuh maksudnya urutan compilenya"
   ]
  }
 ],
 "metadata": {
  "kernelspec": {
   "display_name": "Python 3 (ipykernel)",
   "language": "python",
   "name": "python3"
  },
  "language_info": {
   "codemirror_mode": {
    "name": "ipython",
    "version": 3
   },
   "file_extension": ".py",
   "mimetype": "text/x-python",
   "name": "python",
   "nbconvert_exporter": "python",
   "pygments_lexer": "ipython3",
   "version": "3.9.2"
  },
  "latex_envs": {
   "LaTeX_envs_menu_present": true,
   "autoclose": false,
   "autocomplete": true,
   "bibliofile": "biblio.bib",
   "cite_by": "apalike",
   "current_citInitial": 1,
   "eqLabelWithNumbers": true,
   "eqNumInitial": 1,
   "hotkeys": {
    "equation": "Ctrl-E",
    "itemize": "Ctrl-I"
   },
   "labels_anchors": false,
   "latex_user_defs": false,
   "report_style_numbering": false,
   "user_envs_cfg": false
  },
  "toc": {
   "base_numbering": 1,
   "nav_menu": {},
   "number_sections": true,
   "sideBar": true,
   "skip_h1_title": false,
   "title_cell": "Table of Contents",
   "title_sidebar": "Contents",
   "toc_cell": false,
   "toc_position": {},
   "toc_section_display": true,
   "toc_window_display": true
  }
 },
 "nbformat": 4,
 "nbformat_minor": 5
}
