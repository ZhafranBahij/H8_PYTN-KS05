{
 "cells": [
  {
   "cell_type": "markdown",
   "id": "716b6b3d",
   "metadata": {},
   "source": [
    "# Descriptive Statistics"
   ]
  },
  {
   "cell_type": "code",
   "execution_count": 1,
   "id": "3eae25a3",
   "metadata": {
    "ExecuteTime": {
     "end_time": "2022-03-15T12:51:27.491708Z",
     "start_time": "2022-03-15T12:51:27.469920Z"
    }
   },
   "outputs": [
    {
     "name": "stdout",
     "output_type": "stream",
     "text": [
      "-1.1764705882352942\n",
      "-2.1176470588235294\n"
     ]
    }
   ],
   "source": [
    "mean_ = 50\n",
    "median_ = 56\n",
    "mode_ = 60\n",
    "stdev_ = 8.5\n",
    "\n",
    "#Pearson first Coef of Skewness\n",
    "coef_ = (mean_-mode_) / stdev_\n",
    "print(coef_)\n",
    "\n",
    "#Pearson Second Coef of Skewness\n",
    "coef_ = 3*(mean_-median_) / stdev_\n",
    "print(coef_)"
   ]
  },
  {
   "cell_type": "code",
   "execution_count": 2,
   "id": "e14f3551",
   "metadata": {
    "ExecuteTime": {
     "end_time": "2022-03-15T13:13:53.823717Z",
     "start_time": "2022-03-15T13:13:35.907082Z"
    }
   },
   "outputs": [],
   "source": [
    "import math\n",
    "import statistics\n",
    "import scipy.stats\n",
    "import pandas as pd\n",
    "import numpy as np"
   ]
  },
  {
   "cell_type": "code",
   "execution_count": 3,
   "id": "a5a8b328",
   "metadata": {
    "ExecuteTime": {
     "end_time": "2022-03-15T13:10:05.129775Z",
     "start_time": "2022-03-15T13:10:05.119137Z"
    }
   },
   "outputs": [
    {
     "name": "stdout",
     "output_type": "stream",
     "text": [
      "x:  [8.0, 1, 2.5, 4, 28.0]\n",
      "x with nan:  [8.0, 1, 2.5, nan, 4, 28.0]\n"
     ]
    }
   ],
   "source": [
    "x = [8.0, 1, 2.5, 4, 28.0]\n",
    "x_with_nan = [8.0, 1, 2.5, math.nan, 4, 28.0]\n",
    "print('x: ',x)\n",
    "print('x with nan: ', x_with_nan)"
   ]
  },
  {
   "cell_type": "code",
   "execution_count": 4,
   "id": "1488d88a",
   "metadata": {
    "ExecuteTime": {
     "end_time": "2022-03-15T13:11:29.379487Z",
     "start_time": "2022-03-15T13:11:29.260928Z"
    }
   },
   "outputs": [
    {
     "name": "stdout",
     "output_type": "stream",
     "text": [
      "[ 8.   1.   2.5  4.  28. ]\n",
      "[ 8.   1.   2.5  nan  4.  28. ]\n",
      "0     8.0\n",
      "1     1.0\n",
      "2     2.5\n",
      "3     4.0\n",
      "4    28.0\n",
      "dtype: float64\n",
      "0     8.0\n",
      "1     1.0\n",
      "2     2.5\n",
      "3     NaN\n",
      "4     4.0\n",
      "5    28.0\n",
      "dtype: float64\n"
     ]
    }
   ],
   "source": [
    "y, y_with_nan = np.array(x), np.array(x_with_nan)\n",
    "z, z_with_nan = pd.Series(x), pd.Series(x_with_nan)\n",
    "\n",
    "print(y)\n",
    "print(y_with_nan)\n",
    "print(z)\n",
    "print(z_with_nan)"
   ]
  },
  {
   "cell_type": "code",
   "execution_count": 5,
   "id": "f91a6993",
   "metadata": {
    "ExecuteTime": {
     "end_time": "2022-03-15T13:18:30.370552Z",
     "start_time": "2022-03-15T13:18:30.345217Z"
    }
   },
   "outputs": [
    {
     "data": {
      "text/plain": [
       "8.7"
      ]
     },
     "execution_count": 5,
     "metadata": {},
     "output_type": "execute_result"
    }
   ],
   "source": [
    "mean_ = sum(x) / len(x)\n",
    "mean_"
   ]
  },
  {
   "cell_type": "code",
   "execution_count": 6,
   "id": "a52647f5",
   "metadata": {
    "ExecuteTime": {
     "end_time": "2022-03-15T13:18:57.140329Z",
     "start_time": "2022-03-15T13:18:57.128170Z"
    }
   },
   "outputs": [
    {
     "data": {
      "text/plain": [
       "8.7"
      ]
     },
     "execution_count": 6,
     "metadata": {},
     "output_type": "execute_result"
    }
   ],
   "source": [
    "mean_ = statistics.mean(x)\n",
    "mean_"
   ]
  },
  {
   "cell_type": "code",
   "execution_count": 7,
   "id": "ba010f47",
   "metadata": {
    "ExecuteTime": {
     "end_time": "2022-03-15T13:20:10.379291Z",
     "start_time": "2022-03-15T13:20:10.368145Z"
    }
   },
   "outputs": [
    {
     "data": {
      "text/plain": [
       "nan"
      ]
     },
     "execution_count": 7,
     "metadata": {},
     "output_type": "execute_result"
    }
   ],
   "source": [
    "mean_ = statistics.mean(x_with_nan)\n",
    "mean_"
   ]
  },
  {
   "cell_type": "code",
   "execution_count": 8,
   "id": "49c6ddc0",
   "metadata": {
    "ExecuteTime": {
     "end_time": "2022-03-15T13:21:39.918097Z",
     "start_time": "2022-03-15T13:21:39.904419Z"
    }
   },
   "outputs": [
    {
     "data": {
      "text/plain": [
       "nan"
      ]
     },
     "execution_count": 8,
     "metadata": {},
     "output_type": "execute_result"
    }
   ],
   "source": [
    "sum(x_with_nan)"
   ]
  },
  {
   "cell_type": "code",
   "execution_count": 9,
   "id": "04042994",
   "metadata": {
    "ExecuteTime": {
     "end_time": "2022-03-15T13:22:25.154366Z",
     "start_time": "2022-03-15T13:22:25.141698Z"
    }
   },
   "outputs": [
    {
     "data": {
      "text/plain": [
       "8.7"
      ]
     },
     "execution_count": 9,
     "metadata": {},
     "output_type": "execute_result"
    }
   ],
   "source": [
    "mean_ = np.mean(y)\n",
    "mean_"
   ]
  },
  {
   "cell_type": "code",
   "execution_count": 10,
   "id": "5811fbd7",
   "metadata": {
    "ExecuteTime": {
     "end_time": "2022-03-15T13:22:45.546372Z",
     "start_time": "2022-03-15T13:22:45.533197Z"
    }
   },
   "outputs": [
    {
     "data": {
      "text/plain": [
       "8.7"
      ]
     },
     "execution_count": 10,
     "metadata": {},
     "output_type": "execute_result"
    }
   ],
   "source": [
    "mean_ = y.mean()\n",
    "mean_"
   ]
  },
  {
   "cell_type": "code",
   "execution_count": 11,
   "id": "672e5261",
   "metadata": {
    "ExecuteTime": {
     "end_time": "2022-03-15T13:23:48.122336Z",
     "start_time": "2022-03-15T13:23:48.110178Z"
    }
   },
   "outputs": [
    {
     "data": {
      "text/plain": [
       "nan"
      ]
     },
     "execution_count": 11,
     "metadata": {},
     "output_type": "execute_result"
    }
   ],
   "source": [
    "mean_ = np.mean(y_with_nan)\n",
    "mean_"
   ]
  },
  {
   "cell_type": "code",
   "execution_count": 12,
   "id": "d89e0a3d",
   "metadata": {
    "ExecuteTime": {
     "end_time": "2022-03-15T13:27:17.740958Z",
     "start_time": "2022-03-15T13:27:17.730318Z"
    }
   },
   "outputs": [
    {
     "data": {
      "text/plain": [
       "nan"
      ]
     },
     "execution_count": 12,
     "metadata": {},
     "output_type": "execute_result"
    }
   ],
   "source": [
    "mean_ = y_with_nan.mean()\n",
    "mean_"
   ]
  },
  {
   "cell_type": "code",
   "execution_count": 13,
   "id": "be799ee2",
   "metadata": {
    "ExecuteTime": {
     "end_time": "2022-03-15T13:27:40.326586Z",
     "start_time": "2022-03-15T13:27:40.262239Z"
    }
   },
   "outputs": [
    {
     "data": {
      "text/plain": [
       "8.7"
      ]
     },
     "execution_count": 13,
     "metadata": {},
     "output_type": "execute_result"
    }
   ],
   "source": [
    "mean_ = np.nanmean(y_with_nan)\n",
    "mean_"
   ]
  },
  {
   "cell_type": "code",
   "execution_count": 14,
   "id": "8c619d4a",
   "metadata": {
    "ExecuteTime": {
     "end_time": "2022-03-15T13:25:37.626970Z",
     "start_time": "2022-03-15T13:25:37.534758Z"
    }
   },
   "outputs": [
    {
     "data": {
      "text/plain": [
       "8.7"
      ]
     },
     "execution_count": 14,
     "metadata": {},
     "output_type": "execute_result"
    }
   ],
   "source": [
    "mean_ = z.mean()\n",
    "mean_"
   ]
  },
  {
   "cell_type": "code",
   "execution_count": 15,
   "id": "7e20b51f",
   "metadata": {
    "ExecuteTime": {
     "end_time": "2022-03-15T13:26:05.792382Z",
     "start_time": "2022-03-15T13:26:05.773129Z"
    }
   },
   "outputs": [
    {
     "data": {
      "text/plain": [
       "8.7"
      ]
     },
     "execution_count": 15,
     "metadata": {},
     "output_type": "execute_result"
    }
   ],
   "source": [
    "mean_ = z_with_nan.mean()\n",
    "mean_"
   ]
  },
  {
   "cell_type": "code",
   "execution_count": 16,
   "id": "5668650a",
   "metadata": {
    "ExecuteTime": {
     "end_time": "2022-03-15T13:32:13.095502Z",
     "start_time": "2022-03-15T13:32:13.084357Z"
    }
   },
   "outputs": [
    {
     "name": "stdout",
     "output_type": "stream",
     "text": [
      "6.95\n"
     ]
    }
   ],
   "source": [
    "x = [8, 1, 2.5, 4, 28.0]\n",
    "w = [0.1, 0.2, 0.3, 0.25, 0.15]\n",
    "\n",
    "wmean = sum(w[i] * x[i] for i in range(len(x))) / sum(w)\n",
    "print(wmean)"
   ]
  },
  {
   "cell_type": "code",
   "execution_count": 17,
   "id": "413f7b22",
   "metadata": {
    "ExecuteTime": {
     "end_time": "2022-03-15T13:36:33.045702Z",
     "start_time": "2022-03-15T13:36:33.032018Z"
    }
   },
   "outputs": [
    {
     "name": "stdout",
     "output_type": "stream",
     "text": [
      "6.95\n",
      "6.95\n"
     ]
    }
   ],
   "source": [
    "y, z, w = np.array(x), pd.Series(x), np.array(w)\n",
    "\n",
    "wmean = np.average(y, weights=w)\n",
    "print(wmean)\n",
    "\n",
    "wmean = np.average(z, weights=w)\n",
    "print(wmean)"
   ]
  },
  {
   "cell_type": "code",
   "execution_count": 18,
   "id": "d2be8750",
   "metadata": {
    "ExecuteTime": {
     "end_time": "2022-03-15T13:38:26.699389Z",
     "start_time": "2022-03-15T13:38:26.686723Z"
    }
   },
   "outputs": [
    {
     "data": {
      "text/plain": [
       "6.95"
      ]
     },
     "execution_count": 18,
     "metadata": {},
     "output_type": "execute_result"
    }
   ],
   "source": [
    "(w*y).sum() / w.sum()"
   ]
  },
  {
   "cell_type": "code",
   "execution_count": 19,
   "id": "c5a915cc",
   "metadata": {
    "ExecuteTime": {
     "end_time": "2022-03-15T13:43:34.453309Z",
     "start_time": "2022-03-15T13:43:34.440642Z"
    }
   },
   "outputs": [
    {
     "data": {
      "text/plain": [
       "2.7613412228796843"
      ]
     },
     "execution_count": 19,
     "metadata": {},
     "output_type": "execute_result"
    }
   ],
   "source": [
    "hmean = len(x) / sum(1 / item for item in x)\n",
    "hmean"
   ]
  },
  {
   "cell_type": "code",
   "execution_count": 20,
   "id": "f0a33fd8",
   "metadata": {
    "ExecuteTime": {
     "end_time": "2022-03-15T13:46:24.493824Z",
     "start_time": "2022-03-15T13:46:24.480651Z"
    }
   },
   "outputs": [
    {
     "data": {
      "text/plain": [
       "2.7613412228796843"
      ]
     },
     "execution_count": 20,
     "metadata": {},
     "output_type": "execute_result"
    }
   ],
   "source": [
    "hmean = statistics.harmonic_mean(x)\n",
    "hmean"
   ]
  },
  {
   "cell_type": "code",
   "execution_count": 21,
   "id": "cf4ce04b",
   "metadata": {
    "ExecuteTime": {
     "end_time": "2022-03-15T13:47:04.162068Z",
     "start_time": "2022-03-15T13:47:04.138251Z"
    }
   },
   "outputs": [
    {
     "data": {
      "text/plain": [
       "2.7613412228796843"
      ]
     },
     "execution_count": 21,
     "metadata": {},
     "output_type": "execute_result"
    }
   ],
   "source": [
    "hmean = scipy.stats.hmean(x)\n",
    "hmean"
   ]
  },
  {
   "cell_type": "code",
   "execution_count": 22,
   "id": "257fcaf6",
   "metadata": {
    "ExecuteTime": {
     "end_time": "2022-03-15T13:48:21.234724Z",
     "start_time": "2022-03-15T13:48:21.222059Z"
    }
   },
   "outputs": [
    {
     "data": {
      "text/plain": [
       "2.7613412228796843"
      ]
     },
     "execution_count": 22,
     "metadata": {},
     "output_type": "execute_result"
    }
   ],
   "source": [
    "hmean = scipy.stats.hmean(y)\n",
    "hmean"
   ]
  },
  {
   "cell_type": "code",
   "execution_count": 23,
   "id": "a508b1a0",
   "metadata": {
    "ExecuteTime": {
     "end_time": "2022-03-15T13:48:27.493817Z",
     "start_time": "2022-03-15T13:48:27.479126Z"
    }
   },
   "outputs": [
    {
     "data": {
      "text/plain": [
       "2.7613412228796843"
      ]
     },
     "execution_count": 23,
     "metadata": {},
     "output_type": "execute_result"
    }
   ],
   "source": [
    "hmean = scipy.stats.hmean(z)\n",
    "hmean"
   ]
  },
  {
   "cell_type": "code",
   "execution_count": 24,
   "id": "396e2fb7",
   "metadata": {
    "ExecuteTime": {
     "end_time": "2022-03-15T13:55:45.050697Z",
     "start_time": "2022-03-15T13:55:45.038028Z"
    }
   },
   "outputs": [
    {
     "data": {
      "text/plain": [
       "4.677885674856041"
      ]
     },
     "execution_count": 24,
     "metadata": {},
     "output_type": "execute_result"
    }
   ],
   "source": [
    "gmean = 1\n",
    "for item in x:\n",
    "    gmean *= item\n",
    "\n",
    "gmean **= 1 / len(x)\n",
    "gmean"
   ]
  },
  {
   "cell_type": "code",
   "execution_count": 25,
   "id": "c9a95c43",
   "metadata": {
    "ExecuteTime": {
     "end_time": "2022-03-15T13:58:14.904340Z",
     "start_time": "2022-03-15T13:58:14.861780Z"
    }
   },
   "outputs": [
    {
     "data": {
      "text/plain": [
       "4.67788567485604"
      ]
     },
     "execution_count": 25,
     "metadata": {},
     "output_type": "execute_result"
    }
   ],
   "source": [
    "gmean = scipy.stats.gmean(y)\n",
    "gmean"
   ]
  },
  {
   "cell_type": "code",
   "execution_count": 26,
   "id": "2bf20c36",
   "metadata": {
    "ExecuteTime": {
     "end_time": "2022-03-15T13:58:56.927337Z",
     "start_time": "2022-03-15T13:58:56.913658Z"
    }
   },
   "outputs": [
    {
     "data": {
      "text/plain": [
       "4.67788567485604"
      ]
     },
     "execution_count": 26,
     "metadata": {},
     "output_type": "execute_result"
    }
   ],
   "source": [
    "gmean = scipy.stats.gmean(z)\n",
    "gmean"
   ]
  },
  {
   "cell_type": "code",
   "execution_count": 27,
   "id": "e9777fa5",
   "metadata": {
    "ExecuteTime": {
     "end_time": "2022-03-15T14:07:34.560477Z",
     "start_time": "2022-03-15T14:07:34.547305Z"
    }
   },
   "outputs": [
    {
     "data": {
      "text/plain": [
       "4"
      ]
     },
     "execution_count": 27,
     "metadata": {},
     "output_type": "execute_result"
    }
   ],
   "source": [
    "n = len(x)\n",
    "if n%2:\n",
    "    median_ = sorted(x)[round(0.5*(n-1))]\n",
    "else:\n",
    "    x_ord, index = sorted(x), round(0.5*n)\n",
    "    median_ = 0.5*(x_ord[index-1] + x_ord[index])\n",
    "\n",
    "median_"
   ]
  },
  {
   "cell_type": "code",
   "execution_count": 28,
   "id": "bd0ae4d6",
   "metadata": {
    "ExecuteTime": {
     "end_time": "2022-03-15T14:09:52.533109Z",
     "start_time": "2022-03-15T14:09:52.518924Z"
    }
   },
   "outputs": [
    {
     "name": "stdout",
     "output_type": "stream",
     "text": [
      "2.5\n",
      "4\n"
     ]
    }
   ],
   "source": [
    "median_low= statistics.median_low(x[:-1])\n",
    "print(median_low)\n",
    "\n",
    "median_high= statistics.median_high(x[:-1])\n",
    "print(median_high)"
   ]
  },
  {
   "cell_type": "code",
   "execution_count": 29,
   "id": "1850cafd",
   "metadata": {
    "ExecuteTime": {
     "end_time": "2022-03-15T14:10:40.946655Z",
     "start_time": "2022-03-15T14:10:40.927399Z"
    }
   },
   "outputs": [
    {
     "data": {
      "text/plain": [
       "4"
      ]
     },
     "execution_count": 29,
     "metadata": {},
     "output_type": "execute_result"
    }
   ],
   "source": [
    "median_low = statistics.median_low(x)\n",
    "median_low"
   ]
  },
  {
   "cell_type": "code",
   "execution_count": 30,
   "id": "22f47976",
   "metadata": {
    "ExecuteTime": {
     "end_time": "2022-03-15T14:11:13.543004Z",
     "start_time": "2022-03-15T14:11:13.532874Z"
    }
   },
   "outputs": [
    {
     "data": {
      "text/plain": [
       "4"
      ]
     },
     "execution_count": 30,
     "metadata": {},
     "output_type": "execute_result"
    }
   ],
   "source": [
    "median_ = statistics.median(x)\n",
    "median_"
   ]
  },
  {
   "cell_type": "code",
   "execution_count": 31,
   "id": "612654ac",
   "metadata": {
    "ExecuteTime": {
     "end_time": "2022-03-15T14:12:14.436313Z",
     "start_time": "2022-03-15T14:12:14.424153Z"
    }
   },
   "outputs": [
    {
     "data": {
      "text/plain": [
       "[8.0, 1, 2.5, nan, 4, 28.0]"
      ]
     },
     "execution_count": 31,
     "metadata": {},
     "output_type": "execute_result"
    }
   ],
   "source": [
    "x_with_nan"
   ]
  },
  {
   "cell_type": "code",
   "execution_count": 32,
   "id": "13674067",
   "metadata": {
    "ExecuteTime": {
     "end_time": "2022-03-15T14:13:06.725733Z",
     "start_time": "2022-03-15T14:13:06.715088Z"
    }
   },
   "outputs": [
    {
     "name": "stdout",
     "output_type": "stream",
     "text": [
      "6.0\n",
      "4\n",
      "8.0\n"
     ]
    }
   ],
   "source": [
    "print(statistics.median(x_with_nan))\n",
    "print(statistics.median_low(x_with_nan))\n",
    "print(statistics.median_high(x_with_nan))"
   ]
  },
  {
   "cell_type": "code",
   "execution_count": 33,
   "id": "0c223935",
   "metadata": {
    "ExecuteTime": {
     "end_time": "2022-03-15T14:14:08.635016Z",
     "start_time": "2022-03-15T14:14:08.542296Z"
    }
   },
   "outputs": [
    {
     "data": {
      "text/plain": [
       "4.0"
      ]
     },
     "execution_count": 33,
     "metadata": {},
     "output_type": "execute_result"
    }
   ],
   "source": [
    "median_ = np.median(y)\n",
    "median_"
   ]
  },
  {
   "cell_type": "code",
   "execution_count": 34,
   "id": "b582b55e",
   "metadata": {
    "ExecuteTime": {
     "end_time": "2022-03-15T14:14:59.353685Z",
     "start_time": "2022-03-15T14:14:59.343044Z"
    }
   },
   "outputs": [
    {
     "data": {
      "text/plain": [
       "3.25"
      ]
     },
     "execution_count": 34,
     "metadata": {},
     "output_type": "execute_result"
    }
   ],
   "source": [
    "median_ = np.median(y[:-1])\n",
    "median_"
   ]
  },
  {
   "cell_type": "code",
   "execution_count": 35,
   "id": "3bebceec",
   "metadata": {
    "ExecuteTime": {
     "end_time": "2022-03-15T14:20:48.451005Z",
     "start_time": "2022-03-15T14:20:48.433274Z"
    }
   },
   "outputs": [
    {
     "data": {
      "text/plain": [
       "2"
      ]
     },
     "execution_count": 35,
     "metadata": {},
     "output_type": "execute_result"
    }
   ],
   "source": [
    "u = [2,3,2,8,12]\n",
    "v = [12,15,12,15,21,15,12]\n",
    "\n",
    "mode_ = max((u.count(item), item) for item in set (u))[1]\n",
    "mode_"
   ]
  },
  {
   "cell_type": "code",
   "execution_count": 36,
   "id": "4bb0d8ec",
   "metadata": {
    "ExecuteTime": {
     "end_time": "2022-03-15T14:16:56.457478Z",
     "start_time": "2022-03-15T14:16:56.445824Z"
    }
   },
   "outputs": [
    {
     "data": {
      "text/plain": [
       "2"
      ]
     },
     "execution_count": 36,
     "metadata": {},
     "output_type": "execute_result"
    }
   ],
   "source": [
    "mode_ = statistics.mode(u)\n",
    "mode_"
   ]
  },
  {
   "cell_type": "code",
   "execution_count": 37,
   "id": "dc283e4b",
   "metadata": {
    "ExecuteTime": {
     "end_time": "2022-03-15T14:20:51.151348Z",
     "start_time": "2022-03-15T14:20:51.137161Z"
    }
   },
   "outputs": [
    {
     "data": {
      "text/plain": [
       "ModeResult(mode=array([2]), count=array([2]))"
      ]
     },
     "execution_count": 37,
     "metadata": {},
     "output_type": "execute_result"
    }
   ],
   "source": [
    "u,v = np.array(u), np.array(v)\n",
    "\n",
    "mode_ = scipy.stats.mode(u)\n",
    "mode_"
   ]
  },
  {
   "cell_type": "code",
   "execution_count": 38,
   "id": "cec952f8",
   "metadata": {
    "ExecuteTime": {
     "end_time": "2022-03-15T14:20:40.585108Z",
     "start_time": "2022-03-15T14:20:40.568390Z"
    }
   },
   "outputs": [
    {
     "data": {
      "text/plain": [
       "ModeResult(mode=array([15]), count=array([6]))"
      ]
     },
     "execution_count": 38,
     "metadata": {},
     "output_type": "execute_result"
    }
   ],
   "source": [
    "vv = [12,15,12,15,21,15,12,12,12,15,15,15]\n",
    "\n",
    "u,vv = np.array(u), np.array(vv)\n",
    "\n",
    "mode_ = scipy.stats.mode(vv)\n",
    "mode_"
   ]
  },
  {
   "cell_type": "code",
   "execution_count": 39,
   "id": "6c6eec04",
   "metadata": {
    "ExecuteTime": {
     "end_time": "2022-03-15T14:20:15.633504Z",
     "start_time": "2022-03-15T14:20:15.623374Z"
    }
   },
   "outputs": [
    {
     "name": "stdout",
     "output_type": "stream",
     "text": [
      "[15]\n",
      "[6]\n"
     ]
    }
   ],
   "source": [
    "print(mode_.mode)\n",
    "print(mode_.count)"
   ]
  },
  {
   "cell_type": "code",
   "execution_count": 40,
   "id": "2136014e",
   "metadata": {
    "ExecuteTime": {
     "end_time": "2022-03-15T14:20:56.942525Z",
     "start_time": "2022-03-15T14:20:56.931380Z"
    }
   },
   "outputs": [
    {
     "data": {
      "text/plain": [
       "array([12, 15, 12, 15, 21, 15, 12])"
      ]
     },
     "execution_count": 40,
     "metadata": {},
     "output_type": "execute_result"
    }
   ],
   "source": [
    "v"
   ]
  },
  {
   "cell_type": "code",
   "execution_count": 41,
   "id": "6edc77fd",
   "metadata": {
    "ExecuteTime": {
     "end_time": "2022-03-15T14:22:08.535549Z",
     "start_time": "2022-03-15T14:22:08.383548Z"
    }
   },
   "outputs": [
    {
     "name": "stdout",
     "output_type": "stream",
     "text": [
      "0    2\n",
      "dtype: int32\n",
      "0    12\n",
      "1    15\n",
      "dtype: int32\n",
      "0    2.0\n",
      "dtype: float64\n"
     ]
    }
   ],
   "source": [
    "u, v, w = pd.Series(u), pd.Series(v), pd.Series([2,2,math.nan])\n",
    "\n",
    "print(u.mode())\n",
    "print(v.mode())\n",
    "print(w.mode())"
   ]
  },
  {
   "cell_type": "code",
   "execution_count": 42,
   "id": "1b632218",
   "metadata": {
    "ExecuteTime": {
     "end_time": "2022-03-15T14:22:16.148314Z",
     "start_time": "2022-03-15T14:22:16.126022Z"
    }
   },
   "outputs": [
    {
     "data": {
      "text/plain": [
       "0    12\n",
       "1    15\n",
       "2    12\n",
       "3    15\n",
       "4    21\n",
       "5    15\n",
       "6    12\n",
       "dtype: int32"
      ]
     },
     "execution_count": 42,
     "metadata": {},
     "output_type": "execute_result"
    }
   ],
   "source": [
    "v"
   ]
  },
  {
   "cell_type": "code",
   "execution_count": 43,
   "id": "fc7e82ac",
   "metadata": {
    "ExecuteTime": {
     "end_time": "2022-03-15T14:27:08.740949Z",
     "start_time": "2022-03-15T14:27:08.725241Z"
    }
   },
   "outputs": [
    {
     "data": {
      "text/plain": [
       "123.19999999999999"
      ]
     },
     "execution_count": 43,
     "metadata": {},
     "output_type": "execute_result"
    }
   ],
   "source": [
    "n = len(x)\n",
    "\n",
    "mean_ = sum(x)/n\n",
    "\n",
    "var_ = sum((item - mean_)**2 for item in x) / (n-1)\n",
    "var_"
   ]
  },
  {
   "cell_type": "code",
   "execution_count": 44,
   "id": "068c0d75",
   "metadata": {
    "ExecuteTime": {
     "end_time": "2022-03-15T14:27:30.572169Z",
     "start_time": "2022-03-15T14:27:30.561021Z"
    }
   },
   "outputs": [
    {
     "data": {
      "text/plain": [
       "123.2"
      ]
     },
     "execution_count": 44,
     "metadata": {},
     "output_type": "execute_result"
    }
   ],
   "source": [
    "var_ = statistics.variance(x)\n",
    "var_"
   ]
  },
  {
   "cell_type": "code",
   "execution_count": 45,
   "id": "8b117811",
   "metadata": {
    "ExecuteTime": {
     "end_time": "2022-03-15T14:28:16.601552Z",
     "start_time": "2022-03-15T14:28:16.586860Z"
    }
   },
   "outputs": [
    {
     "data": {
      "text/plain": [
       "123.19999999999999"
      ]
     },
     "execution_count": 45,
     "metadata": {},
     "output_type": "execute_result"
    }
   ],
   "source": [
    "var_ = np.var(y, ddof=1)\n",
    "var_"
   ]
  },
  {
   "cell_type": "code",
   "execution_count": 46,
   "id": "f3545f16",
   "metadata": {
    "ExecuteTime": {
     "end_time": "2022-03-15T14:30:20.484270Z",
     "start_time": "2022-03-15T14:30:20.473633Z"
    }
   },
   "outputs": [
    {
     "data": {
      "text/plain": [
       "123.19999999999999"
      ]
     },
     "execution_count": 46,
     "metadata": {},
     "output_type": "execute_result"
    }
   ],
   "source": [
    "var_ = y.var(ddof=1)\n",
    "var_"
   ]
  },
  {
   "cell_type": "code",
   "execution_count": 47,
   "id": "6adf0073",
   "metadata": {
    "ExecuteTime": {
     "end_time": "2022-03-15T14:34:15.141912Z",
     "start_time": "2022-03-15T14:34:15.127728Z"
    }
   },
   "outputs": [
    {
     "data": {
      "text/plain": [
       "123.19999999999999"
      ]
     },
     "execution_count": 47,
     "metadata": {},
     "output_type": "execute_result"
    }
   ],
   "source": [
    "var_ = z.var(ddof=1)\n",
    "var_"
   ]
  },
  {
   "cell_type": "code",
   "execution_count": 48,
   "id": "df47ccc9",
   "metadata": {
    "ExecuteTime": {
     "end_time": "2022-03-15T14:37:57.091556Z",
     "start_time": "2022-03-15T14:37:57.081927Z"
    }
   },
   "outputs": [
    {
     "data": {
      "text/plain": [
       "11.099549540409285"
      ]
     },
     "execution_count": 48,
     "metadata": {},
     "output_type": "execute_result"
    }
   ],
   "source": [
    "std_ = var_**0.5\n",
    "std_"
   ]
  },
  {
   "cell_type": "code",
   "execution_count": 49,
   "id": "250bbdc8",
   "metadata": {
    "ExecuteTime": {
     "end_time": "2022-03-15T14:39:23.602469Z",
     "start_time": "2022-03-15T14:39:23.588791Z"
    }
   },
   "outputs": [
    {
     "data": {
      "text/plain": [
       "11.099549540409287"
      ]
     },
     "execution_count": 49,
     "metadata": {},
     "output_type": "execute_result"
    }
   ],
   "source": [
    "std_ = statistics.stdev(x)\n",
    "std_"
   ]
  },
  {
   "cell_type": "code",
   "execution_count": 50,
   "id": "bbe0acaf",
   "metadata": {
    "ExecuteTime": {
     "end_time": "2022-03-15T14:41:15.489823Z",
     "start_time": "2022-03-15T14:41:15.476652Z"
    }
   },
   "outputs": [
    {
     "data": {
      "text/plain": [
       "11.099549540409285"
      ]
     },
     "execution_count": 50,
     "metadata": {},
     "output_type": "execute_result"
    }
   ],
   "source": [
    "std_ = np.std(y, ddof=1)\n",
    "std_"
   ]
  },
  {
   "cell_type": "code",
   "execution_count": 51,
   "id": "bfacc723",
   "metadata": {
    "ExecuteTime": {
     "end_time": "2022-03-15T14:42:20.222779Z",
     "start_time": "2022-03-15T14:42:20.211124Z"
    }
   },
   "outputs": [
    {
     "data": {
      "text/plain": [
       "11.099549540409285"
      ]
     },
     "execution_count": 51,
     "metadata": {},
     "output_type": "execute_result"
    }
   ],
   "source": [
    "std_ = y.std(ddof=1)\n",
    "std_"
   ]
  },
  {
   "cell_type": "code",
   "execution_count": 52,
   "id": "ee78e0a2",
   "metadata": {
    "ExecuteTime": {
     "end_time": "2022-03-15T14:46:55.586823Z",
     "start_time": "2022-03-15T14:46:55.576184Z"
    }
   },
   "outputs": [],
   "source": [
    "x = [8, 1, 2.5, 4, 28.0]\n",
    "\n",
    "n = len(x)\n",
    "\n",
    "mean_ = sum(x)/n\n",
    "\n",
    "var_ = sum((item - mean_)**2 for item in x) / (n-1)\n",
    "std_ = var_ ** 0.5\n"
   ]
  },
  {
   "cell_type": "code",
   "execution_count": 53,
   "id": "82f03584",
   "metadata": {
    "ExecuteTime": {
     "end_time": "2022-03-15T14:49:27.037107Z",
     "start_time": "2022-03-15T14:49:27.021907Z"
    }
   },
   "outputs": [
    {
     "data": {
      "text/plain": [
       "1.9470432273905927"
      ]
     },
     "execution_count": 53,
     "metadata": {},
     "output_type": "execute_result"
    }
   ],
   "source": [
    "y, y_with_nan = np.array(x), np.array(x_with_nan)\n",
    "\n",
    "skew_ = scipy.stats.skew(y, bias=False)\n",
    "skew_"
   ]
  },
  {
   "cell_type": "code",
   "execution_count": 54,
   "id": "aa01ab71",
   "metadata": {
    "ExecuteTime": {
     "end_time": "2022-03-15T14:50:24.814652Z",
     "start_time": "2022-03-15T14:50:24.797935Z"
    }
   },
   "outputs": [
    {
     "data": {
      "text/plain": [
       "(masked_array(data=1.94704323,\n",
       "              mask=False,\n",
       "        fill_value=1e+20),)"
      ]
     },
     "execution_count": 54,
     "metadata": {},
     "output_type": "execute_result"
    }
   ],
   "source": [
    "skew_ = scipy.stats.skew(y_with_nan, bias=False, nan_policy='omit'),\n",
    "skew_"
   ]
  },
  {
   "cell_type": "code",
   "execution_count": 55,
   "id": "36867535",
   "metadata": {
    "ExecuteTime": {
     "end_time": "2022-03-15T14:49:03.239511Z",
     "start_time": "2022-03-15T14:49:03.225324Z"
    }
   },
   "outputs": [
    {
     "data": {
      "text/plain": [
       "1.9470432273905924"
      ]
     },
     "execution_count": 55,
     "metadata": {},
     "output_type": "execute_result"
    }
   ],
   "source": [
    "z, z_with_nan = pd.Series(x), pd.Series(x_with_nan)\n",
    "\n",
    "z.skew()"
   ]
  },
  {
   "cell_type": "code",
   "execution_count": 56,
   "id": "11d7ac9a",
   "metadata": {
    "ExecuteTime": {
     "end_time": "2022-03-15T14:50:47.929160Z",
     "start_time": "2022-03-15T14:50:47.916486Z"
    }
   },
   "outputs": [
    {
     "data": {
      "text/plain": [
       "(nan,)"
      ]
     },
     "execution_count": 56,
     "metadata": {},
     "output_type": "execute_result"
    }
   ],
   "source": [
    "skew_ = scipy.stats.skew(y_with_nan, bias=False, nan_policy='propagate'),\n",
    "skew_"
   ]
  },
  {
   "cell_type": "code",
   "execution_count": 57,
   "id": "b190ff7d",
   "metadata": {
    "ExecuteTime": {
     "end_time": "2022-03-15T14:53:27.154018Z",
     "start_time": "2022-03-15T14:53:27.141350Z"
    }
   },
   "outputs": [
    {
     "data": {
      "text/plain": [
       "[8.0]"
      ]
     },
     "execution_count": 57,
     "metadata": {},
     "output_type": "execute_result"
    }
   ],
   "source": [
    "x = [-5.0, -1.1, 0.1, 2.0, 8.0, 12.0, 21.0, 25.8, 41.0]\n",
    "statistics.quantiles(x, n=2)"
   ]
  },
  {
   "cell_type": "code",
   "execution_count": 58,
   "id": "9ce0a823",
   "metadata": {
    "ExecuteTime": {
     "end_time": "2022-03-15T14:54:08.967470Z",
     "start_time": "2022-03-15T14:54:08.954297Z"
    }
   },
   "outputs": [
    {
     "data": {
      "text/plain": [
       "[0.1, 8.0, 21.0]"
      ]
     },
     "execution_count": 58,
     "metadata": {},
     "output_type": "execute_result"
    }
   ],
   "source": [
    "x = [-5.0, -1.1, 0.1, 2.0, 8.0, 12.0, 21.0, 25.8, 41.0]\n",
    "statistics.quantiles(x, n=4, method='inclusive')"
   ]
  },
  {
   "cell_type": "code",
   "execution_count": 59,
   "id": "c1893b1b",
   "metadata": {
    "ExecuteTime": {
     "end_time": "2022-03-15T14:55:39.824751Z",
     "start_time": "2022-03-15T14:55:39.724431Z"
    }
   },
   "outputs": [
    {
     "data": {
      "text/plain": [
       "-3.44"
      ]
     },
     "execution_count": 59,
     "metadata": {},
     "output_type": "execute_result"
    }
   ],
   "source": [
    "y = np.array(x)\n",
    "np.percentile(y, 5)"
   ]
  },
  {
   "cell_type": "code",
   "execution_count": 60,
   "id": "b5284915",
   "metadata": {
    "ExecuteTime": {
     "end_time": "2022-03-15T14:55:50.131779Z",
     "start_time": "2022-03-15T14:55:50.117591Z"
    }
   },
   "outputs": [
    {
     "data": {
      "text/plain": [
       "34.919999999999995"
      ]
     },
     "execution_count": 60,
     "metadata": {},
     "output_type": "execute_result"
    }
   ],
   "source": [
    "np.percentile(y, 95)"
   ]
  },
  {
   "cell_type": "code",
   "execution_count": 61,
   "id": "c7dae9d1",
   "metadata": {
    "ExecuteTime": {
     "end_time": "2022-03-15T14:57:16.882786Z",
     "start_time": "2022-03-15T14:57:16.800202Z"
    }
   },
   "outputs": [
    {
     "data": {
      "text/plain": [
       "array([ 0.1,  8. , 21. ])"
      ]
     },
     "execution_count": 61,
     "metadata": {},
     "output_type": "execute_result"
    }
   ],
   "source": [
    "np.percentile(y, [25, 50, 75])"
   ]
  },
  {
   "cell_type": "code",
   "execution_count": 62,
   "id": "3e4431f4",
   "metadata": {
    "ExecuteTime": {
     "end_time": "2022-03-15T14:57:25.167661Z",
     "start_time": "2022-03-15T14:57:25.153982Z"
    }
   },
   "outputs": [
    {
     "data": {
      "text/plain": [
       "8.0"
      ]
     },
     "execution_count": 62,
     "metadata": {},
     "output_type": "execute_result"
    }
   ],
   "source": [
    "np.median(y)"
   ]
  },
  {
   "cell_type": "code",
   "execution_count": 63,
   "id": "1a2ea9c5",
   "metadata": {
    "ExecuteTime": {
     "end_time": "2022-03-15T14:58:16.531973Z",
     "start_time": "2022-03-15T14:58:16.455467Z"
    }
   },
   "outputs": [
    {
     "data": {
      "text/plain": [
       "array([nan, nan, nan])"
      ]
     },
     "execution_count": 63,
     "metadata": {},
     "output_type": "execute_result"
    }
   ],
   "source": [
    "np.percentile(y_with_nan, [25, 50, 75])"
   ]
  },
  {
   "cell_type": "code",
   "execution_count": 64,
   "id": "1b14bc35",
   "metadata": {
    "ExecuteTime": {
     "end_time": "2022-03-15T14:58:22.707377Z",
     "start_time": "2022-03-15T14:58:22.692685Z"
    }
   },
   "outputs": [
    {
     "data": {
      "text/plain": [
       "array([2.5, 4. , 8. ])"
      ]
     },
     "execution_count": 64,
     "metadata": {},
     "output_type": "execute_result"
    }
   ],
   "source": [
    "np.nanpercentile(y_with_nan, [25, 50, 75])"
   ]
  },
  {
   "cell_type": "code",
   "execution_count": 65,
   "id": "424ec1c4",
   "metadata": {
    "ExecuteTime": {
     "end_time": "2022-03-15T14:59:57.363171Z",
     "start_time": "2022-03-15T14:59:57.350502Z"
    }
   },
   "outputs": [
    {
     "data": {
      "text/plain": [
       "46.0"
      ]
     },
     "execution_count": 65,
     "metadata": {},
     "output_type": "execute_result"
    }
   ],
   "source": [
    "np.ptp(y)"
   ]
  },
  {
   "cell_type": "code",
   "execution_count": null,
   "id": "51419355",
   "metadata": {},
   "outputs": [],
   "source": []
  }
 ],
 "metadata": {
  "kernelspec": {
   "display_name": "Python 3 (ipykernel)",
   "language": "python",
   "name": "python3"
  },
  "language_info": {
   "codemirror_mode": {
    "name": "ipython",
    "version": 3
   },
   "file_extension": ".py",
   "mimetype": "text/x-python",
   "name": "python",
   "nbconvert_exporter": "python",
   "pygments_lexer": "ipython3",
   "version": "3.9.2"
  },
  "latex_envs": {
   "LaTeX_envs_menu_present": true,
   "autoclose": false,
   "autocomplete": true,
   "bibliofile": "biblio.bib",
   "cite_by": "apalike",
   "current_citInitial": 1,
   "eqLabelWithNumbers": true,
   "eqNumInitial": 1,
   "hotkeys": {
    "equation": "Ctrl-E",
    "itemize": "Ctrl-I"
   },
   "labels_anchors": false,
   "latex_user_defs": false,
   "report_style_numbering": false,
   "user_envs_cfg": false
  },
  "toc": {
   "base_numbering": 1,
   "nav_menu": {},
   "number_sections": true,
   "sideBar": true,
   "skip_h1_title": false,
   "title_cell": "Table of Contents",
   "title_sidebar": "Contents",
   "toc_cell": false,
   "toc_position": {},
   "toc_section_display": true,
   "toc_window_display": true
  }
 },
 "nbformat": 4,
 "nbformat_minor": 5
}
