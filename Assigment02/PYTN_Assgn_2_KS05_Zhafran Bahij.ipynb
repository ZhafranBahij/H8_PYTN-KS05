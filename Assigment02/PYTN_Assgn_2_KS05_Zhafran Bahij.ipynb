{
 "cells": [
  {
   "cell_type": "markdown",
   "id": "1a166508",
   "metadata": {},
   "source": [
    "```\n",
    "Kalau kita buat listnya/summary dari perintah di module kode id :\n",
    "\n",
    "A. Measure of Central Tendency: Mean     (P/N/S)\n",
    "B. Measure of Central Tendency: Median   (P/N/S)\n",
    "C. Measure of Central Tendency: Modus    (P/N/S)\n",
    "D. Measure of Spread: Range              (P/N/S)\n",
    "E. Measure of Spread: Variance           (P/N/S)\n",
    "F. Measure of Spread: Standard Deviation (P/N/S)\n",
    "G. Probability Distribution              (+C)\n",
    "H. Confidence Intervals\n",
    "I. Hypothesis Testing                    (+C)\n",
    "\n",
    "*for each (A - I):\n",
    "- Question/what data we want to look up\n",
    "- Pre-processing if needed\n",
    "\n",
    "===\n",
    "Keterangan:\n",
    "(P/N/S) : Pandas / NumPy / Scipy\n",
    "(+C)    : +Conclusion (menarik informasi/kesimpulan)\n",
    "\n",
    "===\n",
    "(*)Untuk:\n",
    "- contoh question,  ada di page/halamannya Assignment 2 \"Examples of questions can be ...\"\n",
    "- more detail tentang dekripsi kolom pada dataset & special note tentang dataset, juga ada di halaman yang sama\n",
    "```"
   ]
  },
  {
   "cell_type": "markdown",
   "id": "7dfd9562",
   "metadata": {},
   "source": [
    "---\n",
    "# A. Measure of Central Tendency : Mean"
   ]
  },
  {
   "cell_type": "markdown",
   "id": "8df186fc",
   "metadata": {},
   "source": [
    "**Question**  // *Deskripsi dari informasi apa yang ingin dicari/dihitung di step 2*"
   ]
  },
  {
   "cell_type": "code",
   "execution_count": 1,
   "id": "f9ac7f09",
   "metadata": {
    "ExecuteTime": {
     "end_time": "2022-03-28T06:53:01.783590Z",
     "start_time": "2022-03-28T06:53:01.706569Z"
    }
   },
   "outputs": [
    {
     "data": {
      "text/plain": [
       "'\\nBerapa Rata-rata dari GROSS SQUARE FEET dan LAND SQUARE FEET di daerah Astoria?\\n'"
      ]
     },
     "execution_count": 1,
     "metadata": {},
     "output_type": "execute_result"
    }
   ],
   "source": [
    "# Question: ......\n",
    "\"\"\"\n",
    "Berapa Rata-rata dari GROSS SQUARE FEET dan LAND SQUARE FEET di daerah Astoria?\n",
    "\"\"\""
   ]
  },
  {
   "cell_type": "markdown",
   "id": "dbc535b3",
   "metadata": {},
   "source": [
    "**Pre-processing if needed** // *Student melakukan preproses dataset sebelum melakukan Proses Statistik*"
   ]
  },
  {
   "cell_type": "code",
   "execution_count": 2,
   "id": "ceb78fdb",
   "metadata": {
    "ExecuteTime": {
     "end_time": "2022-03-28T06:53:36.157357Z",
     "start_time": "2022-03-28T06:53:02.153091Z"
    }
   },
   "outputs": [],
   "source": [
    "# 1. pre-processing if needed\n",
    "import numpy as np\n",
    "import pandas as pd\n",
    "import seaborn as sns\n",
    "import matplotlib.pyplot as plt\n",
    "import statistics\n",
    "import math\n",
    "import scipy.stats"
   ]
  },
  {
   "cell_type": "code",
   "execution_count": 3,
   "id": "2a13ac40",
   "metadata": {
    "ExecuteTime": {
     "end_time": "2022-03-28T06:53:37.657735Z",
     "start_time": "2022-03-28T06:53:36.167356Z"
    }
   },
   "outputs": [
    {
     "data": {
      "text/html": [
       "<div>\n",
       "<style scoped>\n",
       "    .dataframe tbody tr th:only-of-type {\n",
       "        vertical-align: middle;\n",
       "    }\n",
       "\n",
       "    .dataframe tbody tr th {\n",
       "        vertical-align: top;\n",
       "    }\n",
       "\n",
       "    .dataframe thead th {\n",
       "        text-align: right;\n",
       "    }\n",
       "</style>\n",
       "<table border=\"1\" class=\"dataframe\">\n",
       "  <thead>\n",
       "    <tr style=\"text-align: right;\">\n",
       "      <th></th>\n",
       "      <th>Unnamed: 0</th>\n",
       "      <th>BOROUGH</th>\n",
       "      <th>NEIGHBORHOOD</th>\n",
       "      <th>BUILDING CLASS CATEGORY</th>\n",
       "      <th>TAX CLASS AT PRESENT</th>\n",
       "      <th>BLOCK</th>\n",
       "      <th>LOT</th>\n",
       "      <th>EASE-MENT</th>\n",
       "      <th>BUILDING CLASS AT PRESENT</th>\n",
       "      <th>ADDRESS</th>\n",
       "      <th>...</th>\n",
       "      <th>RESIDENTIAL UNITS</th>\n",
       "      <th>COMMERCIAL UNITS</th>\n",
       "      <th>TOTAL UNITS</th>\n",
       "      <th>LAND SQUARE FEET</th>\n",
       "      <th>GROSS SQUARE FEET</th>\n",
       "      <th>YEAR BUILT</th>\n",
       "      <th>TAX CLASS AT TIME OF SALE</th>\n",
       "      <th>BUILDING CLASS AT TIME OF SALE</th>\n",
       "      <th>SALE PRICE</th>\n",
       "      <th>SALE DATE</th>\n",
       "    </tr>\n",
       "  </thead>\n",
       "  <tbody>\n",
       "    <tr>\n",
       "      <th>0</th>\n",
       "      <td>4</td>\n",
       "      <td>1</td>\n",
       "      <td>ALPHABET CITY</td>\n",
       "      <td>07 RENTALS - WALKUP APARTMENTS</td>\n",
       "      <td>2A</td>\n",
       "      <td>392</td>\n",
       "      <td>6</td>\n",
       "      <td></td>\n",
       "      <td>C2</td>\n",
       "      <td>153 AVENUE B</td>\n",
       "      <td>...</td>\n",
       "      <td>5</td>\n",
       "      <td>0</td>\n",
       "      <td>5</td>\n",
       "      <td>1633.0</td>\n",
       "      <td>6440.0</td>\n",
       "      <td>1900</td>\n",
       "      <td>2</td>\n",
       "      <td>C2</td>\n",
       "      <td>6625000.0</td>\n",
       "      <td>2017-07-19 00:00:00</td>\n",
       "    </tr>\n",
       "    <tr>\n",
       "      <th>1</th>\n",
       "      <td>5</td>\n",
       "      <td>1</td>\n",
       "      <td>ALPHABET CITY</td>\n",
       "      <td>07 RENTALS - WALKUP APARTMENTS</td>\n",
       "      <td>2</td>\n",
       "      <td>399</td>\n",
       "      <td>26</td>\n",
       "      <td></td>\n",
       "      <td>C7</td>\n",
       "      <td>234 EAST 4TH   STREET</td>\n",
       "      <td>...</td>\n",
       "      <td>28</td>\n",
       "      <td>3</td>\n",
       "      <td>31</td>\n",
       "      <td>4616.0</td>\n",
       "      <td>18690.0</td>\n",
       "      <td>1900</td>\n",
       "      <td>2</td>\n",
       "      <td>C7</td>\n",
       "      <td>NaN</td>\n",
       "      <td>2016-12-14 00:00:00</td>\n",
       "    </tr>\n",
       "  </tbody>\n",
       "</table>\n",
       "<p>2 rows × 22 columns</p>\n",
       "</div>"
      ],
      "text/plain": [
       "   Unnamed: 0  BOROUGH   NEIGHBORHOOD  \\\n",
       "0           4        1  ALPHABET CITY   \n",
       "1           5        1  ALPHABET CITY   \n",
       "\n",
       "                       BUILDING CLASS CATEGORY TAX CLASS AT PRESENT  BLOCK  \\\n",
       "0  07 RENTALS - WALKUP APARTMENTS                                2A    392   \n",
       "1  07 RENTALS - WALKUP APARTMENTS                                 2    399   \n",
       "\n",
       "   LOT EASE-MENT BUILDING CLASS AT PRESENT                ADDRESS  ...  \\\n",
       "0    6                                  C2           153 AVENUE B  ...   \n",
       "1   26                                  C7  234 EAST 4TH   STREET  ...   \n",
       "\n",
       "  RESIDENTIAL UNITS  COMMERCIAL UNITS  TOTAL UNITS  LAND SQUARE FEET  \\\n",
       "0                 5                 0            5            1633.0   \n",
       "1                28                 3           31            4616.0   \n",
       "\n",
       "   GROSS SQUARE FEET  YEAR BUILT  TAX CLASS AT TIME OF SALE  \\\n",
       "0             6440.0        1900                          2   \n",
       "1            18690.0        1900                          2   \n",
       "\n",
       "   BUILDING CLASS AT TIME OF SALE  SALE PRICE            SALE DATE  \n",
       "0                              C2   6625000.0  2017-07-19 00:00:00  \n",
       "1                              C7         NaN  2016-12-14 00:00:00  \n",
       "\n",
       "[2 rows x 22 columns]"
      ]
     },
     "execution_count": 3,
     "metadata": {},
     "output_type": "execute_result"
    }
   ],
   "source": [
    "df_nyc = pd.read_csv('./dataset/nyc-rolling-sales.csv', na_values=['n/a', 'na', '-', '--', ' -  '])\n",
    "df_nyc.head(2)"
   ]
  },
  {
   "cell_type": "code",
   "execution_count": 4,
   "id": "5b73c7a9",
   "metadata": {
    "ExecuteTime": {
     "end_time": "2022-03-28T06:53:37.685008Z",
     "start_time": "2022-03-28T06:53:37.667738Z"
    }
   },
   "outputs": [
    {
     "data": {
      "text/plain": [
       "Index(['Unnamed: 0', 'BOROUGH', 'NEIGHBORHOOD', 'BUILDING CLASS CATEGORY',\n",
       "       'TAX CLASS AT PRESENT', 'BLOCK', 'LOT', 'EASE-MENT',\n",
       "       'BUILDING CLASS AT PRESENT', 'ADDRESS', 'APARTMENT NUMBER', 'ZIP CODE',\n",
       "       'RESIDENTIAL UNITS', 'COMMERCIAL UNITS', 'TOTAL UNITS',\n",
       "       'LAND SQUARE FEET', 'GROSS SQUARE FEET', 'YEAR BUILT',\n",
       "       'TAX CLASS AT TIME OF SALE', 'BUILDING CLASS AT TIME OF SALE',\n",
       "       'SALE PRICE', 'SALE DATE'],\n",
       "      dtype='object')"
      ]
     },
     "execution_count": 4,
     "metadata": {},
     "output_type": "execute_result"
    }
   ],
   "source": [
    "df_nyc.columns"
   ]
  },
  {
   "cell_type": "code",
   "execution_count": 5,
   "id": "7b58eea8",
   "metadata": {
    "ExecuteTime": {
     "end_time": "2022-03-28T06:53:37.904277Z",
     "start_time": "2022-03-28T06:53:37.694508Z"
    }
   },
   "outputs": [
    {
     "data": {
      "text/plain": [
       "array(['ALPHABET CITY', 'CHELSEA', 'CHINATOWN', 'CIVIC CENTER', 'CLINTON',\n",
       "       'EAST VILLAGE', 'FASHION', 'FINANCIAL', 'FLATIRON', 'GRAMERCY',\n",
       "       'GREENWICH VILLAGE-CENTRAL', 'GREENWICH VILLAGE-WEST',\n",
       "       'HARLEM-CENTRAL', 'HARLEM-EAST', 'HARLEM-UPPER', 'HARLEM-WEST',\n",
       "       'INWOOD', 'JAVITS CENTER', 'KIPS BAY', 'LITTLE ITALY',\n",
       "       'LOWER EAST SIDE', 'MANHATTAN VALLEY', 'MIDTOWN CBD',\n",
       "       'MIDTOWN EAST', 'MIDTOWN WEST', 'MORNINGSIDE HEIGHTS',\n",
       "       'MURRAY HILL', 'ROOSEVELT ISLAND', 'SOHO', 'SOUTHBRIDGE',\n",
       "       'TRIBECA', 'UPPER EAST SIDE (59-79)', 'UPPER EAST SIDE (79-96)',\n",
       "       'UPPER EAST SIDE (96-110)', 'UPPER WEST SIDE (59-79)',\n",
       "       'UPPER WEST SIDE (79-96)', 'UPPER WEST SIDE (96-116)',\n",
       "       'WASHINGTON HEIGHTS LOWER', 'WASHINGTON HEIGHTS UPPER', 'BATHGATE',\n",
       "       'BAYCHESTER', 'BEDFORD PARK/NORWOOD', 'BELMONT', 'BRONX PARK',\n",
       "       'BRONXDALE', 'CASTLE HILL/UNIONPORT', 'CITY ISLAND',\n",
       "       'CITY ISLAND-PELHAM STRIP', 'CO-OP CITY', 'COUNTRY CLUB',\n",
       "       'CROTONA PARK', 'EAST RIVER', 'EAST TREMONT', 'FIELDSTON',\n",
       "       'FORDHAM', 'HIGHBRIDGE/MORRIS HEIGHTS', 'HUNTS POINT',\n",
       "       'KINGSBRIDGE HTS/UNIV HTS', 'KINGSBRIDGE/JEROME PARK',\n",
       "       'MELROSE/CONCOURSE', 'MORRIS PARK/VAN NEST', 'MORRISANIA/LONGWOOD',\n",
       "       'MOTT HAVEN/PORT MORRIS', 'MOUNT HOPE/MOUNT EDEN', 'PARKCHESTER',\n",
       "       'PELHAM BAY', 'PELHAM GARDENS', 'PELHAM PARKWAY NORTH',\n",
       "       'PELHAM PARKWAY SOUTH', 'RIVERDALE', 'SCHUYLERVILLE/PELHAM BAY',\n",
       "       'SOUNDVIEW', 'THROGS NECK', 'VAN CORTLANDT PARK', 'WAKEFIELD',\n",
       "       'WESTCHESTER', 'WILLIAMSBRIDGE', 'WOODLAWN', 'BATH BEACH',\n",
       "       'BAY RIDGE', 'BEDFORD STUYVESANT', 'BENSONHURST', 'BERGEN BEACH',\n",
       "       'BOERUM HILL', 'BOROUGH PARK', 'BRIGHTON BEACH',\n",
       "       'BROOKLYN HEIGHTS', 'BROWNSVILLE', 'BUSH TERMINAL', 'BUSHWICK',\n",
       "       'CANARSIE', 'CARROLL GARDENS', 'CLINTON HILL', 'COBBLE HILL',\n",
       "       'COBBLE HILL-WEST', 'CONEY ISLAND', 'CROWN HEIGHTS',\n",
       "       'CYPRESS HILLS', 'DOWNTOWN-FULTON FERRY', 'DOWNTOWN-FULTON MALL',\n",
       "       'DOWNTOWN-METROTECH', 'DYKER HEIGHTS', 'EAST NEW YORK',\n",
       "       'FLATBUSH-CENTRAL', 'FLATBUSH-EAST', 'FLATBUSH-LEFFERTS GARDEN',\n",
       "       'FLATBUSH-NORTH', 'FLATLANDS', 'FORT GREENE', 'GERRITSEN BEACH',\n",
       "       'GOWANUS', 'GRAVESEND', 'GREENPOINT', 'JAMAICA BAY', 'KENSINGTON',\n",
       "       'MADISON', 'MANHATTAN BEACH', 'MARINE PARK', 'MIDWOOD',\n",
       "       'MILL BASIN', 'NAVY YARD', 'OCEAN HILL', 'OCEAN PARKWAY-NORTH',\n",
       "       'OCEAN PARKWAY-SOUTH', 'OLD MILL BASIN', 'PARK SLOPE',\n",
       "       'PARK SLOPE SOUTH', 'PROSPECT HEIGHTS', 'RED HOOK', 'SEAGATE',\n",
       "       'SHEEPSHEAD BAY', 'SPRING CREEK', 'SUNSET PARK',\n",
       "       'WILLIAMSBURG-CENTRAL', 'WILLIAMSBURG-EAST', 'WILLIAMSBURG-NORTH',\n",
       "       'WILLIAMSBURG-SOUTH', 'WINDSOR TERRACE', 'WYCKOFF HEIGHTS',\n",
       "       'AIRPORT LA GUARDIA', 'ARVERNE', 'ASTORIA', 'BAYSIDE',\n",
       "       'BEECHHURST', 'BELLE HARBOR', 'BELLEROSE', 'BRIARWOOD',\n",
       "       'BROAD CHANNEL', 'CAMBRIA HEIGHTS', 'COLLEGE POINT', 'CORONA',\n",
       "       'DOUGLASTON', 'EAST ELMHURST', 'ELMHURST', 'FAR ROCKAWAY',\n",
       "       'FLORAL PARK', 'FLUSHING MEADOW PARK', 'FLUSHING-NORTH',\n",
       "       'FLUSHING-SOUTH', 'FOREST HILLS', 'FRESH MEADOWS', 'GLEN OAKS',\n",
       "       'GLENDALE', 'HAMMELS', 'HILLCREST', 'HOLLIS', 'HOLLIS HILLS',\n",
       "       'HOLLISWOOD', 'HOWARD BEACH', 'JACKSON HEIGHTS', 'JAMAICA',\n",
       "       'JAMAICA ESTATES', 'JAMAICA HILLS', 'KEW GARDENS', 'LAURELTON',\n",
       "       'LITTLE NECK', 'LONG ISLAND CITY', 'MASPETH', 'MIDDLE VILLAGE',\n",
       "       'NEPONSIT', 'OAKLAND GARDENS', 'OZONE PARK', 'QUEENS VILLAGE',\n",
       "       'REGO PARK', 'RICHMOND HILL', 'RIDGEWOOD', 'ROCKAWAY PARK',\n",
       "       'ROSEDALE', 'SO. JAMAICA-BAISLEY PARK', 'SOUTH JAMAICA',\n",
       "       'SOUTH OZONE PARK', 'SPRINGFIELD GARDENS', 'ST. ALBANS',\n",
       "       'SUNNYSIDE', 'WHITESTONE', 'WOODHAVEN', 'WOODSIDE', 'ANNADALE',\n",
       "       'ARDEN HEIGHTS', 'ARROCHAR', 'ARROCHAR-SHORE ACRES', 'BLOOMFIELD',\n",
       "       'BULLS HEAD', 'CASTLETON CORNERS', 'CLOVE LAKES', 'CONCORD',\n",
       "       'CONCORD-FOX HILLS', 'DONGAN HILLS', 'DONGAN HILLS-COLONY',\n",
       "       'DONGAN HILLS-OLD TOWN', 'ELTINGVILLE', 'EMERSON HILL',\n",
       "       'FRESH KILLS', 'GRANT CITY', 'GRASMERE', 'GREAT KILLS',\n",
       "       'GREAT KILLS-BAY TERRACE', 'GRYMES HILL', 'HUGUENOT', 'LIVINGSTON',\n",
       "       'MANOR HEIGHTS', 'MARINERS HARBOR', 'MIDLAND BEACH',\n",
       "       'NEW BRIGHTON', 'NEW BRIGHTON-ST. GEORGE', 'NEW DORP',\n",
       "       'NEW DORP-BEACH', 'NEW DORP-HEIGHTS', 'NEW SPRINGVILLE', 'OAKWOOD',\n",
       "       'OAKWOOD-BEACH', 'PLEASANT PLAINS', 'PORT IVORY', 'PORT RICHMOND',\n",
       "       'PRINCES BAY', 'RICHMONDTOWN', 'RICHMONDTOWN-LIGHTHS HILL',\n",
       "       'ROSEBANK', 'ROSSVILLE', 'ROSSVILLE-CHARLESTON',\n",
       "       'ROSSVILLE-PORT MOBIL', 'ROSSVILLE-RICHMOND VALLEY', 'SILVER LAKE',\n",
       "       'SOUTH BEACH', 'STAPLETON', 'STAPLETON-CLIFTON', 'TODT HILL',\n",
       "       'TOMPKINSVILLE', 'TOTTENVILLE', 'TRAVIS', 'WEST NEW BRIGHTON',\n",
       "       'WESTERLEIGH', 'WILLOWBROOK', 'WOODROW'], dtype=object)"
      ]
     },
     "execution_count": 5,
     "metadata": {},
     "output_type": "execute_result"
    }
   ],
   "source": [
    "df_nyc['NEIGHBORHOOD'].unique()"
   ]
  },
  {
   "cell_type": "code",
   "execution_count": 6,
   "id": "3e0bfd88",
   "metadata": {
    "ExecuteTime": {
     "end_time": "2022-03-28T06:53:38.240199Z",
     "start_time": "2022-03-28T06:53:37.911271Z"
    }
   },
   "outputs": [
    {
     "data": {
      "text/plain": [
       "Unnamed: 0                            0\n",
       "BOROUGH                               0\n",
       "NEIGHBORHOOD                          0\n",
       "BUILDING CLASS CATEGORY               0\n",
       "TAX CLASS AT PRESENT                  0\n",
       "BLOCK                                 0\n",
       "LOT                                   0\n",
       "EASE-MENT                             0\n",
       "BUILDING CLASS AT PRESENT             0\n",
       "ADDRESS                               0\n",
       "APARTMENT NUMBER                      0\n",
       "ZIP CODE                              0\n",
       "RESIDENTIAL UNITS                     0\n",
       "COMMERCIAL UNITS                      0\n",
       "TOTAL UNITS                           0\n",
       "LAND SQUARE FEET                  26252\n",
       "GROSS SQUARE FEET                 27612\n",
       "YEAR BUILT                            0\n",
       "TAX CLASS AT TIME OF SALE             0\n",
       "BUILDING CLASS AT TIME OF SALE        0\n",
       "SALE PRICE                        14561\n",
       "SALE DATE                             0\n",
       "dtype: int64"
      ]
     },
     "execution_count": 6,
     "metadata": {},
     "output_type": "execute_result"
    }
   ],
   "source": [
    "\"\"\"\n",
    "Mencari data yang null\n",
    "\"\"\"\n",
    "\n",
    "df_nyc.isna().sum()"
   ]
  },
  {
   "cell_type": "code",
   "execution_count": 7,
   "id": "02ae0a7b",
   "metadata": {
    "ExecuteTime": {
     "end_time": "2022-03-28T06:53:38.283200Z",
     "start_time": "2022-03-28T06:53:38.247700Z"
    }
   },
   "outputs": [
    {
     "data": {
      "text/plain": [
       "array(['07 RENTALS - WALKUP APARTMENTS             ',\n",
       "       '08 RENTALS - ELEVATOR APARTMENTS           ',\n",
       "       '09 COOPS - WALKUP APARTMENTS               ',\n",
       "       '10 COOPS - ELEVATOR APARTMENTS             ',\n",
       "       '11A CONDO-RENTALS                           ',\n",
       "       '12 CONDOS - WALKUP APARTMENTS              ',\n",
       "       '13 CONDOS - ELEVATOR APARTMENTS            ',\n",
       "       '14 RENTALS - 4-10 UNIT                     ',\n",
       "       '15 CONDOS - 2-10 UNIT RESIDENTIAL          ',\n",
       "       '16 CONDOS - 2-10 UNIT WITH COMMERCIAL UNIT ',\n",
       "       '17 CONDO COOPS                             ',\n",
       "       '22 STORE BUILDINGS                         ',\n",
       "       '37 RELIGIOUS FACILITIES                    ',\n",
       "       '42 CONDO CULTURAL/MEDICAL/EDUCATIONAL/ETC  ',\n",
       "       '46 CONDO STORE BUILDINGS                   ',\n",
       "       '47 CONDO NON-BUSINESS STORAGE              ',\n",
       "       '01 ONE FAMILY DWELLINGS                    ',\n",
       "       '02 TWO FAMILY DWELLINGS                    ',\n",
       "       '03 THREE FAMILY DWELLINGS                  ',\n",
       "       '04 TAX CLASS 1 CONDOS                      ',\n",
       "       '21 OFFICE BUILDINGS                        ',\n",
       "       '23 LOFT BUILDINGS                          ',\n",
       "       '25 LUXURY HOTELS                           ',\n",
       "       '26 OTHER HOTELS                            ',\n",
       "       '28 COMMERCIAL CONDOS                       ',\n",
       "       '29 COMMERCIAL GARAGES                      ',\n",
       "       '35 INDOOR PUBLIC AND CULTURAL FACILITIES   ',\n",
       "       '38 ASYLUMS AND HOMES                       ',\n",
       "       '43 CONDO OFFICE BUILDINGS                  ',\n",
       "       '44 CONDO PARKING                           ',\n",
       "       '48 CONDO TERRACES/GARDENS/CABANAS          ',\n",
       "       '31 COMMERCIAL VACANT LAND                  ',\n",
       "       '32 HOSPITAL AND HEALTH FACILITIES          ',\n",
       "       '41 TAX CLASS 4 - OTHER                     ',\n",
       "       '18 TAX CLASS 3 - UNTILITY PROPERTIES       ',\n",
       "       '30 WAREHOUSES                              ',\n",
       "       '36 OUTDOOR RECREATIONAL FACILITIES         ',\n",
       "       '49 CONDO WAREHOUSES/FACTORY/INDUS          ',\n",
       "       '34 THEATRES                                ',\n",
       "       '27 FACTORIES                               ',\n",
       "       '40 SELECTED GOVERNMENTAL FACILITIES        ',\n",
       "       '45 CONDO HOTELS                            ',\n",
       "       '33 EDUCATIONAL FACILITIES                  ',\n",
       "       '11 SPECIAL CONDO BILLING LOTS              ',\n",
       "       '05 TAX CLASS 1 VACANT LAND                 ',\n",
       "       '06 TAX CLASS 1 - OTHER                     ',\n",
       "       '39 TRANSPORTATION FACILITIES               '], dtype=object)"
      ]
     },
     "execution_count": 7,
     "metadata": {},
     "output_type": "execute_result"
    }
   ],
   "source": [
    "df_nyc['BUILDING CLASS CATEGORY'].unique()"
   ]
  },
  {
   "cell_type": "code",
   "execution_count": 8,
   "id": "e523b555",
   "metadata": {
    "ExecuteTime": {
     "end_time": "2022-03-28T06:53:38.491696Z",
     "start_time": "2022-03-28T06:53:38.289199Z"
    }
   },
   "outputs": [
    {
     "data": {
      "text/html": [
       "<div>\n",
       "<style scoped>\n",
       "    .dataframe tbody tr th:only-of-type {\n",
       "        vertical-align: middle;\n",
       "    }\n",
       "\n",
       "    .dataframe tbody tr th {\n",
       "        vertical-align: top;\n",
       "    }\n",
       "\n",
       "    .dataframe thead th {\n",
       "        text-align: right;\n",
       "    }\n",
       "</style>\n",
       "<table border=\"1\" class=\"dataframe\">\n",
       "  <thead>\n",
       "    <tr style=\"text-align: right;\">\n",
       "      <th></th>\n",
       "      <th>Unnamed: 0</th>\n",
       "      <th>BOROUGH</th>\n",
       "      <th>NEIGHBORHOOD</th>\n",
       "      <th>BUILDING CLASS CATEGORY</th>\n",
       "      <th>TAX CLASS AT PRESENT</th>\n",
       "      <th>BLOCK</th>\n",
       "      <th>LOT</th>\n",
       "      <th>EASE-MENT</th>\n",
       "      <th>BUILDING CLASS AT PRESENT</th>\n",
       "      <th>ADDRESS</th>\n",
       "      <th>...</th>\n",
       "      <th>RESIDENTIAL UNITS</th>\n",
       "      <th>COMMERCIAL UNITS</th>\n",
       "      <th>TOTAL UNITS</th>\n",
       "      <th>LAND SQUARE FEET</th>\n",
       "      <th>GROSS SQUARE FEET</th>\n",
       "      <th>YEAR BUILT</th>\n",
       "      <th>TAX CLASS AT TIME OF SALE</th>\n",
       "      <th>BUILDING CLASS AT TIME OF SALE</th>\n",
       "      <th>SALE PRICE</th>\n",
       "      <th>SALE DATE</th>\n",
       "    </tr>\n",
       "  </thead>\n",
       "  <tbody>\n",
       "    <tr>\n",
       "      <th>49607</th>\n",
       "      <td>209</td>\n",
       "      <td>4</td>\n",
       "      <td>ASTORIA</td>\n",
       "      <td>01 ONE FAMILY DWELLINGS</td>\n",
       "      <td>1</td>\n",
       "      <td>534</td>\n",
       "      <td>28</td>\n",
       "      <td></td>\n",
       "      <td>S1</td>\n",
       "      <td>30-83 14TH   STREET</td>\n",
       "      <td>...</td>\n",
       "      <td>1</td>\n",
       "      <td>1</td>\n",
       "      <td>2</td>\n",
       "      <td>2426.0</td>\n",
       "      <td>2512.0</td>\n",
       "      <td>1920</td>\n",
       "      <td>1</td>\n",
       "      <td>S1</td>\n",
       "      <td>NaN</td>\n",
       "      <td>2017-01-25 00:00:00</td>\n",
       "    </tr>\n",
       "    <tr>\n",
       "      <th>49608</th>\n",
       "      <td>210</td>\n",
       "      <td>4</td>\n",
       "      <td>ASTORIA</td>\n",
       "      <td>01 ONE FAMILY DWELLINGS</td>\n",
       "      <td>1</td>\n",
       "      <td>552</td>\n",
       "      <td>19</td>\n",
       "      <td></td>\n",
       "      <td>S1</td>\n",
       "      <td>21-10 31ST   AVENUE</td>\n",
       "      <td>...</td>\n",
       "      <td>1</td>\n",
       "      <td>1</td>\n",
       "      <td>2</td>\n",
       "      <td>2850.0</td>\n",
       "      <td>3276.0</td>\n",
       "      <td>1984</td>\n",
       "      <td>1</td>\n",
       "      <td>S1</td>\n",
       "      <td>2500000.0</td>\n",
       "      <td>2017-04-12 00:00:00</td>\n",
       "    </tr>\n",
       "    <tr>\n",
       "      <th>49609</th>\n",
       "      <td>211</td>\n",
       "      <td>4</td>\n",
       "      <td>ASTORIA</td>\n",
       "      <td>01 ONE FAMILY DWELLINGS</td>\n",
       "      <td>1</td>\n",
       "      <td>565</td>\n",
       "      <td>42</td>\n",
       "      <td></td>\n",
       "      <td>A5</td>\n",
       "      <td>23-21 33RD   ROAD</td>\n",
       "      <td>...</td>\n",
       "      <td>1</td>\n",
       "      <td>0</td>\n",
       "      <td>1</td>\n",
       "      <td>1566.0</td>\n",
       "      <td>1224.0</td>\n",
       "      <td>1945</td>\n",
       "      <td>1</td>\n",
       "      <td>A5</td>\n",
       "      <td>625000.0</td>\n",
       "      <td>2017-03-23 00:00:00</td>\n",
       "    </tr>\n",
       "    <tr>\n",
       "      <th>49610</th>\n",
       "      <td>212</td>\n",
       "      <td>4</td>\n",
       "      <td>ASTORIA</td>\n",
       "      <td>01 ONE FAMILY DWELLINGS</td>\n",
       "      <td>1</td>\n",
       "      <td>565</td>\n",
       "      <td>42</td>\n",
       "      <td></td>\n",
       "      <td>A5</td>\n",
       "      <td>23-21 33RD ROAD</td>\n",
       "      <td>...</td>\n",
       "      <td>1</td>\n",
       "      <td>0</td>\n",
       "      <td>1</td>\n",
       "      <td>1566.0</td>\n",
       "      <td>1224.0</td>\n",
       "      <td>1945</td>\n",
       "      <td>1</td>\n",
       "      <td>A5</td>\n",
       "      <td>550000.0</td>\n",
       "      <td>2016-12-09 00:00:00</td>\n",
       "    </tr>\n",
       "    <tr>\n",
       "      <th>49611</th>\n",
       "      <td>213</td>\n",
       "      <td>4</td>\n",
       "      <td>ASTORIA</td>\n",
       "      <td>01 ONE FAMILY DWELLINGS</td>\n",
       "      <td>1</td>\n",
       "      <td>622</td>\n",
       "      <td>60</td>\n",
       "      <td></td>\n",
       "      <td>A3</td>\n",
       "      <td>32-36 35TH   STREET</td>\n",
       "      <td>...</td>\n",
       "      <td>1</td>\n",
       "      <td>0</td>\n",
       "      <td>1</td>\n",
       "      <td>2500.0</td>\n",
       "      <td>1204.0</td>\n",
       "      <td>1920</td>\n",
       "      <td>1</td>\n",
       "      <td>A3</td>\n",
       "      <td>NaN</td>\n",
       "      <td>2017-07-12 00:00:00</td>\n",
       "    </tr>\n",
       "  </tbody>\n",
       "</table>\n",
       "<p>5 rows × 22 columns</p>\n",
       "</div>"
      ],
      "text/plain": [
       "       Unnamed: 0  BOROUGH NEIGHBORHOOD  \\\n",
       "49607         209        4      ASTORIA   \n",
       "49608         210        4      ASTORIA   \n",
       "49609         211        4      ASTORIA   \n",
       "49610         212        4      ASTORIA   \n",
       "49611         213        4      ASTORIA   \n",
       "\n",
       "                           BUILDING CLASS CATEGORY TAX CLASS AT PRESENT  \\\n",
       "49607  01 ONE FAMILY DWELLINGS                                        1   \n",
       "49608  01 ONE FAMILY DWELLINGS                                        1   \n",
       "49609  01 ONE FAMILY DWELLINGS                                        1   \n",
       "49610  01 ONE FAMILY DWELLINGS                                        1   \n",
       "49611  01 ONE FAMILY DWELLINGS                                        1   \n",
       "\n",
       "       BLOCK  LOT EASE-MENT BUILDING CLASS AT PRESENT              ADDRESS  \\\n",
       "49607    534   28                                  S1  30-83 14TH   STREET   \n",
       "49608    552   19                                  S1  21-10 31ST   AVENUE   \n",
       "49609    565   42                                  A5    23-21 33RD   ROAD   \n",
       "49610    565   42                                  A5      23-21 33RD ROAD   \n",
       "49611    622   60                                  A3  32-36 35TH   STREET   \n",
       "\n",
       "       ... RESIDENTIAL UNITS  COMMERCIAL UNITS  TOTAL UNITS  LAND SQUARE FEET  \\\n",
       "49607  ...                 1                 1            2            2426.0   \n",
       "49608  ...                 1                 1            2            2850.0   \n",
       "49609  ...                 1                 0            1            1566.0   \n",
       "49610  ...                 1                 0            1            1566.0   \n",
       "49611  ...                 1                 0            1            2500.0   \n",
       "\n",
       "       GROSS SQUARE FEET  YEAR BUILT  TAX CLASS AT TIME OF SALE  \\\n",
       "49607             2512.0        1920                          1   \n",
       "49608             3276.0        1984                          1   \n",
       "49609             1224.0        1945                          1   \n",
       "49610             1224.0        1945                          1   \n",
       "49611             1204.0        1920                          1   \n",
       "\n",
       "       BUILDING CLASS AT TIME OF SALE  SALE PRICE            SALE DATE  \n",
       "49607                              S1         NaN  2017-01-25 00:00:00  \n",
       "49608                              S1   2500000.0  2017-04-12 00:00:00  \n",
       "49609                              A5    625000.0  2017-03-23 00:00:00  \n",
       "49610                              A5    550000.0  2016-12-09 00:00:00  \n",
       "49611                              A3         NaN  2017-07-12 00:00:00  \n",
       "\n",
       "[5 rows x 22 columns]"
      ]
     },
     "execution_count": 8,
     "metadata": {},
     "output_type": "execute_result"
    }
   ],
   "source": [
    "\"\"\"\n",
    "Memilih tempat di Astoria\n",
    "\"\"\"\n",
    "df_astoria = df_nyc[df_nyc['NEIGHBORHOOD'] == 'ASTORIA']\n",
    "df_astoria.head()"
   ]
  },
  {
   "cell_type": "code",
   "execution_count": 9,
   "id": "237446ff",
   "metadata": {
    "ExecuteTime": {
     "end_time": "2022-03-28T06:53:38.686202Z",
     "start_time": "2022-03-28T06:53:38.501701Z"
    }
   },
   "outputs": [
    {
     "data": {
      "text/html": [
       "<div>\n",
       "<style scoped>\n",
       "    .dataframe tbody tr th:only-of-type {\n",
       "        vertical-align: middle;\n",
       "    }\n",
       "\n",
       "    .dataframe tbody tr th {\n",
       "        vertical-align: top;\n",
       "    }\n",
       "\n",
       "    .dataframe thead th {\n",
       "        text-align: right;\n",
       "    }\n",
       "</style>\n",
       "<table border=\"1\" class=\"dataframe\">\n",
       "  <thead>\n",
       "    <tr style=\"text-align: right;\">\n",
       "      <th></th>\n",
       "      <th>Unnamed: 0</th>\n",
       "      <th>BOROUGH</th>\n",
       "      <th>NEIGHBORHOOD</th>\n",
       "      <th>BUILDING CLASS CATEGORY</th>\n",
       "      <th>TAX CLASS AT PRESENT</th>\n",
       "      <th>BLOCK</th>\n",
       "      <th>LOT</th>\n",
       "      <th>EASE-MENT</th>\n",
       "      <th>BUILDING CLASS AT PRESENT</th>\n",
       "      <th>ADDRESS</th>\n",
       "      <th>...</th>\n",
       "      <th>RESIDENTIAL UNITS</th>\n",
       "      <th>COMMERCIAL UNITS</th>\n",
       "      <th>TOTAL UNITS</th>\n",
       "      <th>LAND SQUARE FEET</th>\n",
       "      <th>GROSS SQUARE FEET</th>\n",
       "      <th>YEAR BUILT</th>\n",
       "      <th>TAX CLASS AT TIME OF SALE</th>\n",
       "      <th>BUILDING CLASS AT TIME OF SALE</th>\n",
       "      <th>SALE PRICE</th>\n",
       "      <th>SALE DATE</th>\n",
       "    </tr>\n",
       "  </thead>\n",
       "  <tbody>\n",
       "    <tr>\n",
       "      <th>49607</th>\n",
       "      <td>209</td>\n",
       "      <td>4</td>\n",
       "      <td>ASTORIA</td>\n",
       "      <td>01 ONE FAMILY DWELLINGS</td>\n",
       "      <td>1</td>\n",
       "      <td>534</td>\n",
       "      <td>28</td>\n",
       "      <td></td>\n",
       "      <td>S1</td>\n",
       "      <td>30-83 14TH   STREET</td>\n",
       "      <td>...</td>\n",
       "      <td>1</td>\n",
       "      <td>1</td>\n",
       "      <td>2</td>\n",
       "      <td>2426.0</td>\n",
       "      <td>2512.0</td>\n",
       "      <td>1920</td>\n",
       "      <td>1</td>\n",
       "      <td>S1</td>\n",
       "      <td>NaN</td>\n",
       "      <td>2017-01-25 00:00:00</td>\n",
       "    </tr>\n",
       "    <tr>\n",
       "      <th>49608</th>\n",
       "      <td>210</td>\n",
       "      <td>4</td>\n",
       "      <td>ASTORIA</td>\n",
       "      <td>01 ONE FAMILY DWELLINGS</td>\n",
       "      <td>1</td>\n",
       "      <td>552</td>\n",
       "      <td>19</td>\n",
       "      <td></td>\n",
       "      <td>S1</td>\n",
       "      <td>21-10 31ST   AVENUE</td>\n",
       "      <td>...</td>\n",
       "      <td>1</td>\n",
       "      <td>1</td>\n",
       "      <td>2</td>\n",
       "      <td>2850.0</td>\n",
       "      <td>3276.0</td>\n",
       "      <td>1984</td>\n",
       "      <td>1</td>\n",
       "      <td>S1</td>\n",
       "      <td>2500000.0</td>\n",
       "      <td>2017-04-12 00:00:00</td>\n",
       "    </tr>\n",
       "    <tr>\n",
       "      <th>49609</th>\n",
       "      <td>211</td>\n",
       "      <td>4</td>\n",
       "      <td>ASTORIA</td>\n",
       "      <td>01 ONE FAMILY DWELLINGS</td>\n",
       "      <td>1</td>\n",
       "      <td>565</td>\n",
       "      <td>42</td>\n",
       "      <td></td>\n",
       "      <td>A5</td>\n",
       "      <td>23-21 33RD   ROAD</td>\n",
       "      <td>...</td>\n",
       "      <td>1</td>\n",
       "      <td>0</td>\n",
       "      <td>1</td>\n",
       "      <td>1566.0</td>\n",
       "      <td>1224.0</td>\n",
       "      <td>1945</td>\n",
       "      <td>1</td>\n",
       "      <td>A5</td>\n",
       "      <td>625000.0</td>\n",
       "      <td>2017-03-23 00:00:00</td>\n",
       "    </tr>\n",
       "    <tr>\n",
       "      <th>49610</th>\n",
       "      <td>212</td>\n",
       "      <td>4</td>\n",
       "      <td>ASTORIA</td>\n",
       "      <td>01 ONE FAMILY DWELLINGS</td>\n",
       "      <td>1</td>\n",
       "      <td>565</td>\n",
       "      <td>42</td>\n",
       "      <td></td>\n",
       "      <td>A5</td>\n",
       "      <td>23-21 33RD ROAD</td>\n",
       "      <td>...</td>\n",
       "      <td>1</td>\n",
       "      <td>0</td>\n",
       "      <td>1</td>\n",
       "      <td>1566.0</td>\n",
       "      <td>1224.0</td>\n",
       "      <td>1945</td>\n",
       "      <td>1</td>\n",
       "      <td>A5</td>\n",
       "      <td>550000.0</td>\n",
       "      <td>2016-12-09 00:00:00</td>\n",
       "    </tr>\n",
       "    <tr>\n",
       "      <th>49611</th>\n",
       "      <td>213</td>\n",
       "      <td>4</td>\n",
       "      <td>ASTORIA</td>\n",
       "      <td>01 ONE FAMILY DWELLINGS</td>\n",
       "      <td>1</td>\n",
       "      <td>622</td>\n",
       "      <td>60</td>\n",
       "      <td></td>\n",
       "      <td>A3</td>\n",
       "      <td>32-36 35TH   STREET</td>\n",
       "      <td>...</td>\n",
       "      <td>1</td>\n",
       "      <td>0</td>\n",
       "      <td>1</td>\n",
       "      <td>2500.0</td>\n",
       "      <td>1204.0</td>\n",
       "      <td>1920</td>\n",
       "      <td>1</td>\n",
       "      <td>A3</td>\n",
       "      <td>NaN</td>\n",
       "      <td>2017-07-12 00:00:00</td>\n",
       "    </tr>\n",
       "    <tr>\n",
       "      <th>...</th>\n",
       "      <td>...</td>\n",
       "      <td>...</td>\n",
       "      <td>...</td>\n",
       "      <td>...</td>\n",
       "      <td>...</td>\n",
       "      <td>...</td>\n",
       "      <td>...</td>\n",
       "      <td>...</td>\n",
       "      <td>...</td>\n",
       "      <td>...</td>\n",
       "      <td>...</td>\n",
       "      <td>...</td>\n",
       "      <td>...</td>\n",
       "      <td>...</td>\n",
       "      <td>...</td>\n",
       "      <td>...</td>\n",
       "      <td>...</td>\n",
       "      <td>...</td>\n",
       "      <td>...</td>\n",
       "      <td>...</td>\n",
       "      <td>...</td>\n",
       "    </tr>\n",
       "    <tr>\n",
       "      <th>50622</th>\n",
       "      <td>1224</td>\n",
       "      <td>4</td>\n",
       "      <td>ASTORIA</td>\n",
       "      <td>22 STORE BUILDINGS</td>\n",
       "      <td>4</td>\n",
       "      <td>624</td>\n",
       "      <td>38</td>\n",
       "      <td></td>\n",
       "      <td>K4</td>\n",
       "      <td>3402 31 AVE</td>\n",
       "      <td>...</td>\n",
       "      <td>1</td>\n",
       "      <td>2</td>\n",
       "      <td>3</td>\n",
       "      <td>2020.0</td>\n",
       "      <td>3920.0</td>\n",
       "      <td>1924</td>\n",
       "      <td>4</td>\n",
       "      <td>K4</td>\n",
       "      <td>NaN</td>\n",
       "      <td>2017-08-15 00:00:00</td>\n",
       "    </tr>\n",
       "    <tr>\n",
       "      <th>50631</th>\n",
       "      <td>1233</td>\n",
       "      <td>4</td>\n",
       "      <td>ASTORIA</td>\n",
       "      <td>22 STORE BUILDINGS</td>\n",
       "      <td>4</td>\n",
       "      <td>661</td>\n",
       "      <td>41</td>\n",
       "      <td></td>\n",
       "      <td>K2</td>\n",
       "      <td>37-17 30TH AVENUE</td>\n",
       "      <td>...</td>\n",
       "      <td>1</td>\n",
       "      <td>2</td>\n",
       "      <td>3</td>\n",
       "      <td>2513.0</td>\n",
       "      <td>4046.0</td>\n",
       "      <td>1928</td>\n",
       "      <td>4</td>\n",
       "      <td>K2</td>\n",
       "      <td>NaN</td>\n",
       "      <td>2017-01-24 00:00:00</td>\n",
       "    </tr>\n",
       "    <tr>\n",
       "      <th>50634</th>\n",
       "      <td>1236</td>\n",
       "      <td>4</td>\n",
       "      <td>ASTORIA</td>\n",
       "      <td>22 STORE BUILDINGS</td>\n",
       "      <td>4</td>\n",
       "      <td>684</td>\n",
       "      <td>16</td>\n",
       "      <td></td>\n",
       "      <td>K4</td>\n",
       "      <td>25-73 STEINWAY STREET</td>\n",
       "      <td>...</td>\n",
       "      <td>1</td>\n",
       "      <td>2</td>\n",
       "      <td>3</td>\n",
       "      <td>1728.0</td>\n",
       "      <td>3660.0</td>\n",
       "      <td>1920</td>\n",
       "      <td>4</td>\n",
       "      <td>K4</td>\n",
       "      <td>NaN</td>\n",
       "      <td>2017-05-25 00:00:00</td>\n",
       "    </tr>\n",
       "    <tr>\n",
       "      <th>50635</th>\n",
       "      <td>1237</td>\n",
       "      <td>4</td>\n",
       "      <td>ASTORIA</td>\n",
       "      <td>22 STORE BUILDINGS</td>\n",
       "      <td>4</td>\n",
       "      <td>684</td>\n",
       "      <td>16</td>\n",
       "      <td></td>\n",
       "      <td>K4</td>\n",
       "      <td>25-73 STEINWAY STREET</td>\n",
       "      <td>...</td>\n",
       "      <td>1</td>\n",
       "      <td>2</td>\n",
       "      <td>3</td>\n",
       "      <td>1728.0</td>\n",
       "      <td>3660.0</td>\n",
       "      <td>1920</td>\n",
       "      <td>4</td>\n",
       "      <td>K4</td>\n",
       "      <td>NaN</td>\n",
       "      <td>2017-03-02 00:00:00</td>\n",
       "    </tr>\n",
       "    <tr>\n",
       "      <th>50638</th>\n",
       "      <td>1240</td>\n",
       "      <td>4</td>\n",
       "      <td>ASTORIA</td>\n",
       "      <td>22 STORE BUILDINGS</td>\n",
       "      <td>4</td>\n",
       "      <td>709</td>\n",
       "      <td>1</td>\n",
       "      <td></td>\n",
       "      <td>K4</td>\n",
       "      <td>44-19 BROADWAY</td>\n",
       "      <td>...</td>\n",
       "      <td>1</td>\n",
       "      <td>1</td>\n",
       "      <td>2</td>\n",
       "      <td>2500.0</td>\n",
       "      <td>3425.0</td>\n",
       "      <td>1931</td>\n",
       "      <td>4</td>\n",
       "      <td>K4</td>\n",
       "      <td>NaN</td>\n",
       "      <td>2017-08-21 00:00:00</td>\n",
       "    </tr>\n",
       "  </tbody>\n",
       "</table>\n",
       "<p>265 rows × 22 columns</p>\n",
       "</div>"
      ],
      "text/plain": [
       "       Unnamed: 0  BOROUGH NEIGHBORHOOD  \\\n",
       "49607         209        4      ASTORIA   \n",
       "49608         210        4      ASTORIA   \n",
       "49609         211        4      ASTORIA   \n",
       "49610         212        4      ASTORIA   \n",
       "49611         213        4      ASTORIA   \n",
       "...           ...      ...          ...   \n",
       "50622        1224        4      ASTORIA   \n",
       "50631        1233        4      ASTORIA   \n",
       "50634        1236        4      ASTORIA   \n",
       "50635        1237        4      ASTORIA   \n",
       "50638        1240        4      ASTORIA   \n",
       "\n",
       "                           BUILDING CLASS CATEGORY TAX CLASS AT PRESENT  \\\n",
       "49607  01 ONE FAMILY DWELLINGS                                        1   \n",
       "49608  01 ONE FAMILY DWELLINGS                                        1   \n",
       "49609  01 ONE FAMILY DWELLINGS                                        1   \n",
       "49610  01 ONE FAMILY DWELLINGS                                        1   \n",
       "49611  01 ONE FAMILY DWELLINGS                                        1   \n",
       "...                                            ...                  ...   \n",
       "50622  22 STORE BUILDINGS                                             4   \n",
       "50631  22 STORE BUILDINGS                                             4   \n",
       "50634  22 STORE BUILDINGS                                             4   \n",
       "50635  22 STORE BUILDINGS                                             4   \n",
       "50638  22 STORE BUILDINGS                                             4   \n",
       "\n",
       "       BLOCK  LOT EASE-MENT BUILDING CLASS AT PRESENT                ADDRESS  \\\n",
       "49607    534   28                                  S1    30-83 14TH   STREET   \n",
       "49608    552   19                                  S1    21-10 31ST   AVENUE   \n",
       "49609    565   42                                  A5      23-21 33RD   ROAD   \n",
       "49610    565   42                                  A5        23-21 33RD ROAD   \n",
       "49611    622   60                                  A3    32-36 35TH   STREET   \n",
       "...      ...  ...       ...                       ...                    ...   \n",
       "50622    624   38                                  K4            3402 31 AVE   \n",
       "50631    661   41                                  K2      37-17 30TH AVENUE   \n",
       "50634    684   16                                  K4  25-73 STEINWAY STREET   \n",
       "50635    684   16                                  K4  25-73 STEINWAY STREET   \n",
       "50638    709    1                                  K4         44-19 BROADWAY   \n",
       "\n",
       "       ... RESIDENTIAL UNITS  COMMERCIAL UNITS  TOTAL UNITS  LAND SQUARE FEET  \\\n",
       "49607  ...                 1                 1            2            2426.0   \n",
       "49608  ...                 1                 1            2            2850.0   \n",
       "49609  ...                 1                 0            1            1566.0   \n",
       "49610  ...                 1                 0            1            1566.0   \n",
       "49611  ...                 1                 0            1            2500.0   \n",
       "...    ...               ...               ...          ...               ...   \n",
       "50622  ...                 1                 2            3            2020.0   \n",
       "50631  ...                 1                 2            3            2513.0   \n",
       "50634  ...                 1                 2            3            1728.0   \n",
       "50635  ...                 1                 2            3            1728.0   \n",
       "50638  ...                 1                 1            2            2500.0   \n",
       "\n",
       "       GROSS SQUARE FEET  YEAR BUILT  TAX CLASS AT TIME OF SALE  \\\n",
       "49607             2512.0        1920                          1   \n",
       "49608             3276.0        1984                          1   \n",
       "49609             1224.0        1945                          1   \n",
       "49610             1224.0        1945                          1   \n",
       "49611             1204.0        1920                          1   \n",
       "...                  ...         ...                        ...   \n",
       "50622             3920.0        1924                          4   \n",
       "50631             4046.0        1928                          4   \n",
       "50634             3660.0        1920                          4   \n",
       "50635             3660.0        1920                          4   \n",
       "50638             3425.0        1931                          4   \n",
       "\n",
       "       BUILDING CLASS AT TIME OF SALE  SALE PRICE            SALE DATE  \n",
       "49607                              S1         NaN  2017-01-25 00:00:00  \n",
       "49608                              S1   2500000.0  2017-04-12 00:00:00  \n",
       "49609                              A5    625000.0  2017-03-23 00:00:00  \n",
       "49610                              A5    550000.0  2016-12-09 00:00:00  \n",
       "49611                              A3         NaN  2017-07-12 00:00:00  \n",
       "...                               ...         ...                  ...  \n",
       "50622                              K4         NaN  2017-08-15 00:00:00  \n",
       "50631                              K2         NaN  2017-01-24 00:00:00  \n",
       "50634                              K4         NaN  2017-05-25 00:00:00  \n",
       "50635                              K4         NaN  2017-03-02 00:00:00  \n",
       "50638                              K4         NaN  2017-08-21 00:00:00  \n",
       "\n",
       "[265 rows x 22 columns]"
      ]
     },
     "execution_count": 9,
     "metadata": {},
     "output_type": "execute_result"
    }
   ],
   "source": [
    "df_astoria[df_astoria['RESIDENTIAL UNITS'] == 1]\n",
    "# df_astoria[df_astoria['BUILDING CLASS AT PRESENT'] != df_astoria['BUILDING CLASS AT TIME OF SALE'] ]"
   ]
  },
  {
   "cell_type": "code",
   "execution_count": 10,
   "id": "0aea950a",
   "metadata": {
    "ExecuteTime": {
     "end_time": "2022-03-28T06:53:38.914468Z",
     "start_time": "2022-03-28T06:53:38.702200Z"
    }
   },
   "outputs": [
    {
     "name": "stderr",
     "output_type": "stream",
     "text": [
      "C:\\Users\\Zhafran\\AppData\\Local\\Temp\\ipykernel_7024\\2090589393.py:1: SettingWithCopyWarning: \n",
      "A value is trying to be set on a copy of a slice from a DataFrame.\n",
      "Try using .loc[row_indexer,col_indexer] = value instead\n",
      "\n",
      "See the caveats in the documentation: https://pandas.pydata.org/pandas-docs/stable/user_guide/indexing.html#returning-a-view-versus-a-copy\n",
      "  df_astoria['LAND SQUARE FEET'] = pd.to_numeric(df_astoria['LAND SQUARE FEET'])\n"
     ]
    },
    {
     "data": {
      "text/plain": [
       "49607    2426.0\n",
       "49608    2850.0\n",
       "49609    1566.0\n",
       "49610    1566.0\n",
       "49611    2500.0\n",
       "          ...  \n",
       "50818       NaN\n",
       "50819       NaN\n",
       "50820       NaN\n",
       "50821       NaN\n",
       "50822       NaN\n",
       "Name: LAND SQUARE FEET, Length: 1216, dtype: float64"
      ]
     },
     "execution_count": 10,
     "metadata": {},
     "output_type": "execute_result"
    }
   ],
   "source": [
    "df_astoria['LAND SQUARE FEET'] = pd.to_numeric(df_astoria['LAND SQUARE FEET'])\n",
    "df_astoria['LAND SQUARE FEET']"
   ]
  },
  {
   "cell_type": "code",
   "execution_count": 11,
   "id": "b8fc97d9",
   "metadata": {
    "ExecuteTime": {
     "end_time": "2022-03-28T06:53:39.033296Z",
     "start_time": "2022-03-28T06:53:38.932788Z"
    }
   },
   "outputs": [],
   "source": [
    "df_astoria_one_resident = df_astoria[(df_astoria['RESIDENTIAL UNITS'] == 1) & \n",
    "           (df_astoria['TOTAL UNITS'] == 1) & \n",
    "           (~df_astoria['GROSS SQUARE FEET'].isna()) & \n",
    "           (~df_astoria['LAND SQUARE FEET'].isna())]"
   ]
  },
  {
   "cell_type": "markdown",
   "id": "7f60908c",
   "metadata": {},
   "source": [
    "**Implement statistical method** // *Mengimplementaskan Mean dari kolom/data spesifik menggunakan Pandas, NumPy, atau Scipy*"
   ]
  },
  {
   "cell_type": "code",
   "execution_count": 12,
   "id": "9d09cb07",
   "metadata": {
    "ExecuteTime": {
     "end_time": "2022-03-28T06:53:39.177436Z",
     "start_time": "2022-03-28T06:53:39.039294Z"
    }
   },
   "outputs": [
    {
     "name": "stdout",
     "output_type": "stream",
     "text": [
      "1367.9032258064517\n",
      "2155.2795698924733\n"
     ]
    }
   ],
   "source": [
    "# 2. Implement/try-to-use statistical method here ..\n",
    "\"\"\"\n",
    "Menghitung rata-rata unit total di Astoria\n",
    "\"\"\"\n",
    "print(df_astoria_one_resident['GROSS SQUARE FEET'].mean())\n",
    "print(df_astoria_one_resident['LAND SQUARE FEET'].mean())"
   ]
  },
  {
   "cell_type": "markdown",
   "id": "4a193849",
   "metadata": {},
   "source": [
    "---\n",
    "# B. Measure of Central Tendency : Median"
   ]
  },
  {
   "cell_type": "markdown",
   "id": "50a8fee2",
   "metadata": {},
   "source": [
    "**Question**  // *Deskripsi dari informasi apa yang ingin dicari/dihitung di step 2*"
   ]
  },
  {
   "cell_type": "code",
   "execution_count": 13,
   "id": "4d31ef2a",
   "metadata": {
    "ExecuteTime": {
     "end_time": "2022-03-28T06:53:39.317248Z",
     "start_time": "2022-03-28T06:53:39.183941Z"
    }
   },
   "outputs": [
    {
     "data": {
      "text/plain": [
       "'\\nBerapa Median GROSS SQUARE FEET dan LAND SQUARE FEET di daerah Astoria?\\n'"
      ]
     },
     "execution_count": 13,
     "metadata": {},
     "output_type": "execute_result"
    }
   ],
   "source": [
    "# Question: ......\n",
    "\"\"\"\n",
    "Berapa Median GROSS SQUARE FEET dan LAND SQUARE FEET di daerah Astoria?\n",
    "\"\"\""
   ]
  },
  {
   "cell_type": "markdown",
   "id": "374b1501",
   "metadata": {},
   "source": [
    "**Pre-processing if needed** // *Student melakukan preproses dataset sebelum melakukan Proses Statistik*"
   ]
  },
  {
   "cell_type": "code",
   "execution_count": 14,
   "id": "ade0039d",
   "metadata": {
    "ExecuteTime": {
     "end_time": "2022-03-28T06:53:39.450855Z",
     "start_time": "2022-03-28T06:53:39.323248Z"
    }
   },
   "outputs": [],
   "source": [
    "# 1. pre-processing if needed"
   ]
  },
  {
   "cell_type": "markdown",
   "id": "a9b8e771",
   "metadata": {},
   "source": [
    "**Implement statistical method** // *Mengimplementaskan Mean dari kolom/data spesifik menggunakan Pandas, NumPy, atau Scipy*"
   ]
  },
  {
   "cell_type": "code",
   "execution_count": 15,
   "id": "54184f49",
   "metadata": {
    "ExecuteTime": {
     "end_time": "2022-03-28T06:53:39.576170Z",
     "start_time": "2022-03-28T06:53:39.456850Z"
    }
   },
   "outputs": [],
   "source": [
    "# 2. Implement/try-to-use statistical method here .."
   ]
  },
  {
   "cell_type": "code",
   "execution_count": 16,
   "id": "3ce18ecc",
   "metadata": {
    "ExecuteTime": {
     "end_time": "2022-03-28T06:53:39.733278Z",
     "start_time": "2022-03-28T06:53:39.585179Z"
    }
   },
   "outputs": [
    {
     "name": "stdout",
     "output_type": "stream",
     "text": [
      "1357.0\n",
      "2000.0\n"
     ]
    }
   ],
   "source": [
    "\"\"\"\n",
    "Menghitung median unit total di Astoria\n",
    "\"\"\"\n",
    "print(df_astoria_one_resident['GROSS SQUARE FEET'].median())\n",
    "print(df_astoria_one_resident['LAND SQUARE FEET'].median())"
   ]
  },
  {
   "cell_type": "markdown",
   "id": "97ba6059",
   "metadata": {},
   "source": [
    "---\n",
    "# C. Measure of Central Tendency : Mode"
   ]
  },
  {
   "cell_type": "markdown",
   "id": "1491e590",
   "metadata": {},
   "source": [
    "**Question**  // *Deskripsi dari informasi apa yang ingin dicari/dihitung di step 2*"
   ]
  },
  {
   "cell_type": "code",
   "execution_count": 17,
   "id": "b00fa7cf",
   "metadata": {
    "ExecuteTime": {
     "end_time": "2022-03-28T06:53:39.849758Z",
     "start_time": "2022-03-28T06:53:39.739281Z"
    }
   },
   "outputs": [
    {
     "data": {
      "text/plain": [
       "'\\nBerapa Mode GROSS SQUARE FEET dan LAND SQUARE FEET di daerah Astoria?\\n'"
      ]
     },
     "execution_count": 17,
     "metadata": {},
     "output_type": "execute_result"
    }
   ],
   "source": [
    "# Question: ......\n",
    "\"\"\"\n",
    "Berapa Mode GROSS SQUARE FEET dan LAND SQUARE FEET di daerah Astoria?\n",
    "\"\"\""
   ]
  },
  {
   "cell_type": "markdown",
   "id": "930322b6",
   "metadata": {},
   "source": [
    "**Pre-processing if needed** // *Student melakukan preproses dataset sebelum melakukan Proses Statistik*"
   ]
  },
  {
   "cell_type": "code",
   "execution_count": null,
   "id": "1c777f3e",
   "metadata": {},
   "outputs": [],
   "source": []
  },
  {
   "cell_type": "markdown",
   "id": "9629497f",
   "metadata": {},
   "source": [
    "**Implement statistical method** // *Mengimplementaskan Mean dari kolom/data spesifik menggunakan Pandas, NumPy, atau Scipy*"
   ]
  },
  {
   "cell_type": "code",
   "execution_count": 18,
   "id": "9aa605aa",
   "metadata": {
    "ExecuteTime": {
     "end_time": "2022-03-28T06:53:40.019378Z",
     "start_time": "2022-03-28T06:53:39.855758Z"
    }
   },
   "outputs": [
    {
     "name": "stdout",
     "output_type": "stream",
     "text": [
      "0    960.0\n",
      "dtype: float64\n",
      "0    2000.0\n",
      "dtype: float64\n"
     ]
    }
   ],
   "source": [
    "\"\"\"\n",
    "Menghitung mode unit total di Astoria\n",
    "\"\"\"\n",
    "\n",
    "print(df_astoria_one_resident['GROSS SQUARE FEET'].mode())\n",
    "print(df_astoria_one_resident['LAND SQUARE FEET'].mode())"
   ]
  },
  {
   "cell_type": "markdown",
   "id": "f9d93e4c",
   "metadata": {},
   "source": [
    "---\n",
    "# D. Measure of Spread : Range"
   ]
  },
  {
   "cell_type": "markdown",
   "id": "3d726521",
   "metadata": {},
   "source": [
    "**Question**  // *Deskripsi dari informasi apa yang ingin dicari/dihitung di step 2*"
   ]
  },
  {
   "cell_type": "code",
   "execution_count": 19,
   "id": "e0c9bf42",
   "metadata": {
    "ExecuteTime": {
     "end_time": "2022-03-28T06:53:40.135779Z",
     "start_time": "2022-03-28T06:53:40.026243Z"
    }
   },
   "outputs": [
    {
     "data": {
      "text/plain": [
       "'\\nBerapa Range GROSS SQUARE FEET dan LAND SQUARE FEET di daerah Astoria?\\n'"
      ]
     },
     "execution_count": 19,
     "metadata": {},
     "output_type": "execute_result"
    }
   ],
   "source": [
    "# Question: ......\n",
    "\"\"\"\n",
    "Berapa Range GROSS SQUARE FEET dan LAND SQUARE FEET di daerah Astoria?\n",
    "\"\"\""
   ]
  },
  {
   "cell_type": "markdown",
   "id": "03e9e887",
   "metadata": {},
   "source": [
    "**Pre-processing if needed** // *Student melakukan preproses dataset sebelum melakukan Proses Statistik*"
   ]
  },
  {
   "cell_type": "code",
   "execution_count": null,
   "id": "5ea8b029",
   "metadata": {},
   "outputs": [],
   "source": []
  },
  {
   "cell_type": "markdown",
   "id": "53bd6c69",
   "metadata": {},
   "source": [
    "**Implement statistical method** // *Mengimplementaskan Mean dari kolom/data spesifik menggunakan Pandas, NumPy, atau Scipy*"
   ]
  },
  {
   "cell_type": "code",
   "execution_count": 20,
   "id": "09178160",
   "metadata": {
    "ExecuteTime": {
     "end_time": "2022-03-28T06:53:40.268140Z",
     "start_time": "2022-03-28T06:53:40.141778Z"
    }
   },
   "outputs": [
    {
     "name": "stdout",
     "output_type": "stream",
     "text": [
      "2142.0\n",
      "6036.0\n"
     ]
    }
   ],
   "source": [
    "print(np.ptp(df_astoria_one_resident['GROSS SQUARE FEET'])) \n",
    "print(np.ptp(df_astoria_one_resident['LAND SQUARE FEET'])) "
   ]
  },
  {
   "cell_type": "markdown",
   "id": "dd53821c",
   "metadata": {},
   "source": [
    "---\n",
    "# E. Measure of Spread : Variance"
   ]
  },
  {
   "cell_type": "markdown",
   "id": "31251648",
   "metadata": {},
   "source": [
    "**Question**  // *Deskripsi dari informasi apa yang ingin dicari/dihitung di step 2*"
   ]
  },
  {
   "cell_type": "code",
   "execution_count": 21,
   "id": "3dde0957",
   "metadata": {
    "ExecuteTime": {
     "end_time": "2022-03-28T06:53:40.412581Z",
     "start_time": "2022-03-28T06:53:40.275138Z"
    }
   },
   "outputs": [
    {
     "data": {
      "text/plain": [
       "'\\nBerapa Varians dari GROSS SQUARE FEET dan LAND SQUARE FEET di daerah Astoria?\\n'"
      ]
     },
     "execution_count": 21,
     "metadata": {},
     "output_type": "execute_result"
    }
   ],
   "source": [
    "# Question: ......\n",
    "\"\"\"\n",
    "Berapa Varians dari GROSS SQUARE FEET dan LAND SQUARE FEET di daerah Astoria?\n",
    "\"\"\""
   ]
  },
  {
   "cell_type": "markdown",
   "id": "6a7322a8",
   "metadata": {},
   "source": [
    "**Pre-processing if needed** // *Student melakukan preproses dataset sebelum melakukan Proses Statistik*"
   ]
  },
  {
   "cell_type": "code",
   "execution_count": null,
   "id": "54a3af15",
   "metadata": {},
   "outputs": [],
   "source": []
  },
  {
   "cell_type": "markdown",
   "id": "836db473",
   "metadata": {},
   "source": [
    "**Implement statistical method** // *Mengimplementaskan Mean dari kolom/data spesifik menggunakan Pandas, NumPy, atau Scipy*"
   ]
  },
  {
   "cell_type": "code",
   "execution_count": 22,
   "id": "a6e970ab",
   "metadata": {
    "ExecuteTime": {
     "end_time": "2022-03-28T06:53:40.438575Z",
     "start_time": "2022-03-28T06:53:40.419578Z"
    }
   },
   "outputs": [
    {
     "name": "stdout",
     "output_type": "stream",
     "text": [
      "134188.1535764376\n",
      "651869.8775128565\n"
     ]
    }
   ],
   "source": [
    "print(df_astoria_one_resident['GROSS SQUARE FEET'].var())\n",
    "print(df_astoria_one_resident['LAND SQUARE FEET'].var())"
   ]
  },
  {
   "cell_type": "markdown",
   "id": "43064f3c",
   "metadata": {},
   "source": [
    "---\n",
    "# F. Measure of Spread : Standard Deviation"
   ]
  },
  {
   "cell_type": "markdown",
   "id": "371dcfad",
   "metadata": {},
   "source": [
    "**Question**  // *Deskripsi dari informasi apa yang ingin dicari/dihitung di step 2*"
   ]
  },
  {
   "cell_type": "code",
   "execution_count": 23,
   "id": "162b9dd1",
   "metadata": {
    "ExecuteTime": {
     "end_time": "2022-03-28T06:53:40.464099Z",
     "start_time": "2022-03-28T06:53:40.448579Z"
    }
   },
   "outputs": [
    {
     "data": {
      "text/plain": [
       "'\\nBerapa Standar Deviasi GROSS SQUARE FEET dan LAND SQUARE FEET di daerah Astoria?\\n'"
      ]
     },
     "execution_count": 23,
     "metadata": {},
     "output_type": "execute_result"
    }
   ],
   "source": [
    "# Question: ......\n",
    "\"\"\"\n",
    "Berapa Standar Deviasi GROSS SQUARE FEET dan LAND SQUARE FEET di daerah Astoria?\n",
    "\"\"\""
   ]
  },
  {
   "cell_type": "markdown",
   "id": "8de65fa4",
   "metadata": {},
   "source": [
    "**Pre-processing if needed** // *Student melakukan preproses dataset sebelum melakukan Proses Statistik*"
   ]
  },
  {
   "cell_type": "code",
   "execution_count": null,
   "id": "1497f571",
   "metadata": {},
   "outputs": [],
   "source": []
  },
  {
   "cell_type": "markdown",
   "id": "d06417dd",
   "metadata": {},
   "source": [
    "**Implement statistical method** // *Mengimplementaskan Mean dari kolom/data spesifik menggunakan Pandas, NumPy, atau Scipy*"
   ]
  },
  {
   "cell_type": "code",
   "execution_count": 24,
   "id": "0b8eeec7",
   "metadata": {
    "ExecuteTime": {
     "end_time": "2022-03-28T06:53:40.565731Z",
     "start_time": "2022-03-28T06:53:40.470100Z"
    }
   },
   "outputs": [
    {
     "name": "stdout",
     "output_type": "stream",
     "text": [
      "366.31701240378885\n",
      "807.3845908319383\n"
     ]
    }
   ],
   "source": [
    "print(statistics.stdev(df_astoria_one_resident['GROSS SQUARE FEET']))\n",
    "print(statistics.stdev(df_astoria_one_resident['LAND SQUARE FEET']))"
   ]
  },
  {
   "cell_type": "markdown",
   "id": "3dffee16",
   "metadata": {},
   "source": [
    "---\n",
    "# G. Probability Distribution"
   ]
  },
  {
   "cell_type": "markdown",
   "id": "bb2313fb",
   "metadata": {},
   "source": [
    "**Question**  // *Deskripsi dari informasi apa yang ingin dicari/dihitung di step 2*"
   ]
  },
  {
   "cell_type": "code",
   "execution_count": null,
   "id": "bdaa7831",
   "metadata": {},
   "outputs": [],
   "source": []
  },
  {
   "cell_type": "markdown",
   "id": "88c20854",
   "metadata": {},
   "source": [
    "**Pre-processing if needed** // *Student melakukan preproses dataset sebelum melakukan Proses Statistik*"
   ]
  },
  {
   "cell_type": "code",
   "execution_count": null,
   "id": "73aa1845",
   "metadata": {},
   "outputs": [],
   "source": []
  },
  {
   "cell_type": "markdown",
   "id": "67c77b3e",
   "metadata": {},
   "source": [
    "**Implement statistical method** // *Mengimplementaskan Mean dari kolom/data spesifik menggunakan Pandas, NumPy, atau Scipy*"
   ]
  },
  {
   "cell_type": "code",
   "execution_count": 25,
   "id": "293176ea",
   "metadata": {
    "ExecuteTime": {
     "end_time": "2022-03-28T06:53:43.064339Z",
     "start_time": "2022-03-28T06:53:40.572726Z"
    }
   },
   "outputs": [
    {
     "data": {
      "text/plain": [
       "<seaborn.axisgrid.FacetGrid at 0x225e26ec460>"
      ]
     },
     "execution_count": 25,
     "metadata": {},
     "output_type": "execute_result"
    },
    {
     "data": {
      "image/png": "[encoded data removed]",
      "text/plain": [
       "<Figure size 360x360 with 1 Axes>"
      ]
     },
     "metadata": {
      "needs_background": "light"
     },
     "output_type": "display_data"
    }
   ],
   "source": [
    "ax = sns.displot(df_astoria_one_resident['GROSS SQUARE FEET'],\n",
    "                 kde=True,\n",
    "                 bins=100,\n",
    "                )\n",
    "ax.set_titles('Probability Distribution for Gross Square Feet in Astoria')\n",
    "ax.set_ylabels('Frequency')"
   ]
  },
  {
   "cell_type": "code",
   "execution_count": 26,
   "id": "49754dea",
   "metadata": {
    "ExecuteTime": {
     "end_time": "2022-03-28T06:53:44.561648Z",
     "start_time": "2022-03-28T06:53:43.073607Z"
    }
   },
   "outputs": [
    {
     "data": {
      "text/plain": [
       "<seaborn.axisgrid.FacetGrid at 0x225e28f3e50>"
      ]
     },
     "execution_count": 26,
     "metadata": {},
     "output_type": "execute_result"
    },
    {
     "data": {
      "image/png": "[encoded data removed]",
      "text/plain": [
       "<Figure size 360x360 with 1 Axes>"
      ]
     },
     "metadata": {
      "needs_background": "light"
     },
     "output_type": "display_data"
    }
   ],
   "source": [
    "ax = sns.displot(df_astoria_one_resident['LAND SQUARE FEET'],\n",
    "                 kde=True,\n",
    "                 bins=100,\n",
    "                )\n",
    "ax.set_titles('Probability Distribution for land Square Feet in Astoria')\n",
    "ax.set_ylabels('Frequency')"
   ]
  },
  {
   "cell_type": "markdown",
   "id": "eee88360",
   "metadata": {},
   "source": [
    "---\n",
    "# H. Confidence Intervals"
   ]
  },
  {
   "cell_type": "markdown",
   "id": "752f5028",
   "metadata": {},
   "source": [
    "**Question**  // *Deskripsi dari informasi apa yang ingin dicari/dihitung di step 2*"
   ]
  },
  {
   "cell_type": "code",
   "execution_count": 27,
   "id": "728bfbf2",
   "metadata": {
    "ExecuteTime": {
     "end_time": "2022-03-28T06:53:44.580144Z",
     "start_time": "2022-03-28T06:53:44.567646Z"
    }
   },
   "outputs": [
    {
     "data": {
      "text/plain": [
       "'\\nMenghitung CI dari LAND FEET SQUARE di wilayah Astoria dengan bangunan yang satu residen\\n'"
      ]
     },
     "execution_count": 27,
     "metadata": {},
     "output_type": "execute_result"
    }
   ],
   "source": [
    "\"\"\"\n",
    "Menghitung CI dari LAND FEET SQUARE di wilayah Astoria dengan bangunan yang satu residen\n",
    "\"\"\""
   ]
  },
  {
   "cell_type": "markdown",
   "id": "fb146817",
   "metadata": {},
   "source": [
    "**Pre-processing if needed** // *Student melakukan preproses dataset sebelum melakukan Proses Statistik*"
   ]
  },
  {
   "cell_type": "code",
   "execution_count": 28,
   "id": "6edac957",
   "metadata": {
    "ExecuteTime": {
     "end_time": "2022-03-28T06:53:44.709145Z",
     "start_time": "2022-03-28T06:53:44.586646Z"
    }
   },
   "outputs": [
    {
     "name": "stdout",
     "output_type": "stream",
     "text": [
      "['S1' 'A5' 'A3' 'A1' 'A2' 'A9' 'B1' 'B2' 'B3' 'S2' 'B9' 'C0' 'R3' 'R6'\n",
      " 'V0' 'V2' 'G0' 'C1' 'C2' 'C4' 'C3' 'C7' 'D1' 'C6' 'D4' 'RR' 'R2' 'R4' ' '\n",
      " 'S4' 'S3' 'S9' 'S5' 'R1' 'R9' 'O7' 'O5' 'K1' 'K4' 'K2' 'K9' 'F5' 'F4'\n",
      " 'V1' 'G6' 'G1' 'G7' 'E9' 'E1' 'E2' 'W4' 'P6' 'Q9' 'RB' 'RG' 'RP' 'RK'\n",
      " 'RS']\n",
      "['A5' 'A3' 'A1' 'A2' 'A9']\n"
     ]
    }
   ],
   "source": [
    "# df_astoria_one_resident[df_astoria_one_resident['BUILDING CLASS AT PRESENT'] == 'A2']\n",
    "x = df_astoria['BUILDING CLASS AT PRESENT'].unique()\n",
    "y = df_astoria_one_resident['BUILDING CLASS AT PRESENT'].unique()\n",
    "print(x, y, sep='\\n')"
   ]
  },
  {
   "cell_type": "code",
   "execution_count": 29,
   "id": "9f6a9cb2",
   "metadata": {
    "ExecuteTime": {
     "end_time": "2022-03-28T06:53:44.798645Z",
     "start_time": "2022-03-28T06:53:44.720645Z"
    }
   },
   "outputs": [
    {
     "data": {
      "text/plain": [
       "807.3845908319383"
      ]
     },
     "execution_count": 29,
     "metadata": {},
     "output_type": "execute_result"
    }
   ],
   "source": [
    "# Menghitung mean, n, z, dan standar deviasi\n",
    "\n",
    "mean_aor = df_astoria_one_resident['LAND SQUARE FEET'].mean()\n",
    "n_aor = df_astoria_one_resident['LAND SQUARE FEET'].count()\n",
    "sd_aor = statistics.stdev(df_astoria_one_resident['LAND SQUARE FEET'])\n",
    "z = 1.96 #95%\n",
    "sd_aor"
   ]
  },
  {
   "cell_type": "markdown",
   "id": "e289b92b",
   "metadata": {},
   "source": [
    "**Implement statistical method** // *Mengimplementaskan Mean dari kolom/data spesifik menggunakan Pandas, NumPy, atau Scipy*"
   ]
  },
  {
   "cell_type": "code",
   "execution_count": 30,
   "id": "eea65dbc",
   "metadata": {
    "ExecuteTime": {
     "end_time": "2022-03-28T06:53:44.833144Z",
     "start_time": "2022-03-28T06:53:44.808645Z"
    },
    "scrolled": true
   },
   "outputs": [
    {
     "data": {
      "text/plain": [
       "(1991.184681219041, 2319.3744585659056)"
      ]
     },
     "execution_count": 30,
     "metadata": {},
     "output_type": "execute_result"
    }
   ],
   "source": [
    "lcb = mean_aor - z * (sd_aor/np.sqrt(n_aor))\n",
    "ucb = mean_aor + z * (sd_aor/np.sqrt(n_aor))\n",
    "\n",
    "lcb, ucb"
   ]
  },
  {
   "cell_type": "markdown",
   "id": "85c1d0ee",
   "metadata": {},
   "source": [
    "---\n",
    "# I. Hypothesis Testing"
   ]
  },
  {
   "cell_type": "markdown",
   "id": "cd8b2a6a",
   "metadata": {},
   "source": [
    "**Question**  // *Deskripsi dari informasi apa yang ingin dicari/dihitung di step 2*"
   ]
  },
  {
   "cell_type": "code",
   "execution_count": 31,
   "id": "c4a6a933",
   "metadata": {
    "ExecuteTime": {
     "end_time": "2022-03-28T06:53:44.966645Z",
     "start_time": "2022-03-28T06:53:44.842644Z"
    }
   },
   "outputs": [
    {
     "data": {
      "text/plain": [
       "'\\nMenghitung korelasi data antara LAND SQUARE FEET dengan GROSS SQUARE FEET dengan Hipotesis\\nH0: Keduanya independen\\nH1: keduanya dependen\\n'"
      ]
     },
     "execution_count": 31,
     "metadata": {},
     "output_type": "execute_result"
    }
   ],
   "source": [
    "\"\"\"\n",
    "Menghitung korelasi data antara LAND SQUARE FEET dengan GROSS SQUARE FEET dengan Hipotesis\n",
    "H0: Keduanya independen\n",
    "H1: keduanya dependen\n",
    "\"\"\""
   ]
  },
  {
   "cell_type": "markdown",
   "id": "82a1deba",
   "metadata": {},
   "source": [
    "**Pre-processing if needed** // *Student melakukan preproses dataset sebelum melakukan Proses Statistik*"
   ]
  },
  {
   "cell_type": "code",
   "execution_count": 32,
   "id": "40baa679",
   "metadata": {
    "ExecuteTime": {
     "end_time": "2022-03-28T06:53:45.068660Z",
     "start_time": "2022-03-28T06:53:44.974144Z"
    }
   },
   "outputs": [],
   "source": [
    "from scipy.stats import pearsonr\n",
    "alpha = 0.05"
   ]
  },
  {
   "cell_type": "code",
   "execution_count": null,
   "id": "b1f28f2a",
   "metadata": {
    "ExecuteTime": {
     "end_time": "2022-03-23T09:38:39.599737Z",
     "start_time": "2022-03-23T09:38:39.243471Z"
    }
   },
   "outputs": [],
   "source": []
  },
  {
   "cell_type": "markdown",
   "id": "7d2a3abf",
   "metadata": {},
   "source": [
    "**Implement statistical method** // *Mengimplementaskan Mean dari kolom/data spesifik menggunakan Pandas, NumPy, atau Scipy*"
   ]
  },
  {
   "cell_type": "code",
   "execution_count": 33,
   "id": "f724aa09",
   "metadata": {
    "ExecuteTime": {
     "end_time": "2022-03-28T06:53:45.292691Z",
     "start_time": "2022-03-28T06:53:45.077660Z"
    }
   },
   "outputs": [
    {
     "name": "stdout",
     "output_type": "stream",
     "text": [
      "stat:  0.155586858188736  p:  0.1364300990232598\n",
      "Keduanya independen\n"
     ]
    }
   ],
   "source": [
    "stat, p = pearsonr(df_astoria_one_resident['LAND SQUARE FEET'], df_astoria_one_resident['GROSS SQUARE FEET'])\n",
    "print('stat: ', stat , ' p: ' ,p)\n",
    "if p > alpha:\n",
    "    print('Keduanya independen')\n",
    "else:\n",
    "    print('keduanya dependen')"
   ]
  },
  {
   "cell_type": "markdown",
   "id": "caf80d1f",
   "metadata": {},
   "source": [
    "---\n",
    "# I. Overall Analisys"
   ]
  },
  {
   "cell_type": "markdown",
   "id": "4cef6597",
   "metadata": {},
   "source": [
    "Untuk analisis secara keseluruhan, saya menganalisis data pada wilayah Astoria dengan objeknya adalah LAND SQUARE FEET dan GROSS SQUARE FEET dengan kondisi masing-masing memiliki satu residen dan total unit hanya satu.\n",
    "\n",
    "Dalam pengukuran *Measure of Central Tedency*, rata-rata keduanya berbeda cukup jauh. Untuk *GSF* mendapatkan 1367.9032258064517 dan *LSF* mendapatkan 2155.2795698924733 .  Titik tengah *GSF* yaitu 1357 dan *LSF* yaitu 2000. Untuk *mode*, *GSF* yaitu 960 dan *LSF* yaitu 2000.\n",
    "\n",
    "Dalam pengukuran *measure of spread* , *range* yang didapat adalah 2142 untuk *GSF* dan 6036 untuk *LSF*. Untuk *variance*, *GSF* mendapatkan 134188.1535764376 dan *LSF* mendapatkan 651869.8775128565 . Terakhir, *standard deviation* *GSF* adalah 366.31701240378885 dan *standard deviation LSF* adalah 807.3845908319383\n",
    "\n",
    "Distribusi probabilitas terlihat seperti distribusi normal. Untuk *Confidence Interval*, saya hanya mengambil *LSF* saja. Hasil *CI* berada di antara 1991.184681219041 - 2319.3744585659056 .\n",
    "\n",
    "Terakhir, saya melakukan suatu hipotesis apakah *LSF* dan *GSF* saling bergantung satu sama lain. Hasilnya adalah, keduanya independen karena p lebih dari alpha"
   ]
  },
  {
   "cell_type": "code",
   "execution_count": null,
   "id": "3fa2c88c",
   "metadata": {},
   "outputs": [],
   "source": []
  }
 ],
 "metadata": {
  "kernelspec": {
   "display_name": "Python 3 (ipykernel)",
   "language": "python",
   "name": "python3"
  },
  "language_info": {
   "codemirror_mode": {
    "name": "ipython",
    "version": 3
   },
   "file_extension": ".py",
   "mimetype": "text/x-python",
   "name": "python",
   "nbconvert_exporter": "python",
   "pygments_lexer": "ipython3",
   "version": "3.9.2"
  },
  "latex_envs": {
   "LaTeX_envs_menu_present": true,
   "autoclose": false,
   "autocomplete": true,
   "bibliofile": "biblio.bib",
   "cite_by": "apalike",
   "current_citInitial": 1,
   "eqLabelWithNumbers": true,
   "eqNumInitial": 1,
   "hotkeys": {
    "equation": "Ctrl-E",
    "itemize": "Ctrl-I"
   },
   "labels_anchors": false,
   "latex_user_defs": false,
   "report_style_numbering": false,
   "user_envs_cfg": false
  },
  "toc": {
   "base_numbering": 1,
   "nav_menu": {},
   "number_sections": true,
   "sideBar": true,
   "skip_h1_title": false,
   "title_cell": "Table of Contents",
   "title_sidebar": "Contents",
   "toc_cell": false,
   "toc_position": {},
   "toc_section_display": true,
   "toc_window_display": true
  }
 },
 "nbformat": 4,
 "nbformat_minor": 5
}
