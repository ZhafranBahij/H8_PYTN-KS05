{
 "cells": [
  {
   "cell_type": "markdown",
   "id": "28e193a3",
   "metadata": {},
   "source": [
    "# Function, Module, and Package"
   ]
  },
  {
   "cell_type": "markdown",
   "id": "b11f969b",
   "metadata": {
    "ExecuteTime": {
     "end_time": "2022-02-22T12:18:15.477639Z",
     "start_time": "2022-02-22T12:18:15.468522Z"
    }
   },
   "source": [
    "def function_name (parameters):\n",
    "    'docstring'\n",
    "    statement(s)"
   ]
  },
  {
   "cell_type": "markdown",
   "id": "aa94f5d3",
   "metadata": {},
   "source": [
    "## Function"
   ]
  },
  {
   "cell_type": "code",
   "execution_count": 6,
   "id": "09c8a4d0",
   "metadata": {
    "ExecuteTime": {
     "end_time": "2022-02-22T12:20:24.533988Z",
     "start_time": "2022-02-22T12:20:24.520815Z"
    },
    "code_folding": []
   },
   "outputs": [
    {
     "name": "stdout",
     "output_type": "stream",
     "text": [
      "Panjang :  5\n",
      "Lebar :  8\n",
      "Luas :  40\n"
     ]
    }
   ],
   "source": [
    "# Buat fungsinya\n",
    "def my_function(p, l):\n",
    "    \"Function untuk menghitung luas\"\n",
    "    print(\"Panjang : \", p)\n",
    "    print(\"Lebar : \", l)\n",
    "    print(\"Luas : \", p * l)\n",
    "\n",
    "#deklarasi\n",
    "my_function(5, 8)"
   ]
  },
  {
   "cell_type": "code",
   "execution_count": 7,
   "id": "c5186445",
   "metadata": {
    "ExecuteTime": {
     "end_time": "2022-02-22T12:24:28.743583Z",
     "start_time": "2022-02-22T12:24:28.733451Z"
    }
   },
   "outputs": [
    {
     "name": "stdout",
     "output_type": "stream",
     "text": [
      "Name:  Ani\n",
      "Age:  19\n"
     ]
    }
   ],
   "source": [
    "def get_info(name,age):\n",
    "    \"Function untuk menyimpan info peserta event\"\n",
    "    print(\"Name: \", name)\n",
    "    print(\"Age: \", age)\n",
    "\n",
    "get_info(\"Ani\", 19)"
   ]
  },
  {
   "cell_type": "code",
   "execution_count": 9,
   "id": "9aaf7149",
   "metadata": {
    "ExecuteTime": {
     "end_time": "2022-02-22T12:27:28.191928Z",
     "start_time": "2022-02-22T12:27:28.181290Z"
    }
   },
   "outputs": [
    {
     "name": "stdout",
     "output_type": "stream",
     "text": [
      "Hello World\n"
     ]
    }
   ],
   "source": [
    "# function definition is here\n",
    "def print_me(str):\n",
    "    \"This prints a passed string into this function\"\n",
    "    print(str)\n",
    "    return #return none\n",
    "\n",
    "print_me('Hello World')"
   ]
  },
  {
   "cell_type": "code",
   "execution_count": 15,
   "id": "45d60b18",
   "metadata": {
    "ExecuteTime": {
     "end_time": "2022-02-22T12:34:10.210191Z",
     "start_time": "2022-02-22T12:34:10.196010Z"
    }
   },
   "outputs": [
    {
     "name": "stdout",
     "output_type": "stream",
     "text": [
      "Valuse inside the function:  [5, 4, 3, 2, [1, 2, 3, 4]]\n",
      "Values outside the function [5, 4, 3, 2, [1, 2, 3, 4]]\n"
     ]
    }
   ],
   "source": [
    "# pass by reference\n",
    "def changeme(mylist):\n",
    "    mylist.append([1,2,3,4])\n",
    "    print(\"Valuse inside the function: \", mylist)\n",
    "    return\n",
    "\n",
    "mylist = [5,4,3,2]\n",
    "changeme(mylist)\n",
    "print(\"Values outside the function\", mylist)"
   ]
  },
  {
   "cell_type": "code",
   "execution_count": 16,
   "id": "75b11424",
   "metadata": {
    "ExecuteTime": {
     "end_time": "2022-02-22T12:40:41.777770Z",
     "start_time": "2022-02-22T12:40:41.764596Z"
    }
   },
   "outputs": [
    {
     "name": "stdout",
     "output_type": "stream",
     "text": [
      "Valuse inside the function:  [5, 4, 3, 2, [1, 2, 3, 4]]\n",
      "Values outside the function [5, 4, 3, 2]\n"
     ]
    }
   ],
   "source": [
    "# pass by reference\n",
    "def changeme(mylist):\n",
    "    mylist.append([1,2,3,4])\n",
    "    print(\"Valuse inside the function: \", mylist)\n",
    "    return\n",
    "\n",
    "mylist = [5,4,3,2]\n",
    "changeme(mylist.copy())\n",
    "print(\"Values outside the function\", mylist)"
   ]
  },
  {
   "cell_type": "code",
   "execution_count": 18,
   "id": "6520a254",
   "metadata": {
    "ExecuteTime": {
     "end_time": "2022-02-22T12:42:56.206631Z",
     "start_time": "2022-02-22T12:42:56.193457Z"
    }
   },
   "outputs": [
    {
     "name": "stdout",
     "output_type": "stream",
     "text": [
      "8\n",
      "In function squared, num =  64\n",
      "Squared ::  8\n"
     ]
    }
   ],
   "source": [
    "def squared(num):\n",
    "    num *= num\n",
    "    print(\"In function squared, num = \",num)\n",
    "\n",
    "num = 8\n",
    "print(num)\n",
    "squared(num)\n",
    "print(\"Num after being passed on function :: \", num)"
   ]
  },
  {
   "cell_type": "code",
   "execution_count": 19,
   "id": "19f6ade6",
   "metadata": {
    "ExecuteTime": {
     "end_time": "2022-02-22T12:47:05.713853Z",
     "start_time": "2022-02-22T12:47:05.697134Z"
    }
   },
   "outputs": [
    {
     "name": "stdout",
     "output_type": "stream",
     "text": [
      "Name:  Shien\n",
      "Age:  4\n"
     ]
    }
   ],
   "source": [
    "def get_info(name,age):\n",
    "    \"Function untuk menyimpan info peserta event\"\n",
    "    print(\"Name: \", name)\n",
    "    print(\"Age: \", age)\n",
    "\n",
    "# Keyword argument\n",
    "get_info(age = 4, name = \"Shien\")"
   ]
  },
  {
   "cell_type": "code",
   "execution_count": 22,
   "id": "75bbb510",
   "metadata": {
    "ExecuteTime": {
     "end_time": "2022-02-22T12:51:32.489977Z",
     "start_time": "2022-02-22T12:51:32.478327Z"
    }
   },
   "outputs": [
    {
     "name": "stdout",
     "output_type": "stream",
     "text": [
      "Name:  Rain\n",
      "Age:  25\n",
      "Name:  Amekiri\n",
      "Age:  11\n"
     ]
    }
   ],
   "source": [
    "# default argument\n",
    "def get_info(name,age = 25):\n",
    "    \"Function untuk menyimpan info peserta event\"\n",
    "    print(\"Name: \", name)\n",
    "    print(\"Age: \", age)\n",
    "\n",
    "get_info(\"Rain\")\n",
    "get_info(\"Amekiri\", age=11)"
   ]
  },
  {
   "cell_type": "code",
   "execution_count": 28,
   "id": "6a7c9ddc",
   "metadata": {
    "ExecuteTime": {
     "end_time": "2022-02-22T12:59:19.759566Z",
     "start_time": "2022-02-22T12:59:19.741833Z"
    }
   },
   "outputs": [
    {
     "name": "stdout",
     "output_type": "stream",
     "text": [
      "Output is: \n",
      "10\n",
      "Ayaya\n",
      "Fuee\n",
      "Var index ke-0:  Ayaya\n"
     ]
    }
   ],
   "source": [
    "# Variable-length arguments\n",
    "def printinfo(arg1, *vartuple):\n",
    "    print(\"Output is: \")\n",
    "    print(arg1)\n",
    "    for var in vartuple:\n",
    "        print(var)\n",
    "    \n",
    "    print(\"Var index ke-0: \", vartuple[0])\n",
    "    return\n",
    "\n",
    "# printinfo(10)\n",
    "printinfo(10, \"Ayaya\", \"Fuee\")"
   ]
  },
  {
   "cell_type": "code",
   "execution_count": 34,
   "id": "41a877f8",
   "metadata": {
    "ExecuteTime": {
     "end_time": "2022-02-22T13:04:21.708398Z",
     "start_time": "2022-02-22T13:04:21.697254Z"
    }
   },
   "outputs": [
    {
     "name": "stdout",
     "output_type": "stream",
     "text": [
      "Output is: \n",
      "Rain\n",
      "items\n"
     ]
    }
   ],
   "source": [
    "# Variable-length arguments tapi disimpan di dictionaries\n",
    "def buy(customer_name, **items):\n",
    "    print(\"Output is: \")\n",
    "    print(customer_name)\n",
    "    for item in items:\n",
    "        print(item)\n",
    "    \n",
    "    return\n",
    "\n",
    "# printinfo(10)\n",
    "buy(\"Rain\", items={\"pizza\", \"egg\"})\n",
    "\n",
    "# INI GAGAL"
   ]
  },
  {
   "cell_type": "code",
   "execution_count": 37,
   "id": "41f58595",
   "metadata": {
    "ExecuteTime": {
     "end_time": "2022-02-22T13:07:45.296655Z",
     "start_time": "2022-02-22T13:07:45.286019Z"
    }
   },
   "outputs": [
    {
     "name": "stdout",
     "output_type": "stream",
     "text": [
      "Value of total :  7\n"
     ]
    }
   ],
   "source": [
    "# Anonymous Functions\n",
    "sum = lambda arg1, arg2: arg1 + arg2\n",
    "\n",
    "print(\"Value of total : \", sum(5, 2))"
   ]
  },
  {
   "cell_type": "code",
   "execution_count": 38,
   "id": "4b982d58",
   "metadata": {
    "ExecuteTime": {
     "end_time": "2022-02-22T13:10:07.116362Z",
     "start_time": "2022-02-22T13:10:07.105214Z"
    }
   },
   "outputs": [
    {
     "name": "stdout",
     "output_type": "stream",
     "text": [
      "inside the function :  30\n",
      "Outside the function :  40\n"
     ]
    }
   ],
   "source": [
    "def sum(arg1, arg2):\n",
    "    total = arg1 + arg2\n",
    "    total2 = total + arg1\n",
    "    print(\"inside the function : \", total)\n",
    "    return total2\n",
    "\n",
    "total = sum(10, 20)\n",
    "print(\"Outside the function : \", total)"
   ]
  },
  {
   "cell_type": "code",
   "execution_count": 40,
   "id": "597c109b",
   "metadata": {
    "ExecuteTime": {
     "end_time": "2022-02-22T13:14:02.257265Z",
     "start_time": "2022-02-22T13:14:02.241054Z"
    }
   },
   "outputs": [
    {
     "name": "stdout",
     "output_type": "stream",
     "text": [
      "inside the function :  30\n",
      "a =  30\n",
      "b =  40\n",
      "c =  125\n"
     ]
    }
   ],
   "source": [
    "def sum(arg1, arg2):\n",
    "    # Total itu local variable\n",
    "    total = arg1 + arg2\n",
    "    total2 = total + arg1\n",
    "    print(\"inside the function : \", total)\n",
    "    return total, total2, 125\n",
    "\n",
    "# a, b, c itu global variable\n",
    "a, b, c = sum(10, 20)\n",
    "print(\"a = \", a)\n",
    "print(\"b = \", b)\n",
    "print(\"c = \", c)"
   ]
  },
  {
   "cell_type": "code",
   "execution_count": 43,
   "id": "5defc775",
   "metadata": {
    "ExecuteTime": {
     "end_time": "2022-02-22T13:18:21.736851Z",
     "start_time": "2022-02-22T13:18:21.725196Z"
    }
   },
   "outputs": [],
   "source": [
    "jumlahKucing = 20\n",
    "\n",
    "def jumlahHewan():\n",
    "    jumlahAnjing = 30\n",
    "    return jumlahKucing + jumlahAnjing\n",
    "\n",
    "def jumlahKeinci():\n",
    "    return jumlahKucing + jumlahKucing\n"
   ]
  },
  {
   "cell_type": "markdown",
   "id": "24cc4d6d",
   "metadata": {},
   "source": [
    "## Module"
   ]
  },
  {
   "cell_type": "code",
   "execution_count": 44,
   "id": "053beabf",
   "metadata": {
    "ExecuteTime": {
     "end_time": "2022-02-22T13:23:55.743461Z",
     "start_time": "2022-02-22T13:23:55.063517Z"
    }
   },
   "outputs": [
    {
     "name": "stdout",
     "output_type": "stream",
     "text": [
      " Volume in drive C is Local Disk\n",
      " Volume Serial Number is C4EA-BD56\n",
      "\n",
      " Directory of C:\\Users\\Zhafran\\Desktop\\Hactiv8\\H8_KS05\\P-03\n",
      "\n",
      "22/02/2022  20:23    <DIR>          .\n",
      "22/02/2022  20:23    <DIR>          ..\n",
      "22/02/2022  20:22    <DIR>          .ipynb_checkpoints\n",
      "22/02/2022  20:21            11.704 Function, Module, and Package.ipynb\n",
      "22/02/2022  20:22             1.524 mod.ipynb\n",
      "22/02/2022  20:23               108 mod.py\n",
      "               3 File(s)         13.336 bytes\n",
      "               3 Dir(s)  33.995.218.944 bytes free\n"
     ]
    }
   ],
   "source": [
    "!dir"
   ]
  },
  {
   "cell_type": "code",
   "execution_count": 1,
   "id": "256403e2",
   "metadata": {
    "ExecuteTime": {
     "end_time": "2022-02-22T13:41:43.694886Z",
     "start_time": "2022-02-22T13:41:43.655366Z"
    }
   },
   "outputs": [
    {
     "name": "stdout",
     "output_type": "stream",
     "text": [
      "Hacktiv8-PTP Python for Data Science\n",
      "[100, 200, 300]\n",
      "['gawr', 'shraa', 'graoo']\n"
     ]
    }
   ],
   "source": [
    "import mod\n",
    "print(mod.s)\n",
    "print(mod.a)\n",
    "mod.foo(['gawr', 'shraa', 'graoo'])"
   ]
  },
  {
   "cell_type": "code",
   "execution_count": 2,
   "id": "d50e23b4",
   "metadata": {
    "ExecuteTime": {
     "end_time": "2022-02-22T13:41:46.118587Z",
     "start_time": "2022-02-22T13:41:46.094774Z"
    }
   },
   "outputs": [
    {
     "data": {
      "text/plain": [
       "['C:\\\\Users\\\\Zhafran\\\\Desktop\\\\Hactiv8\\\\H8_KS05\\\\P-03',\n",
       " 'C:\\\\users\\\\zhafran\\\\appdata\\\\local\\\\programs\\\\python\\\\python39\\\\python39.zip',\n",
       " 'C:\\\\users\\\\zhafran\\\\appdata\\\\local\\\\programs\\\\python\\\\python39\\\\DLLs',\n",
       " 'C:\\\\users\\\\zhafran\\\\appdata\\\\local\\\\programs\\\\python\\\\python39\\\\lib',\n",
       " 'C:\\\\users\\\\zhafran\\\\appdata\\\\local\\\\programs\\\\python\\\\python39',\n",
       " '',\n",
       " 'C:\\\\Users\\\\Zhafran\\\\AppData\\\\Roaming\\\\Python\\\\Python39\\\\site-packages',\n",
       " 'C:\\\\users\\\\zhafran\\\\appdata\\\\local\\\\programs\\\\python\\\\python39\\\\lib\\\\site-packages',\n",
       " 'C:\\\\users\\\\zhafran\\\\appdata\\\\local\\\\programs\\\\python\\\\python39\\\\lib\\\\site-packages\\\\win32',\n",
       " 'C:\\\\users\\\\zhafran\\\\appdata\\\\local\\\\programs\\\\python\\\\python39\\\\lib\\\\site-packages\\\\win32\\\\lib',\n",
       " 'C:\\\\users\\\\zhafran\\\\appdata\\\\local\\\\programs\\\\python\\\\python39\\\\lib\\\\site-packages\\\\Pythonwin']"
      ]
     },
     "execution_count": 2,
     "metadata": {},
     "output_type": "execute_result"
    }
   ],
   "source": [
    "import sys\n",
    "sys.path"
   ]
  },
  {
   "cell_type": "code",
   "execution_count": 3,
   "id": "206504b6",
   "metadata": {
    "ExecuteTime": {
     "end_time": "2022-02-22T13:41:49.335416Z",
     "start_time": "2022-02-22T13:41:49.321733Z"
    }
   },
   "outputs": [
    {
     "data": {
      "text/plain": [
       "'C:\\\\Users\\\\Zhafran\\\\Desktop\\\\Hactiv8\\\\H8_KS05\\\\P-03\\\\mod.py'"
      ]
     },
     "execution_count": 3,
     "metadata": {},
     "output_type": "execute_result"
    }
   ],
   "source": [
    "mod.__file__"
   ]
  },
  {
   "cell_type": "code",
   "execution_count": 5,
   "id": "e74c5fd5",
   "metadata": {
    "ExecuteTime": {
     "end_time": "2022-02-22T13:43:06.017757Z",
     "start_time": "2022-02-22T13:43:06.006107Z"
    }
   },
   "outputs": [
    {
     "data": {
      "text/plain": [
       "'Function untuk menyimpan info peserta event'"
      ]
     },
     "execution_count": 5,
     "metadata": {},
     "output_type": "execute_result"
    }
   ],
   "source": [
    "def get_info(name,age):\n",
    "    \"Function untuk menyimpan info peserta event\"\n",
    "    print(\"Name: \", name)\n",
    "    print(\"Age: \", age)\n",
    "\n",
    "get_info.__doc__"
   ]
  },
  {
   "cell_type": "code",
   "execution_count": 9,
   "id": "9f67b235",
   "metadata": {
    "ExecuteTime": {
     "end_time": "2022-02-22T14:19:48.465221Z",
     "start_time": "2022-02-22T14:19:48.453568Z"
    }
   },
   "outputs": [
    {
     "data": {
      "text/plain": [
       "<module 'mod' from 'C:\\\\Users\\\\Zhafran\\\\Desktop\\\\Hactiv8\\\\H8_KS05\\\\P-03\\\\mod.py'>"
      ]
     },
     "execution_count": 9,
     "metadata": {},
     "output_type": "execute_result"
    }
   ],
   "source": [
    "import mod as m \n",
    "m"
   ]
  },
  {
   "cell_type": "code",
   "execution_count": 10,
   "id": "27b9e4e3",
   "metadata": {
    "ExecuteTime": {
     "end_time": "2022-02-22T14:21:12.956395Z",
     "start_time": "2022-02-22T14:21:12.934607Z"
    }
   },
   "outputs": [
    {
     "data": {
      "text/plain": [
       "<module 'mod' from 'C:\\\\Users\\\\Zhafran\\\\Desktop\\\\Hactiv8\\\\H8_KS05\\\\P-03\\\\mod.py'>"
      ]
     },
     "execution_count": 10,
     "metadata": {},
     "output_type": "execute_result"
    }
   ],
   "source": [
    "import mod \n",
    "import importlib\n",
    "importlib.reload(mod)"
   ]
  },
  {
   "cell_type": "markdown",
   "id": "3a04fd9d",
   "metadata": {
    "ExecuteTime": {
     "end_time": "2022-02-22T14:21:28.530544Z",
     "start_time": "2022-02-22T14:21:28.521424Z"
    }
   },
   "source": [
    "## Package"
   ]
  },
  {
   "cell_type": "code",
   "execution_count": 12,
   "id": "749c7d7b",
   "metadata": {
    "ExecuteTime": {
     "end_time": "2022-02-22T14:25:08.302760Z",
     "start_time": "2022-02-22T14:25:08.286547Z"
    }
   },
   "outputs": [],
   "source": [
    "import pkg.mod1, pkg.mod2"
   ]
  },
  {
   "cell_type": "code",
   "execution_count": 17,
   "id": "affd0387",
   "metadata": {
    "ExecuteTime": {
     "end_time": "2022-02-22T14:28:28.915440Z",
     "start_time": "2022-02-22T14:28:28.826264Z"
    }
   },
   "outputs": [
    {
     "ename": "AttributeError",
     "evalue": "module 'pkg.mod1' has no attribute 'foo'",
     "output_type": "error",
     "traceback": [
      "\u001b[1;31m---------------------------------------------------------------------------\u001b[0m",
      "\u001b[1;31mAttributeError\u001b[0m                            Traceback (most recent call last)",
      "Input \u001b[1;32mIn [17]\u001b[0m, in \u001b[0;36m<module>\u001b[1;34m\u001b[0m\n\u001b[0;32m      1\u001b[0m \u001b[38;5;28;01mimport\u001b[39;00m \u001b[38;5;21;01mpkg\u001b[39;00m\u001b[38;5;21;01m.\u001b[39;00m\u001b[38;5;21;01mmod1\u001b[39;00m\u001b[38;5;241m,\u001b[39m \u001b[38;5;21;01mpkg\u001b[39;00m\u001b[38;5;21;01m.\u001b[39;00m\u001b[38;5;21;01mmod2\u001b[39;00m\n\u001b[1;32m----> 2\u001b[0m \u001b[43mpkg\u001b[49m\u001b[38;5;241;43m.\u001b[39;49m\u001b[43mmod1\u001b[49m\u001b[38;5;241;43m.\u001b[39;49m\u001b[43mfoo\u001b[49m()\n\u001b[0;32m      3\u001b[0m pkg\u001b[38;5;241m.\u001b[39mmod2\u001b[38;5;241m.\u001b[39mbar()\n",
      "\u001b[1;31mAttributeError\u001b[0m: module 'pkg.mod1' has no attribute 'foo'"
     ]
    },
    {
     "name": "stderr",
     "output_type": "stream",
     "text": [
      "--- Logging error ---\n",
      "Traceback (most recent call last):\n",
      "  File \"C:\\users\\zhafran\\appdata\\local\\programs\\python\\python39\\lib\\site-packages\\ipykernel\\kernelbase.py\", line 461, in dispatch_queue\n",
      "    await self.process_one()\n",
      "  File \"C:\\users\\zhafran\\appdata\\local\\programs\\python\\python39\\lib\\site-packages\\ipykernel\\kernelbase.py\", line 450, in process_one\n",
      "    await dispatch(*args)\n",
      "TypeError: object NoneType can't be used in 'await' expression\n",
      "\n",
      "During handling of the above exception, another exception occurred:\n",
      "\n",
      "Traceback (most recent call last):\n",
      "  File \"C:\\users\\zhafran\\appdata\\local\\programs\\python\\python39\\lib\\logging\\__init__.py\", line 1082, in emit\n",
      "    stream.write(msg + self.terminator)\n",
      "OSError: [Errno 22] Invalid argument\n",
      "Call stack:\n",
      "  File \"C:\\users\\zhafran\\appdata\\local\\programs\\python\\python39\\lib\\runpy.py\", line 197, in _run_module_as_main\n",
      "    return _run_code(code, main_globals, None,\n",
      "  File \"C:\\users\\zhafran\\appdata\\local\\programs\\python\\python39\\lib\\runpy.py\", line 87, in _run_code\n",
      "    exec(code, run_globals)\n",
      "  File \"C:\\users\\zhafran\\appdata\\local\\programs\\python\\python39\\lib\\site-packages\\ipykernel_launcher.py\", line 16, in <module>\n",
      "    app.launch_new_instance()\n",
      "  File \"C:\\users\\zhafran\\appdata\\local\\programs\\python\\python39\\lib\\site-packages\\traitlets\\config\\application.py\", line 846, in launch_instance\n",
      "    app.start()\n",
      "  File \"C:\\users\\zhafran\\appdata\\local\\programs\\python\\python39\\lib\\site-packages\\ipykernel\\kernelapp.py\", line 677, in start\n",
      "    self.io_loop.start()\n",
      "  File \"C:\\users\\zhafran\\appdata\\local\\programs\\python\\python39\\lib\\site-packages\\tornado\\platform\\asyncio.py\", line 199, in start\n",
      "    self.asyncio_loop.run_forever()\n",
      "  File \"C:\\users\\zhafran\\appdata\\local\\programs\\python\\python39\\lib\\asyncio\\base_events.py\", line 596, in run_forever\n",
      "    self._run_once()\n",
      "  File \"C:\\users\\zhafran\\appdata\\local\\programs\\python\\python39\\lib\\asyncio\\base_events.py\", line 1890, in _run_once\n",
      "    handle._run()\n",
      "  File \"C:\\users\\zhafran\\appdata\\local\\programs\\python\\python39\\lib\\asyncio\\events.py\", line 80, in _run\n",
      "    self._context.run(self._callback, *self._args)\n",
      "  File \"C:\\users\\zhafran\\appdata\\local\\programs\\python\\python39\\lib\\site-packages\\ipykernel\\kernelbase.py\", line 463, in dispatch_queue\n",
      "    self.log.exception(\"Error in message handler\")\n",
      "Message: 'Error in message handler'\n",
      "Arguments: ()\n"
     ]
    }
   ],
   "source": [
    "import pkg.mod1, pkg.mod2\n",
    "pkg.mod1.foo()\n",
    "pkg.mod2.bar()"
   ]
  },
  {
   "cell_type": "markdown",
   "id": "b8879871",
   "metadata": {},
   "source": [
    "## pip"
   ]
  },
  {
   "cell_type": "code",
   "execution_count": 18,
   "id": "96b41beb",
   "metadata": {
    "ExecuteTime": {
     "end_time": "2022-02-22T14:29:19.244088Z",
     "start_time": "2022-02-22T14:29:08.863402Z"
    }
   },
   "outputs": [
    {
     "name": "stdout",
     "output_type": "stream",
     "text": [
      "\n",
      "Usage:   \n",
      "  pip <command> [options]\n",
      "\n",
      "Commands:\n",
      "  install                     Install packages.\n",
      "  download                    Download packages.\n",
      "  uninstall                   Uninstall packages.\n",
      "  freeze                      Output installed packages in requirements format.\n",
      "  list                        List installed packages.\n",
      "  show                        Show information about installed packages.\n",
      "  check                       Verify installed packages have compatible dependencies.\n",
      "  config                      Manage local and global configuration.\n",
      "  search                      Search PyPI for packages.\n",
      "  cache                       Inspect and manage pip's wheel cache.\n",
      "  index                       Inspect information available from package indexes.\n",
      "  wheel                       Build wheels from your requirements.\n",
      "  hash                        Compute hashes of package archives.\n",
      "  completion                  A helper command used for command completion.\n",
      "  debug                       Show information useful for debugging.\n",
      "  help                        Show help for commands.\n",
      "\n",
      "General Options:\n",
      "  -h, --help                  Show help.\n",
      "  --debug                     Let unhandled exceptions propagate outside the\n",
      "                              main subroutine, instead of logging them to\n",
      "                              stderr.\n",
      "  --isolated                  Run pip in an isolated mode, ignoring\n",
      "                              environment variables and user configuration.\n",
      "  --require-virtualenv        Allow pip to only run in a virtual environment;\n",
      "                              exit with an error otherwise.\n",
      "  -v, --verbose               Give more output. Option is additive, and can be\n",
      "                              used up to 3 times.\n",
      "  -V, --version               Show version and exit.\n",
      "  -q, --quiet                 Give less output. Option is additive, and can be\n",
      "                              used up to 3 times (corresponding to WARNING,\n",
      "                              ERROR, and CRITICAL logging levels).\n",
      "  --log <path>                Path to a verbose appending log.\n",
      "  --no-input                  Disable prompting for input.\n",
      "  --proxy <proxy>             Specify a proxy in the form\n",
      "                              [user:passwd@]proxy.server:port.\n",
      "  --retries <retries>         Maximum number of retries each connection should\n",
      "                              attempt (default 5 times).\n",
      "  --timeout <sec>             Set the socket timeout (default 15 seconds).\n",
      "  --exists-action <action>    Default action when a path already exists:\n",
      "                              (s)witch, (i)gnore, (w)ipe, (b)ackup, (a)bort.\n",
      "  --trusted-host <hostname>   Mark this host or host:port pair as trusted,\n",
      "                              even though it does not have valid or any HTTPS.\n",
      "  --cert <path>               Path to PEM-encoded CA certificate bundle. If\n",
      "                              provided, overrides the default. See 'SSL\n",
      "                              Certificate Verification' in pip documentation\n",
      "                              for more information.\n",
      "  --client-cert <path>        Path to SSL client certificate, a single file\n",
      "                              containing the private key and the certificate\n",
      "                              in PEM format.\n",
      "  --cache-dir <dir>           Store the cache data in <dir>.\n",
      "  --no-cache-dir              Disable the cache.\n",
      "  --disable-pip-version-check\n",
      "                              Don't periodically check PyPI to determine\n",
      "                              whether a new version of pip is available for\n",
      "                              download. Implied with --no-index.\n",
      "  --no-color                  Suppress colored output.\n",
      "  --no-python-version-warning\n",
      "                              Silence deprecation warnings for upcoming\n",
      "                              unsupported Pythons.\n",
      "  --use-feature <feature>     Enable new functionality, that may be backward\n",
      "                              incompatible.\n",
      "  --use-deprecated <feature>  Enable deprecated functionality, that will be\n",
      "                              removed in the future.\n"
     ]
    }
   ],
   "source": [
    "!pip help"
   ]
  },
  {
   "cell_type": "code",
   "execution_count": 19,
   "id": "5080bdbb",
   "metadata": {
    "ExecuteTime": {
     "end_time": "2022-02-22T14:30:12.630379Z",
     "start_time": "2022-02-22T14:30:01.647020Z"
    }
   },
   "outputs": [
    {
     "name": "stdout",
     "output_type": "stream",
     "text": [
      "Package                           Version\n",
      "--------------------------------- -------\n",
      "apng                              0.3.4\n",
      "argon2-cffi                       21.3.0\n",
      "argon2-cffi-bindings              21.2.0\n",
      "asttokens                         2.0.5\n",
      "attrs                             21.4.0\n",
      "autopep8                          1.5.6\n",
      "backcall                          0.2.0\n",
      "black                             22.1.0\n",
      "bleach                            4.1.0\n",
      "cffi                              1.14.6\n",
      "click                             8.0.3\n",
      "colorama                          0.4.4\n",
      "cycler                            0.10.0\n",
      "debugpy                           1.5.1\n",
      "decorator                         5.1.1\n",
      "defusedxml                        0.7.1\n",
      "easygraphics                      2.0.1.2\n",
      "entrypoints                       0.4\n",
      "executing                         0.8.2\n",
      "fxpmath                           0.4.0\n",
      "importlib                         1.0.4\n",
      "ipykernel                         6.9.0\n",
      "ipython                           8.0.1\n",
      "ipython-genutils                  0.2.0\n",
      "jedi                              0.18.1\n",
      "Jinja2                            3.0.3\n",
      "jsonschema                        4.4.0\n",
      "jupyter-client                    7.1.2\n",
      "jupyter-contrib-core              0.3.3\n",
      "jupyter-contrib-nbextensions      0.5.1\n",
      "jupyter-core                      4.9.1\n",
      "jupyter-highlight-selected-word   0.2.0\n",
      "jupyter-latex-envs                1.4.6\n",
      "jupyter-nbextensions-configurator 0.4.1\n",
      "jupyterlab-pygments               0.1.2\n",
      "jupyterthemes                     0.20.0\n",
      "kiwisolver                        1.3.1\n",
      "lesscpy                           0.15.0\n",
      "lineedit                          0.1.6\n",
      "lxml                              4.7.1\n",
      "MarkupSafe                        2.0.1\n",
      "matplotlib                        3.4.3\n",
      "matplotlib-inline                 0.1.3\n",
      "mistune                           0.8.4\n",
      "mypy-extensions                   0.4.3\n",
      "nbclient                          0.5.10\n",
      "nbconvert                         6.4.2\n",
      "nbformat                          5.1.3\n",
      "nest-asyncio                      1.5.4\n",
      "notebook                          6.4.8\n",
      "numpy                             1.20.3\n",
      "packaging                         21.3\n",
      "pandas                            1.3.2\n",
      "pandocfilters                     1.5.0\n",
      "parso                             0.8.3\n",
      "pathlib                           1.0.1\n",
      "pathspec                          0.9.0\n",
      "pickleshare                       0.7.5\n",
      "Pillow                            8.3.1\n",
      "pip                               22.0.3\n",
      "platformdirs                      2.5.0\n",
      "ply                               3.11\n",
      "prometheus-client                 0.13.1\n",
      "prompt-toolkit                    3.0.28\n",
      "pure-eval                         0.2.2\n",
      "pycodestyle                       2.7.0\n",
      "pycosat                           0.6.3\n",
      "pycparser                         2.20\n",
      "pygame                            2.0.1\n",
      "Pygments                          2.10.0\n",
      "pyparsing                         2.4.7\n",
      "PyQt5                             5.15.3\n",
      "PyQt5-Qt                          5.15.2\n",
      "PyQt5-sip                         12.8.1\n",
      "pyrsistent                        0.18.1\n",
      "python-dateutil                   2.8.2\n",
      "pytz                              2021.1\n",
      "pywin32                           303\n",
      "pywinpty                          2.0.2\n",
      "PyYAML                            6.0\n",
      "pyzmq                             22.3.0\n",
      "radian                            0.5.11\n",
      "rchitect                          0.3.32\n",
      "Send2Trash                        1.8.0\n",
      "setuptools                        58.3.0\n",
      "six                               1.16.0\n",
      "stack-data                        0.1.4\n",
      "terminado                         0.13.1\n",
      "testpath                          0.5.0\n",
      "toml                              0.10.2\n",
      "tomli                             2.0.1\n",
      "tornado                           6.1\n",
      "traitlets                         5.1.1\n",
      "typing_extensions                 4.1.1\n",
      "wcwidth                           0.2.5\n",
      "webencodings                      0.5.1\n"
     ]
    }
   ],
   "source": [
    "!pip list"
   ]
  },
  {
   "cell_type": "code",
   "execution_count": 22,
   "id": "9da0a5fa",
   "metadata": {
    "ExecuteTime": {
     "end_time": "2022-02-22T14:39:44.057049Z",
     "start_time": "2022-02-22T14:39:38.081272Z"
    }
   },
   "outputs": [],
   "source": [
    "!pip freeze > requirement.txt"
   ]
  },
  {
   "cell_type": "code",
   "execution_count": 24,
   "id": "42a01342",
   "metadata": {
    "ExecuteTime": {
     "end_time": "2022-02-22T14:45:40.035971Z",
     "start_time": "2022-02-22T14:45:32.042170Z"
    }
   },
   "outputs": [
    {
     "name": "stdout",
     "output_type": "stream",
     "text": [
      "Name: six\n",
      "Version: 1.16.0\n",
      "Summary: Python 2 and 3 compatibility utilities\n",
      "Home-page: https://github.com/benjaminp/six\n",
      "Author: Benjamin Peterson\n",
      "Author-email: benjamin@python.org\n",
      "License: MIT\n",
      "Location: c:\\users\\zhafran\\appdata\\local\\programs\\python\\python39\\lib\\site-packages\n",
      "Requires: \n",
      "Required-by: asttokens, bleach, cycler, lesscpy, lineedit, python-dateutil, radian, rchitect\n"
     ]
    }
   ],
   "source": [
    "!pip show six"
   ]
  },
  {
   "cell_type": "code",
   "execution_count": null,
   "id": "de4356e0",
   "metadata": {},
   "outputs": [],
   "source": []
  }
 ],
 "metadata": {
  "kernelspec": {
   "display_name": "Python 3 (ipykernel)",
   "language": "python",
   "name": "python3"
  },
  "language_info": {
   "codemirror_mode": {
    "name": "ipython",
    "version": 3
   },
   "file_extension": ".py",
   "mimetype": "text/x-python",
   "name": "python",
   "nbconvert_exporter": "python",
   "pygments_lexer": "ipython3",
   "version": "3.9.2"
  },
  "latex_envs": {
   "LaTeX_envs_menu_present": true,
   "autoclose": false,
   "autocomplete": true,
   "bibliofile": "biblio.bib",
   "cite_by": "apalike",
   "current_citInitial": 1,
   "eqLabelWithNumbers": true,
   "eqNumInitial": 1,
   "hotkeys": {
    "equation": "Ctrl-E",
    "itemize": "Ctrl-I"
   },
   "labels_anchors": false,
   "latex_user_defs": false,
   "report_style_numbering": false,
   "user_envs_cfg": false
  },
  "toc": {
   "base_numbering": 1,
   "nav_menu": {},
   "number_sections": true,
   "sideBar": true,
   "skip_h1_title": false,
   "title_cell": "Table of Contents",
   "title_sidebar": "Contents",
   "toc_cell": false,
   "toc_position": {},
   "toc_section_display": true,
   "toc_window_display": true
  }
 },
 "nbformat": 4,
 "nbformat_minor": 5
}
